{
    "metadata": {
        "kernelspec": {
            "name": "SQL",
            "display_name": "SQL",
            "language": "sql"
        },
        "language_info": {
            "name": "sql",
            "version": ""
        }
    },
    "nbformat_minor": 2,
    "nbformat": 4,
    "cells": [
        {
            "cell_type": "markdown",
            "source": [
                "based on \n",
                "\n",
                "https://www.sqlshack.com/delete-cascade-and-update-cascade-in-sql-server-foreign-key/"
            ],
            "metadata": {
                "azdata_cell_guid": "a38d257b-a373-4ffe-900c-5c0019de2da2"
            }
        },
        {
            "cell_type": "markdown",
            "source": [
                "**DELETE CASCADE**: When we create a foreign key using this option, it deletes the referencing rows in the child table when the referenced row is deleted in the parent table which has a primary key.\n",
                "\n",
                "**UPDATE CASCADE:** When we create a foreign key using UPDATE CASCADE the referencing rows are updated in the child table when the referenced row is updated in the parent table which has a primary key.\n",
                "\n",
                "We will be discussing the following topics in this article:\n",
                "\n",
                "1. Creating DELETE and UPDATE CASCADE rule in a foreign key using SQL Server management studio\n",
                "2. Creating DELETE CASCADE and UPDATE CASCADE rule in a foreign key using T-SQL script\n",
                "3. Triggers on a table with DELETE or UPDATE cascading foreign key\n",
                "\n",
                "Let us see how to create a foreign key with DELETE and UPDATE CASCADE rules along with few examples."
            ],
            "metadata": {
                "azdata_cell_guid": "9c399e63-eb91-470a-89bb-3185e009f8f4"
            }
        },
        {
            "cell_type": "markdown",
            "source": [
                "<span style=\"color: rgb(37, 37, 37); font-family: &quot;Segoe UI&quot;, Tahoma, Arial; background-color: rgb(255, 255, 255);\">Please refer to the below T-SQL script which creates a parent, child table and a foreign key on the child table with DELETE CASCADE rule.</span>"
            ],
            "metadata": {
                "azdata_cell_guid": "a51c44d4-6aa8-4712-b235-521659972f9a"
            }
        },
        {
            "cell_type": "code",
            "source": [
                "create database test3"
            ],
            "metadata": {
                "azdata_cell_guid": "6aeb171c-de95-44d8-ad61-1dff118ef09f"
            },
            "outputs": [
                {
                    "output_type": "display_data",
                    "data": {
                        "text/html": "Commands completed successfully."
                    },
                    "metadata": {}
                },
                {
                    "output_type": "display_data",
                    "data": {
                        "text/html": "Total execution time: 00:00:00.431"
                    },
                    "metadata": {}
                }
            ],
            "execution_count": 1
        },
        {
            "cell_type": "code",
            "source": [
                "CREATE TABLE test3.dbo.Countries\r\n",
                " \r\n",
                "(CountryID INT PRIMARY KEY,\r\n",
                "CountryName VARCHAR(50),\r\n",
                "CountryCode VARCHAR(3))"
            ],
            "metadata": {
                "azdata_cell_guid": "0bf629b5-2693-4b27-9737-a7d534997b2b"
            },
            "outputs": [
                {
                    "output_type": "display_data",
                    "data": {
                        "text/html": "Commands completed successfully."
                    },
                    "metadata": {}
                },
                {
                    "output_type": "display_data",
                    "data": {
                        "text/html": "Total execution time: 00:00:00.029"
                    },
                    "metadata": {}
                }
            ],
            "execution_count": 2
        },
        {
            "cell_type": "code",
            "source": [
                "CREATE TABLE test3.dbo.States\r\n",
                " \r\n",
                "(StateID INT PRIMARY KEY,\r\n",
                "StateName VARCHAR(50),\r\n",
                "StateCode VARCHAR(3),\r\n",
                "CountryID INT)"
            ],
            "metadata": {
                "azdata_cell_guid": "be7b6362-b9d6-46e4-8fb9-2f8cc96a3f0e"
            },
            "outputs": [
                {
                    "output_type": "display_data",
                    "data": {
                        "text/html": "Commands completed successfully."
                    },
                    "metadata": {}
                },
                {
                    "output_type": "display_data",
                    "data": {
                        "text/html": "Total execution time: 00:00:00.029"
                    },
                    "metadata": {}
                }
            ],
            "execution_count": 3
        },
        {
            "cell_type": "code",
            "source": [
                "ALTER TABLE [test3].[dbo].[States]  WITH CHECK ADD  CONSTRAINT [FK_States_Countries] FOREIGN KEY([CountryID])\r\n",
                "REFERENCES [test3].[dbo].[Countries] ([CountryID])\r\n",
                "ON DELETE CASCADE\r\n",
                "\r\n",
                " \r\n",
                "ALTER TABLE [test3].[dbo].[States] CHECK CONSTRAINT [FK_States_Countries]\r\n",
                ""
            ],
            "metadata": {
                "azdata_cell_guid": "2c3ca534-a2a2-40ec-aa3b-7adeade8f837"
            },
            "outputs": [
                {
                    "output_type": "display_data",
                    "data": {
                        "text/html": "Commands completed successfully."
                    },
                    "metadata": {}
                },
                {
                    "output_type": "display_data",
                    "data": {
                        "text/html": "Total execution time: 00:00:00.036"
                    },
                    "metadata": {}
                }
            ],
            "execution_count": 4
        },
        {
            "cell_type": "code",
            "source": [
                "INSERT INTO  [test3].[dbo].Countries VALUES (1,'United States','USA')\r\n",
                " \r\n",
                "INSERT INTO  [test3].[dbo].Countries VALUES (2,'United Kingdom','UK')\r\n",
                " \r\n",
                "INSERT INTO  [test3].[dbo].States VALUES (1,'Texas','TX',1)\r\n",
                "INSERT INTO  [test3].[dbo].States VALUES (2,'Arizona','AZ',1)"
            ],
            "metadata": {
                "azdata_cell_guid": "029a5c08-1145-47d7-9dbd-073e9358a19b"
            },
            "outputs": [
                {
                    "output_type": "display_data",
                    "data": {
                        "text/html": "(1 row affected)"
                    },
                    "metadata": {}
                },
                {
                    "output_type": "display_data",
                    "data": {
                        "text/html": "(1 row affected)"
                    },
                    "metadata": {}
                },
                {
                    "output_type": "display_data",
                    "data": {
                        "text/html": "(1 row affected)"
                    },
                    "metadata": {}
                },
                {
                    "output_type": "display_data",
                    "data": {
                        "text/html": "(1 row affected)"
                    },
                    "metadata": {}
                },
                {
                    "output_type": "display_data",
                    "data": {
                        "text/html": "Total execution time: 00:00:00.039"
                    },
                    "metadata": {}
                }
            ],
            "execution_count": 5
        },
        {
            "cell_type": "code",
            "source": [
                "SELECT * FROM [test3].[dbo].[Countries]\r\n",
                "SELECT * FROM [test3].[dbo].[States]"
            ],
            "metadata": {
                "azdata_cell_guid": "ffbefd64-3555-45be-a39e-cb2cf286780d"
            },
            "outputs": [
                {
                    "output_type": "display_data",
                    "data": {
                        "text/html": "(2 rows affected)"
                    },
                    "metadata": {}
                },
                {
                    "output_type": "display_data",
                    "data": {
                        "text/html": "(2 rows affected)"
                    },
                    "metadata": {}
                },
                {
                    "output_type": "display_data",
                    "data": {
                        "text/html": "Total execution time: 00:00:00.046"
                    },
                    "metadata": {}
                },
                {
                    "output_type": "execute_result",
                    "metadata": {},
                    "execution_count": 6,
                    "data": {
                        "application/vnd.dataresource+json": {
                            "schema": {
                                "fields": [
                                    {
                                        "name": "CountryID"
                                    },
                                    {
                                        "name": "CountryName"
                                    },
                                    {
                                        "name": "CountryCode"
                                    }
                                ]
                            },
                            "data": [
                                {
                                    "0": "1",
                                    "1": "United States",
                                    "2": "USA"
                                },
                                {
                                    "0": "2",
                                    "1": "United Kingdom",
                                    "2": "UK"
                                }
                            ]
                        },
                        "text/html": [
                            "<table>",
                            "<tr><th>CountryID</th><th>CountryName</th><th>CountryCode</th></tr>",
                            "<tr><td>1</td><td>United States</td><td>USA</td></tr>",
                            "<tr><td>2</td><td>United Kingdom</td><td>UK</td></tr>",
                            "</table>"
                        ]
                    }
                },
                {
                    "output_type": "execute_result",
                    "metadata": {},
                    "execution_count": 6,
                    "data": {
                        "application/vnd.dataresource+json": {
                            "schema": {
                                "fields": [
                                    {
                                        "name": "StateID"
                                    },
                                    {
                                        "name": "StateName"
                                    },
                                    {
                                        "name": "StateCode"
                                    },
                                    {
                                        "name": "CountryID"
                                    }
                                ]
                            },
                            "data": [
                                {
                                    "0": "1",
                                    "1": "Texas",
                                    "2": "TX",
                                    "3": "1"
                                },
                                {
                                    "0": "2",
                                    "1": "Arizona",
                                    "2": "AZ",
                                    "3": "1"
                                }
                            ]
                        },
                        "text/html": [
                            "<table>",
                            "<tr><th>StateID</th><th>StateName</th><th>StateCode</th><th>CountryID</th></tr>",
                            "<tr><td>1</td><td>Texas</td><td>TX</td><td>1</td></tr>",
                            "<tr><td>2</td><td>Arizona</td><td>AZ</td><td>1</td></tr>",
                            "</table>"
                        ]
                    }
                }
            ],
            "execution_count": 6
        },
        {
            "cell_type": "code",
            "source": [
                "delete from test3.dbo.Countries WHERE CountryID = 1\r\n",
                "\r\n",
                "SELECT * FROM [test3].[dbo].[Countries]\r\n",
                "SELECT * FROM [test3].[dbo].[States]"
            ],
            "metadata": {
                "azdata_cell_guid": "f018f5b5-99e1-43cc-8c3e-c0e83d67014a"
            },
            "outputs": [
                {
                    "output_type": "display_data",
                    "data": {
                        "text/html": "(1 row affected)"
                    },
                    "metadata": {}
                },
                {
                    "output_type": "display_data",
                    "data": {
                        "text/html": "(1 row affected)"
                    },
                    "metadata": {}
                },
                {
                    "output_type": "display_data",
                    "data": {
                        "text/html": "(0 rows affected)"
                    },
                    "metadata": {}
                },
                {
                    "output_type": "display_data",
                    "data": {
                        "text/html": "Total execution time: 00:00:00.071"
                    },
                    "metadata": {}
                },
                {
                    "output_type": "execute_result",
                    "metadata": {},
                    "execution_count": 9,
                    "data": {
                        "application/vnd.dataresource+json": {
                            "schema": {
                                "fields": [
                                    {
                                        "name": "CountryID"
                                    },
                                    {
                                        "name": "CountryName"
                                    },
                                    {
                                        "name": "CountryCode"
                                    }
                                ]
                            },
                            "data": [
                                {
                                    "0": "2",
                                    "1": "United Kingdom",
                                    "2": "UK"
                                }
                            ]
                        },
                        "text/html": [
                            "<table>",
                            "<tr><th>CountryID</th><th>CountryName</th><th>CountryCode</th></tr>",
                            "<tr><td>2</td><td>United Kingdom</td><td>UK</td></tr>",
                            "</table>"
                        ]
                    }
                },
                {
                    "output_type": "execute_result",
                    "metadata": {},
                    "execution_count": 9,
                    "data": {
                        "application/vnd.dataresource+json": {
                            "schema": {
                                "fields": [
                                    {
                                        "name": "StateID"
                                    },
                                    {
                                        "name": "StateName"
                                    },
                                    {
                                        "name": "StateCode"
                                    },
                                    {
                                        "name": "CountryID"
                                    }
                                ]
                            },
                            "data": []
                        },
                        "text/html": [
                            "<table>",
                            "<tr><th>StateID</th><th>StateName</th><th>StateCode</th><th>CountryID</th></tr>",
                            "</table>"
                        ]
                    }
                }
            ],
            "execution_count": 9
        },
        {
            "cell_type": "markdown",
            "source": [
                "Please refer to the below T-SQL script to create a foreign key with UPDATE CASCADE rule."
            ],
            "metadata": {
                "azdata_cell_guid": "016d772b-fa64-41bd-be74-6f8f2f50b111"
            }
        },
        {
            "cell_type": "code",
            "source": [
                "drop table [test3].[dbo].[Countries]\r\n",
                "drop table [test3].[dbo].[States]\r\n",
                "GO"
            ],
            "metadata": {
                "azdata_cell_guid": "60bf9f83-fb92-423e-b33e-2084ed77bd84"
            },
            "outputs": [
                {
                    "output_type": "error",
                    "evalue": "Msg 3701, Level 11, State 5, Line 1\r\nCannot drop the table 'test3.dbo.Countries', because it does not exist or you do not have permission.",
                    "ename": "",
                    "traceback": []
                },
                {
                    "output_type": "display_data",
                    "data": {
                        "text/html": "Total execution time: 00:00:00.003"
                    },
                    "metadata": {}
                }
            ],
            "execution_count": 15
        },
        {
            "cell_type": "code",
            "source": [
                "SELECT * FROM [test3].[dbo].[Countries]"
            ],
            "metadata": {
                "azdata_cell_guid": "75a9134e-0312-493d-9b14-ed56d6c81631"
            },
            "outputs": [
                {
                    "output_type": "error",
                    "evalue": "Msg 208, Level 16, State 1, Line 1\r\nInvalid object name 'test3.dbo.Countries'.",
                    "ename": "",
                    "traceback": []
                },
                {
                    "output_type": "display_data",
                    "data": {
                        "text/html": "Total execution time: 00:00:00.001"
                    },
                    "metadata": {}
                }
            ],
            "execution_count": 16
        },
        {
            "cell_type": "code",
            "source": [
                "TRUNCATE TABLE  [test3].[dbo].[Countries]"
            ],
            "metadata": {
                "azdata_cell_guid": "9c98b903-84cd-4563-a8b1-89b7095f5111"
            },
            "outputs": [
                {
                    "output_type": "display_data",
                    "data": {
                        "text/html": "Commands completed successfully."
                    },
                    "metadata": {}
                },
                {
                    "output_type": "display_data",
                    "data": {
                        "text/html": "Total execution time: 00:00:00.031"
                    },
                    "metadata": {}
                }
            ],
            "execution_count": 12
        },
        {
            "cell_type": "code",
            "source": [
                "CREATE TABLE [test3].[dbo].[Countries]\r\n",
                " \r\n",
                "(CountryID INT PRIMARY KEY,\r\n",
                "CountryName VARCHAR(50),\r\n",
                "CountryCode VARCHAR(3))\r\n",
                " \r\n",
                " \r\n",
                "CREATE TABLE [test3].[dbo].[States]\r\n",
                " \r\n",
                "(StateID INT PRIMARY KEY,\r\n",
                "StateName VARCHAR(50),\r\n",
                "StateCode VARCHAR(3),\r\n",
                "CountryID INT)\r\n",
                " \r\n",
                "GO\r\n",
                " \r\n",
                "INSERT INTO [test3].[dbo].Countries VALUES (1,'United States','USA')\r\n",
                " \r\n",
                "INSERT INTO [test3].[dbo].Countries VALUES (2,'United Kingdom','UK')\r\n",
                " \r\n",
                "INSERT INTO [test3].[dbo].States VALUES (1,'Texas','TX',1)\r\n",
                "INSERT INTO [test3].[dbo].States VALUES (2,'Arizona','AZ',1)\r\n",
                " \r\n",
                "GO\r\n",
                " \r\n",
                "ALTER TABLE [test3].[dbo].[States]  WITH CHECK ADD  CONSTRAINT [FK_States_Countries]\r\n",
                "     FOREIGN KEY([CountryID])\r\n",
                "     REFERENCES [test3].[dbo].[Countries] ([CountryID])\r\n",
                "     ON UPDATE CASCADE\r\n",
                "GO\r\n",
                " \r\n",
                "ALTER TABLE [test3].[dbo].[States] CHECK CONSTRAINT [FK_States_Countries]\r\n",
                "\r\n",
                "--ALTER TABLE [test3].[dbo].[States] DROP CONSTRAINT [FK_States_Countries]\r\n",
                " "
            ],
            "metadata": {
                "azdata_cell_guid": "f65b9940-faeb-43f0-bfca-3417f7abb481",
                "tags": []
            },
            "outputs": [
                {
                    "output_type": "display_data",
                    "data": {
                        "text/html": "Commands completed successfully."
                    },
                    "metadata": {}
                },
                {
                    "output_type": "display_data",
                    "data": {
                        "text/html": "(1 row affected)"
                    },
                    "metadata": {}
                },
                {
                    "output_type": "display_data",
                    "data": {
                        "text/html": "(1 row affected)"
                    },
                    "metadata": {}
                },
                {
                    "output_type": "display_data",
                    "data": {
                        "text/html": "(1 row affected)"
                    },
                    "metadata": {}
                },
                {
                    "output_type": "display_data",
                    "data": {
                        "text/html": "(1 row affected)"
                    },
                    "metadata": {}
                },
                {
                    "output_type": "display_data",
                    "data": {
                        "text/html": "Commands completed successfully."
                    },
                    "metadata": {}
                },
                {
                    "output_type": "error",
                    "evalue": "Msg 4902, Level 16, State 1, Line 33\r\nCannot find the object \"dbo.States\" because it does not exist or you do not have permissions.",
                    "ename": "",
                    "traceback": []
                },
                {
                    "output_type": "display_data",
                    "data": {
                        "text/html": "Total execution time: 00:00:00.051"
                    },
                    "metadata": {}
                }
            ],
            "execution_count": 17
        },
        {
            "cell_type": "code",
            "source": [
                "select * from test3.dbo.Countries\r\n",
                "select * from test3.dbo.States"
            ],
            "metadata": {
                "azdata_cell_guid": "ab7f8bb6-ad7b-42bc-9a5b-01c417509b3b"
            },
            "outputs": [
                {
                    "output_type": "display_data",
                    "data": {
                        "text/html": "(2 rows affected)"
                    },
                    "metadata": {}
                },
                {
                    "output_type": "display_data",
                    "data": {
                        "text/html": "(2 rows affected)"
                    },
                    "metadata": {}
                },
                {
                    "output_type": "display_data",
                    "data": {
                        "text/html": "Total execution time: 00:00:00.014"
                    },
                    "metadata": {}
                },
                {
                    "output_type": "execute_result",
                    "metadata": {},
                    "execution_count": 21,
                    "data": {
                        "application/vnd.dataresource+json": {
                            "schema": {
                                "fields": [
                                    {
                                        "name": "CountryID"
                                    },
                                    {
                                        "name": "CountryName"
                                    },
                                    {
                                        "name": "CountryCode"
                                    }
                                ]
                            },
                            "data": [
                                {
                                    "0": "1",
                                    "1": "United States",
                                    "2": "USA"
                                },
                                {
                                    "0": "2",
                                    "1": "United Kingdom",
                                    "2": "UK"
                                }
                            ]
                        },
                        "text/html": [
                            "<table>",
                            "<tr><th>CountryID</th><th>CountryName</th><th>CountryCode</th></tr>",
                            "<tr><td>1</td><td>United States</td><td>USA</td></tr>",
                            "<tr><td>2</td><td>United Kingdom</td><td>UK</td></tr>",
                            "</table>"
                        ]
                    }
                },
                {
                    "output_type": "execute_result",
                    "metadata": {},
                    "execution_count": 21,
                    "data": {
                        "application/vnd.dataresource+json": {
                            "schema": {
                                "fields": [
                                    {
                                        "name": "StateID"
                                    },
                                    {
                                        "name": "StateName"
                                    },
                                    {
                                        "name": "StateCode"
                                    },
                                    {
                                        "name": "CountryID"
                                    }
                                ]
                            },
                            "data": [
                                {
                                    "0": "1",
                                    "1": "Texas",
                                    "2": "TX",
                                    "3": "1"
                                },
                                {
                                    "0": "2",
                                    "1": "Arizona",
                                    "2": "AZ",
                                    "3": "1"
                                }
                            ]
                        },
                        "text/html": [
                            "<table>",
                            "<tr><th>StateID</th><th>StateName</th><th>StateCode</th><th>CountryID</th></tr>",
                            "<tr><td>1</td><td>Texas</td><td>TX</td><td>1</td></tr>",
                            "<tr><td>2</td><td>Arizona</td><td>AZ</td><td>1</td></tr>",
                            "</table>"
                        ]
                    }
                }
            ],
            "execution_count": 21
        },
        {
            "cell_type": "code",
            "source": [
                "select * from test3.dbo.Countries\r\n",
                "select * from test3.dbo.States"
            ],
            "metadata": {
                "azdata_cell_guid": "85504f0a-5c84-4a84-b97a-f789f9589ee5",
                "tags": []
            },
            "outputs": [],
            "execution_count": null
        },
        {
            "cell_type": "code",
            "source": [
                "UPDATE test3.dbo.Countries SET CountryID =3 where CountryID=1\r\n",
                "\r\n",
                "select * from test3.dbo.Countries\r\n",
                "select * from test3.dbo.States"
            ],
            "metadata": {
                "azdata_cell_guid": "759e2e9f-c5e7-41fd-b6a3-c20c89ad40f2"
            },
            "outputs": [
                {
                    "output_type": "display_data",
                    "data": {
                        "text/html": "(1 row affected)"
                    },
                    "metadata": {}
                },
                {
                    "output_type": "display_data",
                    "data": {
                        "text/html": "(2 rows affected)"
                    },
                    "metadata": {}
                },
                {
                    "output_type": "display_data",
                    "data": {
                        "text/html": "(2 rows affected)"
                    },
                    "metadata": {}
                },
                {
                    "output_type": "display_data",
                    "data": {
                        "text/html": "Total execution time: 00:00:00.072"
                    },
                    "metadata": {}
                },
                {
                    "output_type": "execute_result",
                    "metadata": {},
                    "execution_count": 22,
                    "data": {
                        "application/vnd.dataresource+json": {
                            "schema": {
                                "fields": [
                                    {
                                        "name": "CountryID"
                                    },
                                    {
                                        "name": "CountryName"
                                    },
                                    {
                                        "name": "CountryCode"
                                    }
                                ]
                            },
                            "data": [
                                {
                                    "0": "2",
                                    "1": "United Kingdom",
                                    "2": "UK"
                                },
                                {
                                    "0": "3",
                                    "1": "United States",
                                    "2": "USA"
                                }
                            ]
                        },
                        "text/html": [
                            "<table>",
                            "<tr><th>CountryID</th><th>CountryName</th><th>CountryCode</th></tr>",
                            "<tr><td>2</td><td>United Kingdom</td><td>UK</td></tr>",
                            "<tr><td>3</td><td>United States</td><td>USA</td></tr>",
                            "</table>"
                        ]
                    }
                },
                {
                    "output_type": "execute_result",
                    "metadata": {},
                    "execution_count": 22,
                    "data": {
                        "application/vnd.dataresource+json": {
                            "schema": {
                                "fields": [
                                    {
                                        "name": "StateID"
                                    },
                                    {
                                        "name": "StateName"
                                    },
                                    {
                                        "name": "StateCode"
                                    },
                                    {
                                        "name": "CountryID"
                                    }
                                ]
                            },
                            "data": [
                                {
                                    "0": "1",
                                    "1": "Texas",
                                    "2": "TX",
                                    "3": "3"
                                },
                                {
                                    "0": "2",
                                    "1": "Arizona",
                                    "2": "AZ",
                                    "3": "3"
                                }
                            ]
                        },
                        "text/html": [
                            "<table>",
                            "<tr><th>StateID</th><th>StateName</th><th>StateCode</th><th>CountryID</th></tr>",
                            "<tr><td>1</td><td>Texas</td><td>TX</td><td>3</td></tr>",
                            "<tr><td>2</td><td>Arizona</td><td>AZ</td><td>3</td></tr>",
                            "</table>"
                        ]
                    }
                }
            ],
            "execution_count": 22
        },
        {
            "cell_type": "code",
            "source": [
                "SELECT name,delete_referential_action,delete_referential_action_desc,update_referential_action,update_referential_action_desc \r\n",
                "FROM sys.foreign_keys --where name ='FK_States_Countries'"
            ],
            "metadata": {
                "azdata_cell_guid": "c2fb51f4-334e-496c-aca4-5032410a9c43",
                "tags": []
            },
            "outputs": [
                {
                    "output_type": "display_data",
                    "data": {
                        "text/html": "(2 rows affected)"
                    },
                    "metadata": {}
                },
                {
                    "output_type": "display_data",
                    "data": {
                        "text/html": "Total execution time: 00:00:00.007"
                    },
                    "metadata": {}
                },
                {
                    "output_type": "execute_result",
                    "metadata": {},
                    "execution_count": 25,
                    "data": {
                        "application/vnd.dataresource+json": {
                            "schema": {
                                "fields": [
                                    {
                                        "name": "name"
                                    },
                                    {
                                        "name": "delete_referential_action"
                                    },
                                    {
                                        "name": "delete_referential_action_desc"
                                    },
                                    {
                                        "name": "update_referential_action"
                                    },
                                    {
                                        "name": "update_referential_action_desc"
                                    }
                                ]
                            },
                            "data": [
                                {
                                    "0": "FK_Emp",
                                    "1": "0",
                                    "2": "NO_ACTION",
                                    "3": "0",
                                    "4": "NO_ACTION"
                                },
                                {
                                    "0": "FK__Emp__DeptID__147C05D0",
                                    "1": "0",
                                    "2": "NO_ACTION",
                                    "3": "0",
                                    "4": "NO_ACTION"
                                }
                            ]
                        },
                        "text/html": [
                            "<table>",
                            "<tr><th>name</th><th>delete_referential_action</th><th>delete_referential_action_desc</th><th>update_referential_action</th><th>update_referential_action_desc</th></tr>",
                            "<tr><td>FK_Emp</td><td>0</td><td>NO_ACTION</td><td>0</td><td>NO_ACTION</td></tr>",
                            "<tr><td>FK__Emp__DeptID__147C05D0</td><td>0</td><td>NO_ACTION</td><td>0</td><td>NO_ACTION</td></tr>",
                            "</table>"
                        ]
                    }
                }
            ],
            "execution_count": 25
        },
        {
            "cell_type": "markdown",
            "source": [
                "Let’s move forward and check the behavior of delete and update rules the foreign keys on a child table which acts as parent table to another child table. The below example demonstrates this scenario.\n",
                "\n",
                "In this case, “**Countries**” is the parent table of the “**States**” table and the “**States**” table is the parent table of **Cities** table.\n",
                "\n",
                "We will create a foreign key now with cascade as delete rule on States table which references to CountryID in parent table Countries."
            ],
            "metadata": {
                "azdata_cell_guid": "9ec16b4c-1186-4f9e-ba53-720fc06d75ab"
            }
        },
        {
            "cell_type": "code",
            "source": [
                "TRUNCATE table test3.dbo.States\r\n",
                "DROP TABLE test3.dbo.States"
            ],
            "metadata": {
                "azdata_cell_guid": "eae76c42-f803-45c5-870f-f1f732672db7"
            },
            "outputs": [
                {
                    "output_type": "display_data",
                    "data": {
                        "text/html": "Commands completed successfully."
                    },
                    "metadata": {}
                },
                {
                    "output_type": "display_data",
                    "data": {
                        "text/html": "Total execution time: 00:00:00.031"
                    },
                    "metadata": {}
                }
            ],
            "execution_count": 31
        },
        {
            "cell_type": "code",
            "source": [
                "TRUNCATE table test3.dbo.Countries\r\n",
                "DROP TABLE test3.dbo.Countries"
            ],
            "metadata": {
                "azdata_cell_guid": "e9470e46-a825-445a-90db-0ad9626782e6",
                "tags": [
                    "hide_input"
                ]
            },
            "outputs": [
                {
                    "output_type": "display_data",
                    "data": {
                        "text/html": "Commands completed successfully."
                    },
                    "metadata": {}
                },
                {
                    "output_type": "display_data",
                    "data": {
                        "text/html": "Total execution time: 00:00:00.032"
                    },
                    "metadata": {}
                }
            ],
            "execution_count": 33
        },
        {
            "cell_type": "code",
            "source": [
                "CREATE TABLE test3.dbo.Countries\r\n",
                " \r\n",
                "(CountryID INT PRIMARY KEY,\r\n",
                "CountryName VARCHAR(50),\r\n",
                "CountryCode VARCHAR(3))\r\n",
                " \r\n",
                " \r\n",
                "CREATE TABLE test3.dbo.States\r\n",
                " \r\n",
                "(StateID INT PRIMARY KEY,\r\n",
                "StateName VARCHAR(50),\r\n",
                "StateCode VARCHAR(3),\r\n",
                "CountryID INT)\r\n",
                " \r\n",
                "GO\r\n",
                " \r\n",
                " \r\n",
                "CREATE TABLE test3.dbo.Cities\r\n",
                "(CityID INT,\r\n",
                "CityName varchar(50),\r\n",
                "StateID INT)\r\n",
                "GO\r\n",
                " \r\n",
                "INSERT INTO test3.dbo.Countries VALUES (1,'United States','USA')\r\n",
                " \r\n",
                "INSERT INTO test3.dbo.Countries VALUES (2,'United Kingdom','UK')\r\n",
                " \r\n",
                "INSERT INTO test3.dbo.States VALUES (1,'Texas','TX',1)\r\n",
                "INSERT INTO test3.dbo.States VALUES (2,'Arizona','AZ',1)\r\n",
                " \r\n",
                "INSERT INTO test3.dbo.Cities VALUES(1,'Texas City',1)\r\n",
                "INSERT INTO test3.dbo.Cities values (1,'Phoenix',2)\r\n",
                " \r\n",
                "GO\r\n",
                " \r\n",
                ""
            ],
            "metadata": {
                "azdata_cell_guid": "b24ea50c-86d0-483d-97de-170bb3cbb706"
            },
            "outputs": [
                {
                    "output_type": "display_data",
                    "data": {
                        "text/html": "Commands completed successfully."
                    },
                    "metadata": {}
                },
                {
                    "output_type": "display_data",
                    "data": {
                        "text/html": "Commands completed successfully."
                    },
                    "metadata": {}
                },
                {
                    "output_type": "display_data",
                    "data": {
                        "text/html": "(1 row affected)"
                    },
                    "metadata": {}
                },
                {
                    "output_type": "display_data",
                    "data": {
                        "text/html": "(1 row affected)"
                    },
                    "metadata": {}
                },
                {
                    "output_type": "display_data",
                    "data": {
                        "text/html": "(1 row affected)"
                    },
                    "metadata": {}
                },
                {
                    "output_type": "display_data",
                    "data": {
                        "text/html": "(1 row affected)"
                    },
                    "metadata": {}
                },
                {
                    "output_type": "display_data",
                    "data": {
                        "text/html": "(1 row affected)"
                    },
                    "metadata": {}
                },
                {
                    "output_type": "display_data",
                    "data": {
                        "text/html": "(1 row affected)"
                    },
                    "metadata": {}
                },
                {
                    "output_type": "display_data",
                    "data": {
                        "text/html": "Total execution time: 00:00:00.052"
                    },
                    "metadata": {}
                }
            ],
            "execution_count": 34
        },
        {
            "cell_type": "code",
            "source": [
                "ALTER TABLE test3.[dbo].[States]  WITH CHECK ADD  CONSTRAINT [FK_States_Countries] FOREIGN KEY([CountryID])\r\n",
                "REFERENCES test3.[dbo].[Countries] ([CountryID])\r\n",
                "ON DELETE CASCADE\r\n",
                "GO"
            ],
            "metadata": {
                "azdata_cell_guid": "1f4df9f9-6838-4806-863e-8ca42eb5b47f"
            },
            "outputs": [
                {
                    "output_type": "display_data",
                    "data": {
                        "text/html": "Commands completed successfully."
                    },
                    "metadata": {}
                },
                {
                    "output_type": "display_data",
                    "data": {
                        "text/html": "Total execution time: 00:00:00.032"
                    },
                    "metadata": {}
                }
            ],
            "execution_count": 35
        },
        {
            "cell_type": "code",
            "source": [
                "SELECT * FROM test3.[dbo].[Countries]\r\n",
                "SELECT * FROM test3.[dbo].States\r\n",
                "SELECT * FROM test3.[dbo].[Cities]"
            ],
            "metadata": {
                "azdata_cell_guid": "a91e04fc-64b1-4514-b4c7-8a2828b09f5f"
            },
            "outputs": [
                {
                    "output_type": "display_data",
                    "data": {
                        "text/html": "(2 rows affected)"
                    },
                    "metadata": {}
                },
                {
                    "output_type": "display_data",
                    "data": {
                        "text/html": "(2 rows affected)"
                    },
                    "metadata": {}
                },
                {
                    "output_type": "display_data",
                    "data": {
                        "text/html": "(2 rows affected)"
                    },
                    "metadata": {}
                },
                {
                    "output_type": "display_data",
                    "data": {
                        "text/html": "Total execution time: 00:00:00.042"
                    },
                    "metadata": {}
                },
                {
                    "output_type": "execute_result",
                    "metadata": {},
                    "execution_count": 36,
                    "data": {
                        "application/vnd.dataresource+json": {
                            "schema": {
                                "fields": [
                                    {
                                        "name": "CountryID"
                                    },
                                    {
                                        "name": "CountryName"
                                    },
                                    {
                                        "name": "CountryCode"
                                    }
                                ]
                            },
                            "data": [
                                {
                                    "0": "1",
                                    "1": "United States",
                                    "2": "USA"
                                },
                                {
                                    "0": "2",
                                    "1": "United Kingdom",
                                    "2": "UK"
                                }
                            ]
                        },
                        "text/html": [
                            "<table>",
                            "<tr><th>CountryID</th><th>CountryName</th><th>CountryCode</th></tr>",
                            "<tr><td>1</td><td>United States</td><td>USA</td></tr>",
                            "<tr><td>2</td><td>United Kingdom</td><td>UK</td></tr>",
                            "</table>"
                        ]
                    }
                },
                {
                    "output_type": "execute_result",
                    "metadata": {},
                    "execution_count": 36,
                    "data": {
                        "application/vnd.dataresource+json": {
                            "schema": {
                                "fields": [
                                    {
                                        "name": "StateID"
                                    },
                                    {
                                        "name": "StateName"
                                    },
                                    {
                                        "name": "StateCode"
                                    },
                                    {
                                        "name": "CountryID"
                                    }
                                ]
                            },
                            "data": [
                                {
                                    "0": "1",
                                    "1": "Texas",
                                    "2": "TX",
                                    "3": "1"
                                },
                                {
                                    "0": "2",
                                    "1": "Arizona",
                                    "2": "AZ",
                                    "3": "1"
                                }
                            ]
                        },
                        "text/html": [
                            "<table>",
                            "<tr><th>StateID</th><th>StateName</th><th>StateCode</th><th>CountryID</th></tr>",
                            "<tr><td>1</td><td>Texas</td><td>TX</td><td>1</td></tr>",
                            "<tr><td>2</td><td>Arizona</td><td>AZ</td><td>1</td></tr>",
                            "</table>"
                        ]
                    }
                },
                {
                    "output_type": "execute_result",
                    "metadata": {},
                    "execution_count": 36,
                    "data": {
                        "application/vnd.dataresource+json": {
                            "schema": {
                                "fields": [
                                    {
                                        "name": "CityID"
                                    },
                                    {
                                        "name": "CityName"
                                    },
                                    {
                                        "name": "StateID"
                                    }
                                ]
                            },
                            "data": [
                                {
                                    "0": "1",
                                    "1": "Texas City",
                                    "2": "1"
                                },
                                {
                                    "0": "1",
                                    "1": "Phoenix",
                                    "2": "2"
                                }
                            ]
                        },
                        "text/html": [
                            "<table>",
                            "<tr><th>CityID</th><th>CityName</th><th>StateID</th></tr>",
                            "<tr><td>1</td><td>Texas City</td><td>1</td></tr>",
                            "<tr><td>1</td><td>Phoenix</td><td>2</td></tr>",
                            "</table>"
                        ]
                    }
                }
            ],
            "execution_count": 36
        },
        {
            "cell_type": "code",
            "source": [
                "ALTER TABLE test3.[dbo].[Cities]  WITH CHECK ADD  CONSTRAINT [FK_Cities_States] FOREIGN KEY([StateID])\r\n",
                "REFERENCES test3.[dbo].[States] ([StateID])\r\n",
                "GO"
            ],
            "metadata": {
                "azdata_cell_guid": "5fb484aa-867f-4ed8-80dc-cff6d3196069"
            },
            "outputs": [
                {
                    "output_type": "display_data",
                    "data": {
                        "text/html": "Commands completed successfully."
                    },
                    "metadata": {}
                },
                {
                    "output_type": "display_data",
                    "data": {
                        "text/html": "Total execution time: 00:00:00.032"
                    },
                    "metadata": {}
                }
            ],
            "execution_count": 38
        },
        {
            "cell_type": "code",
            "source": [
                "DELETE FROM test3.[dbo].Countries where CountryID =1\r\n",
                ""
            ],
            "metadata": {
                "azdata_cell_guid": "dddff3a0-2fed-4de7-adea-f6fe92270f80"
            },
            "outputs": [
                {
                    "output_type": "error",
                    "evalue": "Msg 547, Level 16, State 0, Line 1\r\nThe DELETE statement conflicted with the REFERENCE constraint \"FK_Cities_States\". The conflict occurred in database \"test3\", table \"dbo.Cities\", column 'StateID'.",
                    "ename": "",
                    "traceback": []
                },
                {
                    "output_type": "display_data",
                    "data": {
                        "text/html": "The statement has been terminated."
                    },
                    "metadata": {}
                },
                {
                    "output_type": "display_data",
                    "data": {
                        "text/html": "Total execution time: 00:00:00.007"
                    },
                    "metadata": {}
                }
            ],
            "execution_count": 39
        },
        {
            "cell_type": "markdown",
            "source": [
                "**EXERCISE: HOW TO FIX THE PROBLEM ABOVE?**"
            ],
            "metadata": {
                "azdata_cell_guid": "2b4de3e0-c472-4bf1-ba8d-6e77712b7d19"
            }
        }
    ]
}