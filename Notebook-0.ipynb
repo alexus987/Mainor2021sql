{
    "metadata": {
        "kernelspec": {
            "name": "SQL",
            "display_name": "SQL",
            "language": "sql"
        },
        "language_info": {
            "name": "sql",
            "version": ""
        }
    },
    "nbformat_minor": 2,
    "nbformat": 4,
    "cells": [
        {
            "cell_type": "markdown",
            "source": [
                "This is my first query"
            ],
            "metadata": {
                "azdata_cell_guid": "2448f42e-966a-409a-b847-694a24767453"
            }
        },
        {
            "cell_type": "code",
            "source": [
                "SELECT TOP (10) [MedalistID]\n",
                "\n",
                "      ,[Edition]\n",
                "      ,[Athlete]\n",
                "      ,[NOC]\n",
                "      ,[Gender]\n",
                "      ,[Event]\n",
                "      ,[Medal]\n",
                "      ,[Season]\n",
                "      ,[MedalValue]\n",
                "      ,[SportID]\n",
                "      ,[DisciplineID]\n",
                "  FROM [test].[dbo].[OlympicsData_SE-015updated]"
            ],
            "metadata": {
                "azdata_cell_guid": "2b332f05-3992-415b-abc8-c5ad79df6fbe"
            },
            "outputs": [
                {
                    "output_type": "display_data",
                    "data": {
                        "text/html": "(10 rows affected)"
                    },
                    "metadata": {}
                },
                {
                    "output_type": "display_data",
                    "data": {
                        "text/html": "Total execution time: 00:00:00.042"
                    },
                    "metadata": {}
                },
                {
                    "output_type": "execute_result",
                    "metadata": {},
                    "execution_count": 2,
                    "data": {
                        "application/vnd.dataresource+json": {
                            "schema": {
                                "fields": [
                                    {
                                        "name": "MedalistID"
                                    },
                                    {
                                        "name": "Edition"
                                    },
                                    {
                                        "name": "Athlete"
                                    },
                                    {
                                        "name": "NOC"
                                    },
                                    {
                                        "name": "Gender"
                                    },
                                    {
                                        "name": "Event"
                                    },
                                    {
                                        "name": "Medal"
                                    },
                                    {
                                        "name": "Season"
                                    },
                                    {
                                        "name": "MedalValue"
                                    },
                                    {
                                        "name": "SportID"
                                    },
                                    {
                                        "name": "DisciplineID"
                                    }
                                ]
                            },
                            "data": [
                                {
                                    "0": "1",
                                    "1": "1900",
                                    "2": "HALMAY, Zoltan",
                                    "3": "HUN",
                                    "4": "Men",
                                    "5": "1500m freestyle",
                                    "6": "Bronze",
                                    "7": "Summer",
                                    "8": "3",
                                    "9": "1",
                                    "10": "56"
                                },
                                {
                                    "0": "2",
                                    "1": "1900",
                                    "2": "JARVIS, John Arthur",
                                    "3": "GBR",
                                    "4": "Men",
                                    "5": "1500m freestyle",
                                    "6": "Gold",
                                    "7": "Summer",
                                    "8": "1",
                                    "9": "1",
                                    "10": "56"
                                },
                                {
                                    "0": "3",
                                    "1": "1900",
                                    "2": "WAHLE, Otto",
                                    "3": "AUT",
                                    "4": "Men",
                                    "5": "1500m freestyle",
                                    "6": "Silver",
                                    "7": "Summer",
                                    "8": "2",
                                    "9": "1",
                                    "10": "56"
                                },
                                {
                                    "0": "4",
                                    "1": "1900",
                                    "2": "DROST, Johannes",
                                    "3": "NED",
                                    "4": "Men",
                                    "5": "200m backstroke",
                                    "6": "Bronze",
                                    "7": "Summer",
                                    "8": "3",
                                    "9": "1",
                                    "10": "56"
                                },
                                {
                                    "0": "5",
                                    "1": "1900",
                                    "2": "HOPPENBERG, Ernst",
                                    "3": "GER",
                                    "4": "Men",
                                    "5": "200m backstroke",
                                    "6": "Gold",
                                    "7": "Summer",
                                    "8": "1",
                                    "9": "1",
                                    "10": "56"
                                },
                                {
                                    "0": "6",
                                    "1": "1900",
                                    "2": "RUBERL, Karl",
                                    "3": "AUT",
                                    "4": "Men",
                                    "5": "200m backstroke",
                                    "6": "Silver",
                                    "7": "Summer",
                                    "8": "2",
                                    "9": "1",
                                    "10": "56"
                                },
                                {
                                    "0": "7",
                                    "1": "1900",
                                    "2": "HALMAY, Zoltan",
                                    "3": "HUN",
                                    "4": "Men",
                                    "5": "200m freestyle",
                                    "6": "Silver",
                                    "7": "Summer",
                                    "8": "2",
                                    "9": "1",
                                    "10": "56"
                                },
                                {
                                    "0": "8",
                                    "1": "1900",
                                    "2": "RUBERL, Karl",
                                    "3": "AUT",
                                    "4": "Men",
                                    "5": "200m freestyle",
                                    "6": "Bronze",
                                    "7": "Summer",
                                    "8": "3",
                                    "9": "1",
                                    "10": "56"
                                },
                                {
                                    "0": "9",
                                    "1": "1900",
                                    "2": "LANE, Frederick C.V.",
                                    "3": "AUS",
                                    "4": "Men",
                                    "5": "200m freestyle",
                                    "6": "Gold",
                                    "7": "Summer",
                                    "8": "1",
                                    "9": "1",
                                    "10": "56"
                                },
                                {
                                    "0": "10",
                                    "1": "1900",
                                    "2": "KEMP, Peter",
                                    "3": "GBR",
                                    "4": "Men",
                                    "5": "200m obstacle event",
                                    "6": "Bronze",
                                    "7": "Summer",
                                    "8": "3",
                                    "9": "1",
                                    "10": "56"
                                }
                            ]
                        },
                        "text/html": [
                            "<table>",
                            "<tr><th>MedalistID</th><th>Edition</th><th>Athlete</th><th>NOC</th><th>Gender</th><th>Event</th><th>Medal</th><th>Season</th><th>MedalValue</th><th>SportID</th><th>DisciplineID</th></tr>",
                            "<tr><td>1</td><td>1900</td><td>HALMAY, Zoltan</td><td>HUN</td><td>Men</td><td>1500m freestyle</td><td>Bronze</td><td>Summer</td><td>3</td><td>1</td><td>56</td></tr>",
                            "<tr><td>2</td><td>1900</td><td>JARVIS, John Arthur</td><td>GBR</td><td>Men</td><td>1500m freestyle</td><td>Gold</td><td>Summer</td><td>1</td><td>1</td><td>56</td></tr>",
                            "<tr><td>3</td><td>1900</td><td>WAHLE, Otto</td><td>AUT</td><td>Men</td><td>1500m freestyle</td><td>Silver</td><td>Summer</td><td>2</td><td>1</td><td>56</td></tr>",
                            "<tr><td>4</td><td>1900</td><td>DROST, Johannes</td><td>NED</td><td>Men</td><td>200m backstroke</td><td>Bronze</td><td>Summer</td><td>3</td><td>1</td><td>56</td></tr>",
                            "<tr><td>5</td><td>1900</td><td>HOPPENBERG, Ernst</td><td>GER</td><td>Men</td><td>200m backstroke</td><td>Gold</td><td>Summer</td><td>1</td><td>1</td><td>56</td></tr>",
                            "<tr><td>6</td><td>1900</td><td>RUBERL, Karl</td><td>AUT</td><td>Men</td><td>200m backstroke</td><td>Silver</td><td>Summer</td><td>2</td><td>1</td><td>56</td></tr>",
                            "<tr><td>7</td><td>1900</td><td>HALMAY, Zoltan</td><td>HUN</td><td>Men</td><td>200m freestyle</td><td>Silver</td><td>Summer</td><td>2</td><td>1</td><td>56</td></tr>",
                            "<tr><td>8</td><td>1900</td><td>RUBERL, Karl</td><td>AUT</td><td>Men</td><td>200m freestyle</td><td>Bronze</td><td>Summer</td><td>3</td><td>1</td><td>56</td></tr>",
                            "<tr><td>9</td><td>1900</td><td>LANE, Frederick C.V.</td><td>AUS</td><td>Men</td><td>200m freestyle</td><td>Gold</td><td>Summer</td><td>1</td><td>1</td><td>56</td></tr>",
                            "<tr><td>10</td><td>1900</td><td>KEMP, Peter</td><td>GBR</td><td>Men</td><td>200m obstacle event</td><td>Bronze</td><td>Summer</td><td>3</td><td>1</td><td>56</td></tr>",
                            "</table>"
                        ]
                    }
                }
            ],
            "execution_count": 2
        }
    ]
}