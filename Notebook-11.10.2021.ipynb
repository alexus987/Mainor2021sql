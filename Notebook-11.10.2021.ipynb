{
    "metadata": {
        "kernelspec": {
            "name": "SQL",
            "display_name": "SQL",
            "language": "sql"
        },
        "language_info": {
            "name": "sql",
            "version": ""
        }
    },
    "nbformat_minor": 2,
    "nbformat": 4,
    "cells": [
        {
            "cell_type": "markdown",
            "source": [
                "INNER JOIN script"
            ],
            "metadata": {
                "azdata_cell_guid": "5f95ee6f-f67b-44c2-88e4-4714d93c09a9"
            }
        },
        {
            "cell_type": "code",
            "source": [
                "SELECT      top (10)\r\n",
                "\r\n",
                "StudentID,\r\n",
                "OlympicsData_Disciplines.Edition,\r\n",
                "Athlete,\r\n",
                "NOC\r\n",
                "\r\n",
                "FROM mydb.dbo.OlympicsData_Disciplines\r\n",
                "JOIN mydb.dbo.OlympicsData_medalists ON OlympicsData_Disciplines.DisciplineID = OlympicsData_medalists.DisciplineID\r\n",
                "\r\n",
                "WHERE StudentID IS NULL --fill with your own name\r\n",
                "and Discipline = 'Football'"
            ],
            "metadata": {
                "azdata_cell_guid": "b90b2409-2672-470c-b28f-0e97ce7f849e"
            },
            "outputs": [
                {
                    "output_type": "display_data",
                    "data": {
                        "text/html": "(10 rows affected)"
                    },
                    "metadata": {}
                },
                {
                    "output_type": "display_data",
                    "data": {
                        "text/html": "Total execution time: 00:00:00.144"
                    },
                    "metadata": {}
                },
                {
                    "output_type": "execute_result",
                    "metadata": {},
                    "execution_count": 1,
                    "data": {
                        "application/vnd.dataresource+json": {
                            "schema": {
                                "fields": [
                                    {
                                        "name": "StudentID"
                                    },
                                    {
                                        "name": "Edition"
                                    },
                                    {
                                        "name": "Athlete"
                                    },
                                    {
                                        "name": "NOC"
                                    }
                                ]
                            },
                            "data": [
                                {
                                    "0": "NULL",
                                    "1": "2016",
                                    "2": "BUCKENHAM, Claude Percy",
                                    "3": "GBR"
                                },
                                {
                                    "0": "NULL",
                                    "1": "2016",
                                    "2": "BURRIDGE, T.E.",
                                    "3": "GBR"
                                },
                                {
                                    "0": "NULL",
                                    "1": "2016",
                                    "2": "CHALK, Alfred Ernest",
                                    "3": "GBR"
                                },
                                {
                                    "0": "NULL",
                                    "1": "2016",
                                    "2": "GROSLING, William Sullivan",
                                    "3": "GBR"
                                },
                                {
                                    "0": "NULL",
                                    "1": "2016",
                                    "2": "HASLAM, A.",
                                    "3": "GBR"
                                },
                                {
                                    "0": "NULL",
                                    "1": "2016",
                                    "2": "JONES, J.H.",
                                    "3": "GBR"
                                },
                                {
                                    "0": "NULL",
                                    "1": "2016",
                                    "2": "NICHOLAS, J.",
                                    "3": "GBR"
                                },
                                {
                                    "0": "NULL",
                                    "1": "2016",
                                    "2": "QUASH, William Francis",
                                    "3": "GBR"
                                },
                                {
                                    "0": "NULL",
                                    "1": "2016",
                                    "2": "SPACKMAN, F.G.",
                                    "3": "GBR"
                                },
                                {
                                    "0": "NULL",
                                    "1": "2016",
                                    "2": "TURNER, R.R.",
                                    "3": "GBR"
                                }
                            ]
                        },
                        "text/html": [
                            "<table>",
                            "<tr><th>StudentID</th><th>Edition</th><th>Athlete</th><th>NOC</th></tr>",
                            "<tr><td>NULL</td><td>2016</td><td>BUCKENHAM, Claude Percy</td><td>GBR</td></tr>",
                            "<tr><td>NULL</td><td>2016</td><td>BURRIDGE, T.E.</td><td>GBR</td></tr>",
                            "<tr><td>NULL</td><td>2016</td><td>CHALK, Alfred Ernest</td><td>GBR</td></tr>",
                            "<tr><td>NULL</td><td>2016</td><td>GROSLING, William Sullivan</td><td>GBR</td></tr>",
                            "<tr><td>NULL</td><td>2016</td><td>HASLAM, A.</td><td>GBR</td></tr>",
                            "<tr><td>NULL</td><td>2016</td><td>JONES, J.H.</td><td>GBR</td></tr>",
                            "<tr><td>NULL</td><td>2016</td><td>NICHOLAS, J.</td><td>GBR</td></tr>",
                            "<tr><td>NULL</td><td>2016</td><td>QUASH, William Francis</td><td>GBR</td></tr>",
                            "<tr><td>NULL</td><td>2016</td><td>SPACKMAN, F.G.</td><td>GBR</td></tr>",
                            "<tr><td>NULL</td><td>2016</td><td>TURNER, R.R.</td><td>GBR</td></tr>",
                            "</table>"
                        ]
                    }
                }
            ],
            "execution_count": 1
        }
    ]
}