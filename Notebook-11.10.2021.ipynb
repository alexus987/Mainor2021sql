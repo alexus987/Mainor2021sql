{
    "metadata": {
        "kernelspec": {
            "name": "SQL",
            "display_name": "SQL",
            "language": "sql"
        },
        "language_info": {
            "name": "sql",
            "version": ""
        }
    },
    "nbformat_minor": 2,
    "nbformat": 4,
    "cells": [
        {
            "cell_type": "markdown",
            "source": [
                "1\\. INNER JOIN script"
            ],
            "metadata": {
                "azdata_cell_guid": "5f95ee6f-f67b-44c2-88e4-4714d93c09a9"
            }
        },
        {
            "cell_type": "code",
            "source": [
                "SELECT      top (10)\r\n",
                "\r\n",
                "StudentID,\r\n",
                "\r\n",
                "OlympicsData_Disciplines.Edition,\r\n",
                "Athlete,\r\n",
                "NOC\r\n",
                "\r\n",
                "FROM mydb.dbo.OlympicsData_Disciplines\r\n",
                "JOIN mydb.dbo.OlympicsData_medalists ON OlympicsData_Disciplines.DisciplineID = OlympicsData_medalists.DisciplineID\r\n",
                "\r\n",
                "WHERE StudentID IS NULL --fill with your own name\r\n",
                "and Discipline = 'Football'"
            ],
            "metadata": {
                "azdata_cell_guid": "b90b2409-2672-470c-b28f-0e97ce7f849e"
            },
            "outputs": [
                {
                    "output_type": "display_data",
                    "data": {
                        "text/html": "(10 rows affected)"
                    },
                    "metadata": {}
                },
                {
                    "output_type": "display_data",
                    "data": {
                        "text/html": "Total execution time: 00:00:00.007"
                    },
                    "metadata": {}
                },
                {
                    "output_type": "execute_result",
                    "metadata": {},
                    "execution_count": 2,
                    "data": {
                        "application/vnd.dataresource+json": {
                            "schema": {
                                "fields": [
                                    {
                                        "name": "StudentID"
                                    },
                                    {
                                        "name": "Edition"
                                    },
                                    {
                                        "name": "Athlete"
                                    },
                                    {
                                        "name": "NOC"
                                    }
                                ]
                            },
                            "data": [
                                {
                                    "0": "NULL",
                                    "1": "2016",
                                    "2": "BUCKENHAM, Claude Percy",
                                    "3": "GBR"
                                },
                                {
                                    "0": "NULL",
                                    "1": "2016",
                                    "2": "BURRIDGE, T.E.",
                                    "3": "GBR"
                                },
                                {
                                    "0": "NULL",
                                    "1": "2016",
                                    "2": "CHALK, Alfred Ernest",
                                    "3": "GBR"
                                },
                                {
                                    "0": "NULL",
                                    "1": "2016",
                                    "2": "GROSLING, William Sullivan",
                                    "3": "GBR"
                                },
                                {
                                    "0": "NULL",
                                    "1": "2016",
                                    "2": "HASLAM, A.",
                                    "3": "GBR"
                                },
                                {
                                    "0": "NULL",
                                    "1": "2016",
                                    "2": "JONES, J.H.",
                                    "3": "GBR"
                                },
                                {
                                    "0": "NULL",
                                    "1": "2016",
                                    "2": "NICHOLAS, J.",
                                    "3": "GBR"
                                },
                                {
                                    "0": "NULL",
                                    "1": "2016",
                                    "2": "QUASH, William Francis",
                                    "3": "GBR"
                                },
                                {
                                    "0": "NULL",
                                    "1": "2016",
                                    "2": "SPACKMAN, F.G.",
                                    "3": "GBR"
                                },
                                {
                                    "0": "NULL",
                                    "1": "2016",
                                    "2": "TURNER, R.R.",
                                    "3": "GBR"
                                }
                            ]
                        },
                        "text/html": [
                            "<table>",
                            "<tr><th>StudentID</th><th>Edition</th><th>Athlete</th><th>NOC</th></tr>",
                            "<tr><td>NULL</td><td>2016</td><td>BUCKENHAM, Claude Percy</td><td>GBR</td></tr>",
                            "<tr><td>NULL</td><td>2016</td><td>BURRIDGE, T.E.</td><td>GBR</td></tr>",
                            "<tr><td>NULL</td><td>2016</td><td>CHALK, Alfred Ernest</td><td>GBR</td></tr>",
                            "<tr><td>NULL</td><td>2016</td><td>GROSLING, William Sullivan</td><td>GBR</td></tr>",
                            "<tr><td>NULL</td><td>2016</td><td>HASLAM, A.</td><td>GBR</td></tr>",
                            "<tr><td>NULL</td><td>2016</td><td>JONES, J.H.</td><td>GBR</td></tr>",
                            "<tr><td>NULL</td><td>2016</td><td>NICHOLAS, J.</td><td>GBR</td></tr>",
                            "<tr><td>NULL</td><td>2016</td><td>QUASH, William Francis</td><td>GBR</td></tr>",
                            "<tr><td>NULL</td><td>2016</td><td>SPACKMAN, F.G.</td><td>GBR</td></tr>",
                            "<tr><td>NULL</td><td>2016</td><td>TURNER, R.R.</td><td>GBR</td></tr>",
                            "</table>"
                        ]
                    }
                }
            ],
            "execution_count": 2
        },
        {
            "cell_type": "markdown",
            "source": [
                "2\\. INSERT INTO example"
            ],
            "metadata": {
                "azdata_cell_guid": "3811ddaf-9b3b-46bc-b642-e93a0154564f"
            }
        },
        {
            "cell_type": "code",
            "source": [
                "INSERT INTO mydb.dbo.OlympicsData_sports (Sport, SportID)\r\n",
                "VALUES ('HipHop', '50' )\r\n",
                ";\r\n",
                "INSERT INTO mydb.dbo.OlympicsData_sports (SportID, Sport)\r\n",
                "VALUES ('51' , 'Pop Dance' )\r\n",
                "\r\n",
                ";\r\n",
                "\r\n",
                "select * from mydb.dbo.OlympicsData_sports\r\n",
                "where SportID = 51"
            ],
            "metadata": {
                "azdata_cell_guid": "029b5a37-7fa9-405f-afff-fc756da5a4bf"
            },
            "outputs": [
                {
                    "output_type": "display_data",
                    "data": {
                        "text/html": "(1 row affected)"
                    },
                    "metadata": {}
                },
                {
                    "output_type": "display_data",
                    "data": {
                        "text/html": "(1 row affected)"
                    },
                    "metadata": {}
                },
                {
                    "output_type": "display_data",
                    "data": {
                        "text/html": "(1 row affected)"
                    },
                    "metadata": {}
                },
                {
                    "output_type": "display_data",
                    "data": {
                        "text/html": "Total execution time: 00:00:00.089"
                    },
                    "metadata": {}
                },
                {
                    "output_type": "execute_result",
                    "execution_count": 10,
                    "data": {
                        "application/vnd.dataresource+json": {
                            "schema": {
                                "fields": [
                                    {
                                        "name": "Sport"
                                    },
                                    {
                                        "name": "SportID"
                                    }
                                ]
                            },
                            "data": [
                                {
                                    "0": "Pop Dance",
                                    "1": "51"
                                }
                            ]
                        },
                        "text/html": "<table><tr><th>Sport</th><th>SportID</th></tr><tr><td>Pop Dance</td><td>51</td></tr></table>"
                    },
                    "metadata": {}
                }
            ],
            "execution_count": 10
        },
        {
            "cell_type": "code",
            "source": [
                "select * from mydb.dbo.OlympicsData_sports\r\n",
                "\r\n",
                "where SportID = 51\r\n",
                "OR SportID = 50"
            ],
            "metadata": {
                "azdata_cell_guid": "d7b8f738-5654-4ba8-a514-b0184d5a51cc",
                "tags": []
            },
            "outputs": [
                {
                    "output_type": "display_data",
                    "data": {
                        "text/html": "(2 rows affected)"
                    },
                    "metadata": {}
                },
                {
                    "output_type": "display_data",
                    "data": {
                        "text/html": "Total execution time: 00:00:00.025"
                    },
                    "metadata": {}
                },
                {
                    "output_type": "execute_result",
                    "execution_count": 12,
                    "data": {
                        "application/vnd.dataresource+json": {
                            "schema": {
                                "fields": [
                                    {
                                        "name": "Sport"
                                    },
                                    {
                                        "name": "SportID"
                                    }
                                ]
                            },
                            "data": [
                                {
                                    "0": "HipHop",
                                    "1": "50"
                                },
                                {
                                    "0": "Pop Dance",
                                    "1": "51"
                                }
                            ]
                        },
                        "text/html": "<table><tr><th>Sport</th><th>SportID</th></tr><tr><td>HipHop</td><td>50</td></tr><tr><td>Pop Dance</td><td>51</td></tr></table>"
                    },
                    "metadata": {}
                }
            ],
            "execution_count": 12
        },
        {
            "cell_type": "markdown",
            "source": [
                "3\\. DELETE FROM example"
            ],
            "metadata": {
                "azdata_cell_guid": "316ebea0-63b9-46d6-955c-e61d60a0dc1f"
            }
        },
        {
            "cell_type": "code",
            "source": [
                "DELETE \r\n",
                "FROM mydb.dbo.OlympicsData_sports\r\n",
                "WHERE SportID = '50'\r\n",
                "\r\n",
                "DELETE \r\n",
                "FROM mydb.dbo.OlympicsData_sports\r\n",
                "WHERE SportID = '51'"
            ],
            "metadata": {
                "azdata_cell_guid": "a9666818-337f-44f0-8e0e-b05a24c842bd"
            },
            "outputs": [
                {
                    "output_type": "display_data",
                    "data": {
                        "text/html": "(1 row affected)"
                    },
                    "metadata": {}
                },
                {
                    "output_type": "display_data",
                    "data": {
                        "text/html": "(1 row affected)"
                    },
                    "metadata": {}
                },
                {
                    "output_type": "display_data",
                    "data": {
                        "text/html": "Total execution time: 00:00:00.084"
                    },
                    "metadata": {}
                }
            ],
            "execution_count": 8
        },
        {
            "cell_type": "markdown",
            "source": [
                "4\\. UPDATE statement"
            ],
            "metadata": {
                "azdata_cell_guid": "dd4b3f50-8088-4395-b229-03619e10f809"
            }
        },
        {
            "cell_type": "code",
            "source": [
                "UPDATE mydb.dbo.OlympicsData_sports\r\n",
                "SET Sport = 'Dance'\r\n",
                "WHERE Sport = 'Pop Dance'"
            ],
            "metadata": {
                "azdata_cell_guid": "0a5fa160-f98c-4b4f-a5d9-3345d7ac80ed",
                "tags": []
            },
            "outputs": [
                {
                    "output_type": "display_data",
                    "data": {
                        "text/html": "(0 rows affected)"
                    },
                    "metadata": {}
                },
                {
                    "output_type": "display_data",
                    "data": {
                        "text/html": "Total execution time: 00:00:00.010"
                    },
                    "metadata": {}
                }
            ],
            "execution_count": 17
        },
        {
            "cell_type": "code",
            "source": [
                "select * from mydb.dbo.OlympicsData_sports\r\n",
                "WHERE Sport = 'Dance'"
            ],
            "metadata": {
                "azdata_cell_guid": "23d9b878-94dc-4bfc-bcc8-b9687d8f50f2"
            },
            "outputs": [
                {
                    "output_type": "display_data",
                    "data": {
                        "text/html": "(1 row affected)"
                    },
                    "metadata": {}
                },
                {
                    "output_type": "display_data",
                    "data": {
                        "text/html": "Total execution time: 00:00:00.032"
                    },
                    "metadata": {}
                },
                {
                    "output_type": "execute_result",
                    "execution_count": 18,
                    "data": {
                        "application/vnd.dataresource+json": {
                            "schema": {
                                "fields": [
                                    {
                                        "name": "Sport"
                                    },
                                    {
                                        "name": "SportID"
                                    }
                                ]
                            },
                            "data": [
                                {
                                    "0": "Dance",
                                    "1": "51"
                                }
                            ]
                        },
                        "text/html": "<table><tr><th>Sport</th><th>SportID</th></tr><tr><td>Dance</td><td>51</td></tr></table>"
                    },
                    "metadata": {}
                }
            ],
            "execution_count": 18
        },
        {
            "cell_type": "markdown",
            "source": [
                "5\\. LEFT JOIN example"
            ],
            "metadata": {
                "azdata_cell_guid": "f5fe76e0-0bd3-4e01-8164-3e23604bc453"
            }
        },
        {
            "cell_type": "code",
            "source": [
                "select *\r\n",
                "from mydb.dbo.OlympicsData_sports\r\n",
                "left join mydb.dbo.OlympicsData_medalists\r\n",
                "on OlympicsData_sports.SportID = OlympicsData_medalists.SportID\r\n",
                "\r\n",
                "where Sport = 'Dance' --NEW ONE\r\n",
                "or Sport = 'Football' --FROM HOMEWORK"
            ],
            "metadata": {
                "azdata_cell_guid": "06c5257b-6a8b-4d19-b7aa-109957d03516",
                "tags": []
            },
            "outputs": [
                {
                    "output_type": "display_data",
                    "data": {
                        "text/html": "(2 rows affected)"
                    },
                    "metadata": {}
                },
                {
                    "output_type": "display_data",
                    "data": {
                        "text/html": "Total execution time: 00:00:00.059"
                    },
                    "metadata": {}
                },
                {
                    "output_type": "execute_result",
                    "execution_count": 27,
                    "data": {
                        "application/vnd.dataresource+json": {
                            "schema": {
                                "fields": [
                                    {
                                        "name": "Sport"
                                    },
                                    {
                                        "name": "DisciplineID"
                                    }
                                ]
                            },
                            "data": [
                                {
                                    "0": "Dance",
                                    "1": "NULL"
                                },
                                {
                                    "0": "Football",
                                    "1": "28"
                                }
                            ]
                        },
                        "text/html": "<table><tr><th>Sport</th><th>DisciplineID</th></tr><tr><td>Dance</td><td>NULL</td></tr><tr><td>Football</td><td>28</td></tr></table>"
                    },
                    "metadata": {}
                }
            ],
            "execution_count": 27
        },
        {
            "cell_type": "markdown",
            "source": [
                "6\\. How to select unique values - SELECT DISTINCT"
            ],
            "metadata": {
                "azdata_cell_guid": "8bebd94c-db96-4505-97db-0f70185e0dfb"
            }
        },
        {
            "cell_type": "code",
            "source": [
                "select distinct Sport, DisciplineID\r\n",
                "\r\n",
                "from mydb.dbo.OlympicsData_sports\r\n",
                "left join mydb.dbo.OlympicsData_medalists\r\n",
                "on OlympicsData_sports.SportID = OlympicsData_medalists.SportID\r\n",
                "\r\n",
                "where Sport = 'Dance' --NEW ONE\r\n",
                "or Sport = 'Football' --FROM HOMEWORK"
            ],
            "metadata": {
                "azdata_cell_guid": "e7b38195-e6b9-4a67-9441-ab79e34181a7",
                "tags": [
                    "hide_input"
                ]
            },
            "outputs": [
                {
                    "output_type": "display_data",
                    "data": {
                        "text/html": "(2 rows affected)"
                    },
                    "metadata": {}
                },
                {
                    "output_type": "display_data",
                    "data": {
                        "text/html": "Total execution time: 00:00:00.060"
                    },
                    "metadata": {}
                },
                {
                    "output_type": "execute_result",
                    "execution_count": 42,
                    "data": {
                        "application/vnd.dataresource+json": {
                            "schema": {
                                "fields": [
                                    {
                                        "name": "Sport"
                                    },
                                    {
                                        "name": "DisciplineID"
                                    }
                                ]
                            },
                            "data": [
                                {
                                    "0": "Dance",
                                    "1": "NULL"
                                },
                                {
                                    "0": "Football",
                                    "1": "28"
                                }
                            ]
                        },
                        "text/html": "<table><tr><th>Sport</th><th>DisciplineID</th></tr><tr><td>Dance</td><td>NULL</td></tr><tr><td>Football</td><td>28</td></tr></table>"
                    },
                    "metadata": {}
                }
            ],
            "execution_count": 42
        },
        {
            "cell_type": "markdown",
            "source": [
                "7\\. WHERE use cases\n",
                "\n",
                "- LIKE  for TEXT columns\n",
                "- BETWEEN for integer\n",
                "- ORDER BY (ASC, DESC)"
            ],
            "metadata": {
                "azdata_cell_guid": "7bb9a008-8079-430b-93f4-0075e89ba532"
            }
        },
        {
            "cell_type": "code",
            "source": [
                "select distinct Sport, DisciplineID, Edition\r\n",
                "\r\n",
                "from mydb.dbo.OlympicsData_sports\r\n",
                "left join mydb.dbo.OlympicsData_medalists\r\n",
                "on OlympicsData_sports.SportID = OlympicsData_medalists.SportID\r\n",
                "\r\n",
                "where -- Sport =  'Football' \r\n",
                "--Sport LIKE 'Foot%'\r\n",
                "\r\n",
                "Sport LIKE '%oot%'\r\n",
                "\r\n",
                "AND OlympicsData_medalists.Edition between 1990 and 2000\r\n",
                "\r\n",
                "ORDER BY Edition DESC"
            ],
            "metadata": {
                "azdata_cell_guid": "a2e39298-0a5c-424a-a4a6-663287ad99da"
            },
            "outputs": [
                {
                    "output_type": "display_data",
                    "data": {
                        "text/html": "(6 rows affected)"
                    },
                    "metadata": {}
                },
                {
                    "output_type": "display_data",
                    "data": {
                        "text/html": "Total execution time: 00:00:00.032"
                    },
                    "metadata": {}
                },
                {
                    "output_type": "execute_result",
                    "execution_count": 45,
                    "data": {
                        "application/vnd.dataresource+json": {
                            "schema": {
                                "fields": [
                                    {
                                        "name": "Sport"
                                    },
                                    {
                                        "name": "DisciplineID"
                                    },
                                    {
                                        "name": "Edition"
                                    }
                                ]
                            },
                            "data": [
                                {
                                    "0": "Football",
                                    "1": "28",
                                    "2": "2000"
                                },
                                {
                                    "0": "Shooting",
                                    "1": "49",
                                    "2": "2000"
                                },
                                {
                                    "0": "Football",
                                    "1": "28",
                                    "2": "1996"
                                },
                                {
                                    "0": "Shooting",
                                    "1": "49",
                                    "2": "1996"
                                },
                                {
                                    "0": "Football",
                                    "1": "28",
                                    "2": "1992"
                                },
                                {
                                    "0": "Shooting",
                                    "1": "49",
                                    "2": "1992"
                                }
                            ]
                        },
                        "text/html": "<table><tr><th>Sport</th><th>DisciplineID</th><th>Edition</th></tr><tr><td>Football</td><td>28</td><td>2000</td></tr><tr><td>Shooting</td><td>49</td><td>2000</td></tr><tr><td>Football</td><td>28</td><td>1996</td></tr><tr><td>Shooting</td><td>49</td><td>1996</td></tr><tr><td>Football</td><td>28</td><td>1992</td></tr><tr><td>Shooting</td><td>49</td><td>1992</td></tr></table>"
                    },
                    "metadata": {}
                }
            ],
            "execution_count": 45
        },
        {
            "cell_type": "markdown",
            "source": [
                "8\\. Aggregation = GROUP BY\n",
                "\n",
                "- COUNT()\n",
                "- AVG()\n",
                "- MAX()\n",
                "- MIN()"
            ],
            "metadata": {
                "azdata_cell_guid": "048c0de1-4dc6-4863-b7b6-f68b0eaba17a"
            }
        },
        {
            "cell_type": "code",
            "source": [
                "SELECT\r\n",
                "Edition,\r\n",
                "COUNT(Athlete) as number_of_athletes\r\n",
                "FROM  mydb.dbo.OlympicsData_medalists\r\n",
                "WHERE MedalValue = 1\r\n",
                "GROUP BY Edition\r\n",
                "ORDER BY Edition DESC"
            ],
            "metadata": {
                "azdata_cell_guid": "bbf4217a-7c3a-49b6-8e46-6f274d8d5a95"
            },
            "outputs": [
                {
                    "output_type": "display_data",
                    "data": {
                        "text/html": "Warning: Null value is eliminated by an aggregate or other SET operation."
                    },
                    "metadata": {}
                },
                {
                    "output_type": "display_data",
                    "data": {
                        "text/html": "(33 rows affected)"
                    },
                    "metadata": {}
                },
                {
                    "output_type": "display_data",
                    "data": {
                        "text/html": "Total execution time: 00:00:00.033"
                    },
                    "metadata": {}
                },
                {
                    "output_type": "execute_result",
                    "execution_count": 50,
                    "data": {
                        "application/vnd.dataresource+json": {
                            "schema": {
                                "fields": [
                                    {
                                        "name": "Edition"
                                    },
                                    {
                                        "name": "number_of_athletes"
                                    }
                                ]
                            },
                            "data": [
                                {
                                    "0": "2016",
                                    "1": "16"
                                },
                                {
                                    "0": "2014",
                                    "1": "25"
                                },
                                {
                                    "0": "2012",
                                    "1": "16"
                                },
                                {
                                    "0": "2010",
                                    "1": "23"
                                },
                                {
                                    "0": "2008",
                                    "1": "672"
                                },
                                {
                                    "0": "2006",
                                    "1": "0"
                                },
                                {
                                    "0": "2004",
                                    "1": "659"
                                },
                                {
                                    "0": "2002",
                                    "1": "0"
                                },
                                {
                                    "0": "2000",
                                    "1": "663"
                                },
                                {
                                    "0": "1998",
                                    "1": "0"
                                },
                                {
                                    "0": "1996",
                                    "1": "615"
                                },
                                {
                                    "0": "1994",
                                    "1": "0"
                                },
                                {
                                    "0": "1992",
                                    "1": "558"
                                },
                                {
                                    "0": "1988",
                                    "1": "506"
                                },
                                {
                                    "0": "1984",
                                    "1": "483"
                                },
                                {
                                    "0": "1980",
                                    "1": "458"
                                },
                                {
                                    "0": "1976",
                                    "1": "429"
                                },
                                {
                                    "0": "1972",
                                    "1": "387"
                                },
                                {
                                    "0": "1968",
                                    "1": "341"
                                },
                                {
                                    "0": "1964",
                                    "1": "330"
                                },
                                {
                                    "0": "1960",
                                    "1": "295"
                                },
                                {
                                    "0": "1956",
                                    "1": "296"
                                },
                                {
                                    "0": "1952",
                                    "1": "300"
                                },
                                {
                                    "0": "1948",
                                    "1": "276"
                                },
                                {
                                    "0": "1936",
                                    "1": "298"
                                },
                                {
                                    "0": "1932",
                                    "1": "213"
                                },
                                {
                                    "0": "1928",
                                    "1": "229"
                                },
                                {
                                    "0": "1924",
                                    "1": "301"
                                },
                                {
                                    "0": "1920",
                                    "1": "497"
                                },
                                {
                                    "0": "1912",
                                    "1": "301"
                                },
                                {
                                    "0": "1908",
                                    "1": "311"
                                },
                                {
                                    "0": "1904",
                                    "1": "188"
                                },
                                {
                                    "0": "1900",
                                    "1": "178"
                                }
                            ]
                        },
                        "text/html": "<table><tr><th>Edition</th><th>number_of_athletes</th></tr><tr><td>2016</td><td>16</td></tr><tr><td>2014</td><td>25</td></tr><tr><td>2012</td><td>16</td></tr><tr><td>2010</td><td>23</td></tr><tr><td>2008</td><td>672</td></tr><tr><td>2006</td><td>0</td></tr><tr><td>2004</td><td>659</td></tr><tr><td>2002</td><td>0</td></tr><tr><td>2000</td><td>663</td></tr><tr><td>1998</td><td>0</td></tr><tr><td>1996</td><td>615</td></tr><tr><td>1994</td><td>0</td></tr><tr><td>1992</td><td>558</td></tr><tr><td>1988</td><td>506</td></tr><tr><td>1984</td><td>483</td></tr><tr><td>1980</td><td>458</td></tr><tr><td>1976</td><td>429</td></tr><tr><td>1972</td><td>387</td></tr><tr><td>1968</td><td>341</td></tr><tr><td>1964</td><td>330</td></tr><tr><td>1960</td><td>295</td></tr><tr><td>1956</td><td>296</td></tr><tr><td>1952</td><td>300</td></tr><tr><td>1948</td><td>276</td></tr><tr><td>1936</td><td>298</td></tr><tr><td>1932</td><td>213</td></tr><tr><td>1928</td><td>229</td></tr><tr><td>1924</td><td>301</td></tr><tr><td>1920</td><td>497</td></tr><tr><td>1912</td><td>301</td></tr><tr><td>1908</td><td>311</td></tr><tr><td>1904</td><td>188</td></tr><tr><td>1900</td><td>178</td></tr></table>"
                    },
                    "metadata": {}
                }
            ],
            "execution_count": 50
        },
        {
            "cell_type": "code",
            "source": [
                "SELECT\r\n",
                "Edition,\r\n",
                "AVG(MedalistID) as number_of_athletes_in_average\r\n",
                "FROM  mydb.dbo.OlympicsData_medalists\r\n",
                "WHERE MedalValue = 1\r\n",
                "GROUP BY Edition\r\n",
                "ORDER BY Edition DESC"
            ],
            "metadata": {
                "azdata_cell_guid": "48aca99e-5f8f-41ef-9967-56865f3fbb93",
                "tags": []
            },
            "outputs": [
                {
                    "output_type": "display_data",
                    "data": {
                        "text/html": "(33 rows affected)"
                    },
                    "metadata": {}
                },
                {
                    "output_type": "display_data",
                    "data": {
                        "text/html": "Total execution time: 00:00:00.075"
                    },
                    "metadata": {}
                },
                {
                    "output_type": "execute_result",
                    "execution_count": 55,
                    "data": {
                        "application/vnd.dataresource+json": {
                            "schema": {
                                "fields": [
                                    {
                                        "name": "Edition"
                                    },
                                    {
                                        "name": "number_of_athletes_in_average"
                                    }
                                ]
                            },
                            "data": [
                                {
                                    "0": "2016",
                                    "1": "32791"
                                },
                                {
                                    "0": "2014",
                                    "1": "32673"
                                },
                                {
                                    "0": "2012",
                                    "1": "32743"
                                },
                                {
                                    "0": "2010",
                                    "1": "32603"
                                },
                                {
                                    "0": "2008",
                                    "1": "31458"
                                },
                                {
                                    "0": "2006",
                                    "1": "29796"
                                },
                                {
                                    "0": "2004",
                                    "1": "29190"
                                },
                                {
                                    "0": "2002",
                                    "1": "27787"
                                },
                                {
                                    "0": "2000",
                                    "1": "26846"
                                },
                                {
                                    "0": "1998",
                                    "1": "25160"
                                },
                                {
                                    "0": "1996",
                                    "1": "24589"
                                },
                                {
                                    "0": "1994",
                                    "1": "23609"
                                },
                                {
                                    "0": "1992",
                                    "1": "22458"
                                },
                                {
                                    "0": "1988",
                                    "1": "20621"
                                },
                                {
                                    "0": "1984",
                                    "1": "18863"
                                },
                                {
                                    "0": "1980",
                                    "1": "17325"
                                },
                                {
                                    "0": "1976",
                                    "1": "15753"
                                },
                                {
                                    "0": "1972",
                                    "1": "14332"
                                },
                                {
                                    "0": "1968",
                                    "1": "13112"
                                },
                                {
                                    "0": "1964",
                                    "1": "11874"
                                },
                                {
                                    "0": "1960",
                                    "1": "10820"
                                },
                                {
                                    "0": "1956",
                                    "1": "9847"
                                },
                                {
                                    "0": "1952",
                                    "1": "8801"
                                },
                                {
                                    "0": "1948",
                                    "1": "7931"
                                },
                                {
                                    "0": "1936",
                                    "1": "7033"
                                },
                                {
                                    "0": "1932",
                                    "1": "6248"
                                },
                                {
                                    "0": "1928",
                                    "1": "5316"
                                },
                                {
                                    "0": "1924",
                                    "1": "4440"
                                },
                                {
                                    "0": "1920",
                                    "1": "3315"
                                },
                                {
                                    "0": "1912",
                                    "1": "2217"
                                },
                                {
                                    "0": "1908",
                                    "1": "1375"
                                },
                                {
                                    "0": "1904",
                                    "1": "744"
                                },
                                {
                                    "0": "1900",
                                    "1": "249"
                                }
                            ]
                        },
                        "text/html": "<table><tr><th>Edition</th><th>number_of_athletes_in_average</th></tr><tr><td>2016</td><td>32791</td></tr><tr><td>2014</td><td>32673</td></tr><tr><td>2012</td><td>32743</td></tr><tr><td>2010</td><td>32603</td></tr><tr><td>2008</td><td>31458</td></tr><tr><td>2006</td><td>29796</td></tr><tr><td>2004</td><td>29190</td></tr><tr><td>2002</td><td>27787</td></tr><tr><td>2000</td><td>26846</td></tr><tr><td>1998</td><td>25160</td></tr><tr><td>1996</td><td>24589</td></tr><tr><td>1994</td><td>23609</td></tr><tr><td>1992</td><td>22458</td></tr><tr><td>1988</td><td>20621</td></tr><tr><td>1984</td><td>18863</td></tr><tr><td>1980</td><td>17325</td></tr><tr><td>1976</td><td>15753</td></tr><tr><td>1972</td><td>14332</td></tr><tr><td>1968</td><td>13112</td></tr><tr><td>1964</td><td>11874</td></tr><tr><td>1960</td><td>10820</td></tr><tr><td>1956</td><td>9847</td></tr><tr><td>1952</td><td>8801</td></tr><tr><td>1948</td><td>7931</td></tr><tr><td>1936</td><td>7033</td></tr><tr><td>1932</td><td>6248</td></tr><tr><td>1928</td><td>5316</td></tr><tr><td>1924</td><td>4440</td></tr><tr><td>1920</td><td>3315</td></tr><tr><td>1912</td><td>2217</td></tr><tr><td>1908</td><td>1375</td></tr><tr><td>1904</td><td>744</td></tr><tr><td>1900</td><td>249</td></tr></table>"
                    },
                    "metadata": {}
                }
            ],
            "execution_count": 55
        },
        {
            "cell_type": "code",
            "source": [
                "select\r\n",
                "max(Edition) max_year\r\n",
                "FROM  mydb.dbo.OlympicsData_medalists\r\n",
                "WHERE MedalValue = 1\r\n",
                "AND NOC = 'EST'\r\n",
                ""
            ],
            "metadata": {
                "azdata_cell_guid": "2011fc6b-dda5-43c7-9306-1ac2c0dada56",
                "tags": []
            },
            "outputs": [
                {
                    "output_type": "display_data",
                    "data": {
                        "text/html": "(1 row affected)"
                    },
                    "metadata": {}
                },
                {
                    "output_type": "display_data",
                    "data": {
                        "text/html": "Total execution time: 00:00:00.019"
                    },
                    "metadata": {}
                },
                {
                    "output_type": "execute_result",
                    "execution_count": 61,
                    "data": {
                        "application/vnd.dataresource+json": {
                            "schema": {
                                "fields": [
                                    {
                                        "name": "max_year"
                                    }
                                ]
                            },
                            "data": [
                                {
                                    "0": "2008"
                                }
                            ]
                        },
                        "text/html": "<table><tr><th>max_year</th></tr><tr><td>2008</td></tr></table>"
                    },
                    "metadata": {}
                }
            ],
            "execution_count": 61
        },
        {
            "cell_type": "code",
            "source": [
                "select\r\n",
                "min(Edition) min_year\r\n",
                "FROM  mydb.dbo.OlympicsData_medalists\r\n",
                "WHERE MedalValue = 1\r\n",
                "AND NOC = 'EST'"
            ],
            "metadata": {
                "azdata_cell_guid": "8421feb1-0a09-477f-8736-f6af69803d27",
                "tags": []
            },
            "outputs": [
                {
                    "output_type": "display_data",
                    "data": {
                        "text/html": "(1 row affected)"
                    },
                    "metadata": {}
                },
                {
                    "output_type": "display_data",
                    "data": {
                        "text/html": "Total execution time: 00:00:00.027"
                    },
                    "metadata": {}
                },
                {
                    "output_type": "execute_result",
                    "execution_count": 62,
                    "data": {
                        "application/vnd.dataresource+json": {
                            "schema": {
                                "fields": [
                                    {
                                        "name": "max_year"
                                    }
                                ]
                            },
                            "data": [
                                {
                                    "0": "1920"
                                }
                            ]
                        },
                        "text/html": "<table><tr><th>max_year</th></tr><tr><td>1920</td></tr></table>"
                    },
                    "metadata": {}
                }
            ],
            "execution_count": 62
        },
        {
            "cell_type": "markdown",
            "source": [
                "9\\. ALTER TABLE, ALTER COLUMN"
            ],
            "metadata": {
                "azdata_cell_guid": "bc30f54e-7a23-44a6-9e9f-3bf595b0d52b"
            }
        },
        {
            "cell_type": "code",
            "source": [
                "ALTER TABLE  mydb.dbo.OlympicsData_medalists\r\n",
                "ALTER COLUMN MedalistID INT"
            ],
            "metadata": {
                "azdata_cell_guid": "4e1e5432-b077-46d8-85b2-11e4ce3e0fc3",
                "tags": []
            },
            "outputs": [
                {
                    "output_type": "display_data",
                    "data": {
                        "text/html": "Commands completed successfully."
                    },
                    "metadata": {}
                },
                {
                    "output_type": "display_data",
                    "data": {
                        "text/html": "Total execution time: 00:00:00.407"
                    },
                    "metadata": {}
                }
            ],
            "execution_count": 54
        },
        {
            "cell_type": "markdown",
            "source": [
                "10\\. Combination of JOIN and GROUP BY"
            ],
            "metadata": {
                "azdata_cell_guid": "e7b1358f-b44a-4035-b65b-db322472c2ac"
            }
        },
        {
            "cell_type": "code",
            "source": [
                "SELECT OlympicsData_Disciplines.[DisciplineID],\n",
                "      --Student_ID --how many disciplines you had to describe???\n",
                "      count(Event)  as  number_of_events\n",
                "      , Edition\n",
                "  FROM [mydb].[dbo].[OlympicsData_Disciplines]\n",
                "  JOIN [mydb].[dbo].[OlympicsData_events] \n",
                "  ON OlympicsData_Disciplines.DisciplineID = OlympicsData_events.DisciplineID\n",
                "  WHERE OlympicsData_Disciplines.DisciplineID = 2 \n",
                "  AND E --Student_IDd-->your name \n",
                "  ition = 2016\n",
                3,
                "  \n",
                "  GROUP BY OlympicsData_Disciplines.DisciplineID, Edition"
            ],
            "metadata": {
                "azdata_cell_guid": "cb237cff-b298-4050-ac13-982ec980bce3"
            },
            "outputs": [
                {
                    "output_type": "display_data",
                    "data": {
                        "text/html": "(2 rows affected)"
                    },
                    "metadata": {}
                },
                {
                    "output_type": "display_data",
                    "data": {
                        "text/html": "Total execution time: 00:00:00.025"
                    },
                    "metadata": {}
                },
                {
                    "output_type": "execute_result",
                    "execution_count": 64,
                    "data": {
                        "application/vnd.dataresource+json": {
                            "schema": {
                                "fields": [
                                    {
                                        "name": "DisciplineID"
                                    },
                                    {
                                        "name": "number_of_events"
                                    },
                                    {
                                        "name": "Edition"
                                    }
                                ]
                            },
                            "data": [
                                {
                                    "0": "2",
                                    "1": "28",
                                    "2": "2016"
                                },
                                {
                                    "0": "3",
                                    "1": "22",
                                    "2": "2016"
                                }
                            ]
                        },
                        "text/html": "<table><tr><th>DisciplineID</th><th>number_of_events</th><th>Edition</th></tr><tr><td>2</td><td>28</td><td>2016</td></tr><tr><td>3</td><td>22</td><td>2016</td></tr></table>"
                    },
                    "metadata": {}
                }
            ],
            "execution_count": 64
        }
    ]
}