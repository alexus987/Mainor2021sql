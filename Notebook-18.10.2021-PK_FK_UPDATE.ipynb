{
    "metadata": {
        "kernelspec": {
            "name": "SQL",
            "display_name": "SQL",
            "language": "sql"
        },
        "language_info": {
            "name": "sql",
            "version": ""
        }
    },
    "nbformat_minor": 2,
    "nbformat": 4,
    "cells": [
        {
            "cell_type": "code",
            "source": [
                "CREATE TABLE test_db.dbo.Customers\r\n",
                "(ID INT PRIMARY KEY , \r\n",
                " CustomerName VARCHAR(50), \r\n",
                " CustomerAge  SMALLINT, \r\n",
                " CustomerCountry  VARCHAR(50)\r\n",
                ")\r\n",
                " "
            ],
            "metadata": {
                "azdata_cell_guid": "db002889-31dd-4f8c-91b1-3545d6ff7155"
            },
            "outputs": [
                {
                    "output_type": "error",
                    "evalue": "Msg 2714, Level 16, State 6, Line 1\r\nThere is already an object named 'Customers' in the database.",
                    "ename": "",
                    "traceback": []
                },
                {
                    "output_type": "display_data",
                    "data": {
                        "text/html": "Total execution time: 00:00:00.016"
                    },
                    "metadata": {}
                }
            ],
            "execution_count": 2
        },
        {
            "cell_type": "code",
            "source": [
                "INSERT INTO test_db.[dbo].[Customers]([ID],[CustomerName],[CustomerAge],[CustomerCountry]) VALUES (1,N'Salvador',23,N'Brazil ')\r\n",
                "INSERT INTO test_db.[dbo].[Customers]([ID],[CustomerName],[CustomerAge],[CustomerCountry]) VALUES (2,N'Lawrence',60,N'China ')\r\n",
                "INSERT INTO test_db.[dbo].[Customers]([ID],[CustomerName],[CustomerAge],[CustomerCountry]) VALUES (3,N'Ernest',38,N'India')\r\n",
                "\r\n",
                "select * from test_db.dbo.Customers\r\n",
                ""
            ],
            "metadata": {
                "azdata_cell_guid": "28d91b96-8110-4809-9a7a-180b79896747"
            },
            "outputs": [
                {
                    "output_type": "display_data",
                    "data": {
                        "text/html": "(1 row affected)"
                    },
                    "metadata": {}
                },
                {
                    "output_type": "display_data",
                    "data": {
                        "text/html": "(1 row affected)"
                    },
                    "metadata": {}
                },
                {
                    "output_type": "display_data",
                    "data": {
                        "text/html": "(1 row affected)"
                    },
                    "metadata": {}
                },
                {
                    "output_type": "display_data",
                    "data": {
                        "text/html": "Total execution time: 00:00:00.006"
                    },
                    "metadata": {}
                }
            ],
            "execution_count": 3
        },
        {
            "cell_type": "code",
            "source": [
                ""
            ],
            "metadata": {
                "azdata_cell_guid": "a5cfd4f6-31ff-4133-8e0b-c83be06e8504"
            },
            "outputs": [
                {
                    "output_type": "display_data",
                    "data": {
                        "text/html": "(3 rows affected)"
                    },
                    "metadata": {}
                },
                {
                    "output_type": "display_data",
                    "data": {
                        "text/html": "Total execution time: 00:00:00.035"
                    },
                    "metadata": {}
                },
                {
                    "output_type": "execute_result",
                    "metadata": {},
                    "execution_count": 4,
                    "data": {
                        "application/vnd.dataresource+json": {
                            "schema": {
                                "fields": [
                                    {
                                        "name": "ID"
                                    },
                                    {
                                        "name": "CustomerName"
                                    },
                                    {
                                        "name": "CustomerAge"
                                    },
                                    {
                                        "name": "CustomerCountry"
                                    }
                                ]
                            },
                            "data": [
                                {
                                    "0": "1",
                                    "1": "Salvador",
                                    "2": "23",
                                    "3": "Brazil "
                                },
                                {
                                    "0": "2",
                                    "1": "Lawrence",
                                    "2": "60",
                                    "3": "China "
                                },
                                {
                                    "0": "3",
                                    "1": "Ernest",
                                    "2": "38",
                                    "3": "India"
                                }
                            ]
                        },
                        "text/html": [
                            "<table>",
                            "<tr><th>ID</th><th>CustomerName</th><th>CustomerAge</th><th>CustomerCountry</th></tr>",
                            "<tr><td>1</td><td>Salvador</td><td>23</td><td>Brazil </td></tr>",
                            "<tr><td>2</td><td>Lawrence</td><td>60</td><td>China </td></tr>",
                            "<tr><td>3</td><td>Ernest</td><td>38</td><td>India</td></tr>",
                            "</table>"
                        ]
                    }
                }
            ],
            "execution_count": 4
        },
        {
            "cell_type": "markdown",
            "source": [
                "Option 1"
            ],
            "metadata": {
                "azdata_cell_guid": "334e2265-f6a6-4853-83f8-4905884dfc11"
            }
        },
        {
            "cell_type": "code",
            "source": [
                "CREATE TABLE  test_db.dbo.CustomerOrders\r\n",
                "(ID INT PRIMARY KEY ,\r\n",
                " OrderDate DATETIME, \r\n",
                " CustomerID INT FOREIGN KEY REFERENCES test_db.dbo.Customers(ID), \r\n",
                " Amout   BIGINT, \r\n",
                ")\r\n",
                "\r\n",
                "ALTER TABLE [test_db].[dbo].CustomerOrders\r\n",
                "ADD CONSTRAINT FK_CustomerCheck FOREIGN KEY (CustomerID)  REFERENCES Customers(ID)"
            ],
            "metadata": {
                "azdata_cell_guid": "ed33969d-6392-4859-b7c3-bc05c453a5fd"
            },
            "outputs": [
                {
                    "output_type": "display_data",
                    "data": {
                        "text/html": "Commands completed successfully."
                    },
                    "metadata": {}
                },
                {
                    "output_type": "display_data",
                    "data": {
                        "text/html": "Total execution time: 00:00:00.038"
                    },
                    "metadata": {}
                }
            ],
            "execution_count": 5
        },
        {
            "cell_type": "markdown",
            "source": [
                "Option 2 with <span style=\"color: rgb(0, 0, 255); font-family: Consolas, &quot;Courier New&quot;, monospace; font-size: 12px; white-space: pre;\">FOREIGN&nbsp;KEY </span> name"
            ],
            "metadata": {
                "azdata_cell_guid": "f80cc32b-68e4-44fa-9ab5-091700e23aeb"
            }
        },
        {
            "cell_type": "code",
            "source": [
                "CREATE TABLE test_db.dbo.CustomerOrders\r\n",
                "(ID INT PRIMARY KEY,\r\n",
                " OrderDate DATETIME, \r\n",
                " CustomerID INT,\r\n",
                " Amout   BIGINT\r\n",
                ")\r\n",
                "\r\n",
                "ALTER TABLE [test_db].[dbo].CustomerOrders\r\n",
                "ADD CONSTRAINT FK_CustomerCheck FOREIGN KEY (CustomerID)  REFERENCES Customers(ID)"
            ],
            "metadata": {
                "azdata_cell_guid": "c0576046-9fc6-4358-bc77-7e45bb1849bc"
            },
            "outputs": [
                {
                    "output_type": "display_data",
                    "data": {
                        "text/html": "Commands completed successfully."
                    },
                    "metadata": {}
                },
                {
                    "output_type": "display_data",
                    "data": {
                        "text/html": "Total execution time: 00:00:00.013"
                    },
                    "metadata": {}
                }
            ],
            "execution_count": 12
        },
        {
            "cell_type": "code",
            "source": [
                "INSERT INTO [test_db].[dbo].[CustomerOrders]([ID],[OrderDate],[CustomerID],[Amout]) VALUES (1,CAST('29-Apr-2019' AS DATETIME),1,968.45)\r\n",
                "INSERT INTO [test_db].[dbo].[CustomerOrders]([ID],[OrderDate],[CustomerID],[Amout]) VALUES (2,CAST('10-May-2019' AS DATETIME),2,898.36)\r\n",
                "INSERT INTO [test_db].[dbo].[CustomerOrders]([ID],[OrderDate],[CustomerID],[Amout]) VALUES (3,CAST('21-Oct-2019' AS DATETIME),3,47.01)\r\n",
                " \r\n",
                "SELECT * FROM [test_db].[dbo].[CustomerOrders]"
            ],
            "metadata": {
                "azdata_cell_guid": "cea0a526-8cef-4350-982f-8cff420cb6d6"
            },
            "outputs": [
                {
                    "output_type": "display_data",
                    "data": {
                        "text/html": "(1 row affected)"
                    },
                    "metadata": {}
                },
                {
                    "output_type": "display_data",
                    "data": {
                        "text/html": "(1 row affected)"
                    },
                    "metadata": {}
                },
                {
                    "output_type": "display_data",
                    "data": {
                        "text/html": "(1 row affected)"
                    },
                    "metadata": {}
                },
                {
                    "output_type": "display_data",
                    "data": {
                        "text/html": "(3 rows affected)"
                    },
                    "metadata": {}
                },
                {
                    "output_type": "display_data",
                    "data": {
                        "text/html": "Total execution time: 00:00:00.051"
                    },
                    "metadata": {}
                },
                {
                    "output_type": "execute_result",
                    "metadata": {},
                    "execution_count": 13,
                    "data": {
                        "application/vnd.dataresource+json": {
                            "schema": {
                                "fields": [
                                    {
                                        "name": "ID"
                                    },
                                    {
                                        "name": "OrderDate"
                                    },
                                    {
                                        "name": "CustomerID"
                                    },
                                    {
                                        "name": "Amout"
                                    }
                                ]
                            },
                            "data": [
                                {
                                    "0": "1",
                                    "1": "2019-04-29 00:00:00.000",
                                    "2": "1",
                                    "3": "968"
                                },
                                {
                                    "0": "2",
                                    "1": "2019-05-10 00:00:00.000",
                                    "2": "2",
                                    "3": "898"
                                },
                                {
                                    "0": "3",
                                    "1": "2019-10-21 00:00:00.000",
                                    "2": "3",
                                    "3": "47"
                                }
                            ]
                        },
                        "text/html": [
                            "<table>",
                            "<tr><th>ID</th><th>OrderDate</th><th>CustomerID</th><th>Amout</th></tr>",
                            "<tr><td>1</td><td>2019-04-29 00:00:00.000</td><td>1</td><td>968</td></tr>",
                            "<tr><td>2</td><td>2019-05-10 00:00:00.000</td><td>2</td><td>898</td></tr>",
                            "<tr><td>3</td><td>2019-10-21 00:00:00.000</td><td>3</td><td>47</td></tr>",
                            "</table>"
                        ]
                    }
                }
            ],
            "execution_count": 13
        },
        {
            "cell_type": "code",
            "source": [
                "INSERT INTO  [test_db].[dbo].[CustomerOrders]([ID],[OrderDate],[CustomerID],[Amout]) \r\n",
                "VALUES (4,CAST('29-Apr-2019' AS DATETIME),4,968.45)"
            ],
            "metadata": {
                "azdata_cell_guid": "6e9f76cc-a48b-489e-b232-a180b786347c"
            },
            "outputs": [
                {
                    "output_type": "error",
                    "evalue": "Msg 547, Level 16, State 0, Line 1\r\nThe INSERT statement conflicted with the FOREIGN KEY constraint \"FK_CustomerCheck\". The conflict occurred in database \"test_db\", table \"dbo.Customers\", column 'ID'.",
                    "ename": "",
                    "traceback": []
                },
                {
                    "output_type": "display_data",
                    "data": {
                        "text/html": "The statement has been terminated."
                    },
                    "metadata": {}
                },
                {
                    "output_type": "display_data",
                    "data": {
                        "text/html": "Total execution time: 00:00:00.006"
                    },
                    "metadata": {}
                }
            ],
            "execution_count": 14
        },
        {
            "cell_type": "markdown",
            "source": [
                "## **Foreign key update and delete rules**"
            ],
            "metadata": {
                "azdata_cell_guid": "f0310b7a-08e7-4c5f-81b8-2746dade03f7"
            }
        },
        {
            "cell_type": "markdown",
            "source": [
                "### Delete Rules:\n",
                "\n",
                "- **No Action:** It returns an error when we want to delete any row from the parent table and the deleted statement will be rolled back\n",
                "- **Cascade**: In this option, the deleted statement also deletes all associated rows from the child table\n",
                "- **Set Null**: In this option, the deleted statement deletes the parent table row and associated values will be updated with null values on the child table. The foreign key column must be nullable\n",
                "- **Set Default**: The delete statement deletes parent table row and associated values of the child table will be updated with the default value of the foreign key column. In order to work this rule, a default constraint should be specified for the foreign key column and this default value must match in the parent table\n",
                "\n",
                "### Update Rules:\n",
                "\n",
                "- **No Action**: It returns an error when we want to update any row from the parent table and the update statement will be rolled back\n",
                "- **Cascade**: In this option, the updated statement also updates all associated rows from the child table\n",
                "- **Set Null**: In this option, the updated statement updates the parent table data and the associated values of the child table are updated to a default value. The foreign key column must be nullable\n",
                "- **Set Default**: The update statement updates the parent table row and child table associated values will be updated with the default value of the foreign key column. In order to work this rule, a default constraint should be specified for the foreign key column and this default value must match in the parent table\n",
                "\n",
                "In the following example, we will create a **CustomerSales** table and this table **CustomerId** column referencing **ID** column of the **Customers** table. The delete rule of the foreign key will be specified as **No Action** and the update rule will be specified as **Set Null** option."
            ],
            "metadata": {
                "azdata_cell_guid": "7f479896-d3bc-4752-a363-f0ee46aa6eef"
            }
        },
        {
            "cell_type": "code",
            "source": [
                "CREATE TABLE [test_db].[dbo].CustomerSales\r\n",
                "(ID  INT\r\n",
                " PRIMARY KEY,\r\n",
                " SaleDate DATETIME, \r\n",
                " CustomerID INT FOREIGN KEY REFERENCES Customers(ID) ON UPDATE CASCADE  ON DELETE NO ACTION, \r\n",
                " SaleAmount MONEY,\r\n",
                ")"
            ],
            "metadata": {
                "azdata_cell_guid": "47d49257-8dc8-45dd-9545-bcd400d6d8bf"
            },
            "outputs": [
                {
                    "output_type": "display_data",
                    "data": {
                        "text/html": "Commands completed successfully."
                    },
                    "metadata": {}
                },
                {
                    "output_type": "display_data",
                    "data": {
                        "text/html": "Total execution time: 00:00:00.029"
                    },
                    "metadata": {}
                }
            ],
            "execution_count": 16
        },
        {
            "cell_type": "code",
            "source": [
                "INSERT INTO [test_db].[dbo].[CustomerSales]([ID],[SaleDate],[CustomerID],[SaleAmount]) VALUES (1,CAST('05-Mar-2019' AS DATETIME),1,726.24)\r\n",
                "INSERT INTO [test_db].[dbo].[CustomerSales]([ID],[SaleDate],[CustomerID],[SaleAmount]) VALUES (2,CAST('02-Nov-2019' AS DATETIME),2,817.33)\r\n",
                "INSERT INTO [test_db].[dbo].[CustomerSales]([ID],[SaleDate],[CustomerID],[SaleAmount]) VALUES (3,CAST('13-Nov-2019' AS DATETIME),3,768.02)"
            ],
            "metadata": {
                "azdata_cell_guid": "352daec5-93de-4597-8c65-1a51eef91012"
            },
            "outputs": [
                {
                    "output_type": "display_data",
                    "data": {
                        "text/html": "(1 row affected)"
                    },
                    "metadata": {}
                },
                {
                    "output_type": "display_data",
                    "data": {
                        "text/html": "(1 row affected)"
                    },
                    "metadata": {}
                },
                {
                    "output_type": "display_data",
                    "data": {
                        "text/html": "(1 row affected)"
                    },
                    "metadata": {}
                },
                {
                    "output_type": "display_data",
                    "data": {
                        "text/html": "Total execution time: 00:00:00.071"
                    },
                    "metadata": {}
                }
            ],
            "execution_count": 17
        },
        {
            "cell_type": "code",
            "source": [
                "DELETE FROM [test_db].[dbo].Customers WHERE Id=2\r\n",
                ""
            ],
            "metadata": {
                "azdata_cell_guid": "cb1d4386-d43e-453c-a80d-872d7405767d"
            },
            "outputs": [
                {
                    "output_type": "error",
                    "evalue": "Msg 547, Level 16, State 0, Line 1\r\nThe DELETE statement conflicted with the REFERENCE constraint \"FK_CustomerCheck\". The conflict occurred in database \"test_db\", table \"dbo.CustomerOrders\", column 'CustomerID'.",
                    "ename": "",
                    "traceback": []
                },
                {
                    "output_type": "display_data",
                    "data": {
                        "text/html": "The statement has been terminated."
                    },
                    "metadata": {}
                },
                {
                    "output_type": "display_data",
                    "data": {
                        "text/html": "Total execution time: 00:00:00.026"
                    },
                    "metadata": {}
                }
            ],
            "execution_count": 18
        },
        {
            "cell_type": "markdown",
            "source": [
                "<span style=\"color: rgb(37, 37, 37); font-family: &quot;Segoe UI&quot;, Tahoma, Arial; background-color: rgb(255, 255, 255);\">As we can see, the foreign key rule prevents deleting the referenced column value. Now, we will update a row of the&nbsp;</span> **Customers** <span style=\"color: rgb(37, 37, 37); font-family: &quot;Segoe UI&quot;, Tahoma, Arial; background-color: rgb(255, 255, 255);\">&nbsp;(parent table value).</span>"
            ],
            "metadata": {
                "azdata_cell_guid": "e58333bc-7343-4d70-8e14-b3e1a369836b"
            }
        },
        {
            "cell_type": "code",
            "source": [
                "DELETE [test_db].[dbo].CustomerOrders\r\n",
                "SELECT * FROM [test_db].[dbo].Customers\r\n",
                "SELECT * FROM [test_db].[dbo].CustomerSales\r\n",
                "UPDATE [test_db].[dbo].Customers SET ID=9999 WHERE ID=1\r\n",
                "SELECT * FROM [test_db].[dbo].Customers\r\n",
                "SELECT * FROM [test_db].[dbo].CustomerSales"
            ],
            "metadata": {
                "azdata_cell_guid": "d94b1b4f-d45f-4088-bd05-49ce73aae8a4"
            },
            "outputs": [
                {
                    "output_type": "display_data",
                    "data": {
                        "text/html": "(3 rows affected)"
                    },
                    "metadata": {}
                },
                {
                    "output_type": "display_data",
                    "data": {
                        "text/html": "(3 rows affected)"
                    },
                    "metadata": {}
                },
                {
                    "output_type": "display_data",
                    "data": {
                        "text/html": "(3 rows affected)"
                    },
                    "metadata": {}
                },
                {
                    "output_type": "display_data",
                    "data": {
                        "text/html": "(1 row affected)"
                    },
                    "metadata": {}
                },
                {
                    "output_type": "display_data",
                    "data": {
                        "text/html": "(3 rows affected)"
                    },
                    "metadata": {}
                },
                {
                    "output_type": "display_data",
                    "data": {
                        "text/html": "(3 rows affected)"
                    },
                    "metadata": {}
                },
                {
                    "output_type": "display_data",
                    "data": {
                        "text/html": "Total execution time: 00:00:00.078"
                    },
                    "metadata": {}
                },
                {
                    "output_type": "execute_result",
                    "metadata": {},
                    "execution_count": 19,
                    "data": {
                        "application/vnd.dataresource+json": {
                            "schema": {
                                "fields": [
                                    {
                                        "name": "ID"
                                    },
                                    {
                                        "name": "CustomerName"
                                    },
                                    {
                                        "name": "CustomerAge"
                                    },
                                    {
                                        "name": "CustomerCountry"
                                    }
                                ]
                            },
                            "data": [
                                {
                                    "0": "1",
                                    "1": "Salvador",
                                    "2": "23",
                                    "3": "Brazil "
                                },
                                {
                                    "0": "2",
                                    "1": "Lawrence",
                                    "2": "60",
                                    "3": "China "
                                },
                                {
                                    "0": "3",
                                    "1": "Ernest",
                                    "2": "38",
                                    "3": "India"
                                }
                            ]
                        },
                        "text/html": [
                            "<table>",
                            "<tr><th>ID</th><th>CustomerName</th><th>CustomerAge</th><th>CustomerCountry</th></tr>",
                            "<tr><td>1</td><td>Salvador</td><td>23</td><td>Brazil </td></tr>",
                            "<tr><td>2</td><td>Lawrence</td><td>60</td><td>China </td></tr>",
                            "<tr><td>3</td><td>Ernest</td><td>38</td><td>India</td></tr>",
                            "</table>"
                        ]
                    }
                },
                {
                    "output_type": "execute_result",
                    "metadata": {},
                    "execution_count": 19,
                    "data": {
                        "application/vnd.dataresource+json": {
                            "schema": {
                                "fields": [
                                    {
                                        "name": "ID"
                                    },
                                    {
                                        "name": "SaleDate"
                                    },
                                    {
                                        "name": "CustomerID"
                                    },
                                    {
                                        "name": "SaleAmount"
                                    }
                                ]
                            },
                            "data": [
                                {
                                    "0": "1",
                                    "1": "2019-03-05 00:00:00.000",
                                    "2": "1",
                                    "3": "726,2400"
                                },
                                {
                                    "0": "2",
                                    "1": "2019-11-02 00:00:00.000",
                                    "2": "2",
                                    "3": "817,3300"
                                },
                                {
                                    "0": "3",
                                    "1": "2019-11-13 00:00:00.000",
                                    "2": "3",
                                    "3": "768,0200"
                                }
                            ]
                        },
                        "text/html": [
                            "<table>",
                            "<tr><th>ID</th><th>SaleDate</th><th>CustomerID</th><th>SaleAmount</th></tr>",
                            "<tr><td>1</td><td>2019-03-05 00:00:00.000</td><td>1</td><td>726,2400</td></tr>",
                            "<tr><td>2</td><td>2019-11-02 00:00:00.000</td><td>2</td><td>817,3300</td></tr>",
                            "<tr><td>3</td><td>2019-11-13 00:00:00.000</td><td>3</td><td>768,0200</td></tr>",
                            "</table>"
                        ]
                    }
                },
                {
                    "output_type": "execute_result",
                    "metadata": {},
                    "execution_count": 19,
                    "data": {
                        "application/vnd.dataresource+json": {
                            "schema": {
                                "fields": [
                                    {
                                        "name": "ID"
                                    },
                                    {
                                        "name": "CustomerName"
                                    },
                                    {
                                        "name": "CustomerAge"
                                    },
                                    {
                                        "name": "CustomerCountry"
                                    }
                                ]
                            },
                            "data": [
                                {
                                    "0": "2",
                                    "1": "Lawrence",
                                    "2": "60",
                                    "3": "China "
                                },
                                {
                                    "0": "3",
                                    "1": "Ernest",
                                    "2": "38",
                                    "3": "India"
                                },
                                {
                                    "0": "9999",
                                    "1": "Salvador",
                                    "2": "23",
                                    "3": "Brazil "
                                }
                            ]
                        },
                        "text/html": [
                            "<table>",
                            "<tr><th>ID</th><th>CustomerName</th><th>CustomerAge</th><th>CustomerCountry</th></tr>",
                            "<tr><td>2</td><td>Lawrence</td><td>60</td><td>China </td></tr>",
                            "<tr><td>3</td><td>Ernest</td><td>38</td><td>India</td></tr>",
                            "<tr><td>9999</td><td>Salvador</td><td>23</td><td>Brazil </td></tr>",
                            "</table>"
                        ]
                    }
                },
                {
                    "output_type": "execute_result",
                    "metadata": {},
                    "execution_count": 19,
                    "data": {
                        "application/vnd.dataresource+json": {
                            "schema": {
                                "fields": [
                                    {
                                        "name": "ID"
                                    },
                                    {
                                        "name": "SaleDate"
                                    },
                                    {
                                        "name": "CustomerID"
                                    },
                                    {
                                        "name": "SaleAmount"
                                    }
                                ]
                            },
                            "data": [
                                {
                                    "0": "1",
                                    "1": "2019-03-05 00:00:00.000",
                                    "2": "9999",
                                    "3": "726,2400"
                                },
                                {
                                    "0": "2",
                                    "1": "2019-11-02 00:00:00.000",
                                    "2": "2",
                                    "3": "817,3300"
                                },
                                {
                                    "0": "3",
                                    "1": "2019-11-13 00:00:00.000",
                                    "2": "3",
                                    "3": "768,0200"
                                }
                            ]
                        },
                        "text/html": [
                            "<table>",
                            "<tr><th>ID</th><th>SaleDate</th><th>CustomerID</th><th>SaleAmount</th></tr>",
                            "<tr><td>1</td><td>2019-03-05 00:00:00.000</td><td>9999</td><td>726,2400</td></tr>",
                            "<tr><td>2</td><td>2019-11-02 00:00:00.000</td><td>2</td><td>817,3300</td></tr>",
                            "<tr><td>3</td><td>2019-11-13 00:00:00.000</td><td>3</td><td>768,0200</td></tr>",
                            "</table>"
                        ]
                    }
                }
            ],
            "execution_count": 19
        },
        {
            "cell_type": "markdown",
            "source": [
                "![](attachment:image.png)"
            ],
            "metadata": {
                "azdata_cell_guid": "2934fefe-d017-40a9-af35-fe4d3e6d1a2a"
            },
            "attachments": {
                "image.png": {
                    "image/png": "[encoded data removed]"
                }
            }
        }
    ]
}