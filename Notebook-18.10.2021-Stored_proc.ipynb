{
    "metadata": {
        "kernelspec": {
            "name": "SQL",
            "display_name": "SQL",
            "language": "sql"
        },
        "language_info": {
            "name": "sql",
            "version": ""
        }
    },
    "nbformat_minor": 2,
    "nbformat": 4,
    "cells": [
        {
            "cell_type": "code",
            "source": [
                "select Discipline,\r\n",
                "count( distinct  Event) number_of_disciplies\r\n",
                "from mydb.dbo.OlympicsData_Disciplines d\r\n",
                "join mydb.dbo.OlympicsData_events e\r\n",
                "on d.DisciplineID = e.DisciplineID\r\n",
                "where StudentID = '***'\r\n",
                "group by Discipline\r\n",
                "\r\n",
                ""
            ],
            "metadata": {
                "azdata_cell_guid": "9898676d-b8d4-434c-b1c1-e1987d776d8b",
                "tags": []
            },
            "outputs": [],
            "execution_count": null
        },
        {
            "cell_type": "code",
            "source": [
                "DROP TABLE test4.dbo.PurchaseOrderDetail  \r\n",
                ""
            ],
            "metadata": {
                "azdata_cell_guid": "c408eb89-0f07-45d0-af0d-3aeb54627215",
                "tags": []
            },
            "outputs": [
                {
                    "output_type": "display_data",
                    "data": {
                        "text/html": "Commands completed successfully."
                    },
                    "metadata": {}
                },
                {
                    "output_type": "display_data",
                    "data": {
                        "text/html": "Total execution time: 00:00:00.029"
                    },
                    "metadata": {}
                }
            ],
            "execution_count": 25
        },
        {
            "cell_type": "code",
            "source": [
                "drop database test4"
            ],
            "metadata": {
                "azdata_cell_guid": "c4d60532-b755-4aab-83ae-59397f65bfac"
            },
            "outputs": [
                {
                    "output_type": "display_data",
                    "data": {
                        "text/html": "Commands completed successfully."
                    },
                    "metadata": {}
                },
                {
                    "output_type": "display_data",
                    "data": {
                        "text/html": "Total execution time: 00:00:00.188"
                    },
                    "metadata": {}
                }
            ],
            "execution_count": 26
        },
        {
            "cell_type": "code",
            "source": [
                "create table mydb.dbo.OlympicsData_number_of_disciplies (\r\n",
                "\r\n",
                "\r\n",
                ")"
            ],
            "metadata": {
                "azdata_cell_guid": "f0bba53c-8459-4433-898f-c9496b457080"
            },
            "outputs": [],
            "execution_count": null
        },
        {
            "cell_type": "markdown",
            "source": [
                "import data from SELECT and insert it into a new table"
            ],
            "metadata": {
                "azdata_cell_guid": "1642dde4-aa82-4fe8-89fb-8a4d46f99f36"
            }
        },
        {
            "cell_type": "code",
            "source": [
                "select Discipline,\r\n",
                "count( distinct  Event) number_of_disciplies\r\n",
                "\r\n",
                "into mydb.dbo.OlympicsData_number_of_disciplies2\r\n",
                "\r\n",
                "from mydb.dbo.OlympicsData_Disciplines d\r\n",
                "join mydb.dbo.OlympicsData_events e\r\n",
                "on d.DisciplineID = e.DisciplineID\r\n",
                "where StudentID = '***'\r\n",
                "group by Discipline\r\n",
                "\r\n",
                ""
            ],
            "metadata": {
                "azdata_cell_guid": "c1449313-f5b1-47f2-a667-8f9c87e3fe87"
            },
            "outputs": [
                {
                    "output_type": "display_data",
                    "data": {
                        "text/html": "(2 rows affected)"
                    },
                    "metadata": {}
                },
                {
                    "output_type": "display_data",
                    "data": {
                        "text/html": "Total execution time: 00:00:00.036"
                    },
                    "metadata": {}
                }
            ],
            "execution_count": 46
        },
        {
            "cell_type": "code",
            "source": [
                "select * from mydb.dbo.OlympicsData_number_of_disciplies "
            ],
            "metadata": {
                "azdata_cell_guid": "d401c79b-bad4-4d3a-a020-352aacd6ac19"
            },
            "outputs": [
                {
                    "output_type": "display_data",
                    "data": {
                        "text/html": "(0 rows affected)"
                    },
                    "metadata": {}
                },
                {
                    "output_type": "display_data",
                    "data": {
                        "text/html": "Total execution time: 00:00:00.007"
                    },
                    "metadata": {}
                },
                {
                    "output_type": "execute_result",
                    "execution_count": 48,
                    "data": {
                        "application/vnd.dataresource+json": {
                            "schema": {
                                "fields": [
                                    {
                                        "name": "Discipline"
                                    },
                                    {
                                        "name": "number_of_disciplies"
                                    }
                                ]
                            },
                            "data": []
                        },
                        "text/html": "<table><tr><th>Discipline</th><th>number_of_disciplies</th></tr></table>"
                    },
                    "metadata": {}
                }
            ],
            "execution_count": 48
        },
        {
            "cell_type": "code",
            "source": [
                "TRUNCATE table mydb.dbo.OlympicsData_number_of_disciplies "
            ],
            "metadata": {
                "azdata_cell_guid": "a8466c09-7d07-4463-a32a-dc2fadd1928d"
            },
            "outputs": [
                {
                    "output_type": "display_data",
                    "data": {
                        "text/html": "Commands completed successfully."
                    },
                    "metadata": {}
                },
                {
                    "output_type": "display_data",
                    "data": {
                        "text/html": "Total execution time: 00:00:00.031"
                    },
                    "metadata": {}
                }
            ],
            "execution_count": 47
        },
        {
            "cell_type": "code",
            "source": [
                "insert into mydb.dbo.OlympicsData_number_of_disciplies  \r\n",
                "VALUES ('Skating', 4)"
            ],
            "metadata": {
                "azdata_cell_guid": "9c4a684b-f509-46f3-bbde-800f0e12102e",
                "tags": []
            },
            "outputs": [
                {
                    "output_type": "display_data",
                    "data": {
                        "text/html": "(1 row affected)"
                    },
                    "metadata": {}
                },
                {
                    "output_type": "display_data",
                    "data": {
                        "text/html": "Total execution time: 00:00:00.034"
                    },
                    "metadata": {}
                }
            ],
            "execution_count": 44
        },
        {
            "cell_type": "code",
            "source": [
                "select distinct\r\n",
                "StudentID\r\n",
                "\r\n",
                "from mydb.dbo.OlympicsData_Disciplines d\r\n",
                "join mydb.dbo.OlympicsData_events e\r\n",
                "on d.DisciplineID = e.DisciplineID\r\n",
                "where StudentID  LIKE '%ed%'\r\n",
                "\r\n",
                ""
            ],
            "metadata": {
                "azdata_cell_guid": "1b3deec4-4249-4ec1-9f79-b8211d3bbc09"
            },
            "outputs": [],
            "execution_count": null
        },
        {
            "cell_type": "markdown",
            "source": [
                "Exercise 1 - SUBQUERY\n",
                "\n",
                "quering the data from a sub-query"
            ],
            "metadata": {
                "azdata_cell_guid": "e1db0190-9572-4d46-9060-4921b8ad8e1d"
            }
        },
        {
            "cell_type": "code",
            "source": [
                "select * from \r\n",
                "(\r\n",
                "    select sum(number_of_events) new_sum \r\n",
                "    from (\r\n",
                "        select Discipline,  \r\n",
                "        count(Event) number_of_events\r\n",
                "        from mydb.dbo.OlympicsData_Disciplines d\r\n",
                "        join mydb.dbo.OlympicsData_events e\r\n",
                "        on d.DisciplineID = e.DisciplineID\r\n",
                "        where StudentID = '***'\r\n",
                "        group by Discipline\r\n",
                "    )a\r\n",
                "\r\n",
                ")b"
            ],
            "metadata": {
                "azdata_cell_guid": "eb4fe0f8-7adc-4c0d-a93b-4c303d1b6a0b",
                "tags": []
            },
            "outputs": [
                {
                    "output_type": "display_data",
                    "data": {
                        "text/html": "(1 row affected)"
                    },
                    "metadata": {}
                },
                {
                    "output_type": "display_data",
                    "data": {
                        "text/html": "Total execution time: 00:00:00.062"
                    },
                    "metadata": {}
                },
                {
                    "output_type": "execute_result",
                    "execution_count": 76,
                    "data": {
                        "application/vnd.dataresource+json": {
                            "schema": {
                                "fields": [
                                    {
                                        "name": "new_sum"
                                    }
                                ]
                            },
                            "data": [
                                {
                                    "0": "6"
                                }
                            ]
                        },
                        "text/html": "<table><tr><th>new_sum</th></tr><tr><td>6</td></tr></table>"
                    },
                    "metadata": {}
                }
            ],
            "execution_count": 76
        },
        {
            "cell_type": "markdown",
            "source": [
                "Exercise 2 - WITH statement +UNION ALL \n",
                "\n",
                "https://www.w3schools.com/sql/sql\\_union.asp"
            ],
            "metadata": {
                "azdata_cell_guid": "592ba8d1-afdf-41f7-bed5-e0a429f696c5"
            }
        },
        {
            "cell_type": "code",
            "source": [
                "with \r\n",
                "\r\n",
                "partEduard as (\r\n",
                "\r\n",
                "    select \r\n",
                "    StudentID,\r\n",
                "    d.Discipline,\r\n",
                "    e.Event\r\n",
                "    from mydb.dbo.OlympicsData_Disciplines d\r\n",
                "    join mydb.dbo.OlympicsData_events e\r\n",
                "    on d.DisciplineID = e.DisciplineID\r\n",
                "    where StudentID = '***'\r\n",
                "    \r\n",
                ")\r\n",
                ", part2_Adedamola as (  -->output\r\n",
                "    select \r\n",
                "    StudentID,\r\n",
                "    d.Discipline,\r\n",
                "    e.Event\r\n",
                "    from mydb.dbo.OlympicsData_Disciplines d\r\n",
                "    join mydb.dbo.OlympicsData_events e\r\n",
                "    on d.DisciplineID = e.DisciplineID\r\n",
                "    where StudentID = '***'\r\n",
                ")\r\n",
                "\r\n",
                ", final_result as (\r\n",
                "select * from  partEduard\r\n",
                "UNION ALL\r\n",
                "select * from part2_Adedamola\r\n",
                ")\r\n",
                "\r\n",
                "SELECT\r\n",
                "StudentID,\r\n",
                "count(event) total_num_of_events\r\n",
                "from final_result\r\n",
                "group by StudentID"
            ],
            "metadata": {
                "azdata_cell_guid": "a9b931f0-ab95-4abf-a97f-bb9e231b6482"
            },
            "outputs": [],
            "execution_count": null
        },
        {
            "cell_type": "markdown",
            "source": [
                "# Stored procedures"
            ],
            "metadata": {
                "azdata_cell_guid": "9fd4e417-fbe9-49bb-bda3-5667f8429893"
            }
        },
        {
            "cell_type": "markdown",
            "source": [
                "Home exercise 3 - create and execute stored procedure\n",
                "\n",
                "based on https://www.sqlservertutorial.net/sql-server-stored-procedures/sql-server-stored-procedure-parameters/"
            ],
            "metadata": {
                "azdata_cell_guid": "b281388a-9ea1-447d-bb01-e93f32dd1130"
            }
        },
        {
            "cell_type": "code",
            "source": [
                "select TOP (10)\r\n",
                "  NOC,\r\n",
                "  Edition,\r\n",
                "  min(MedalValue) as max_medal_value\r\n",
                "  \r\n",
                "  from mydb.dbo.OlympicsData_medalists \r\n",
                "  GROUP BY \r\n",
                "  NOC,\r\n",
                "  Edition"
            ],
            "metadata": {
                "azdata_cell_guid": "ab89adfb-ea3f-41dc-99db-11a9fc0a806d"
            },
            "outputs": [
                {
                    "output_type": "display_data",
                    "data": {
                        "text/html": "(10 rows affected)"
                    },
                    "metadata": {}
                },
                {
                    "output_type": "display_data",
                    "data": {
                        "text/html": "Total execution time: 00:00:00.164"
                    },
                    "metadata": {}
                },
                {
                    "output_type": "execute_result",
                    "metadata": {},
                    "execution_count": 1,
                    "data": {
                        "application/vnd.dataresource+json": {
                            "schema": {
                                "fields": [
                                    {
                                        "name": "NOC"
                                    },
                                    {
                                        "name": "Edition"
                                    },
                                    {
                                        "name": "max_medal_value"
                                    }
                                ]
                            },
                            "data": [
                                {
                                    "0": "CHI",
                                    "1": "1928",
                                    "2": "2"
                                },
                                {
                                    "0": "MGL",
                                    "1": "1976",
                                    "2": "2"
                                },
                                {
                                    "0": "SLO",
                                    "1": "2000",
                                    "2": "1"
                                },
                                {
                                    "0": "KAZ",
                                    "1": "1994",
                                    "2": "1"
                                },
                                {
                                    "0": "KOR",
                                    "1": "1988",
                                    "2": "1"
                                },
                                {
                                    "0": "AFG",
                                    "1": "2008",
                                    "2": "3"
                                },
                                {
                                    "0": "NOR",
                                    "1": "1928",
                                    "2": "1"
                                },
                                {
                                    "0": "JPN",
                                    "1": "2000",
                                    "2": "1"
                                },
                                {
                                    "0": "IND",
                                    "1": "1964",
                                    "2": "1"
                                },
                                {
                                    "0": "JPN",
                                    "1": "1992",
                                    "2": "1"
                                }
                            ]
                        },
                        "text/html": [
                            "<table>",
                            "<tr><th>NOC</th><th>Edition</th><th>max_medal_value</th></tr>",
                            "<tr><td>CHI</td><td>1928</td><td>2</td></tr>",
                            "<tr><td>MGL</td><td>1976</td><td>2</td></tr>",
                            "<tr><td>SLO</td><td>2000</td><td>1</td></tr>",
                            "<tr><td>KAZ</td><td>1994</td><td>1</td></tr>",
                            "<tr><td>KOR</td><td>1988</td><td>1</td></tr>",
                            "<tr><td>AFG</td><td>2008</td><td>3</td></tr>",
                            "<tr><td>NOR</td><td>1928</td><td>1</td></tr>",
                            "<tr><td>JPN</td><td>2000</td><td>1</td></tr>",
                            "<tr><td>IND</td><td>1964</td><td>1</td></tr>",
                            "<tr><td>JPN</td><td>1992</td><td>1</td></tr>",
                            "</table>"
                        ]
                    }
                }
            ],
            "execution_count": 1
        },
        {
            "cell_type": "markdown",
            "source": [
                "Create a stored procedure"
            ],
            "metadata": {
                "azdata_cell_guid": "6de72101-d7a1-4f03-a41e-ef9cf5ac11b9"
            }
        },
        {
            "cell_type": "code",
            "source": [
                "  create PROCEDURE find_max_medal_value \r\n",
                "  AS\r\n",
                "  BEGIN\r\n",
                "  \r\n",
                "  select \r\n",
                "  NOC,\r\n",
                "  Edition,\r\n",
                "  min(MedalValue) as max_medal_value\r\n",
                "  from mydb.dbo.OlympicsData_medalists \r\n",
                "  GROUP BY \r\n",
                "  NOC,\r\n",
                "  Edition\r\n",
                "\r\n",
                "  END;"
            ],
            "metadata": {
                "azdata_cell_guid": "548c7c25-2615-4a90-ab4e-1578fff040ab",
                "tags": []
            },
            "outputs": [
                {
                    "output_type": "error",
                    "ename": "",
                    "evalue": "Msg 2714, Level 16, State 3, Procedure find_max_medal_value, Line 1\r\nThere is already an object named 'find_max_medal_value' in the database.",
                    "traceback": []
                },
                {
                    "output_type": "display_data",
                    "data": {
                        "text/html": "Total execution time: 00:00:00.037"
                    },
                    "metadata": {}
                }
            ],
            "execution_count": 108
        },
        {
            "cell_type": "markdown",
            "source": [
                "Execute stored procedure"
            ],
            "metadata": {
                "azdata_cell_guid": "dd6c334b-811b-4c7d-b144-cc34408428ce"
            }
        },
        {
            "cell_type": "code",
            "source": [
                "EXECUTE find_max_medal_value;"
            ],
            "metadata": {
                "azdata_cell_guid": "5c2d5a30-e069-4d55-8ffe-6aae148c9ff7"
            },
            "outputs": [],
            "execution_count": null
        },
        {
            "cell_type": "markdown",
            "source": [
                "Changing the stored procedure and adding a parameter"
            ],
            "metadata": {
                "azdata_cell_guid": "5a6c32b3-bbb9-478f-86b7-6771202ceb54"
            }
        },
        {
            "cell_type": "code",
            "source": [
                "ALTER PROCEDURE find_max_medal_value(@country AS nvarchar(50))\r\n",
                "\r\n",
                "  AS\r\n",
                "  BEGIN\r\n",
                "  \r\n",
                "  select \r\n",
                "  NOC,\r\n",
                "  Edition,\r\n",
                "  min(MedalValue) as max_medal_value\r\n",
                "\r\n",
                "  from mydb.dbo.OlympicsData_medalists \r\n",
                "  where NOC = @country\r\n",
                "  GROUP BY \r\n",
                "  NOC,\r\n",
                "  Edition\r\n",
                "\r\n",
                "  END;"
            ],
            "metadata": {
                "azdata_cell_guid": "8d53c48e-ebf7-4b7c-becf-dd872ae7cc99"
            },
            "outputs": [
                {
                    "output_type": "display_data",
                    "data": {
                        "text/html": "Commands completed successfully."
                    },
                    "metadata": {}
                },
                {
                    "output_type": "display_data",
                    "data": {
                        "text/html": "Total execution time: 00:00:00.032"
                    },
                    "metadata": {}
                }
            ],
            "execution_count": 110
        },
        {
            "cell_type": "code",
            "source": [
                "exec find_max_medal_value 'EST';"
            ],
            "metadata": {
                "azdata_cell_guid": "a8ae4861-bca4-48f5-9827-46c5754e046b"
            },
            "outputs": [
                {
                    "output_type": "display_data",
                    "data": {
                        "text/html": "(10 rows affected)"
                    },
                    "metadata": {}
                },
                {
                    "output_type": "display_data",
                    "data": {
                        "text/html": "Total execution time: 00:00:00.044"
                    },
                    "metadata": {}
                },
                {
                    "output_type": "execute_result",
                    "execution_count": 111,
                    "data": {
                        "application/vnd.dataresource+json": {
                            "schema": {
                                "fields": [
                                    {
                                        "name": "NOC"
                                    },
                                    {
                                        "name": "Edition"
                                    },
                                    {
                                        "name": "max_medal_value"
                                    }
                                ]
                            },
                            "data": [
                                {
                                    "0": "EST",
                                    "1": "1920",
                                    "2": "1"
                                },
                                {
                                    "0": "EST",
                                    "1": "1924",
                                    "2": "1"
                                },
                                {
                                    "0": "EST",
                                    "1": "1928",
                                    "2": "1"
                                },
                                {
                                    "0": "EST",
                                    "1": "1936",
                                    "2": "1"
                                },
                                {
                                    "0": "EST",
                                    "1": "1992",
                                    "2": "1"
                                },
                                {
                                    "0": "EST",
                                    "1": "2000",
                                    "2": "1"
                                },
                                {
                                    "0": "EST",
                                    "1": "2002",
                                    "2": "1"
                                },
                                {
                                    "0": "EST",
                                    "1": "2004",
                                    "2": "2"
                                },
                                {
                                    "0": "EST",
                                    "1": "2006",
                                    "2": "1"
                                },
                                {
                                    "0": "EST",
                                    "1": "2008",
                                    "2": "1"
                                }
                            ]
                        },
                        "text/html": "<table><tr><th>NOC</th><th>Edition</th><th>max_medal_value</th></tr><tr><td>EST</td><td>1920</td><td>1</td></tr><tr><td>EST</td><td>1924</td><td>1</td></tr><tr><td>EST</td><td>1928</td><td>1</td></tr><tr><td>EST</td><td>1936</td><td>1</td></tr><tr><td>EST</td><td>1992</td><td>1</td></tr><tr><td>EST</td><td>2000</td><td>1</td></tr><tr><td>EST</td><td>2002</td><td>1</td></tr><tr><td>EST</td><td>2004</td><td>2</td></tr><tr><td>EST</td><td>2006</td><td>1</td></tr><tr><td>EST</td><td>2008</td><td>1</td></tr></table>"
                    },
                    "metadata": {}
                }
            ],
            "execution_count": 111
        },
        {
            "cell_type": "markdown",
            "source": [
                "Adding second argument"
            ],
            "metadata": {
                "azdata_cell_guid": "9d8b30bd-b271-4777-b58e-599872ab3335"
            }
        },
        {
            "cell_type": "code",
            "source": [
                "ALTER PROCEDURE find_max_medal_value(\r\n",
                "    @country AS nvarchar(50),\r\n",
                "    @year as int\r\n",
                "    )\r\n",
                "\r\n",
                "  AS\r\n",
                "  BEGIN\r\n",
                "  \r\n",
                "  select \r\n",
                "  NOC,\r\n",
                "  Edition,\r\n",
                "  min(MedalValue) as max_medal_value\r\n",
                "\r\n",
                "  from mydb.dbo.OlympicsData_medalists \r\n",
                "  where \r\n",
                "  NOC = @country\r\n",
                "  and Edition = @year\r\n",
                "  GROUP BY \r\n",
                "  NOC,\r\n",
                "  Edition\r\n",
                "\r\n",
                "  END;"
            ],
            "metadata": {
                "azdata_cell_guid": "fb89864d-ec30-4baa-8f84-bc35ba41d24e"
            },
            "outputs": [
                {
                    "output_type": "display_data",
                    "data": {
                        "text/html": "Commands completed successfully."
                    },
                    "metadata": {}
                },
                {
                    "output_type": "display_data",
                    "data": {
                        "text/html": "Total execution time: 00:00:00.041"
                    },
                    "metadata": {}
                }
            ],
            "execution_count": 112
        },
        {
            "cell_type": "code",
            "source": [
                "EXEC find_max_medal_value \"EST\", 2000;"
            ],
            "metadata": {
                "azdata_cell_guid": "0915dbaf-3b46-4923-9b93-d5cc7297c65f"
            },
            "outputs": [
                {
                    "output_type": "display_data",
                    "data": {
                        "text/html": "(1 row affected)"
                    },
                    "metadata": {}
                },
                {
                    "output_type": "display_data",
                    "data": {
                        "text/html": "Total execution time: 00:00:00.058"
                    },
                    "metadata": {}
                },
                {
                    "output_type": "execute_result",
                    "execution_count": 113,
                    "data": {
                        "application/vnd.dataresource+json": {
                            "schema": {
                                "fields": [
                                    {
                                        "name": "NOC"
                                    },
                                    {
                                        "name": "Edition"
                                    },
                                    {
                                        "name": "max_medal_value"
                                    }
                                ]
                            },
                            "data": [
                                {
                                    "0": "EST",
                                    "1": "2000",
                                    "2": "1"
                                }
                            ]
                        },
                        "text/html": "<table><tr><th>NOC</th><th>Edition</th><th>max_medal_value</th></tr><tr><td>EST</td><td>2000</td><td>1</td></tr></table>"
                    },
                    "metadata": {}
                }
            ],
            "execution_count": 113
        }
    ]
}