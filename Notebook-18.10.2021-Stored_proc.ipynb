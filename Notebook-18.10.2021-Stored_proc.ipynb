{
    "metadata": {
        "kernelspec": {
            "name": "SQL",
            "display_name": "SQL",
            "language": "sql"
        },
        "language_info": {
            "name": "sql",
            "version": ""
        }
    },
    "nbformat_minor": 2,
    "nbformat": 4,
    "cells": [
        {
            "cell_type": "code",
            "source": [
                "select Discipline,\r\n",
                "count( distinct  Event) number_of_disciplies\r\n",
                "from mydb.dbo.OlympicsData_Disciplines d\r\n",
                "join mydb.dbo.OlympicsData_events e\r\n",
                "on d.DisciplineID = e.DisciplineID\r\n",
                "where StudentID = 'Eduard Seregin'\r\n",
                "group by Discipline\r\n",
                "\r\n",
                ""
            ],
            "metadata": {
                "azdata_cell_guid": "9898676d-b8d4-434c-b1c1-e1987d776d8b",
                "tags": []
            },
            "outputs": [
                {
                    "output_type": "display_data",
                    "data": {
                        "text/html": "(2 rows affected)"
                    },
                    "metadata": {}
                },
                {
                    "output_type": "display_data",
                    "data": {
                        "text/html": "Total execution time: 00:00:00.046"
                    },
                    "metadata": {}
                },
                {
                    "output_type": "execute_result",
                    "metadata": {},
                    "execution_count": 17,
                    "data": {
                        "application/vnd.dataresource+json": {
                            "schema": {
                                "fields": [
                                    {
                                        "name": "Discipline"
                                    },
                                    {
                                        "name": "number_of_disciplies"
                                    }
                                ]
                            },
                            "data": [
                                {
                                    "0": "Short Track Skating",
                                    "1": "5"
                                },
                                {
                                    "0": "Skeleton",
                                    "1": "1"
                                }
                            ]
                        },
                        "text/html": [
                            "<table>",
                            "<tr><th>Discipline</th><th>number_of_disciplies</th></tr>",
                            "<tr><td>Short Track Skating</td><td>5</td></tr>",
                            "<tr><td>Skeleton</td><td>1</td></tr>",
                            "</table>"
                        ]
                    }
                }
            ],
            "execution_count": 17
        },
        {
            "cell_type": "code",
            "source": [
                "DROP TABLE test4.dbo.PurchaseOrderDetail  \r\n",
                ""
            ],
            "metadata": {
                "azdata_cell_guid": "c408eb89-0f07-45d0-af0d-3aeb54627215",
                "tags": []
            },
            "outputs": [
                {
                    "output_type": "display_data",
                    "data": {
                        "text/html": "Commands completed successfully."
                    },
                    "metadata": {}
                },
                {
                    "output_type": "display_data",
                    "data": {
                        "text/html": "Total execution time: 00:00:00.029"
                    },
                    "metadata": {}
                }
            ],
            "execution_count": 25
        },
        {
            "cell_type": "code",
            "source": [
                "drop database test4"
            ],
            "metadata": {
                "azdata_cell_guid": "c4d60532-b755-4aab-83ae-59397f65bfac"
            },
            "outputs": [
                {
                    "output_type": "display_data",
                    "data": {
                        "text/html": "Commands completed successfully."
                    },
                    "metadata": {}
                },
                {
                    "output_type": "display_data",
                    "data": {
                        "text/html": "Total execution time: 00:00:00.188"
                    },
                    "metadata": {}
                }
            ],
            "execution_count": 26
        },
        {
            "cell_type": "code",
            "source": [
                "create table mydb.dbo.OlympicsData_number_of_disciplies (\r\n",
                "\r\n",
                "\r\n",
                ")"
            ],
            "metadata": {
                "azdata_cell_guid": "f0bba53c-8459-4433-898f-c9496b457080"
            },
            "outputs": [],
            "execution_count": null
        },
        {
            "cell_type": "markdown",
            "source": [
                "import data from SELECT and insert it into a new table"
            ],
            "metadata": {
                "azdata_cell_guid": "1642dde4-aa82-4fe8-89fb-8a4d46f99f36"
            }
        },
        {
            "cell_type": "code",
            "source": [
                "select Discipline,\r\n",
                "count( distinct  Event) number_of_disciplies\r\n",
                "\r\n",
                "into mydb.dbo.OlympicsData_number_of_disciplies2\r\n",
                "\r\n",
                "from mydb.dbo.OlympicsData_Disciplines d\r\n",
                "join mydb.dbo.OlympicsData_events e\r\n",
                "on d.DisciplineID = e.DisciplineID\r\n",
                "where StudentID = 'Eduard Seregin'\r\n",
                "group by Discipline\r\n",
                "\r\n",
                ""
            ],
            "metadata": {
                "azdata_cell_guid": "c1449313-f5b1-47f2-a667-8f9c87e3fe87"
            },
            "outputs": [
                {
                    "output_type": "display_data",
                    "data": {
                        "text/html": "(2 rows affected)"
                    },
                    "metadata": {}
                },
                {
                    "output_type": "display_data",
                    "data": {
                        "text/html": "Total execution time: 00:00:00.036"
                    },
                    "metadata": {}
                }
            ],
            "execution_count": 46
        },
        {
            "cell_type": "code",
            "source": [
                "select * from mydb.dbo.OlympicsData_number_of_disciplies "
            ],
            "metadata": {
                "azdata_cell_guid": "d401c79b-bad4-4d3a-a020-352aacd6ac19"
            },
            "outputs": [
                {
                    "output_type": "display_data",
                    "data": {
                        "text/html": "(0 rows affected)"
                    },
                    "metadata": {}
                },
                {
                    "output_type": "display_data",
                    "data": {
                        "text/html": "Total execution time: 00:00:00.007"
                    },
                    "metadata": {}
                },
                {
                    "output_type": "execute_result",
                    "metadata": {},
                    "execution_count": 48,
                    "data": {
                        "application/vnd.dataresource+json": {
                            "schema": {
                                "fields": [
                                    {
                                        "name": "Discipline"
                                    },
                                    {
                                        "name": "number_of_disciplies"
                                    }
                                ]
                            },
                            "data": []
                        },
                        "text/html": [
                            "<table>",
                            "<tr><th>Discipline</th><th>number_of_disciplies</th></tr>",
                            "</table>"
                        ]
                    }
                }
            ],
            "execution_count": 48
        },
        {
            "cell_type": "code",
            "source": [
                "TRUNCATE table mydb.dbo.OlympicsData_number_of_disciplies "
            ],
            "metadata": {
                "azdata_cell_guid": "a8466c09-7d07-4463-a32a-dc2fadd1928d"
            },
            "outputs": [
                {
                    "output_type": "display_data",
                    "data": {
                        "text/html": "Commands completed successfully."
                    },
                    "metadata": {}
                },
                {
                    "output_type": "display_data",
                    "data": {
                        "text/html": "Total execution time: 00:00:00.031"
                    },
                    "metadata": {}
                }
            ],
            "execution_count": 47
        },
        {
            "cell_type": "code",
            "source": [
                "insert into mydb.dbo.OlympicsData_number_of_disciplies  \r\n",
                "VALUES ('Skating', 4)"
            ],
            "metadata": {
                "azdata_cell_guid": "9c4a684b-f509-46f3-bbde-800f0e12102e",
                "tags": []
            },
            "outputs": [
                {
                    "output_type": "display_data",
                    "data": {
                        "text/html": "(1 row affected)"
                    },
                    "metadata": {}
                },
                {
                    "output_type": "display_data",
                    "data": {
                        "text/html": "Total execution time: 00:00:00.034"
                    },
                    "metadata": {}
                }
            ],
            "execution_count": 44
        },
        {
            "cell_type": "code",
            "source": [
                "select distinct\r\n",
                "StudentID\r\n",
                "\r\n",
                "from mydb.dbo.OlympicsData_Disciplines d\r\n",
                "join mydb.dbo.OlympicsData_events e\r\n",
                "on d.DisciplineID = e.DisciplineID\r\n",
                "where StudentID  LIKE '%ed%'\r\n",
                "\r\n",
                ""
            ],
            "metadata": {
                "azdata_cell_guid": "1b3deec4-4249-4ec1-9f79-b8211d3bbc09"
            },
            "outputs": [
                {
                    "output_type": "display_data",
                    "data": {
                        "text/html": "(3 rows affected)"
                    },
                    "metadata": {}
                },
                {
                    "output_type": "display_data",
                    "data": {
                        "text/html": "Total execution time: 00:00:00.053"
                    },
                    "metadata": {}
                },
                {
                    "output_type": "execute_result",
                    "metadata": {},
                    "execution_count": 86,
                    "data": {
                        "application/vnd.dataresource+json": {
                            "schema": {
                                "fields": [
                                    {
                                        "name": "StudentID"
                                    }
                                ]
                            },
                            "data": [
                                {
                                    "0": "Adedamola Ayodeji Adegoke"
                                },
                                {
                                    "0": "Ahmed Al Madani"
                                },
                                {
                                    "0": "Eduard Seregin"
                                }
                            ]
                        },
                        "text/html": [
                            "<table>",
                            "<tr><th>StudentID</th></tr>",
                            "<tr><td>Adedamola Ayodeji Adegoke</td></tr>",
                            "<tr><td>Ahmed Al Madani</td></tr>",
                            "<tr><td>Eduard Seregin</td></tr>",
                            "</table>"
                        ]
                    }
                }
            ],
            "execution_count": 86
        },
        {
            "cell_type": "markdown",
            "source": [
                "Exercise 1 - SUBQUERY\n",
                "\n",
                "quering the data from a sub-query"
            ],
            "metadata": {
                "azdata_cell_guid": "e1db0190-9572-4d46-9060-4921b8ad8e1d"
            }
        },
        {
            "cell_type": "code",
            "source": [
                "select * from \r\n",
                "(\r\n",
                "    select sum(number_of_events) new_sum \r\n",
                "    from (\r\n",
                "        select Discipline,  \r\n",
                "        count(Event) number_of_events\r\n",
                "        from mydb.dbo.OlympicsData_Disciplines d\r\n",
                "        join mydb.dbo.OlympicsData_events e\r\n",
                "        on d.DisciplineID = e.DisciplineID\r\n",
                "        where StudentID = 'Eduard Seregin'\r\n",
                "        group by Discipline\r\n",
                "    )a\r\n",
                "\r\n",
                ")b"
            ],
            "metadata": {
                "azdata_cell_guid": "eb4fe0f8-7adc-4c0d-a93b-4c303d1b6a0b",
                "tags": []
            },
            "outputs": [
                {
                    "output_type": "display_data",
                    "data": {
                        "text/html": "(1 row affected)"
                    },
                    "metadata": {}
                },
                {
                    "output_type": "display_data",
                    "data": {
                        "text/html": "Total execution time: 00:00:00.062"
                    },
                    "metadata": {}
                },
                {
                    "output_type": "execute_result",
                    "metadata": {},
                    "execution_count": 76,
                    "data": {
                        "application/vnd.dataresource+json": {
                            "schema": {
                                "fields": [
                                    {
                                        "name": "new_sum"
                                    }
                                ]
                            },
                            "data": [
                                {
                                    "0": "6"
                                }
                            ]
                        },
                        "text/html": [
                            "<table>",
                            "<tr><th>new_sum</th></tr>",
                            "<tr><td>6</td></tr>",
                            "</table>"
                        ]
                    }
                }
            ],
            "execution_count": 76
        },
        {
            "cell_type": "markdown",
            "source": [
                "Exercise 2 - WITH statement +UNION ALL \n",
                "\n",
                "https://www.w3schools.com/sql/sql\\_union.asp"
            ],
            "metadata": {
                "azdata_cell_guid": "592ba8d1-afdf-41f7-bed5-e0a429f696c5"
            }
        },
        {
            "cell_type": "code",
            "source": [
                "with \r\n",
                "\r\n",
                "partEduard as (\r\n",
                "\r\n",
                "    select \r\n",
                "    StudentID,\r\n",
                "    d.Discipline,\r\n",
                "    e.Event\r\n",
                "    from mydb.dbo.OlympicsData_Disciplines d\r\n",
                "    join mydb.dbo.OlympicsData_events e\r\n",
                "    on d.DisciplineID = e.DisciplineID\r\n",
                "    where StudentID = 'Eduard Seregin'\r\n",
                "    \r\n",
                ")\r\n",
                ", part2_Adedamola as (  -->output\r\n",
                "    select \r\n",
                "    StudentID,\r\n",
                "    d.Discipline,\r\n",
                "    e.Event\r\n",
                "    from mydb.dbo.OlympicsData_Disciplines d\r\n",
                "    join mydb.dbo.OlympicsData_events e\r\n",
                "    on d.DisciplineID = e.DisciplineID\r\n",
                "    where StudentID = 'Adedamola Ayodeji Adegoke'\r\n",
                ")\r\n",
                "\r\n",
                ", final_result as (\r\n",
                "select * from  partEduard\r\n",
                "UNION ALL\r\n",
                "select * from part2_Adedamola\r\n",
                ")\r\n",
                "\r\n",
                "SELECT\r\n",
                "StudentID,\r\n",
                "count(event) total_num_of_events\r\n",
                "from final_result\r\n",
                "group by StudentID"
            ],
            "metadata": {
                "azdata_cell_guid": "a9b931f0-ab95-4abf-a97f-bb9e231b6482"
            },
            "outputs": [
                {
                    "output_type": "display_data",
                    "data": {
                        "text/html": "(2 rows affected)"
                    },
                    "metadata": {}
                },
                {
                    "output_type": "display_data",
                    "data": {
                        "text/html": "Total execution time: 00:00:00.034"
                    },
                    "metadata": {}
                },
                {
                    "output_type": "execute_result",
                    "metadata": {},
                    "execution_count": 92,
                    "data": {
                        "application/vnd.dataresource+json": {
                            "schema": {
                                "fields": [
                                    {
                                        "name": "StudentID"
                                    },
                                    {
                                        "name": "total_num_of_events"
                                    }
                                ]
                            },
                            "data": [
                                {
                                    "0": "Adedamola Ayodeji Adegoke",
                                    "1": "33"
                                },
                                {
                                    "0": "Eduard Seregin",
                                    "1": "6"
                                }
                            ]
                        },
                        "text/html": [
                            "<table>",
                            "<tr><th>StudentID</th><th>total_num_of_events</th></tr>",
                            "<tr><td>Adedamola Ayodeji Adegoke</td><td>33</td></tr>",
                            "<tr><td>Eduard Seregin</td><td>6</td></tr>",
                            "</table>"
                        ]
                    }
                }
            ],
            "execution_count": 92
        },
        {
            "cell_type": "markdown",
            "source": [
                "# Stored procedures"
            ],
            "metadata": {
                "azdata_cell_guid": "9fd4e417-fbe9-49bb-bda3-5667f8429893"
            }
        },
        {
            "cell_type": "markdown",
            "source": [
                "Home exercise 3 - create and execute stored procedure\n",
                "\n",
                "based on https://www.sqlservertutorial.net/sql-server-stored-procedures/sql-server-stored-procedure-parameters/"
            ],
            "metadata": {
                "azdata_cell_guid": "b281388a-9ea1-447d-bb01-e93f32dd1130"
            }
        },
        {
            "cell_type": "code",
            "source": [
                "select \r\n",
                "  NOC,\r\n",
                "  Edition,\r\n",
                "  min(MedalValue) as max_medal_value\r\n",
                "  \r\n",
                "  from mydb.dbo.OlympicsData_medalists \r\n",
                "  GROUP BY \r\n",
                "  NOC,\r\n",
                "  Edition"
            ],
            "metadata": {
                "azdata_cell_guid": "ab89adfb-ea3f-41dc-99db-11a9fc0a806d"
            },
            "outputs": [
                {
                    "output_type": "display_data",
                    "data": {
                        "text/html": "(1187 rows affected)"
                    },
                    "metadata": {}
                },
                {
                    "output_type": "display_data",
                    "data": {
                        "text/html": "Total execution time: 00:00:00.121"
                    },
                    "metadata": {}
                },
                {
                    "output_type": "execute_result",
                    "metadata": {},
                    "execution_count": 97,
                    "data": {
                        "application/vnd.dataresource+json": {
                            "schema": {
                                "fields": [
                                    {
                                        "name": "NOC"
                                    },
                                    {
                                        "name": "Edition"
                                    },
                                    {
                                        "name": "max_medal_value"
                                    }
                                ]
                            },
                            "data": [
                                {
                                    "0": "CHI",
                                    "1": "1928",
                                    "2": "2"
                                },
                                {
                                    "0": "MGL",
                                    "1": "1976",
                                    "2": "2"
                                },
                                {
                                    "0": "SLO",
                                    "1": "2000",
                                    "2": "1"
                                },
                                {
                                    "0": "KAZ",
                                    "1": "1994",
                                    "2": "1"
                                },
                                {
                                    "0": "KOR",
                                    "1": "1988",
                                    "2": "1"
                                },
                                {
                                    "0": "AFG",
                                    "1": "2008",
                                    "2": "3"
                                },
                                {
                                    "0": "NOR",
                                    "1": "1928",
                                    "2": "1"
                                },
                                {
                                    "0": "JPN",
                                    "1": "2000",
                                    "2": "1"
                                },
                                {
                                    "0": "IND",
                                    "1": "1964",
                                    "2": "1"
                                },
                                {
                                    "0": "JPN",
                                    "1": "1992",
                                    "2": "1"
                                },
                                {
                                    "0": "SUI",
                                    "1": "1932",
                                    "2": "2"
                                },
                                {
                                    "0": "POL",
                                    "1": "1948",
                                    "2": "3"
                                },
                                {
                                    "0": "ITA",
                                    "1": "1952",
                                    "2": "1"
                                },
                                {
                                    "0": "YUG",
                                    "1": "1976",
                                    "2": "1"
                                },
                                {
                                    "0": "IND",
                                    "1": "1972",
                                    "2": "3"
                                },
                                {
                                    "0": "TRI",
                                    "1": "1976",
                                    "2": "1"
                                },
                                {
                                    "0": "PAK",
                                    "1": "1960",
                                    "2": "1"
                                },
                                {
                                    "0": "THA",
                                    "1": "2004",
                                    "2": "1"
                                },
                                {
                                    "0": "SIN",
                                    "1": "2008",
                                    "2": "2"
                                },
                                {
                                    "0": "POR",
                                    "1": "2000",
                                    "2": "3"
                                },
                                {
                                    "0": "KEN",
                                    "1": "2000",
                                    "2": "1"
                                },
                                {
                                    "0": "FIN",
                                    "1": "1932",
                                    "2": "1"
                                },
                                {
                                    "0": "FRA",
                                    "1": "1998",
                                    "2": "1"
                                },
                                {
                                    "0": "DEN",
                                    "1": "2008",
                                    "2": "1"
                                },
                                {
                                    "0": "DEN",
                                    "1": "1908",
                                    "2": "2"
                                },
                                {
                                    "0": "BRA",
                                    "1": "1996",
                                    "2": "1"
                                },
                                {
                                    "0": "NED",
                                    "1": "1952",
                                    "2": "2"
                                },
                                {
                                    "0": "ARG",
                                    "1": "1952",
                                    "2": "1"
                                },
                                {
                                    "0": "CAN",
                                    "1": "2014",
                                    "2": "1"
                                },
                                {
                                    "0": "NGR",
                                    "1": "1972",
                                    "2": "3"
                                },
                                {
                                    "0": "GRE",
                                    "1": "2004",
                                    "2": "1"
                                },
                                {
                                    "0": "PHI",
                                    "1": "1964",
                                    "2": "2"
                                },
                                {
                                    "0": "FRG",
                                    "1": "1980",
                                    "2": "2"
                                },
                                {
                                    "0": "UGA",
                                    "1": "1980",
                                    "2": "2"
                                },
                                {
                                    "0": "TCH",
                                    "1": "1960",
                                    "2": "1"
                                },
                                {
                                    "0": "COL",
                                    "1": "2008",
                                    "2": "2"
                                },
                                {
                                    "0": "AUT",
                                    "1": "1932",
                                    "2": "1"
                                },
                                {
                                    "0": "TUN",
                                    "1": "1964",
                                    "2": "2"
                                },
                                {
                                    "0": "GRE",
                                    "1": "1904",
                                    "2": "1"
                                },
                                {
                                    "0": "ITA",
                                    "1": "1920",
                                    "2": "1"
                                },
                                {
                                    "0": "ETH",
                                    "1": "1992",
                                    "2": "1"
                                },
                                {
                                    "0": "FRG",
                                    "1": "1972",
                                    "2": "1"
                                },
                                {
                                    "0": "CAN",
                                    "1": "2008",
                                    "2": "1"
                                },
                                {
                                    "0": "UKR",
                                    "1": "2006",
                                    "2": "3"
                                },
                                {
                                    "0": "RSA",
                                    "1": "2008",
                                    "2": "2"
                                },
                                {
                                    "0": "AUT",
                                    "1": "1992",
                                    "2": "1"
                                },
                                {
                                    "0": "ESP",
                                    "1": "2004",
                                    "2": "1"
                                },
                                {
                                    "0": "AUS",
                                    "1": "1936",
                                    "2": "3"
                                },
                                {
                                    "0": "MEX",
                                    "1": "1936",
                                    "2": "3"
                                },
                                {
                                    "0": "TCH",
                                    "1": "1968",
                                    "2": "1"
                                },
                                {
                                    "0": "GBR",
                                    "1": "1996",
                                    "2": "1"
                                },
                                {
                                    "0": "TPE",
                                    "1": "1984",
                                    "2": "3"
                                },
                                {
                                    "0": "IRI",
                                    "1": "1960",
                                    "2": "2"
                                },
                                {
                                    "0": "CMR",
                                    "1": "2004",
                                    "2": "1"
                                },
                                {
                                    "0": "ROU",
                                    "1": "1992",
                                    "2": "1"
                                },
                                {
                                    "0": "MEX",
                                    "1": "1976",
                                    "2": "1"
                                },
                                {
                                    "0": "ITA",
                                    "1": "2006",
                                    "2": "1"
                                },
                                {
                                    "0": "ITA",
                                    "1": "1912",
                                    "2": "1"
                                },
                                {
                                    "0": "EUA",
                                    "1": "1956",
                                    "2": "1"
                                },
                                {
                                    "0": "FIN",
                                    "1": "1972",
                                    "2": "1"
                                },
                                {
                                    "0": "JAM",
                                    "1": "2008",
                                    "2": "1"
                                },
                                {
                                    "0": "SWE",
                                    "1": "1996",
                                    "2": "1"
                                },
                                {
                                    "0": "YUG",
                                    "1": "1936",
                                    "2": "2"
                                },
                                {
                                    "0": "ESP",
                                    "1": "1972",
                                    "2": "1"
                                },
                                {
                                    "0": "NED",
                                    "1": "1912",
                                    "2": "3"
                                },
                                {
                                    "0": "SUI",
                                    "1": "1992",
                                    "2": "1"
                                },
                                {
                                    "0": "USA",
                                    "1": "1998",
                                    "2": "1"
                                },
                                {
                                    "0": "LAT",
                                    "1": "2008",
                                    "2": "1"
                                },
                                {
                                    "0": "POL",
                                    "1": "2000",
                                    "2": "1"
                                },
                                {
                                    "0": "NZL",
                                    "1": "1936",
                                    "2": "1"
                                },
                                {
                                    "0": "POL",
                                    "1": "2008",
                                    "2": "1"
                                },
                                {
                                    "0": "TOG",
                                    "1": "2008",
                                    "2": "3"
                                },
                                {
                                    "0": "BEL",
                                    "1": "1980",
                                    "2": "1"
                                },
                                {
                                    "0": "NED",
                                    "1": "1998",
                                    "2": "1"
                                },
                                {
                                    "0": "DEN",
                                    "1": "1948",
                                    "2": "1"
                                },
                                {
                                    "0": "TUR",
                                    "1": "1984",
                                    "2": "3"
                                },
                                {
                                    "0": "HKG",
                                    "1": "2004",
                                    "2": "2"
                                },
                                {
                                    "0": "CAN",
                                    "1": "1968",
                                    "2": "1"
                                },
                                {
                                    "0": "USA",
                                    "1": "1912",
                                    "2": "1"
                                },
                                {
                                    "0": "RSA",
                                    "1": "1936",
                                    "2": "2"
                                },
                                {
                                    "0": "TCH",
                                    "1": "1988",
                                    "2": "1"
                                },
                                {
                                    "0": "ITA",
                                    "1": "1992",
                                    "2": "1"
                                },
                                {
                                    "0": "ETH",
                                    "1": "1972",
                                    "2": "3"
                                },
                                {
                                    "0": "GBR",
                                    "1": "1976",
                                    "2": "1"
                                },
                                {
                                    "0": "SLO",
                                    "1": "1994",
                                    "2": "3"
                                },
                                {
                                    "0": "FRG",
                                    "1": "1952",
                                    "2": "1"
                                },
                                {
                                    "0": "TUR",
                                    "1": "1956",
                                    "2": "1"
                                },
                                {
                                    "0": "NOR",
                                    "1": "1968",
                                    "2": "1"
                                },
                                {
                                    "0": "BUL",
                                    "1": "1976",
                                    "2": "1"
                                },
                                {
                                    "0": "TCH",
                                    "1": "1980",
                                    "2": "1"
                                },
                                {
                                    "0": "POL",
                                    "1": "1988",
                                    "2": "1"
                                },
                                {
                                    "0": "CUB",
                                    "1": "2000",
                                    "2": "1"
                                },
                                {
                                    "0": "FRA",
                                    "1": "1984",
                                    "2": "1"
                                },
                                {
                                    "0": "INA",
                                    "1": "2004",
                                    "2": "1"
                                },
                                {
                                    "0": "EST",
                                    "1": "2004",
                                    "2": "2"
                                },
                                {
                                    "0": "ERI",
                                    "1": "2004",
                                    "2": "3"
                                },
                                {
                                    "0": "KAZ",
                                    "1": "2008",
                                    "2": "1"
                                },
                                {
                                    "0": "CAN",
                                    "1": "1928",
                                    "2": "1"
                                },
                                {
                                    "0": "BRA",
                                    "1": "1976",
                                    "2": "3"
                                },
                                {
                                    "0": "RSA",
                                    "1": "1928",
                                    "2": "1"
                                },
                                {
                                    "0": "TRI",
                                    "1": "1996",
                                    "2": "3"
                                },
                                {
                                    "0": "BEL",
                                    "1": "1920",
                                    "2": "1"
                                },
                                {
                                    "0": "HUN",
                                    "1": "1980",
                                    "2": "1"
                                },
                                {
                                    "0": "DEN",
                                    "1": "1988",
                                    "2": "1"
                                },
                                {
                                    "0": "INA",
                                    "1": "1996",
                                    "2": "1"
                                },
                                {
                                    "0": "NZL",
                                    "1": "1976",
                                    "2": "1"
                                },
                                {
                                    "0": "SWE",
                                    "1": "1956",
                                    "2": "1"
                                },
                                {
                                    "0": "MEX",
                                    "1": "1996",
                                    "2": "3"
                                },
                                {
                                    "0": "GER",
                                    "1": "1998",
                                    "2": "1"
                                },
                                {
                                    "0": "MRI",
                                    "1": "2008",
                                    "2": "3"
                                },
                                {
                                    "0": "FRA",
                                    "1": "1912",
                                    "2": "1"
                                },
                                {
                                    "0": "USA",
                                    "1": "1984",
                                    "2": "1"
                                },
                                {
                                    "0": "ARG",
                                    "1": "1992",
                                    "2": "3"
                                },
                                {
                                    "0": "SUI",
                                    "1": "2006",
                                    "2": "1"
                                },
                                {
                                    "0": "PAK",
                                    "1": "1992",
                                    "2": "3"
                                },
                                {
                                    "0": "AUT",
                                    "1": "1998",
                                    "2": "1"
                                },
                                {
                                    "0": "JPN",
                                    "1": "1972",
                                    "2": "1"
                                },
                                {
                                    "0": "NOR",
                                    "1": "2000",
                                    "2": "1"
                                },
                                {
                                    "0": "GER",
                                    "1": "1912",
                                    "2": "1"
                                },
                                {
                                    "0": "KOR",
                                    "1": "1968",
                                    "2": "2"
                                },
                                {
                                    "0": "JPN",
                                    "1": "1980",
                                    "2": "2"
                                },
                                {
                                    "0": "URS",
                                    "1": "1984",
                                    "2": "1"
                                },
                                {
                                    "0": "NED",
                                    "1": "1964",
                                    "2": "1"
                                },
                                {
                                    "0": "JAM",
                                    "1": "1968",
                                    "2": "2"
                                },
                                {
                                    "0": "KSA",
                                    "1": "2000",
                                    "2": "2"
                                },
                                {
                                    "0": "POR",
                                    "1": "1948",
                                    "2": "2"
                                },
                                {
                                    "0": "PRK",
                                    "1": "1992",
                                    "2": "1"
                                },
                                {
                                    "0": "NED",
                                    "1": "2012",
                                    "2": "2"
                                },
                                {
                                    "0": "SUI",
                                    "1": "1920",
                                    "2": "1"
                                },
                                {
                                    "0": "JPN",
                                    "1": "1932",
                                    "2": "1"
                                },
                                {
                                    "0": "ISL",
                                    "1": "1956",
                                    "2": "2"
                                },
                                {
                                    "0": "NED",
                                    "1": "1972",
                                    "2": "1"
                                },
                                {
                                    "0": "COL",
                                    "1": "1988",
                                    "2": "3"
                                },
                                {
                                    "0": "EST",
                                    "1": "1924",
                                    "2": "1"
                                },
                                {
                                    "0": "GBR",
                                    "1": "1936",
                                    "2": "1"
                                },
                                {
                                    "0": "AUS",
                                    "1": "1976",
                                    "2": "2"
                                },
                                {
                                    "0": "AUT",
                                    "1": "2006",
                                    "2": "1"
                                },
                                {
                                    "0": "NOR",
                                    "1": "2008",
                                    "2": "1"
                                },
                                {
                                    "0": "KOR",
                                    "1": "1976",
                                    "2": "1"
                                },
                                {
                                    "0": "GUY",
                                    "1": "1980",
                                    "2": "3"
                                },
                                {
                                    "0": "AZE",
                                    "1": "1996",
                                    "2": "2"
                                },
                                {
                                    "0": "NED",
                                    "1": "2004",
                                    "2": "1"
                                },
                                {
                                    "0": "IND",
                                    "1": "1952",
                                    "2": "1"
                                },
                                {
                                    "0": "SWE",
                                    "1": "2002",
                                    "2": "2"
                                },
                                {
                                    "0": "GBR",
                                    "1": "1904",
                                    "2": "1"
                                },
                                {
                                    "0": "GHA",
                                    "1": "1972",
                                    "2": "3"
                                },
                                {
                                    "0": "VEN",
                                    "1": "1984",
                                    "2": "3"
                                },
                                {
                                    "0": "URS",
                                    "1": "1952",
                                    "2": "1"
                                },
                                {
                                    "0": "MEX",
                                    "1": "1956",
                                    "2": "1"
                                },
                                {
                                    "0": "GHA",
                                    "1": "1992",
                                    "2": "3"
                                },
                                {
                                    "0": "ESP",
                                    "1": "1984",
                                    "2": "1"
                                },
                                {
                                    "0": "BAH",
                                    "1": "2008",
                                    "2": "2"
                                },
                                {
                                    "0": "TPE",
                                    "1": "2004",
                                    "2": "1"
                                },
                                {
                                    "0": "ARG",
                                    "1": "1972",
                                    "2": "2"
                                },
                                {
                                    "0": "CMR",
                                    "1": "1984",
                                    "2": "3"
                                },
                                {
                                    "0": "TUR",
                                    "1": "1996",
                                    "2": "1"
                                },
                                {
                                    "0": "GBR",
                                    "1": "1924",
                                    "2": "1"
                                },
                                {
                                    "0": "EGY",
                                    "1": "1936",
                                    "2": "1"
                                },
                                {
                                    "0": "URS",
                                    "1": "1972",
                                    "2": "1"
                                },
                                {
                                    "0": "CZE",
                                    "1": "1996",
                                    "2": "1"
                                },
                                {
                                    "0": "TUR",
                                    "1": "2004",
                                    "2": "1"
                                },
                                {
                                    "0": "DEN",
                                    "1": "1928",
                                    "2": "1"
                                },
                                {
                                    "0": "CAN",
                                    "1": "1988",
                                    "2": "1"
                                },
                                {
                                    "0": "CRO",
                                    "1": "1992",
                                    "2": "2"
                                },
                                {
                                    "0": "ESP",
                                    "1": "1992",
                                    "2": "1"
                                },
                                {
                                    "0": "USA",
                                    "1": "2010",
                                    "2": "2"
                                },
                                {
                                    "0": "ANZ",
                                    "1": "1908",
                                    "2": "1"
                                },
                                {
                                    "0": "URU",
                                    "1": "1956",
                                    "2": "3"
                                },
                                {
                                    "0": "USA",
                                    "1": "1964",
                                    "2": "1"
                                },
                                {
                                    "0": "HUN",
                                    "1": "2000",
                                    "2": "1"
                                },
                                {
                                    "0": "AUT",
                                    "1": "1912",
                                    "2": "2"
                                },
                                {
                                    "0": "ITA",
                                    "1": "1932",
                                    "2": "1"
                                },
                                {
                                    "0": "FRA",
                                    "1": "1924",
                                    "2": "1"
                                },
                                {
                                    "0": "UKR",
                                    "1": "1994",
                                    "2": "1"
                                },
                                {
                                    "0": "GEO",
                                    "1": "2008",
                                    "2": "1"
                                },
                                {
                                    "0": "NED",
                                    "1": "1932",
                                    "2": "1"
                                },
                                {
                                    "0": "TCH",
                                    "1": "1948",
                                    "2": "1"
                                },
                                {
                                    "0": "MAR",
                                    "1": "1960",
                                    "2": "2"
                                },
                                {
                                    "0": "FIN",
                                    "1": "1952",
                                    "2": "1"
                                },
                                {
                                    "0": "AUS",
                                    "1": "1956",
                                    "2": "1"
                                },
                                {
                                    "0": "KOR",
                                    "1": "2008",
                                    "2": "1"
                                },
                                {
                                    "0": "GER",
                                    "1": "1904",
                                    "2": "1"
                                },
                                {
                                    "0": "JPN",
                                    "1": "1920",
                                    "2": "2"
                                },
                                {
                                    "0": "SUI",
                                    "1": "1952",
                                    "2": "1"
                                },
                                {
                                    "0": "YUG",
                                    "1": "1996",
                                    "2": "1"
                                },
                                {
                                    "0": "SUI",
                                    "1": "1960",
                                    "2": "1"
                                },
                                {
                                    "0": "NGR",
                                    "1": "1992",
                                    "2": "2"
                                },
                                {
                                    "0": "NOR",
                                    "1": "1994",
                                    "2": "1"
                                },
                                {
                                    "0": "TGA",
                                    "1": "1996",
                                    "2": "2"
                                },
                                {
                                    "0": "CHI",
                                    "1": "2000",
                                    "2": "3"
                                },
                                {
                                    "0": "GER",
                                    "1": "2004",
                                    "2": "1"
                                },
                                {
                                    "0": "RSA",
                                    "1": "1956",
                                    "2": "3"
                                },
                                {
                                    "0": "ISR",
                                    "1": "2008",
                                    "2": "3"
                                },
                                {
                                    "0": "NOR",
                                    "1": "1908",
                                    "2": "1"
                                },
                                {
                                    "0": "AUT",
                                    "1": "1952",
                                    "2": "1"
                                },
                                {
                                    "0": "ESP",
                                    "1": "1952",
                                    "2": "2"
                                },
                                {
                                    "0": "NZL",
                                    "1": "1956",
                                    "2": "1"
                                },
                                {
                                    "0": "UZB",
                                    "1": "2004",
                                    "2": "1"
                                },
                                {
                                    "0": "THA",
                                    "1": "1984",
                                    "2": "2"
                                },
                                {
                                    "0": "SWE",
                                    "1": "1976",
                                    "2": "1"
                                },
                                {
                                    "0": "TUR",
                                    "1": "1964",
                                    "2": "1"
                                },
                                {
                                    "0": "BLR",
                                    "1": "1998",
                                    "2": "3"
                                },
                                {
                                    "0": "HUN",
                                    "1": "1900",
                                    "2": "1"
                                },
                                {
                                    "0": "GEO",
                                    "1": "2000",
                                    "2": "3"
                                },
                                {
                                    "0": "CAN",
                                    "1": "1948",
                                    "2": "1"
                                },
                                {
                                    "0": "ROU",
                                    "1": "1972",
                                    "2": "1"
                                },
                                {
                                    "0": "CRO",
                                    "1": "2000",
                                    "2": "1"
                                },
                                {
                                    "0": "ARG",
                                    "1": "1932",
                                    "2": "1"
                                },
                                {
                                    "0": "ALG",
                                    "1": "2008",
                                    "2": "2"
                                },
                                {
                                    "0": "ROU",
                                    "1": "1952",
                                    "2": "1"
                                },
                                {
                                    "0": "BEL",
                                    "1": "1960",
                                    "2": "2"
                                },
                                {
                                    "0": "BRA",
                                    "1": "1956",
                                    "2": "1"
                                },
                                {
                                    "0": "USA",
                                    "1": "1904",
                                    "2": "1"
                                },
                                {
                                    "0": "CHN",
                                    "1": "2000",
                                    "2": "1"
                                },
                                {
                                    "0": "BUL",
                                    "1": "1996",
                                    "2": "1"
                                },
                                {
                                    "0": "SYR",
                                    "1": "1996",
                                    "2": "1"
                                },
                                {
                                    "0": "KGZ",
                                    "1": "2008",
                                    "2": "2"
                                },
                                {
                                    "0": "YUG",
                                    "1": "1956",
                                    "2": "2"
                                },
                                {
                                    "0": "RUS",
                                    "1": "1998",
                                    "2": "1"
                                },
                                {
                                    "0": "MGL",
                                    "1": "1996",
                                    "2": "3"
                                },
                                {
                                    "0": "HUN",
                                    "1": "1960",
                                    "2": "1"
                                },
                                {
                                    "0": "DEN",
                                    "1": "1968",
                                    "2": "1"
                                },
                                {
                                    "0": "AUT",
                                    "1": "1972",
                                    "2": "1"
                                },
                                {
                                    "0": "IRL",
                                    "1": "1928",
                                    "2": "1"
                                },
                                {
                                    "0": "FIN",
                                    "1": "1992",
                                    "2": "1"
                                },
                                {
                                    "0": "GER",
                                    "1": "1932",
                                    "2": "1"
                                },
                                {
                                    "0": "USA",
                                    "1": "2004",
                                    "2": "1"
                                },
                                {
                                    "0": "ITA",
                                    "1": "1900",
                                    "2": "1"
                                },
                                {
                                    "0": "JPN",
                                    "1": "1952",
                                    "2": "1"
                                },
                                {
                                    "0": "MEX",
                                    "1": "2008",
                                    "2": "1"
                                },
                                {
                                    "0": "ESP",
                                    "1": "1932",
                                    "2": "3"
                                },
                                {
                                    "0": "CUB",
                                    "1": "1900",
                                    "2": "1"
                                },
                                {
                                    "0": "ARM",
                                    "1": "2000",
                                    "2": "3"
                                },
                                {
                                    "0": "SUI",
                                    "1": "1980",
                                    "2": "1"
                                },
                                {
                                    "0": "GRE",
                                    "1": "1984",
                                    "2": "2"
                                },
                                {
                                    "0": "AUS",
                                    "1": "1924",
                                    "2": "1"
                                },
                                {
                                    "0": "CAN",
                                    "1": "1994",
                                    "2": "1"
                                },
                                {
                                    "0": "BEL",
                                    "1": "2000",
                                    "2": "2"
                                },
                                {
                                    "0": "BEL",
                                    "1": "1900",
                                    "2": "1"
                                },
                                {
                                    "0": "DJI",
                                    "1": "1988",
                                    "2": "3"
                                },
                                {
                                    "0": "USA",
                                    "1": "1924",
                                    "2": "1"
                                },
                                {
                                    "0": "RSA",
                                    "1": "1948",
                                    "2": "1"
                                },
                                {
                                    "0": "SUI",
                                    "1": "1972",
                                    "2": "1"
                                },
                                {
                                    "0": "EUN",
                                    "1": "1992",
                                    "2": "1"
                                },
                                {
                                    "0": "KOR",
                                    "1": "2002",
                                    "2": "1"
                                },
                                {
                                    "0": "ZIM",
                                    "1": "2008",
                                    "2": "1"
                                },
                                {
                                    "0": "GBR",
                                    "1": "1956",
                                    "2": "1"
                                },
                                {
                                    "0": "BUL",
                                    "1": "1956",
                                    "2": "1"
                                },
                                {
                                    "0": "IND",
                                    "1": "2004",
                                    "2": "2"
                                },
                                {
                                    "0": "IRL",
                                    "1": "2008",
                                    "2": "2"
                                },
                                {
                                    "0": "PRK",
                                    "1": "2004",
                                    "2": "2"
                                },
                                {
                                    "0": "JPN",
                                    "1": "2006",
                                    "2": "1"
                                },
                                {
                                    "0": "JAM",
                                    "1": "1988",
                                    "2": "2"
                                },
                                {
                                    "0": "MOZ",
                                    "1": "2000",
                                    "2": "1"
                                },
                                {
                                    "0": "FRA",
                                    "1": "2004",
                                    "2": "1"
                                },
                                {
                                    "0": "POL",
                                    "1": "1968",
                                    "2": "1"
                                },
                                {
                                    "0": "AUT",
                                    "1": "1900",
                                    "2": "2"
                                },
                                {
                                    "0": "NOR",
                                    "1": "1948",
                                    "2": "1"
                                },
                                {
                                    "0": "NZL",
                                    "1": "1996",
                                    "2": "1"
                                },
                                {
                                    "0": "LTU",
                                    "1": "1996",
                                    "2": "3"
                                },
                                {
                                    "0": "SVK",
                                    "1": "1996",
                                    "2": "1"
                                },
                                {
                                    "0": "SWE",
                                    "1": "1936",
                                    "2": "1"
                                },
                                {
                                    "0": "CAN",
                                    "1": "1908",
                                    "2": "1"
                                },
                                {
                                    "0": "ITA",
                                    "1": "1972",
                                    "2": "1"
                                },
                                {
                                    "0": "UKR",
                                    "1": "2000",
                                    "2": "1"
                                },
                                {
                                    "0": "IRI",
                                    "1": "2000",
                                    "2": "1"
                                },
                                {
                                    "0": "BWI",
                                    "1": "1960",
                                    "2": "3"
                                },
                                {
                                    "0": "VEN",
                                    "1": "2004",
                                    "2": "3"
                                },
                                {
                                    "0": "QAT",
                                    "1": "2000",
                                    "2": "3"
                                },
                                {
                                    "0": "CAN",
                                    "1": "2002",
                                    "2": "1"
                                },
                                {
                                    "0": "CRO",
                                    "1": "2006",
                                    "2": "1"
                                },
                                {
                                    "0": "BLR",
                                    "1": "2004",
                                    "2": "1"
                                },
                                {
                                    "0": "HUN",
                                    "1": "1992",
                                    "2": "1"
                                },
                                {
                                    "0": "SVK",
                                    "1": "2004",
                                    "2": "1"
                                },
                                {
                                    "0": "MDA",
                                    "1": "1996",
                                    "2": "2"
                                },
                                {
                                    "0": "SRB",
                                    "1": "2008",
                                    "2": "2"
                                },
                                {
                                    "0": "SUI",
                                    "1": "1900",
                                    "2": "1"
                                },
                                {
                                    "0": "CHN",
                                    "1": "1994",
                                    "2": "2"
                                },
                                {
                                    "0": "FIN",
                                    "1": "2006",
                                    "2": "2"
                                },
                                {
                                    "0": "AUS",
                                    "1": "1996",
                                    "2": "1"
                                },
                                {
                                    "0": "TCH",
                                    "1": "1928",
                                    "2": "1"
                                },
                                {
                                    "0": "POL",
                                    "1": "1928",
                                    "2": "1"
                                },
                                {
                                    "0": "NED",
                                    "1": "1984",
                                    "2": "1"
                                },
                                {
                                    "0": "PRK",
                                    "1": "1972",
                                    "2": "1"
                                },
                                {
                                    "0": "ZZX",
                                    "1": "1904",
                                    "2": "1"
                                },
                                {
                                    "0": "FIN",
                                    "1": "1912",
                                    "2": "1"
                                },
                                {
                                    "0": "EST",
                                    "1": "1936",
                                    "2": "1"
                                },
                                {
                                    "0": "JAM",
                                    "1": "1948",
                                    "2": "1"
                                },
                                {
                                    "0": "GDR",
                                    "1": "1980",
                                    "2": "1"
                                },
                                {
                                    "0": "LIE",
                                    "1": "1976",
                                    "2": "3"
                                },
                                {
                                    "0": "IND",
                                    "1": "1932",
                                    "2": "1"
                                },
                                {
                                    "0": "KOR",
                                    "1": "1948",
                                    "2": "3"
                                },
                                {
                                    "0": "POR",
                                    "1": "1960",
                                    "2": "2"
                                },
                                {
                                    "0": "RUS",
                                    "1": "2004",
                                    "2": "1"
                                },
                                {
                                    "0": "GHA",
                                    "1": "1960",
                                    "2": "2"
                                },
                                {
                                    "0": "FRA",
                                    "1": "1964",
                                    "2": "1"
                                },
                                {
                                    "0": "NOR",
                                    "1": "1980",
                                    "2": "1"
                                },
                                {
                                    "0": "MAR",
                                    "1": "2000",
                                    "2": "2"
                                },
                                {
                                    "0": "JPN",
                                    "1": "1960",
                                    "2": "1"
                                },
                                {
                                    "0": "CUB",
                                    "1": "1980",
                                    "2": "1"
                                },
                                {
                                    "0": "NOR",
                                    "1": "1988",
                                    "2": "1"
                                },
                                {
                                    "0": "FIN",
                                    "1": "1998",
                                    "2": "1"
                                },
                                {
                                    "0": "KOR",
                                    "1": "1956",
                                    "2": "2"
                                },
                                {
                                    "0": "NED",
                                    "1": "1992",
                                    "2": "1"
                                },
                                {
                                    "0": "AUT",
                                    "1": "1924",
                                    "2": "1"
                                },
                                {
                                    "0": "PRK",
                                    "1": "1964",
                                    "2": "2"
                                },
                                {
                                    "0": "FIN",
                                    "1": "1994",
                                    "2": "2"
                                },
                                {
                                    "0": "USA",
                                    "1": "2006",
                                    "2": "1"
                                },
                                {
                                    "0": "USA",
                                    "1": "1960",
                                    "2": "1"
                                },
                                {
                                    "0": "ESP",
                                    "1": "1980",
                                    "2": "1"
                                },
                                {
                                    "0": "HUN",
                                    "1": "1912",
                                    "2": "1"
                                },
                                {
                                    "0": "AUS",
                                    "1": "1968",
                                    "2": "1"
                                },
                                {
                                    "0": "CZE",
                                    "1": "2008",
                                    "2": "1"
                                },
                                {
                                    "0": "GBR",
                                    "1": "1928",
                                    "2": "1"
                                },
                                {
                                    "0": "ITA",
                                    "1": "1998",
                                    "2": "1"
                                },
                                {
                                    "0": "NOR",
                                    "1": "1920",
                                    "2": "1"
                                },
                                {
                                    "0": "SYR",
                                    "1": "1984",
                                    "2": "2"
                                },
                                {
                                    "0": "HUN",
                                    "1": "2004",
                                    "2": "1"
                                },
                                {
                                    "0": "HUN",
                                    "1": "1904",
                                    "2": "1"
                                },
                                {
                                    "0": "TUR",
                                    "1": "2008",
                                    "2": "1"
                                },
                                {
                                    "0": "URS",
                                    "1": "1976",
                                    "2": "1"
                                },
                                {
                                    "0": "YUG",
                                    "1": "1984",
                                    "2": "1"
                                },
                                {
                                    "0": "LTU",
                                    "1": "2008",
                                    "2": "2"
                                },
                                {
                                    "0": "SVK",
                                    "1": "2008",
                                    "2": "1"
                                },
                                {
                                    "0": "TCH",
                                    "1": "1952",
                                    "2": "1"
                                },
                                {
                                    "0": "FRA",
                                    "1": "1920",
                                    "2": "1"
                                },
                                {
                                    "0": "NED",
                                    "1": "1960",
                                    "2": "2"
                                },
                                {
                                    "0": "EUA",
                                    "1": "1964",
                                    "2": "1"
                                },
                                {
                                    "0": "SLO",
                                    "1": "1992",
                                    "2": "3"
                                },
                                {
                                    "0": "ROU",
                                    "1": "1924",
                                    "2": "3"
                                },
                                {
                                    "0": "USA",
                                    "1": "1952",
                                    "2": "1"
                                },
                                {
                                    "0": "IND",
                                    "1": "1980",
                                    "2": "1"
                                },
                                {
                                    "0": "BRA",
                                    "1": "2004",
                                    "2": "1"
                                },
                                {
                                    "0": "KEN",
                                    "1": "2008",
                                    "2": "1"
                                },
                                {
                                    "0": "GRE",
                                    "1": "1920",
                                    "2": "2"
                                },
                                {
                                    "0": "FRG",
                                    "1": "1988",
                                    "2": "1"
                                },
                                {
                                    "0": "DEN",
                                    "1": "2000",
                                    "2": "1"
                                },
                                {
                                    "0": "DEN",
                                    "1": "1900",
                                    "2": "1"
                                },
                                {
                                    "0": "VIE",
                                    "1": "2000",
                                    "2": "2"
                                },
                                {
                                    "0": "TJK",
                                    "1": "2008",
                                    "2": "2"
                                },
                                {
                                    "0": "BOH",
                                    "1": "1900",
                                    "2": "2"
                                },
                                {
                                    "0": "GRE",
                                    "1": "1912",
                                    "2": "1"
                                },
                                {
                                    "0": "URU",
                                    "1": "1928",
                                    "2": "1"
                                },
                                {
                                    "0": "DEN",
                                    "1": "1992",
                                    "2": "1"
                                },
                                {
                                    "0": "FRA",
                                    "1": "2006",
                                    "2": "1"
                                },
                                {
                                    "0": "ROU",
                                    "1": "1984",
                                    "2": "1"
                                },
                                {
                                    "0": "SWE",
                                    "1": "1988",
                                    "2": "1"
                                },
                                {
                                    "0": "SUI",
                                    "1": "1964",
                                    "2": "1"
                                },
                                {
                                    "0": "MEX",
                                    "1": "1984",
                                    "2": "1"
                                },
                                {
                                    "0": "PER",
                                    "1": "1988",
                                    "2": "2"
                                },
                                {
                                    "0": "GBR",
                                    "1": "1988",
                                    "2": "1"
                                },
                                {
                                    "0": "UKR",
                                    "1": "1998",
                                    "2": "2"
                                },
                                {
                                    "0": "TUR",
                                    "1": "1968",
                                    "2": "1"
                                },
                                {
                                    "0": "THA",
                                    "1": "1996",
                                    "2": "1"
                                },
                                {
                                    "0": "PHI",
                                    "1": "1996",
                                    "2": "2"
                                },
                                {
                                    "0": "NZL",
                                    "1": "1952",
                                    "2": "1"
                                },
                                {
                                    "0": "NED",
                                    "1": "1920",
                                    "2": "1"
                                },
                                {
                                    "0": "AUS",
                                    "1": "1928",
                                    "2": "1"
                                },
                                {
                                    "0": "SWE",
                                    "1": "1980",
                                    "2": "1"
                                },
                                {
                                    "0": "THA",
                                    "1": "1988",
                                    "2": "3"
                                },
                                {
                                    "0": "PAR",
                                    "1": "2004",
                                    "2": "2"
                                },
                                {
                                    "0": "NOR",
                                    "1": "1912",
                                    "2": "1"
                                },
                                {
                                    "0": "USA",
                                    "1": "1900",
                                    "2": "1"
                                },
                                {
                                    "0": "AUT",
                                    "1": "1984",
                                    "2": "1"
                                },
                                {
                                    "0": "FIN",
                                    "1": "1980",
                                    "2": "1"
                                },
                                {
                                    "0": "TUN",
                                    "1": "1996",
                                    "2": "3"
                                },
                                {
                                    "0": "NOR",
                                    "1": "2006",
                                    "2": "1"
                                },
                                {
                                    "0": "NED",
                                    "1": "2006",
                                    "2": "1"
                                },
                                {
                                    "0": "ETH",
                                    "1": "2000",
                                    "2": "1"
                                },
                                {
                                    "0": "CHN",
                                    "1": "1988",
                                    "2": "1"
                                },
                                {
                                    "0": "FIN",
                                    "1": "2000",
                                    "2": "1"
                                },
                                {
                                    "0": "BUL",
                                    "1": "2008",
                                    "2": "1"
                                },
                                {
                                    "0": "CAN",
                                    "1": "1976",
                                    "2": "1"
                                },
                                {
                                    "0": "MGL",
                                    "1": "1992",
                                    "2": "3"
                                },
                                {
                                    "0": "HKG",
                                    "1": "1996",
                                    "2": "1"
                                },
                                {
                                    "0": "BEL",
                                    "1": "1972",
                                    "2": "2"
                                },
                                {
                                    "0": "CHN",
                                    "1": "1996",
                                    "2": "1"
                                },
                                {
                                    "0": "CAN",
                                    "1": "1936",
                                    "2": "1"
                                },
                                {
                                    "0": "CZE",
                                    "1": "2002",
                                    "2": "1"
                                },
                                {
                                    "0": "SUI",
                                    "1": "1984",
                                    "2": "1"
                                },
                                {
                                    "0": "MEX",
                                    "1": "2004",
                                    "2": "2"
                                },
                                {
                                    "0": "AUS",
                                    "1": "2008",
                                    "2": "1"
                                },
                                {
                                    "0": "NED",
                                    "1": "1900",
                                    "2": "2"
                                },
                                {
                                    "0": "GBR",
                                    "1": "1968",
                                    "2": "1"
                                },
                                {
                                    "0": "KEN",
                                    "1": "1968",
                                    "2": "1"
                                },
                                {
                                    "0": "BUL",
                                    "1": "1968",
                                    "2": "1"
                                },
                                {
                                    "0": "URU",
                                    "1": "2000",
                                    "2": "2"
                                },
                                {
                                    "0": "ARG",
                                    "1": "2016",
                                    "2": "1"
                                },
                                {
                                    "0": "TUR",
                                    "1": "1948",
                                    "2": "1"
                                },
                                {
                                    "0": "GRE",
                                    "1": "1972",
                                    "2": "2"
                                },
                                {
                                    "0": "HUN",
                                    "1": "1964",
                                    "2": "1"
                                },
                                {
                                    "0": "CUB",
                                    "1": "1992",
                                    "2": "1"
                                },
                                {
                                    "0": "KUW",
                                    "1": "2000",
                                    "2": "3"
                                },
                                {
                                    "0": "GER",
                                    "1": "1936",
                                    "2": "1"
                                },
                                {
                                    "0": "KAZ",
                                    "1": "2000",
                                    "2": "1"
                                },
                                {
                                    "0": "PHI",
                                    "1": "1936",
                                    "2": "3"
                                },
                                {
                                    "0": "USA",
                                    "1": "1920",
                                    "2": "1"
                                },
                                {
                                    "0": "DEN",
                                    "1": "1972",
                                    "2": "1"
                                },
                                {
                                    "0": "NOR",
                                    "1": "1960",
                                    "2": "1"
                                },
                                {
                                    "0": "HUN",
                                    "1": "1972",
                                    "2": "1"
                                },
                                {
                                    "0": "DEN",
                                    "1": "1980",
                                    "2": "1"
                                },
                                {
                                    "0": "NZL",
                                    "1": "1984",
                                    "2": "1"
                                },
                                {
                                    "0": "SWE",
                                    "1": "1948",
                                    "2": "1"
                                },
                                {
                                    "0": "CHI",
                                    "1": "1988",
                                    "2": "2"
                                },
                                {
                                    "0": "GER",
                                    "1": "2016",
                                    "2": "3"
                                },
                                {
                                    "0": "ECU",
                                    "1": "1996",
                                    "2": "1"
                                },
                                {
                                    "0": "JAM",
                                    "1": "2000",
                                    "2": "2"
                                },
                                {
                                    "0": "UGA",
                                    "1": "1968",
                                    "2": "2"
                                },
                                {
                                    "0": "FRA",
                                    "1": "1992",
                                    "2": "1"
                                },
                                {
                                    "0": "TCH",
                                    "1": "1972",
                                    "2": "1"
                                },
                                {
                                    "0": "POL",
                                    "1": "1980",
                                    "2": "1"
                                },
                                {
                                    "0": "BEL",
                                    "1": "1912",
                                    "2": "1"
                                },
                                {
                                    "0": "TAN",
                                    "1": "1980",
                                    "2": "2"
                                },
                                {
                                    "0": "BRA",
                                    "1": "1984",
                                    "2": "1"
                                },
                                {
                                    "0": "POL",
                                    "1": "1972",
                                    "2": "1"
                                },
                                {
                                    "0": "IND",
                                    "1": "2000",
                                    "2": "3"
                                },
                                {
                                    "0": "IRI",
                                    "1": "1988",
                                    "2": "2"
                                },
                                {
                                    "0": "KOR",
                                    "1": "2006",
                                    "2": "1"
                                },
                                {
                                    "0": "ESP",
                                    "1": "1920",
                                    "2": "2"
                                },
                                {
                                    "0": "JPN",
                                    "1": "1924",
                                    "2": "3"
                                },
                                {
                                    "0": "NOR",
                                    "1": "1952",
                                    "2": "1"
                                },
                                {
                                    "0": "SRI",
                                    "1": "2000",
                                    "2": "2"
                                },
                                {
                                    "0": "AUT",
                                    "1": "1904",
                                    "2": "3"
                                },
                                {
                                    "0": "IOP",
                                    "1": "1992",
                                    "2": "2"
                                },
                                {
                                    "0": "VEN",
                                    "1": "2008",
                                    "2": "3"
                                },
                                {
                                    "0": "GDR",
                                    "1": "1968",
                                    "2": "1"
                                },
                                {
                                    "0": "PRK",
                                    "1": "1976",
                                    "2": "1"
                                },
                                {
                                    "0": "POL",
                                    "1": "1932",
                                    "2": "1"
                                },
                                {
                                    "0": "HAI",
                                    "1": "1924",
                                    "2": "3"
                                },
                                {
                                    "0": "FIN",
                                    "1": "1908",
                                    "2": "1"
                                },
                                {
                                    "0": "IND",
                                    "1": "1960",
                                    "2": "2"
                                },
                                {
                                    "0": "SWE",
                                    "1": "1994",
                                    "2": "1"
                                },
                                {
                                    "0": "VEN",
                                    "1": "1976",
                                    "2": "2"
                                },
                                {
                                    "0": "RU1",
                                    "1": "1912",
                                    "2": "2"
                                },
                                {
                                    "0": "NED",
                                    "1": "1980",
                                    "2": "1"
                                },
                                {
                                    "0": "IRL",
                                    "1": "1956",
                                    "2": "1"
                                },
                                {
                                    "0": "SWE",
                                    "1": "1908",
                                    "2": "1"
                                },
                                {
                                    "0": "USA",
                                    "1": "2000",
                                    "2": "1"
                                },
                                {
                                    "0": "FRA",
                                    "1": "1952",
                                    "2": "1"
                                },
                                {
                                    "0": "NOR",
                                    "1": "1992",
                                    "2": "1"
                                },
                                {
                                    "0": "USA",
                                    "1": "1992",
                                    "2": "1"
                                },
                                {
                                    "0": "SUI",
                                    "1": "1998",
                                    "2": "1"
                                },
                                {
                                    "0": "EGY",
                                    "1": "2004",
                                    "2": "1"
                                },
                                {
                                    "0": "SUI",
                                    "1": "1904",
                                    "2": "1"
                                },
                                {
                                    "0": "FRA",
                                    "1": "1960",
                                    "2": "1"
                                },
                                {
                                    "0": "JPN",
                                    "1": "1964",
                                    "2": "1"
                                },
                                {
                                    "0": "ITA",
                                    "1": "1984",
                                    "2": "1"
                                },
                                {
                                    "0": "PAK",
                                    "1": "1984",
                                    "2": "1"
                                },
                                {
                                    "0": "SWE",
                                    "1": "2008",
                                    "2": "2"
                                },
                                {
                                    "0": "BEL",
                                    "1": "1952",
                                    "2": "1"
                                },
                                {
                                    "0": "URU",
                                    "1": "1948",
                                    "2": "2"
                                },
                                {
                                    "0": "CHN",
                                    "1": "2008",
                                    "2": "1"
                                },
                                {
                                    "0": "URS",
                                    "1": "1964",
                                    "2": "1"
                                },
                                {
                                    "0": "PAK",
                                    "1": "1972",
                                    "2": "2"
                                },
                                {
                                    "0": "PAK",
                                    "1": "1964",
                                    "2": "2"
                                },
                                {
                                    "0": "MEX",
                                    "1": "1964",
                                    "2": "3"
                                },
                                {
                                    "0": "FRA",
                                    "1": "1932",
                                    "2": "1"
                                },
                                {
                                    "0": "TCH",
                                    "1": "1932",
                                    "2": "1"
                                },
                                {
                                    "0": "SLO",
                                    "1": "2004",
                                    "2": "2"
                                },
                                {
                                    "0": "DEN",
                                    "1": "1920",
                                    "2": "1"
                                },
                                {
                                    "0": "MGL",
                                    "1": "1972",
                                    "2": "2"
                                },
                                {
                                    "0": "BEL",
                                    "1": "1998",
                                    "2": "3"
                                },
                                {
                                    "0": "ESP",
                                    "1": "1900",
                                    "2": "1"
                                },
                                {
                                    "0": "CAN",
                                    "1": "1996",
                                    "2": "1"
                                },
                                {
                                    "0": "KOR",
                                    "1": "2000",
                                    "2": "1"
                                },
                                {
                                    "0": "POL",
                                    "1": "1952",
                                    "2": "1"
                                },
                                {
                                    "0": "CAN",
                                    "1": "1904",
                                    "2": "1"
                                },
                                {
                                    "0": "MDA",
                                    "1": "2008",
                                    "2": "3"
                                },
                                {
                                    "0": "FIN",
                                    "1": "1960",
                                    "2": "1"
                                },
                                {
                                    "0": "TUN",
                                    "1": "1968",
                                    "2": "1"
                                },
                                {
                                    "0": "JPN",
                                    "1": "2004",
                                    "2": "1"
                                },
                                {
                                    "0": "ARG",
                                    "1": "1964",
                                    "2": "2"
                                },
                                {
                                    "0": "NOR",
                                    "1": "1932",
                                    "2": "1"
                                },
                                {
                                    "0": "ROU",
                                    "1": "2004",
                                    "2": "1"
                                },
                                {
                                    "0": "POL",
                                    "1": "1960",
                                    "2": "1"
                                },
                                {
                                    "0": "THA",
                                    "1": "2008",
                                    "2": "1"
                                },
                                {
                                    "0": "CHI",
                                    "1": "2008",
                                    "2": "2"
                                },
                                {
                                    "0": "AUS",
                                    "1": "1948",
                                    "2": "1"
                                },
                                {
                                    "0": "EGY",
                                    "1": "1952",
                                    "2": "3"
                                },
                                {
                                    "0": "CMR",
                                    "1": "1968",
                                    "2": "2"
                                },
                                {
                                    "0": "GER",
                                    "1": "1996",
                                    "2": "1"
                                },
                                {
                                    "0": "IRL",
                                    "1": "1996",
                                    "2": "1"
                                },
                                {
                                    "0": "CIV",
                                    "1": "1984",
                                    "2": "2"
                                },
                                {
                                    "0": "ESP",
                                    "1": "1960",
                                    "2": "3"
                                },
                                {
                                    "0": "ISL",
                                    "1": "2008",
                                    "2": "2"
                                },
                                {
                                    "0": "TUN",
                                    "1": "2008",
                                    "2": "1"
                                },
                                {
                                    "0": "BLR",
                                    "1": "2006",
                                    "2": "2"
                                },
                                {
                                    "0": "FRG",
                                    "1": "1968",
                                    "2": "1"
                                },
                                {
                                    "0": "BUL",
                                    "1": "1988",
                                    "2": "1"
                                },
                                {
                                    "0": "MAS",
                                    "1": "1992",
                                    "2": "3"
                                },
                                {
                                    "0": "RSA",
                                    "1": "2004",
                                    "2": "1"
                                },
                                {
                                    "0": "CRO",
                                    "1": "2008",
                                    "2": "2"
                                },
                                {
                                    "0": "CMR",
                                    "1": "2008",
                                    "2": "1"
                                },
                                {
                                    "0": "DOM",
                                    "1": "2008",
                                    "2": "1"
                                },
                                {
                                    "0": "ITA",
                                    "1": "1924",
                                    "2": "1"
                                },
                                {
                                    "0": "USA",
                                    "1": "1932",
                                    "2": "1"
                                },
                                {
                                    "0": "RUS",
                                    "1": "2006",
                                    "2": "1"
                                },
                                {
                                    "0": "NOR",
                                    "1": "1900",
                                    "2": "2"
                                },
                                {
                                    "0": "SRI",
                                    "1": "1948",
                                    "2": "2"
                                },
                                {
                                    "0": "CAN",
                                    "1": "1956",
                                    "2": "1"
                                },
                                {
                                    "0": "ESP",
                                    "1": "2000",
                                    "2": "1"
                                },
                                {
                                    "0": "NGR",
                                    "1": "2000",
                                    "2": "2"
                                },
                                {
                                    "0": "AUT",
                                    "1": "2004",
                                    "2": "1"
                                },
                                {
                                    "0": "ETH",
                                    "1": "1980",
                                    "2": "1"
                                },
                                {
                                    "0": "SIN",
                                    "1": "1960",
                                    "2": "2"
                                },
                                {
                                    "0": "RSA",
                                    "1": "1996",
                                    "2": "1"
                                },
                                {
                                    "0": "DEN",
                                    "1": "1960",
                                    "2": "1"
                                },
                                {
                                    "0": "THA",
                                    "1": "1976",
                                    "2": "3"
                                },
                                {
                                    "0": "LUX",
                                    "1": "1920",
                                    "2": "2"
                                },
                                {
                                    "0": "IRI",
                                    "1": "1948",
                                    "2": "3"
                                },
                                {
                                    "0": "HUN",
                                    "1": "1932",
                                    "2": "1"
                                },
                                {
                                    "0": "NZL",
                                    "1": "1932",
                                    "2": "2"
                                },
                                {
                                    "0": "DEN",
                                    "1": "1952",
                                    "2": "1"
                                },
                                {
                                    "0": "MGL",
                                    "1": "2004",
                                    "2": "3"
                                },
                                {
                                    "0": "TRI",
                                    "1": "1948",
                                    "2": "2"
                                },
                                {
                                    "0": "YUG",
                                    "1": "1964",
                                    "2": "1"
                                },
                                {
                                    "0": "AUS",
                                    "1": "1994",
                                    "2": "3"
                                },
                                {
                                    "0": "LAT",
                                    "1": "2004",
                                    "2": "2"
                                },
                                {
                                    "0": "ROU",
                                    "1": "1964",
                                    "2": "1"
                                },
                                {
                                    "0": "LAT",
                                    "1": "1996",
                                    "2": "2"
                                },
                                {
                                    "0": "SUI",
                                    "1": "2004",
                                    "2": "1"
                                },
                                {
                                    "0": "SWE",
                                    "1": "2000",
                                    "2": "1"
                                },
                                {
                                    "0": "GBR",
                                    "1": "2008",
                                    "2": "1"
                                },
                                {
                                    "0": "CHI",
                                    "1": "1956",
                                    "2": "2"
                                },
                                {
                                    "0": "TUR",
                                    "1": "1988",
                                    "2": "1"
                                },
                                {
                                    "0": "AUS",
                                    "1": "2002",
                                    "2": "1"
                                },
                                {
                                    "0": "SYR",
                                    "1": "2004",
                                    "2": "3"
                                },
                                {
                                    "0": "HUN",
                                    "1": "1924",
                                    "2": "1"
                                },
                                {
                                    "0": "NZL",
                                    "1": "1924",
                                    "2": "3"
                                },
                                {
                                    "0": "TPE",
                                    "1": "1996",
                                    "2": "2"
                                },
                                {
                                    "0": "ETH",
                                    "1": "1968",
                                    "2": "1"
                                },
                                {
                                    "0": "NOR",
                                    "1": "1972",
                                    "2": "1"
                                },
                                {
                                    "0": "JPN",
                                    "1": "1998",
                                    "2": "1"
                                },
                                {
                                    "0": "YUG",
                                    "1": "1924",
                                    "2": "1"
                                },
                                {
                                    "0": "BDI",
                                    "1": "1996",
                                    "2": "1"
                                },
                                {
                                    "0": "EST",
                                    "1": "1992",
                                    "2": "1"
                                },
                                {
                                    "0": "TCH",
                                    "1": "1992",
                                    "2": "1"
                                },
                                {
                                    "0": "CHN",
                                    "1": "2002",
                                    "2": "1"
                                },
                                {
                                    "0": "KOR",
                                    "1": "1994",
                                    "2": "1"
                                },
                                {
                                    "0": "ARG",
                                    "1": "1924",
                                    "2": "1"
                                },
                                {
                                    "0": "BAH",
                                    "1": "1956",
                                    "2": "3"
                                },
                                {
                                    "0": "EGY",
                                    "1": "1984",
                                    "2": "2"
                                },
                                {
                                    "0": "AUT",
                                    "1": "1964",
                                    "2": "1"
                                },
                                {
                                    "0": "BEL",
                                    "1": "1992",
                                    "2": "2"
                                },
                                {
                                    "0": "NGR",
                                    "1": "2008",
                                    "2": "2"
                                },
                                {
                                    "0": "HUN",
                                    "1": "1952",
                                    "2": "1"
                                },
                                {
                                    "0": "ETH",
                                    "1": "1960",
                                    "2": "1"
                                },
                                {
                                    "0": "BRA",
                                    "1": "1964",
                                    "2": "3"
                                },
                                {
                                    "0": "FRA",
                                    "1": "1980",
                                    "2": "1"
                                },
                                {
                                    "0": "ALG",
                                    "1": "2000",
                                    "2": "1"
                                },
                                {
                                    "0": "POL",
                                    "1": "1992",
                                    "2": "1"
                                },
                                {
                                    "0": "RSA",
                                    "1": "1924",
                                    "2": "1"
                                },
                                {
                                    "0": "CAN",
                                    "1": "1924",
                                    "2": "1"
                                },
                                {
                                    "0": "FRA",
                                    "1": "1900",
                                    "2": "1"
                                },
                                {
                                    "0": "IRI",
                                    "1": "1968",
                                    "2": "1"
                                },
                                {
                                    "0": "NZL",
                                    "1": "1964",
                                    "2": "1"
                                },
                                {
                                    "0": "PRK",
                                    "1": "1996",
                                    "2": "1"
                                },
                                {
                                    "0": "SWE",
                                    "1": "1968",
                                    "2": "1"
                                },
                                {
                                    "0": "LAT",
                                    "1": "1936",
                                    "2": "2"
                                },
                                {
                                    "0": "TRI",
                                    "1": "2008",
                                    "2": "2"
                                },
                                {
                                    "0": "JAM",
                                    "1": "1980",
                                    "2": "3"
                                },
                                {
                                    "0": "ISV",
                                    "1": "1988",
                                    "2": "2"
                                },
                                {
                                    "0": "GER",
                                    "1": "2002",
                                    "2": "1"
                                },
                                {
                                    "0": "ISR",
                                    "1": "2000",
                                    "2": "3"
                                },
                                {
                                    "0": "TUR",
                                    "1": "1936",
                                    "2": "1"
                                },
                                {
                                    "0": "GBR",
                                    "1": "1994",
                                    "2": "3"
                                },
                                {
                                    "0": "IRQ",
                                    "1": "1960",
                                    "2": "3"
                                },
                                {
                                    "0": "INA",
                                    "1": "1992",
                                    "2": "1"
                                },
                                {
                                    "0": "IND",
                                    "1": "1900",
                                    "2": "2"
                                },
                                {
                                    "0": "QAT",
                                    "1": "1992",
                                    "2": "3"
                                },
                                {
                                    "0": "TCH",
                                    "1": "1920",
                                    "2": "3"
                                },
                                {
                                    "0": "USA",
                                    "1": "1980",
                                    "2": "1"
                                },
                                {
                                    "0": "ARG",
                                    "1": "1996",
                                    "2": "2"
                                },
                                {
                                    "0": "CAN",
                                    "1": "2010",
                                    "2": "1"
                                },
                                {
                                    "0": "FIN",
                                    "1": "2014",
                                    "2": "3"
                                },
                                {
                                    "0": "GBR",
                                    "1": "1948",
                                    "2": "1"
                                },
                                {
                                    "0": "AUS",
                                    "1": "1988",
                                    "2": "1"
                                },
                                {
                                    "0": "FIN",
                                    "1": "1928",
                                    "2": "1"
                                },
                                {
                                    "0": "KEN",
                                    "1": "1996",
                                    "2": "1"
                                },
                                {
                                    "0": "IRI",
                                    "1": "2008",
                                    "2": "1"
                                },
                                {
                                    "0": "ITA",
                                    "1": "1964",
                                    "2": "1"
                                },
                                {
                                    "0": "GRE",
                                    "1": "1992",
                                    "2": "1"
                                },
                                {
                                    "0": "NZL",
                                    "1": "2004",
                                    "2": "1"
                                },
                                {
                                    "0": "SWE",
                                    "1": "1928",
                                    "2": "1"
                                },
                                {
                                    "0": "PER",
                                    "1": "1948",
                                    "2": "1"
                                },
                                {
                                    "0": "KEN",
                                    "1": "1988",
                                    "2": "1"
                                },
                                {
                                    "0": "FIN",
                                    "1": "1920",
                                    "2": "1"
                                },
                                {
                                    "0": "JPN",
                                    "1": "1984",
                                    "2": "1"
                                },
                                {
                                    "0": "CUB",
                                    "1": "2004",
                                    "2": "1"
                                },
                                {
                                    "0": "SUI",
                                    "1": "1924",
                                    "2": "1"
                                },
                                {
                                    "0": "BAH",
                                    "1": "1996",
                                    "2": "2"
                                },
                                {
                                    "0": "BUL",
                                    "1": "2002",
                                    "2": "2"
                                },
                                {
                                    "0": "ITA",
                                    "1": "2004",
                                    "2": "1"
                                },
                                {
                                    "0": "URS",
                                    "1": "1956",
                                    "2": "1"
                                },
                                {
                                    "0": "USA",
                                    "1": "1972",
                                    "2": "1"
                                },
                                {
                                    "0": "ARG",
                                    "1": "2004",
                                    "2": "1"
                                },
                                {
                                    "0": "PUR",
                                    "1": "1992",
                                    "2": "3"
                                },
                                {
                                    "0": "GBR",
                                    "1": "2002",
                                    "2": "1"
                                },
                                {
                                    "0": "POL",
                                    "1": "2006",
                                    "2": "2"
                                },
                                {
                                    "0": "FRA",
                                    "1": "1972",
                                    "2": "1"
                                },
                                {
                                    "0": "POR",
                                    "1": "1952",
                                    "2": "3"
                                },
                                {
                                    "0": "NAM",
                                    "1": "1992",
                                    "2": "2"
                                },
                                {
                                    "0": "SWE",
                                    "1": "2014",
                                    "2": "2"
                                },
                                {
                                    "0": "MAR",
                                    "1": "1992",
                                    "2": "1"
                                },
                                {
                                    "0": "NED",
                                    "1": "2000",
                                    "2": "1"
                                },
                                {
                                    "0": "AZE",
                                    "1": "2000",
                                    "2": "1"
                                },
                                {
                                    "0": "CUB",
                                    "1": "1972",
                                    "2": "1"
                                },
                                {
                                    "0": "GBR",
                                    "1": "1908",
                                    "2": "1"
                                },
                                {
                                    "0": "GRE",
                                    "1": "1960",
                                    "2": "1"
                                },
                                {
                                    "0": "GDR",
                                    "1": "1988",
                                    "2": "1"
                                },
                                {
                                    "0": "LIE",
                                    "1": "1984",
                                    "2": "3"
                                },
                                {
                                    "0": "AZE",
                                    "1": "2008",
                                    "2": "1"
                                },
                                {
                                    "0": "URU",
                                    "1": "1952",
                                    "2": "3"
                                },
                                {
                                    "0": "CAN",
                                    "1": "1984",
                                    "2": "1"
                                },
                                {
                                    "0": "PUR",
                                    "1": "1984",
                                    "2": "2"
                                },
                                {
                                    "0": "BRA",
                                    "1": "1920",
                                    "2": "1"
                                },
                                {
                                    "0": "ROU",
                                    "1": "2008",
                                    "2": "1"
                                },
                                {
                                    "0": "SWE",
                                    "1": "1912",
                                    "2": "1"
                                },
                                {
                                    "0": "URS",
                                    "1": "1968",
                                    "2": "1"
                                },
                                {
                                    "0": "ARG",
                                    "1": "1968",
                                    "2": "3"
                                },
                                {
                                    "0": "VIE",
                                    "1": "2008",
                                    "2": "2"
                                },
                                {
                                    "0": "GBR",
                                    "1": "1920",
                                    "2": "1"
                                },
                                {
                                    "0": "POR",
                                    "1": "1924",
                                    "2": "3"
                                },
                                {
                                    "0": "AUS",
                                    "1": "1960",
                                    "2": "1"
                                },
                                {
                                    "0": "TUR",
                                    "1": "2000",
                                    "2": "1"
                                },
                                {
                                    "0": "CHN",
                                    "1": "2004",
                                    "2": "1"
                                },
                                {
                                    "0": "BAH",
                                    "1": "2004",
                                    "2": "1"
                                },
                                {
                                    "0": "TPE",
                                    "1": "2008",
                                    "2": "3"
                                },
                                {
                                    "0": "ANZ",
                                    "1": "1912",
                                    "2": "1"
                                },
                                {
                                    "0": "UGA",
                                    "1": "1996",
                                    "2": "3"
                                },
                                {
                                    "0": "SWE",
                                    "1": "1920",
                                    "2": "1"
                                },
                                {
                                    "0": "LUX",
                                    "1": "1992",
                                    "2": "2"
                                },
                                {
                                    "0": "FRA",
                                    "1": "1928",
                                    "2": "1"
                                },
                                {
                                    "0": "BEL",
                                    "1": "1956",
                                    "2": "2"
                                },
                                {
                                    "0": "ESP",
                                    "1": "1988",
                                    "2": "1"
                                },
                                {
                                    "0": "PUR",
                                    "1": "1976",
                                    "2": "3"
                                },
                                {
                                    "0": "DEN",
                                    "1": "1924",
                                    "2": "1"
                                },
                                {
                                    "0": "PHI",
                                    "1": "1988",
                                    "2": "3"
                                },
                                {
                                    "0": "BLR",
                                    "1": "1994",
                                    "2": "2"
                                },
                                {
                                    "0": "UZB",
                                    "1": "1994",
                                    "2": "1"
                                },
                                {
                                    "0": "USA",
                                    "1": "1968",
                                    "2": "1"
                                },
                                {
                                    "0": "ETH",
                                    "1": "2008",
                                    "2": "1"
                                },
                                {
                                    "0": "CAN",
                                    "1": "1992",
                                    "2": "1"
                                },
                                {
                                    "0": "CRO",
                                    "1": "1996",
                                    "2": "1"
                                },
                                {
                                    "0": "CZE",
                                    "1": "2000",
                                    "2": "1"
                                },
                                {
                                    "0": "HUN",
                                    "1": "1996",
                                    "2": "1"
                                },
                                {
                                    "0": "EST",
                                    "1": "2006",
                                    "2": "1"
                                },
                                {
                                    "0": "AUT",
                                    "1": "2008",
                                    "2": "2"
                                },
                                {
                                    "0": "GEO",
                                    "1": "2004",
                                    "2": "1"
                                },
                                {
                                    "0": "BOH",
                                    "1": "1908",
                                    "2": "3"
                                },
                                {
                                    "0": "FIN",
                                    "1": "1956",
                                    "2": "1"
                                },
                                {
                                    "0": "IRL",
                                    "1": "1984",
                                    "2": "2"
                                },
                                {
                                    "0": "LIB",
                                    "1": "1952",
                                    "2": "2"
                                },
                                {
                                    "0": "IRL",
                                    "1": "1992",
                                    "2": "1"
                                },
                                {
                                    "0": "SUI",
                                    "1": "1956",
                                    "2": "1"
                                },
                                {
                                    "0": "POL",
                                    "1": "1964",
                                    "2": "1"
                                },
                                {
                                    "0": "ITA",
                                    "1": "1936",
                                    "2": "1"
                                },
                                {
                                    "0": "FIN",
                                    "1": "1948",
                                    "2": "1"
                                },
                                {
                                    "0": "CHI",
                                    "1": "2004",
                                    "2": "1"
                                },
                                {
                                    "0": "MOZ",
                                    "1": "1996",
                                    "2": "3"
                                },
                                {
                                    "0": "GER",
                                    "1": "2008",
                                    "2": "1"
                                },
                                {
                                    "0": "HUN",
                                    "1": "1936",
                                    "2": "1"
                                },
                                {
                                    "0": "NOR",
                                    "1": "1998",
                                    "2": "1"
                                },
                                {
                                    "0": "ISR",
                                    "1": "2004",
                                    "2": "1"
                                },
                                {
                                    "0": "NED",
                                    "1": "1928",
                                    "2": "1"
                                },
                                {
                                    "0": "ZIM",
                                    "1": "2004",
                                    "2": "1"
                                },
                                {
                                    "0": "NGR",
                                    "1": "1996",
                                    "2": "1"
                                },
                                {
                                    "0": "BAR",
                                    "1": "2000",
                                    "2": "3"
                                },
                                {
                                    "0": "UZB",
                                    "1": "2000",
                                    "2": "1"
                                },
                                {
                                    "0": "ARG",
                                    "1": "1936",
                                    "2": "1"
                                },
                                {
                                    "0": "LUX",
                                    "1": "1952",
                                    "2": "1"
                                },
                                {
                                    "0": "AUT",
                                    "1": "1956",
                                    "2": "1"
                                },
                                {
                                    "0": "ESP",
                                    "1": "1948",
                                    "2": "2"
                                },
                                {
                                    "0": "BEL",
                                    "1": "1964",
                                    "2": "1"
                                },
                                {
                                    "0": "BRA",
                                    "1": "1952",
                                    "2": "1"
                                },
                                {
                                    "0": "ROU",
                                    "1": "1976",
                                    "2": "1"
                                },
                                {
                                    "0": "CAN",
                                    "1": "1952",
                                    "2": "1"
                                },
                                {
                                    "0": "DEN",
                                    "1": "1932",
                                    "2": "2"
                                },
                                {
                                    "0": "FIN",
                                    "1": "2008",
                                    "2": "1"
                                },
                                {
                                    "0": "FIN",
                                    "1": "1988",
                                    "2": "1"
                                },
                                {
                                    "0": "NZL",
                                    "1": "1920",
                                    "2": "3"
                                },
                                {
                                    "0": "MEX",
                                    "1": "1952",
                                    "2": "2"
                                },
                                {
                                    "0": "AUT",
                                    "1": "1976",
                                    "2": "1"
                                },
                                {
                                    "0": "LAT",
                                    "1": "1992",
                                    "2": "2"
                                },
                                {
                                    "0": "ROU",
                                    "1": "1956",
                                    "2": "1"
                                },
                                {
                                    "0": "ROU",
                                    "1": "1968",
                                    "2": "1"
                                },
                                {
                                    "0": "AUS",
                                    "1": "2006",
                                    "2": "1"
                                },
                                {
                                    "0": "AUS",
                                    "1": "1900",
                                    "2": "1"
                                },
                                {
                                    "0": "YUG",
                                    "1": "1952",
                                    "2": "1"
                                },
                                {
                                    "0": "TRI",
                                    "1": "1952",
                                    "2": "3"
                                },
                                {
                                    "0": "RUS",
                                    "1": "1994",
                                    "2": "1"
                                },
                                {
                                    "0": "BUL",
                                    "1": "2000",
                                    "2": "1"
                                },
                                {
                                    "0": "TPE",
                                    "1": "2000",
                                    "2": "2"
                                },
                                {
                                    "0": "RSA",
                                    "1": "1992",
                                    "2": "2"
                                },
                                {
                                    "0": "USA",
                                    "1": "2008",
                                    "2": "1"
                                },
                                {
                                    "0": "LAT",
                                    "1": "1932",
                                    "2": "2"
                                },
                                {
                                    "0": "JPN",
                                    "1": "2002",
                                    "2": "2"
                                },
                                {
                                    "0": "PHI",
                                    "1": "1928",
                                    "2": "3"
                                },
                                {
                                    "0": "IRL",
                                    "1": "1932",
                                    "2": "1"
                                },
                                {
                                    "0": "ARG",
                                    "1": "1928",
                                    "2": "1"
                                },
                                {
                                    "0": "IND",
                                    "1": "1928",
                                    "2": "1"
                                },
                                {
                                    "0": "GER",
                                    "1": "1928",
                                    "2": "1"
                                },
                                {
                                    "0": "HUN",
                                    "1": "1956",
                                    "2": "1"
                                },
                                {
                                    "0": "DEN",
                                    "1": "1964",
                                    "2": "1"
                                },
                                {
                                    "0": "GRE",
                                    "1": "1980",
                                    "2": "1"
                                },
                                {
                                    "0": "PAN",
                                    "1": "2008",
                                    "2": "1"
                                },
                                {
                                    "0": "AUS",
                                    "1": "1920",
                                    "2": "2"
                                },
                                {
                                    "0": "BRA",
                                    "1": "1960",
                                    "2": "3"
                                },
                                {
                                    "0": "BEL",
                                    "1": "2004",
                                    "2": "1"
                                },
                                {
                                    "0": "BEL",
                                    "1": "1996",
                                    "2": "1"
                                },
                                {
                                    "0": "SUI",
                                    "1": "1976",
                                    "2": "1"
                                },
                                {
                                    "0": "CUB",
                                    "1": "1904",
                                    "2": "1"
                                },
                                {
                                    "0": "ARM",
                                    "1": "1996",
                                    "2": "1"
                                },
                                {
                                    "0": "GRE",
                                    "1": "1988",
                                    "2": "3"
                                },
                                {
                                    "0": "CAN",
                                    "1": "1998",
                                    "2": "1"
                                },
                                {
                                    "0": "SWE",
                                    "1": "1972",
                                    "2": "1"
                                },
                                {
                                    "0": "SVK",
                                    "1": "2006",
                                    "2": "2"
                                },
                                {
                                    "0": "UKR",
                                    "1": "1996",
                                    "2": "1"
                                },
                                {
                                    "0": "ESP",
                                    "1": "1928",
                                    "2": "1"
                                },
                                {
                                    "0": "IND",
                                    "1": "2008",
                                    "2": "1"
                                },
                                {
                                    "0": "BUL",
                                    "1": "1960",
                                    "2": "1"
                                },
                                {
                                    "0": "USA",
                                    "1": "1928",
                                    "2": "1"
                                },
                                {
                                    "0": "RSA",
                                    "1": "1952",
                                    "2": "1"
                                },
                                {
                                    "0": "NZL",
                                    "1": "1960",
                                    "2": "1"
                                },
                                {
                                    "0": "IRI",
                                    "1": "1996",
                                    "2": "1"
                                },
                                {
                                    "0": "DEN",
                                    "1": "1998",
                                    "2": "2"
                                },
                                {
                                    "0": "JAM",
                                    "1": "1992",
                                    "2": "2"
                                },
                                {
                                    "0": "KOR",
                                    "1": "1998",
                                    "2": "1"
                                },
                                {
                                    "0": "FRA",
                                    "1": "2000",
                                    "2": "1"
                                },
                                {
                                    "0": "PRK",
                                    "1": "2008",
                                    "2": "1"
                                },
                                {
                                    "0": "GBR",
                                    "1": "1960",
                                    "2": "1"
                                },
                                {
                                    "0": "RSA",
                                    "1": "1912",
                                    "2": "1"
                                },
                                {
                                    "0": "UKR",
                                    "1": "2004",
                                    "2": "1"
                                },
                                {
                                    "0": "BLR",
                                    "1": "2008",
                                    "2": "1"
                                },
                                {
                                    "0": "CAN",
                                    "1": "1912",
                                    "2": "1"
                                },
                                {
                                    "0": "GDR",
                                    "1": "1976",
                                    "2": "1"
                                },
                                {
                                    "0": "RUS",
                                    "1": "2008",
                                    "2": "1"
                                },
                                {
                                    "0": "TCH",
                                    "1": "1924",
                                    "2": "1"
                                },
                                {
                                    "0": "SWE",
                                    "1": "1932",
                                    "2": "1"
                                },
                                {
                                    "0": "NZL",
                                    "1": "1992",
                                    "2": "1"
                                },
                                {
                                    "0": "VEN",
                                    "1": "1968",
                                    "2": "1"
                                },
                                {
                                    "0": "LTU",
                                    "1": "2000",
                                    "2": "1"
                                },
                                {
                                    "0": "MDA",
                                    "1": "2000",
                                    "2": "2"
                                },
                                {
                                    "0": "VEN",
                                    "1": "1960",
                                    "2": "3"
                                },
                                {
                                    "0": "BLR",
                                    "1": "2000",
                                    "2": "1"
                                },
                                {
                                    "0": "NZL",
                                    "1": "2000",
                                    "2": "1"
                                },
                                {
                                    "0": "KEN",
                                    "1": "1984",
                                    "2": "1"
                                },
                                {
                                    "0": "ZAM",
                                    "1": "1996",
                                    "2": "2"
                                },
                                {
                                    "0": "SVK",
                                    "1": "2000",
                                    "2": "1"
                                },
                                {
                                    "0": "NOR",
                                    "1": "1984",
                                    "2": "1"
                                },
                                {
                                    "0": "PUR",
                                    "1": "1996",
                                    "2": "3"
                                },
                                {
                                    "0": "GBR",
                                    "1": "2006",
                                    "2": "2"
                                },
                                {
                                    "0": "SWE",
                                    "1": "1900",
                                    "2": "3"
                                },
                                {
                                    "0": "IRL",
                                    "1": "1964",
                                    "2": "3"
                                },
                                {
                                    "0": "JAM",
                                    "1": "1952",
                                    "2": "1"
                                },
                                {
                                    "0": "LIE",
                                    "1": "1980",
                                    "2": "1"
                                },
                                {
                                    "0": "CRO",
                                    "1": "2002",
                                    "2": "1"
                                },
                                {
                                    "0": "FRA",
                                    "1": "1968",
                                    "2": "1"
                                },
                                {
                                    "0": "BUL",
                                    "1": "2006",
                                    "2": "2"
                                },
                                {
                                    "0": "NED",
                                    "1": "1988",
                                    "2": "1"
                                },
                                {
                                    "0": "MAR",
                                    "1": "2004",
                                    "2": "1"
                                },
                                {
                                    "0": "POL",
                                    "1": "1924",
                                    "2": "2"
                                },
                                {
                                    "0": "PAK",
                                    "1": "1976",
                                    "2": "3"
                                },
                                {
                                    "0": "JPN",
                                    "1": "1956",
                                    "2": "1"
                                },
                                {
                                    "0": "ITA",
                                    "1": "1976",
                                    "2": "1"
                                },
                                {
                                    "0": "FIN",
                                    "1": "2002",
                                    "2": "1"
                                },
                                {
                                    "0": "CUB",
                                    "1": "1976",
                                    "2": "1"
                                },
                                {
                                    "0": "RUS",
                                    "1": "2000",
                                    "2": "1"
                                },
                                {
                                    "0": "ARG",
                                    "1": "2008",
                                    "2": "1"
                                },
                                {
                                    "0": "KOR",
                                    "1": "1952",
                                    "2": "3"
                                },
                                {
                                    "0": "MAR",
                                    "1": "1996",
                                    "2": "3"
                                },
                                {
                                    "0": "AUS",
                                    "1": "2000",
                                    "2": "1"
                                },
                                {
                                    "0": "SUI",
                                    "1": "1936",
                                    "2": "1"
                                },
                                {
                                    "0": "YUG",
                                    "1": "1972",
                                    "2": "1"
                                },
                                {
                                    "0": "NED",
                                    "1": "1994",
                                    "2": "2"
                                },
                                {
                                    "0": "NED",
                                    "1": "1948",
                                    "2": "1"
                                },
                                {
                                    "0": "KAZ",
                                    "1": "1998",
                                    "2": "3"
                                },
                                {
                                    "0": "MGL",
                                    "1": "1980",
                                    "2": "2"
                                },
                                {
                                    "0": "DOM",
                                    "1": "1984",
                                    "2": "3"
                                },
                                {
                                    "0": "JPN",
                                    "1": "1996",
                                    "2": "1"
                                },
                                {
                                    "0": "NOR",
                                    "1": "1924",
                                    "2": "1"
                                },
                                {
                                    "0": "KOR",
                                    "1": "1992",
                                    "2": "1"
                                },
                                {
                                    "0": "SLO",
                                    "1": "1996",
                                    "2": "2"
                                },
                                {
                                    "0": "IND",
                                    "1": "1968",
                                    "2": "3"
                                },
                                {
                                    "0": "AUT",
                                    "1": "1936",
                                    "2": "1"
                                },
                                {
                                    "0": "USA",
                                    "1": "1948",
                                    "2": "1"
                                },
                                {
                                    "0": "ITA",
                                    "1": "1956",
                                    "2": "1"
                                },
                                {
                                    "0": "DEN",
                                    "1": "2004",
                                    "2": "1"
                                },
                                {
                                    "0": "BER",
                                    "1": "1976",
                                    "2": "3"
                                },
                                {
                                    "0": "ROU",
                                    "1": "1996",
                                    "2": "1"
                                },
                                {
                                    "0": "POR",
                                    "1": "2004",
                                    "2": "2"
                                },
                                {
                                    "0": "ARG",
                                    "1": "1956",
                                    "2": "2"
                                },
                                {
                                    "0": "EUA",
                                    "1": "1960",
                                    "2": "1"
                                },
                                {
                                    "0": "CRC",
                                    "1": "2000",
                                    "2": "3"
                                },
                                {
                                    "0": "KEN",
                                    "1": "2004",
                                    "2": "1"
                                },
                                {
                                    "0": "DEN",
                                    "1": "1912",
                                    "2": "1"
                                },
                                {
                                    "0": "SUR",
                                    "1": "1992",
                                    "2": "3"
                                },
                                {
                                    "0": "BRA",
                                    "1": "2000",
                                    "2": "2"
                                },
                                {
                                    "0": "FIN",
                                    "1": "1936",
                                    "2": "1"
                                },
                                {
                                    "0": "THA",
                                    "1": "2000",
                                    "2": "1"
                                },
                                {
                                    "0": "FRA",
                                    "1": "1994",
                                    "2": "2"
                                },
                                {
                                    "0": "COL",
                                    "1": "2004",
                                    "2": "3"
                                },
                                {
                                    "0": "FRG",
                                    "1": "1976",
                                    "2": "1"
                                },
                                {
                                    "0": "PAN",
                                    "1": "1948",
                                    "2": "3"
                                },
                                {
                                    "0": "GRE",
                                    "1": "2008",
                                    "2": "2"
                                },
                                {
                                    "0": "GRE",
                                    "1": "1908",
                                    "2": "2"
                                },
                                {
                                    "0": "BRA",
                                    "1": "1992",
                                    "2": "1"
                                },
                                {
                                    "0": "FRA",
                                    "1": "2008",
                                    "2": "1"
                                },
                                {
                                    "0": "URU",
                                    "1": "1932",
                                    "2": "3"
                                },
                                {
                                    "0": "BEL",
                                    "1": "1976",
                                    "2": "2"
                                },
                                {
                                    "0": "AUT",
                                    "1": "1996",
                                    "2": "2"
                                },
                                {
                                    "0": "ESP",
                                    "1": "2008",
                                    "2": "1"
                                },
                                {
                                    "0": "IRI",
                                    "1": "1956",
                                    "2": "1"
                                },
                                {
                                    "0": "CHN",
                                    "1": "1984",
                                    "2": "1"
                                },
                                {
                                    "0": "SCG",
                                    "1": "2004",
                                    "2": "2"
                                },
                                {
                                    "0": "SUD",
                                    "1": "2008",
                                    "2": "2"
                                },
                                {
                                    "0": "TCH",
                                    "1": "1964",
                                    "2": "1"
                                },
                                {
                                    "0": "ETH",
                                    "1": "1996",
                                    "2": "1"
                                },
                                {
                                    "0": "MEX",
                                    "1": "1932",
                                    "2": "2"
                                },
                                {
                                    "0": "ARG",
                                    "1": "1948",
                                    "2": "1"
                                },
                                {
                                    "0": "CAN",
                                    "1": "2004",
                                    "2": "1"
                                },
                                {
                                    "0": "FIN",
                                    "1": "1976",
                                    "2": "1"
                                },
                                {
                                    "0": "ROU",
                                    "1": "1988",
                                    "2": "1"
                                },
                                {
                                    "0": "FIN",
                                    "1": "1968",
                                    "2": "1"
                                },
                                {
                                    "0": "MEX",
                                    "1": "1972",
                                    "2": "2"
                                },
                                {
                                    "0": "ROU",
                                    "1": "1936",
                                    "2": "2"
                                },
                                {
                                    "0": "CAN",
                                    "1": "1972",
                                    "2": "2"
                                },
                                {
                                    "0": "SUI",
                                    "1": "1996",
                                    "2": "1"
                                },
                                {
                                    "0": "USA",
                                    "1": "1994",
                                    "2": "1"
                                },
                                {
                                    "0": "ITA",
                                    "1": "2002",
                                    "2": "1"
                                },
                                {
                                    "0": "BUL",
                                    "1": "1980",
                                    "2": "1"
                                },
                                {
                                    "0": "CMR",
                                    "1": "2000",
                                    "2": "1"
                                },
                                {
                                    "0": "BEL",
                                    "1": "1984",
                                    "2": "1"
                                },
                                {
                                    "0": "NED",
                                    "1": "2002",
                                    "2": "1"
                                },
                                {
                                    "0": "NED",
                                    "1": "1908",
                                    "2": "3"
                                },
                                {
                                    "0": "SWE",
                                    "1": "1992",
                                    "2": "1"
                                },
                                {
                                    "0": "POL",
                                    "1": "2004",
                                    "2": "1"
                                },
                                {
                                    "0": "GBR",
                                    "1": "2000",
                                    "2": "1"
                                },
                                {
                                    "0": "CAN",
                                    "1": "1964",
                                    "2": "1"
                                },
                                {
                                    "0": "FIN",
                                    "1": "1996",
                                    "2": "1"
                                },
                                {
                                    "0": "SWE",
                                    "1": "1960",
                                    "2": "1"
                                },
                                {
                                    "0": "IRI",
                                    "1": "1976",
                                    "2": "2"
                                },
                                {
                                    "0": "CAN",
                                    "1": "1932",
                                    "2": "1"
                                },
                                {
                                    "0": "TPE",
                                    "1": "1960",
                                    "2": "2"
                                },
                                {
                                    "0": "ITA",
                                    "1": "1996",
                                    "2": "1"
                                },
                                {
                                    "0": "ALG",
                                    "1": "1992",
                                    "2": "1"
                                },
                                {
                                    "0": "USA",
                                    "1": "1908",
                                    "2": "1"
                                },
                                {
                                    "0": "BRA",
                                    "1": "1972",
                                    "2": "3"
                                },
                                {
                                    "0": "FRA",
                                    "1": "1988",
                                    "2": "1"
                                },
                                {
                                    "0": "CUB",
                                    "1": "1996",
                                    "2": "1"
                                },
                                {
                                    "0": "CZE",
                                    "1": "2006",
                                    "2": "1"
                                },
                                {
                                    "0": "TUR",
                                    "1": "1960",
                                    "2": "1"
                                },
                                {
                                    "0": "NOR",
                                    "1": "1964",
                                    "2": "1"
                                },
                                {
                                    "0": "BAH",
                                    "1": "1964",
                                    "2": "1"
                                },
                                {
                                    "0": "TCH",
                                    "1": "1984",
                                    "2": "2"
                                },
                                {
                                    "0": "MEX",
                                    "1": "1992",
                                    "2": "2"
                                },
                                {
                                    "0": "TPE",
                                    "1": "1968",
                                    "2": "3"
                                },
                                {
                                    "0": "GER",
                                    "1": "1994",
                                    "2": "1"
                                },
                                {
                                    "0": "GBR",
                                    "1": "1980",
                                    "2": "1"
                                },
                                {
                                    "0": "KAZ",
                                    "1": "2004",
                                    "2": "1"
                                },
                                {
                                    "0": "DEN",
                                    "1": "1984",
                                    "2": "2"
                                },
                                {
                                    "0": "JAM",
                                    "1": "1972",
                                    "2": "3"
                                },
                                {
                                    "0": "BRA",
                                    "1": "1980",
                                    "2": "1"
                                },
                                {
                                    "0": "ISL",
                                    "1": "2000",
                                    "2": "3"
                                },
                                {
                                    "0": "EGY",
                                    "1": "1960",
                                    "2": "2"
                                },
                                {
                                    "0": "EST",
                                    "1": "2000",
                                    "2": "1"
                                },
                                {
                                    "0": "RSA",
                                    "1": "1932",
                                    "2": "1"
                                },
                                {
                                    "0": "INA",
                                    "1": "2000",
                                    "2": "1"
                                },
                                {
                                    "0": "BEL",
                                    "1": "2016",
                                    "2": "2"
                                },
                                {
                                    "0": "SWE",
                                    "1": "1952",
                                    "2": "1"
                                },
                                {
                                    "0": "HUN",
                                    "1": "1976",
                                    "2": "1"
                                },
                                {
                                    "0": "TRI",
                                    "1": "2000",
                                    "2": "2"
                                },
                                {
                                    "0": "FRA",
                                    "1": "1908",
                                    "2": "1"
                                },
                                {
                                    "0": "BEL",
                                    "1": "1924",
                                    "2": "1"
                                },
                                {
                                    "0": "NZL",
                                    "1": "1972",
                                    "2": "1"
                                },
                                {
                                    "0": "ISR",
                                    "1": "1992",
                                    "2": "2"
                                },
                                {
                                    "0": "GRE",
                                    "1": "2000",
                                    "2": "1"
                                },
                                {
                                    "0": "IND",
                                    "1": "1948",
                                    "2": "1"
                                },
                                {
                                    "0": "IRL",
                                    "1": "1952",
                                    "2": "2"
                                },
                                {
                                    "0": "CUB",
                                    "1": "1964",
                                    "2": "2"
                                },
                                {
                                    "0": "GER",
                                    "1": "1908",
                                    "2": "1"
                                },
                                {
                                    "0": "LIB",
                                    "1": "1972",
                                    "2": "2"
                                },
                                {
                                    "0": "JPN",
                                    "1": "1976",
                                    "2": "1"
                                },
                                {
                                    "0": "GBR",
                                    "1": "1900",
                                    "2": "1"
                                },
                                {
                                    "0": "URS",
                                    "1": "1988",
                                    "2": "1"
                                },
                                {
                                    "0": "KOR",
                                    "1": "1972",
                                    "2": "2"
                                },
                                {
                                    "0": "AUS",
                                    "1": "1980",
                                    "2": "1"
                                },
                                {
                                    "0": "ARG",
                                    "1": "1988",
                                    "2": "2"
                                },
                                {
                                    "0": "AUT",
                                    "1": "2002",
                                    "2": "1"
                                },
                                {
                                    "0": "POR",
                                    "1": "1984",
                                    "2": "1"
                                },
                                {
                                    "0": "NOR",
                                    "1": "2004",
                                    "2": "1"
                                },
                                {
                                    "0": "EST",
                                    "1": "1920",
                                    "2": "1"
                                },
                                {
                                    "0": "JPN",
                                    "1": "1936",
                                    "2": "1"
                                },
                                {
                                    "0": "ECU",
                                    "1": "2008",
                                    "2": "2"
                                },
                                {
                                    "0": "PAK",
                                    "1": "1956",
                                    "2": "2"
                                },
                                {
                                    "0": "NED",
                                    "1": "1968",
                                    "2": "1"
                                },
                                {
                                    "0": "COL",
                                    "1": "1984",
                                    "2": "2"
                                },
                                {
                                    "0": "FRA",
                                    "1": "1948",
                                    "2": "1"
                                },
                                {
                                    "0": "NED",
                                    "1": "2008",
                                    "2": "1"
                                },
                                {
                                    "0": "MAR",
                                    "1": "1984",
                                    "2": "1"
                                },
                                {
                                    "0": "SUI",
                                    "1": "2002",
                                    "2": "1"
                                },
                                {
                                    "0": "GRE",
                                    "1": "1968",
                                    "2": "3"
                                },
                                {
                                    "0": "VEN",
                                    "1": "1980",
                                    "2": "2"
                                },
                                {
                                    "0": "KEN",
                                    "1": "1964",
                                    "2": "3"
                                },
                                {
                                    "0": "SWE",
                                    "1": "2006",
                                    "2": "1"
                                },
                                {
                                    "0": "USA",
                                    "1": "1988",
                                    "2": "1"
                                },
                                {
                                    "0": "FRA",
                                    "1": "1936",
                                    "2": "1"
                                },
                                {
                                    "0": "MEX",
                                    "1": "1960",
                                    "2": "3"
                                },
                                {
                                    "0": "PAK",
                                    "1": "1968",
                                    "2": "1"
                                },
                                {
                                    "0": "YUG",
                                    "1": "1968",
                                    "2": "1"
                                },
                                {
                                    "0": "NGR",
                                    "1": "1964",
                                    "2": "3"
                                },
                                {
                                    "0": "TCH",
                                    "1": "1936",
                                    "2": "1"
                                },
                                {
                                    "0": "SLO",
                                    "1": "2008",
                                    "2": "1"
                                },
                                {
                                    "0": "MGL",
                                    "1": "1968",
                                    "2": "2"
                                },
                                {
                                    "0": "BEL",
                                    "1": "1948",
                                    "2": "1"
                                },
                                {
                                    "0": "GER",
                                    "1": "1900",
                                    "2": "1"
                                },
                                {
                                    "0": "SUI",
                                    "1": "1948",
                                    "2": "1"
                                },
                                {
                                    "0": "POL",
                                    "1": "1956",
                                    "2": "1"
                                },
                                {
                                    "0": "ESP",
                                    "1": "1996",
                                    "2": "1"
                                },
                                {
                                    "0": "CAN",
                                    "1": "1900",
                                    "2": "1"
                                },
                                {
                                    "0": "NED",
                                    "1": "1936",
                                    "2": "1"
                                },
                                {
                                    "0": "ROU",
                                    "1": "2000",
                                    "2": "1"
                                },
                                {
                                    "0": "TUN",
                                    "1": "1972",
                                    "2": "2"
                                },
                                {
                                    "0": "COL",
                                    "1": "2000",
                                    "2": "1"
                                },
                                {
                                    "0": "EGY",
                                    "1": "1948",
                                    "2": "1"
                                },
                                {
                                    "0": "ZIM",
                                    "1": "1980",
                                    "2": "1"
                                },
                                {
                                    "0": "KOR",
                                    "1": "1996",
                                    "2": "1"
                                },
                                {
                                    "0": "GER",
                                    "1": "2000",
                                    "2": "1"
                                },
                                {
                                    "0": "ITA",
                                    "1": "1928",
                                    "2": "1"
                                },
                                {
                                    "0": "POR",
                                    "1": "2008",
                                    "2": "1"
                                },
                                {
                                    "0": "GER",
                                    "1": "1992",
                                    "2": "1"
                                },
                                {
                                    "0": "JPN",
                                    "1": "2008",
                                    "2": "1"
                                },
                                {
                                    "0": "AUS",
                                    "1": "1952",
                                    "2": "1"
                                },
                                {
                                    "0": "NOR",
                                    "1": "1936",
                                    "2": "1"
                                },
                                {
                                    "0": "ARG",
                                    "1": "1960",
                                    "2": "2"
                                },
                                {
                                    "0": "KOR",
                                    "1": "2004",
                                    "2": "1"
                                },
                                {
                                    "0": "USA",
                                    "1": "1936",
                                    "2": "1"
                                },
                                {
                                    "0": "AUT",
                                    "1": "1948",
                                    "2": "1"
                                },
                                {
                                    "0": "CHI",
                                    "1": "1952",
                                    "2": "2"
                                },
                                {
                                    "0": "RSA",
                                    "1": "1960",
                                    "2": "2"
                                },
                                {
                                    "0": "CAN",
                                    "1": "1960",
                                    "2": "1"
                                },
                                {
                                    "0": "MAS",
                                    "1": "1996",
                                    "2": "2"
                                },
                                {
                                    "0": "LAT",
                                    "1": "2000",
                                    "2": "1"
                                },
                                {
                                    "0": "SUI",
                                    "1": "2008",
                                    "2": "1"
                                },
                                {
                                    "0": "UZB",
                                    "1": "2008",
                                    "2": "1"
                                },
                                {
                                    "0": "CRC",
                                    "1": "1988",
                                    "2": "2"
                                },
                                {
                                    "0": "BUL",
                                    "1": "1992",
                                    "2": "1"
                                },
                                {
                                    "0": "IRL",
                                    "1": "2000",
                                    "2": "2"
                                },
                                {
                                    "0": "IRI",
                                    "1": "1952",
                                    "2": "2"
                                },
                                {
                                    "0": "FIN",
                                    "1": "1964",
                                    "2": "1"
                                },
                                {
                                    "0": "CRC",
                                    "1": "1996",
                                    "2": "1"
                                },
                                {
                                    "0": "BLR",
                                    "1": "2002",
                                    "2": "3"
                                },
                                {
                                    "0": "CAN",
                                    "1": "2000",
                                    "2": "1"
                                },
                                {
                                    "0": "AUT",
                                    "1": "2000",
                                    "2": "1"
                                },
                                {
                                    "0": "CRO",
                                    "1": "2004",
                                    "2": "1"
                                },
                                {
                                    "0": "DOM",
                                    "1": "2004",
                                    "2": "1"
                                },
                                {
                                    "0": "GEO",
                                    "1": "1996",
                                    "2": "3"
                                },
                                {
                                    "0": "MEX",
                                    "1": "1968",
                                    "2": "1"
                                },
                                {
                                    "0": "AUS",
                                    "1": "1998",
                                    "2": "3"
                                },
                                {
                                    "0": "YUG",
                                    "1": "1960",
                                    "2": "1"
                                },
                                {
                                    "0": "BEL",
                                    "1": "1988",
                                    "2": "3"
                                },
                                {
                                    "0": "TPE",
                                    "1": "1992",
                                    "2": "2"
                                },
                                {
                                    "0": "NGR",
                                    "1": "2004",
                                    "2": "3"
                                },
                                {
                                    "0": "GBR",
                                    "1": "2004",
                                    "2": "1"
                                },
                                {
                                    "0": "RSA",
                                    "1": "2000",
                                    "2": "2"
                                },
                                {
                                    "0": "DEN",
                                    "1": "1956",
                                    "2": "1"
                                },
                                {
                                    "0": "MGL",
                                    "1": "2008",
                                    "2": "1"
                                },
                                {
                                    "0": "TUR",
                                    "1": "1992",
                                    "2": "1"
                                },
                                {
                                    "0": "RUS",
                                    "1": "2002",
                                    "2": "1"
                                },
                                {
                                    "0": "HUN",
                                    "1": "1928",
                                    "2": "1"
                                },
                                {
                                    "0": "NZL",
                                    "1": "1928",
                                    "2": "1"
                                },
                                {
                                    "0": "SUI",
                                    "1": "2000",
                                    "2": "1"
                                },
                                {
                                    "0": "SWE",
                                    "1": "2004",
                                    "2": "1"
                                },
                                {
                                    "0": "CHN",
                                    "1": "2006",
                                    "2": "1"
                                },
                                {
                                    "0": "ALG",
                                    "1": "1996",
                                    "2": "1"
                                },
                                {
                                    "0": "SWE",
                                    "1": "1964",
                                    "2": "1"
                                },
                                {
                                    "0": "NOR",
                                    "1": "1976",
                                    "2": "1"
                                },
                                {
                                    "0": "SEN",
                                    "1": "1988",
                                    "2": "2"
                                },
                                {
                                    "0": "AUT",
                                    "1": "1968",
                                    "2": "1"
                                },
                                {
                                    "0": "MKD",
                                    "1": "2000",
                                    "2": "3"
                                },
                                {
                                    "0": "IRI",
                                    "1": "1972",
                                    "2": "2"
                                },
                                {
                                    "0": "JPN",
                                    "1": "1994",
                                    "2": "1"
                                },
                                {
                                    "0": "FRA",
                                    "1": "1976",
                                    "2": "1"
                                },
                                {
                                    "0": "POL",
                                    "1": "1996",
                                    "2": "1"
                                },
                                {
                                    "0": "ITA",
                                    "1": "2000",
                                    "2": "1"
                                },
                                {
                                    "0": "YUG",
                                    "1": "1928",
                                    "2": "1"
                                },
                                {
                                    "0": "ETH",
                                    "1": "1964",
                                    "2": "1"
                                },
                                {
                                    "0": "BRA",
                                    "1": "1968",
                                    "2": "2"
                                },
                                {
                                    "0": "SLO",
                                    "1": "2002",
                                    "2": "3"
                                },
                                {
                                    "0": "PRK",
                                    "1": "2000",
                                    "2": "2"
                                },
                                {
                                    "0": "PUR",
                                    "1": "1948",
                                    "2": "3"
                                },
                                {
                                    "0": "UZB",
                                    "1": "1996",
                                    "2": "2"
                                },
                                {
                                    "0": "JAM",
                                    "1": "1976",
                                    "2": "1"
                                },
                                {
                                    "0": "GBR",
                                    "1": "1952",
                                    "2": "1"
                                },
                                {
                                    "0": "NZL",
                                    "1": "1968",
                                    "2": "1"
                                },
                                {
                                    "0": "MEX",
                                    "1": "1988",
                                    "2": "3"
                                },
                                {
                                    "0": "ISR",
                                    "1": "1996",
                                    "2": "3"
                                },
                                {
                                    "0": "BUL",
                                    "1": "1952",
                                    "2": "3"
                                },
                                {
                                    "0": "CAN",
                                    "1": "1920",
                                    "2": "1"
                                },
                                {
                                    "0": "JAM",
                                    "1": "1984",
                                    "2": "2"
                                },
                                {
                                    "0": "TRI",
                                    "1": "2004",
                                    "2": "3"
                                },
                                {
                                    "0": "ITA",
                                    "1": "1968",
                                    "2": "1"
                                },
                                {
                                    "0": "CUB",
                                    "1": "1968",
                                    "2": "2"
                                },
                                {
                                    "0": "GER",
                                    "1": "2006",
                                    "2": "1"
                                },
                                {
                                    "0": "KEN",
                                    "1": "1992",
                                    "2": "1"
                                },
                                {
                                    "0": "NAM",
                                    "1": "1996",
                                    "2": "2"
                                },
                                {
                                    "0": "IRI",
                                    "1": "2004",
                                    "2": "1"
                                },
                                {
                                    "0": "GRE",
                                    "1": "1996",
                                    "2": "1"
                                },
                                {
                                    "0": "AUS",
                                    "1": "1984",
                                    "2": "1"
                                },
                                {
                                    "0": "HUN",
                                    "1": "1988",
                                    "2": "1"
                                },
                                {
                                    "0": "CAN",
                                    "1": "2006",
                                    "2": "1"
                                },
                                {
                                    "0": "LTU",
                                    "1": "1992",
                                    "2": "1"
                                },
                                {
                                    "0": "SUR",
                                    "1": "1988",
                                    "2": "1"
                                },
                                {
                                    "0": "GBR",
                                    "1": "1998",
                                    "2": "3"
                                },
                                {
                                    "0": "RSA",
                                    "1": "1920",
                                    "2": "1"
                                },
                                {
                                    "0": "POR",
                                    "1": "1996",
                                    "2": "1"
                                },
                                {
                                    "0": "CUB",
                                    "1": "2008",
                                    "2": "1"
                                },
                                {
                                    "0": "ITA",
                                    "1": "1960",
                                    "2": "1"
                                },
                                {
                                    "0": "FIN",
                                    "1": "1924",
                                    "2": "1"
                                },
                                {
                                    "0": "ITA",
                                    "1": "2008",
                                    "2": "1"
                                },
                                {
                                    "0": "POR",
                                    "1": "1988",
                                    "2": "1"
                                },
                                {
                                    "0": "NZL",
                                    "1": "2008",
                                    "2": "1"
                                },
                                {
                                    "0": "NIG",
                                    "1": "1972",
                                    "2": "3"
                                },
                                {
                                    "0": "SWE",
                                    "1": "1924",
                                    "2": "1"
                                },
                                {
                                    "0": "IND",
                                    "1": "1936",
                                    "2": "1"
                                },
                                {
                                    "0": "GDR",
                                    "1": "1984",
                                    "2": "1"
                                },
                                {
                                    "0": "MAR",
                                    "1": "1988",
                                    "2": "1"
                                },
                                {
                                    "0": "ZZX",
                                    "1": "1900",
                                    "2": "1"
                                },
                                {
                                    "0": "USA",
                                    "1": "1976",
                                    "2": "1"
                                },
                                {
                                    "0": "FIN",
                                    "1": "2010",
                                    "2": "3"
                                },
                                {
                                    "0": "COL",
                                    "1": "1972",
                                    "2": "2"
                                },
                                {
                                    "0": "POL",
                                    "1": "2002",
                                    "2": "2"
                                },
                                {
                                    "0": "AUS",
                                    "1": "1992",
                                    "2": "1"
                                },
                                {
                                    "0": "URS",
                                    "1": "1960",
                                    "2": "1"
                                },
                                {
                                    "0": "ARG",
                                    "1": "2000",
                                    "2": "2"
                                },
                                {
                                    "0": "GER",
                                    "1": "1952",
                                    "2": "1"
                                },
                                {
                                    "0": "GRE",
                                    "1": "1956",
                                    "2": "3"
                                },
                                {
                                    "0": "BAH",
                                    "1": "2000",
                                    "2": "1"
                                },
                                {
                                    "0": "CHN",
                                    "1": "1998",
                                    "2": "2"
                                },
                                {
                                    "0": "NED",
                                    "1": "1996",
                                    "2": "1"
                                },
                                {
                                    "0": "GHA",
                                    "1": "1964",
                                    "2": "3"
                                },
                                {
                                    "0": "LIE",
                                    "1": "1988",
                                    "2": "3"
                                },
                                {
                                    "0": "GBR",
                                    "1": "1912",
                                    "2": "1"
                                },
                                {
                                    "0": "BAH",
                                    "1": "1992",
                                    "2": "3"
                                },
                                {
                                    "0": "BUL",
                                    "1": "1998",
                                    "2": "1"
                                },
                                {
                                    "0": "HUN",
                                    "1": "2008",
                                    "2": "1"
                                },
                                {
                                    "0": "AZE",
                                    "1": "2004",
                                    "2": "1"
                                },
                                {
                                    "0": "CZE",
                                    "1": "2004",
                                    "2": "1"
                                },
                                {
                                    "0": "TRI",
                                    "1": "1964",
                                    "2": "2"
                                },
                                {
                                    "0": "ITA",
                                    "1": "1948",
                                    "2": "1"
                                },
                                {
                                    "0": "USA",
                                    "1": "1956",
                                    "2": "1"
                                },
                                {
                                    "0": "AUS",
                                    "1": "1964",
                                    "2": "1"
                                },
                                {
                                    "0": "ITA",
                                    "1": "1994",
                                    "2": "1"
                                },
                                {
                                    "0": "CAN",
                                    "1": "1980",
                                    "2": "2"
                                },
                                {
                                    "0": "USA",
                                    "1": "2002",
                                    "2": "1"
                                },
                                {
                                    "0": "IRL",
                                    "1": "1980",
                                    "2": "2"
                                },
                                {
                                    "0": "KOR",
                                    "1": "1984",
                                    "2": "1"
                                },
                                {
                                    "0": "BRA",
                                    "1": "2008",
                                    "2": "1"
                                },
                                {
                                    "0": "HUN",
                                    "1": "1908",
                                    "2": "1"
                                },
                                {
                                    "0": "POL",
                                    "1": "1936",
                                    "2": "2"
                                },
                                {
                                    "0": "CUB",
                                    "1": "1948",
                                    "2": "2"
                                },
                                {
                                    "0": "GBR",
                                    "1": "1932",
                                    "2": "1"
                                },
                                {
                                    "0": "EGY",
                                    "1": "1928",
                                    "2": "1"
                                },
                                {
                                    "0": "SUI",
                                    "1": "1928",
                                    "2": "1"
                                },
                                {
                                    "0": "AUS",
                                    "1": "1972",
                                    "2": "1"
                                },
                                {
                                    "0": "YUG",
                                    "1": "1980",
                                    "2": "1"
                                },
                                {
                                    "0": "JPN",
                                    "1": "1988",
                                    "2": "1"
                                },
                                {
                                    "0": "VEN",
                                    "1": "1952",
                                    "2": "3"
                                },
                                {
                                    "0": "FRG",
                                    "1": "1984",
                                    "2": "1"
                                },
                                {
                                    "0": "MAS",
                                    "1": "2008",
                                    "2": "2"
                                },
                                {
                                    "0": "URS",
                                    "1": "1980",
                                    "2": "1"
                                },
                                {
                                    "0": "PER",
                                    "1": "1984",
                                    "2": "2"
                                },
                                {
                                    "0": "BEL",
                                    "1": "1936",
                                    "2": "3"
                                },
                                {
                                    "0": "NGR",
                                    "1": "1984",
                                    "2": "2"
                                },
                                {
                                    "0": "FRA",
                                    "1": "2002",
                                    "2": "1"
                                },
                                {
                                    "0": "INA",
                                    "1": "1988",
                                    "2": "2"
                                },
                                {
                                    "0": "EST",
                                    "1": "2002",
                                    "2": "1"
                                },
                                {
                                    "0": "TCH",
                                    "1": "1956",
                                    "2": "1"
                                },
                                {
                                    "0": "UKR",
                                    "1": "2008",
                                    "2": "1"
                                },
                                {
                                    "0": "AUT",
                                    "1": "1928",
                                    "2": "1"
                                },
                                {
                                    "0": "DEN",
                                    "1": "1996",
                                    "2": "1"
                                },
                                {
                                    "0": "BEL",
                                    "1": "1928",
                                    "2": "2"
                                },
                                {
                                    "0": "MEX",
                                    "1": "1980",
                                    "2": "2"
                                },
                                {
                                    "0": "KGZ",
                                    "1": "2000",
                                    "2": "3"
                                },
                                {
                                    "0": "YUG",
                                    "1": "1948",
                                    "2": "2"
                                },
                                {
                                    "0": "THA",
                                    "1": "1992",
                                    "2": "3"
                                },
                                {
                                    "0": "NED",
                                    "1": "1924",
                                    "2": "1"
                                },
                                {
                                    "0": "SWE",
                                    "1": "1984",
                                    "2": "1"
                                },
                                {
                                    "0": "GBR",
                                    "1": "1992",
                                    "2": "1"
                                },
                                {
                                    "0": "PER",
                                    "1": "1992",
                                    "2": "2"
                                },
                                {
                                    "0": "TUR",
                                    "1": "1972",
                                    "2": "2"
                                },
                                {
                                    "0": "NOR",
                                    "1": "2002",
                                    "2": "1"
                                },
                                {
                                    "0": "JAM",
                                    "1": "2004",
                                    "2": "1"
                                },
                                {
                                    "0": "GER",
                                    "1": "2012",
                                    "2": "1"
                                },
                                {
                                    "0": "AUS",
                                    "1": "1932",
                                    "2": "1"
                                },
                                {
                                    "0": "SUI",
                                    "1": "1968",
                                    "2": "2"
                                },
                                {
                                    "0": "ROU",
                                    "1": "1980",
                                    "2": "1"
                                },
                                {
                                    "0": "YUG",
                                    "1": "1988",
                                    "2": "1"
                                },
                                {
                                    "0": "IRI",
                                    "1": "1964",
                                    "2": "3"
                                },
                                {
                                    "0": "GBR",
                                    "1": "1984",
                                    "2": "1"
                                },
                                {
                                    "0": "HUN",
                                    "1": "1948",
                                    "2": "1"
                                },
                                {
                                    "0": "AUT",
                                    "1": "1960",
                                    "2": "1"
                                },
                                {
                                    "0": "MGL",
                                    "1": "1988",
                                    "2": "3"
                                },
                                {
                                    "0": "ETH",
                                    "1": "2004",
                                    "2": "1"
                                },
                                {
                                    "0": "PHI",
                                    "1": "1992",
                                    "2": "3"
                                },
                                {
                                    "0": "FIN",
                                    "1": "2004",
                                    "2": "2"
                                },
                                {
                                    "0": "BUL",
                                    "1": "2004",
                                    "2": "1"
                                },
                                {
                                    "0": "DEN",
                                    "1": "1936",
                                    "2": "2"
                                },
                                {
                                    "0": "FIN",
                                    "1": "1984",
                                    "2": "1"
                                },
                                {
                                    "0": "BEL",
                                    "1": "1968",
                                    "2": "2"
                                },
                                {
                                    "0": "ESP",
                                    "1": "1976",
                                    "2": "2"
                                },
                                {
                                    "0": "AUT",
                                    "1": "1988",
                                    "2": "1"
                                },
                                {
                                    "0": "BRA",
                                    "1": "1948",
                                    "2": "3"
                                },
                                {
                                    "0": "MEX",
                                    "1": "1948",
                                    "2": "1"
                                },
                                {
                                    "0": "ROU",
                                    "1": "1960",
                                    "2": "1"
                                },
                                {
                                    "0": "AUT",
                                    "1": "1980",
                                    "2": "1"
                                },
                                {
                                    "0": "CHN",
                                    "1": "1992",
                                    "2": "1"
                                },
                                {
                                    "0": "PHI",
                                    "1": "1932",
                                    "2": "3"
                                },
                                {
                                    "0": "ISL",
                                    "1": "1984",
                                    "2": "3"
                                },
                                {
                                    "0": "ARM",
                                    "1": "2008",
                                    "2": "3"
                                },
                                {
                                    "0": "TUR",
                                    "1": "1952",
                                    "2": "1"
                                },
                                {
                                    "0": "KAZ",
                                    "1": "1996",
                                    "2": "1"
                                },
                                {
                                    "0": "BEL",
                                    "1": "1908",
                                    "2": "1"
                                },
                                {
                                    "0": "BUL",
                                    "1": "1964",
                                    "2": "1"
                                },
                                {
                                    "0": "GBR",
                                    "1": "1972",
                                    "2": "1"
                                },
                                {
                                    "0": "KEN",
                                    "1": "1972",
                                    "2": "1"
                                },
                                {
                                    "0": "SUI",
                                    "1": "1988",
                                    "2": "1"
                                },
                                {
                                    "0": "AUS",
                                    "1": "2012",
                                    "2": "3"
                                },
                                {
                                    "0": "DEN",
                                    "1": "1976",
                                    "2": "1"
                                },
                                {
                                    "0": "BUL",
                                    "1": "1972",
                                    "2": "1"
                                },
                                {
                                    "0": "CZE",
                                    "1": "1998",
                                    "2": "1"
                                },
                                {
                                    "0": "ITA",
                                    "1": "1908",
                                    "2": "1"
                                },
                                {
                                    "0": "BLR",
                                    "1": "1996",
                                    "2": "1"
                                },
                                {
                                    "0": "TCH",
                                    "1": "1976",
                                    "2": "1"
                                },
                                {
                                    "0": "ALG",
                                    "1": "1984",
                                    "2": "3"
                                },
                                {
                                    "0": "IRI",
                                    "1": "1992",
                                    "2": "2"
                                },
                                {
                                    "0": "POL",
                                    "1": "1976",
                                    "2": "1"
                                },
                                {
                                    "0": "BEL",
                                    "1": "2008",
                                    "2": "1"
                                },
                                {
                                    "0": "INA",
                                    "1": "2008",
                                    "2": "1"
                                },
                                {
                                    "0": "NZL",
                                    "1": "1988",
                                    "2": "1"
                                },
                                {
                                    "0": "JAM",
                                    "1": "1996",
                                    "2": "1"
                                },
                                {
                                    "0": "FRA",
                                    "1": "1996",
                                    "2": "1"
                                },
                                {
                                    "0": "EST",
                                    "1": "2008",
                                    "2": "1"
                                },
                                {
                                    "0": "UGA",
                                    "1": "1972",
                                    "2": "1"
                                },
                                {
                                    "0": "GBR",
                                    "1": "1964",
                                    "2": "1"
                                },
                                {
                                    "0": "URU",
                                    "1": "1924",
                                    "2": "1"
                                },
                                {
                                    "0": "HUN",
                                    "1": "1968",
                                    "2": "1"
                                },
                                {
                                    "0": "MEX",
                                    "1": "2000",
                                    "2": "1"
                                },
                                {
                                    "0": "YUG",
                                    "1": "2000",
                                    "2": "1"
                                },
                                {
                                    "0": "BRA",
                                    "1": "1988",
                                    "2": "1"
                                },
                                {
                                    "0": "IND",
                                    "1": "1996",
                                    "2": "3"
                                },
                                {
                                    "0": "NOR",
                                    "1": "1996",
                                    "2": "1"
                                },
                                {
                                    "0": "JPN",
                                    "1": "1928",
                                    "2": "1"
                                },
                                {
                                    "0": "GDR",
                                    "1": "1972",
                                    "2": "1"
                                },
                                {
                                    "0": "KOR",
                                    "1": "1964",
                                    "2": "2"
                                },
                                {
                                    "0": "AUT",
                                    "1": "1994",
                                    "2": "1"
                                },
                                {
                                    "0": "COL",
                                    "1": "1992",
                                    "2": "3"
                                },
                                {
                                    "0": "RU1",
                                    "1": "1908",
                                    "2": "1"
                                },
                                {
                                    "0": "NED",
                                    "1": "1976",
                                    "2": "1"
                                },
                                {
                                    "0": "RSA",
                                    "1": "1908",
                                    "2": "1"
                                },
                                {
                                    "0": "NOR",
                                    "1": "1956",
                                    "2": "1"
                                },
                                {
                                    "0": "EST",
                                    "1": "1928",
                                    "2": "1"
                                },
                                {
                                    "0": "PRK",
                                    "1": "1980",
                                    "2": "2"
                                },
                                {
                                    "0": "POR",
                                    "1": "1936",
                                    "2": "3"
                                },
                                {
                                    "0": "AUT",
                                    "1": "1908",
                                    "2": "3"
                                },
                                {
                                    "0": "LTU",
                                    "1": "2004",
                                    "2": "1"
                                },
                                {
                                    "0": "URU",
                                    "1": "1964",
                                    "2": "3"
                                },
                                {
                                    "0": "ITA",
                                    "1": "1980",
                                    "2": "1"
                                },
                                {
                                    "0": "LIB",
                                    "1": "1980",
                                    "2": "3"
                                },
                                {
                                    "0": "SUI",
                                    "1": "1994",
                                    "2": "1"
                                },
                                {
                                    "0": "SWE",
                                    "1": "1998",
                                    "2": "2"
                                },
                                {
                                    "0": "AHO",
                                    "1": "1988",
                                    "2": "2"
                                },
                                {
                                    "0": "USA",
                                    "1": "1996",
                                    "2": "1"
                                },
                                {
                                    "0": "ZAM",
                                    "1": "1984",
                                    "2": "3"
                                },
                                {
                                    "0": "MAR",
                                    "1": "2008",
                                    "2": "2"
                                },
                                {
                                    "0": "IND",
                                    "1": "1956",
                                    "2": "1"
                                },
                                {
                                    "0": "POR",
                                    "1": "1976",
                                    "2": "2"
                                },
                                {
                                    "0": "HAI",
                                    "1": "1928",
                                    "2": "2"
                                },
                                {
                                    "0": "AUS",
                                    "1": "2004",
                                    "2": "1"
                                },
                                {
                                    "0": "UAE",
                                    "1": "2004",
                                    "2": "1"
                                },
                                {
                                    "0": "LAT",
                                    "1": "2006",
                                    "2": "3"
                                },
                                {
                                    "0": "EGY",
                                    "1": "2008",
                                    "2": "3"
                                },
                                {
                                    "0": "PAK",
                                    "1": "1988",
                                    "2": "3"
                                },
                                {
                                    "0": "JPN",
                                    "1": "1968",
                                    "2": "1"
                                },
                                {
                                    "0": "ITA",
                                    "1": "1988",
                                    "2": "1"
                                },
                                {
                                    "0": "FRA",
                                    "1": "1956",
                                    "2": "1"
                                },
                                {
                                    "0": "RUS",
                                    "1": "1996",
                                    "2": "1"
                                }
                            ]
                        },
                        "text/html": [
                            "<table>",
                            "<tr><th>NOC</th><th>Edition</th><th>max_medal_value</th></tr>",
                            "<tr><td>CHI</td><td>1928</td><td>2</td></tr>",
                            "<tr><td>MGL</td><td>1976</td><td>2</td></tr>",
                            "<tr><td>SLO</td><td>2000</td><td>1</td></tr>",
                            "<tr><td>KAZ</td><td>1994</td><td>1</td></tr>",
                            "<tr><td>KOR</td><td>1988</td><td>1</td></tr>",
                            "<tr><td>AFG</td><td>2008</td><td>3</td></tr>",
                            "<tr><td>NOR</td><td>1928</td><td>1</td></tr>",
                            "<tr><td>JPN</td><td>2000</td><td>1</td></tr>",
                            "<tr><td>IND</td><td>1964</td><td>1</td></tr>",
                            "<tr><td>JPN</td><td>1992</td><td>1</td></tr>",
                            "<tr><td>SUI</td><td>1932</td><td>2</td></tr>",
                            "<tr><td>POL</td><td>1948</td><td>3</td></tr>",
                            "<tr><td>ITA</td><td>1952</td><td>1</td></tr>",
                            "<tr><td>YUG</td><td>1976</td><td>1</td></tr>",
                            "<tr><td>IND</td><td>1972</td><td>3</td></tr>",
                            "<tr><td>TRI</td><td>1976</td><td>1</td></tr>",
                            "<tr><td>PAK</td><td>1960</td><td>1</td></tr>",
                            "<tr><td>THA</td><td>2004</td><td>1</td></tr>",
                            "<tr><td>SIN</td><td>2008</td><td>2</td></tr>",
                            "<tr><td>POR</td><td>2000</td><td>3</td></tr>",
                            "<tr><td>KEN</td><td>2000</td><td>1</td></tr>",
                            "<tr><td>FIN</td><td>1932</td><td>1</td></tr>",
                            "<tr><td>FRA</td><td>1998</td><td>1</td></tr>",
                            "<tr><td>DEN</td><td>2008</td><td>1</td></tr>",
                            "<tr><td>DEN</td><td>1908</td><td>2</td></tr>",
                            "<tr><td>BRA</td><td>1996</td><td>1</td></tr>",
                            "<tr><td>NED</td><td>1952</td><td>2</td></tr>",
                            "<tr><td>ARG</td><td>1952</td><td>1</td></tr>",
                            "<tr><td>CAN</td><td>2014</td><td>1</td></tr>",
                            "<tr><td>NGR</td><td>1972</td><td>3</td></tr>",
                            "<tr><td>GRE</td><td>2004</td><td>1</td></tr>",
                            "<tr><td>PHI</td><td>1964</td><td>2</td></tr>",
                            "<tr><td>FRG</td><td>1980</td><td>2</td></tr>",
                            "<tr><td>UGA</td><td>1980</td><td>2</td></tr>",
                            "<tr><td>TCH</td><td>1960</td><td>1</td></tr>",
                            "<tr><td>COL</td><td>2008</td><td>2</td></tr>",
                            "<tr><td>AUT</td><td>1932</td><td>1</td></tr>",
                            "<tr><td>TUN</td><td>1964</td><td>2</td></tr>",
                            "<tr><td>GRE</td><td>1904</td><td>1</td></tr>",
                            "<tr><td>ITA</td><td>1920</td><td>1</td></tr>",
                            "<tr><td>ETH</td><td>1992</td><td>1</td></tr>",
                            "<tr><td>FRG</td><td>1972</td><td>1</td></tr>",
                            "<tr><td>CAN</td><td>2008</td><td>1</td></tr>",
                            "<tr><td>UKR</td><td>2006</td><td>3</td></tr>",
                            "<tr><td>RSA</td><td>2008</td><td>2</td></tr>",
                            "<tr><td>AUT</td><td>1992</td><td>1</td></tr>",
                            "<tr><td>ESP</td><td>2004</td><td>1</td></tr>",
                            "<tr><td>AUS</td><td>1936</td><td>3</td></tr>",
                            "<tr><td>MEX</td><td>1936</td><td>3</td></tr>",
                            "<tr><td>TCH</td><td>1968</td><td>1</td></tr>",
                            "<tr><td>GBR</td><td>1996</td><td>1</td></tr>",
                            "<tr><td>TPE</td><td>1984</td><td>3</td></tr>",
                            "<tr><td>IRI</td><td>1960</td><td>2</td></tr>",
                            "<tr><td>CMR</td><td>2004</td><td>1</td></tr>",
                            "<tr><td>ROU</td><td>1992</td><td>1</td></tr>",
                            "<tr><td>MEX</td><td>1976</td><td>1</td></tr>",
                            "<tr><td>ITA</td><td>2006</td><td>1</td></tr>",
                            "<tr><td>ITA</td><td>1912</td><td>1</td></tr>",
                            "<tr><td>EUA</td><td>1956</td><td>1</td></tr>",
                            "<tr><td>FIN</td><td>1972</td><td>1</td></tr>",
                            "<tr><td>JAM</td><td>2008</td><td>1</td></tr>",
                            "<tr><td>SWE</td><td>1996</td><td>1</td></tr>",
                            "<tr><td>YUG</td><td>1936</td><td>2</td></tr>",
                            "<tr><td>ESP</td><td>1972</td><td>1</td></tr>",
                            "<tr><td>NED</td><td>1912</td><td>3</td></tr>",
                            "<tr><td>SUI</td><td>1992</td><td>1</td></tr>",
                            "<tr><td>USA</td><td>1998</td><td>1</td></tr>",
                            "<tr><td>LAT</td><td>2008</td><td>1</td></tr>",
                            "<tr><td>POL</td><td>2000</td><td>1</td></tr>",
                            "<tr><td>NZL</td><td>1936</td><td>1</td></tr>",
                            "<tr><td>POL</td><td>2008</td><td>1</td></tr>",
                            "<tr><td>TOG</td><td>2008</td><td>3</td></tr>",
                            "<tr><td>BEL</td><td>1980</td><td>1</td></tr>",
                            "<tr><td>NED</td><td>1998</td><td>1</td></tr>",
                            "<tr><td>DEN</td><td>1948</td><td>1</td></tr>",
                            "<tr><td>TUR</td><td>1984</td><td>3</td></tr>",
                            "<tr><td>HKG</td><td>2004</td><td>2</td></tr>",
                            "<tr><td>CAN</td><td>1968</td><td>1</td></tr>",
                            "<tr><td>USA</td><td>1912</td><td>1</td></tr>",
                            "<tr><td>RSA</td><td>1936</td><td>2</td></tr>",
                            "<tr><td>TCH</td><td>1988</td><td>1</td></tr>",
                            "<tr><td>ITA</td><td>1992</td><td>1</td></tr>",
                            "<tr><td>ETH</td><td>1972</td><td>3</td></tr>",
                            "<tr><td>GBR</td><td>1976</td><td>1</td></tr>",
                            "<tr><td>SLO</td><td>1994</td><td>3</td></tr>",
                            "<tr><td>FRG</td><td>1952</td><td>1</td></tr>",
                            "<tr><td>TUR</td><td>1956</td><td>1</td></tr>",
                            "<tr><td>NOR</td><td>1968</td><td>1</td></tr>",
                            "<tr><td>BUL</td><td>1976</td><td>1</td></tr>",
                            "<tr><td>TCH</td><td>1980</td><td>1</td></tr>",
                            "<tr><td>POL</td><td>1988</td><td>1</td></tr>",
                            "<tr><td>CUB</td><td>2000</td><td>1</td></tr>",
                            "<tr><td>FRA</td><td>1984</td><td>1</td></tr>",
                            "<tr><td>INA</td><td>2004</td><td>1</td></tr>",
                            "<tr><td>EST</td><td>2004</td><td>2</td></tr>",
                            "<tr><td>ERI</td><td>2004</td><td>3</td></tr>",
                            "<tr><td>KAZ</td><td>2008</td><td>1</td></tr>",
                            "<tr><td>CAN</td><td>1928</td><td>1</td></tr>",
                            "<tr><td>BRA</td><td>1976</td><td>3</td></tr>",
                            "<tr><td>RSA</td><td>1928</td><td>1</td></tr>",
                            "<tr><td>TRI</td><td>1996</td><td>3</td></tr>",
                            "<tr><td>BEL</td><td>1920</td><td>1</td></tr>",
                            "<tr><td>HUN</td><td>1980</td><td>1</td></tr>",
                            "<tr><td>DEN</td><td>1988</td><td>1</td></tr>",
                            "<tr><td>INA</td><td>1996</td><td>1</td></tr>",
                            "<tr><td>NZL</td><td>1976</td><td>1</td></tr>",
                            "<tr><td>SWE</td><td>1956</td><td>1</td></tr>",
                            "<tr><td>MEX</td><td>1996</td><td>3</td></tr>",
                            "<tr><td>GER</td><td>1998</td><td>1</td></tr>",
                            "<tr><td>MRI</td><td>2008</td><td>3</td></tr>",
                            "<tr><td>FRA</td><td>1912</td><td>1</td></tr>",
                            "<tr><td>USA</td><td>1984</td><td>1</td></tr>",
                            "<tr><td>ARG</td><td>1992</td><td>3</td></tr>",
                            "<tr><td>SUI</td><td>2006</td><td>1</td></tr>",
                            "<tr><td>PAK</td><td>1992</td><td>3</td></tr>",
                            "<tr><td>AUT</td><td>1998</td><td>1</td></tr>",
                            "<tr><td>JPN</td><td>1972</td><td>1</td></tr>",
                            "<tr><td>NOR</td><td>2000</td><td>1</td></tr>",
                            "<tr><td>GER</td><td>1912</td><td>1</td></tr>",
                            "<tr><td>KOR</td><td>1968</td><td>2</td></tr>",
                            "<tr><td>JPN</td><td>1980</td><td>2</td></tr>",
                            "<tr><td>URS</td><td>1984</td><td>1</td></tr>",
                            "<tr><td>NED</td><td>1964</td><td>1</td></tr>",
                            "<tr><td>JAM</td><td>1968</td><td>2</td></tr>",
                            "<tr><td>KSA</td><td>2000</td><td>2</td></tr>",
                            "<tr><td>POR</td><td>1948</td><td>2</td></tr>",
                            "<tr><td>PRK</td><td>1992</td><td>1</td></tr>",
                            "<tr><td>NED</td><td>2012</td><td>2</td></tr>",
                            "<tr><td>SUI</td><td>1920</td><td>1</td></tr>",
                            "<tr><td>JPN</td><td>1932</td><td>1</td></tr>",
                            "<tr><td>ISL</td><td>1956</td><td>2</td></tr>",
                            "<tr><td>NED</td><td>1972</td><td>1</td></tr>",
                            "<tr><td>COL</td><td>1988</td><td>3</td></tr>",
                            "<tr><td>EST</td><td>1924</td><td>1</td></tr>",
                            "<tr><td>GBR</td><td>1936</td><td>1</td></tr>",
                            "<tr><td>AUS</td><td>1976</td><td>2</td></tr>",
                            "<tr><td>AUT</td><td>2006</td><td>1</td></tr>",
                            "<tr><td>NOR</td><td>2008</td><td>1</td></tr>",
                            "<tr><td>KOR</td><td>1976</td><td>1</td></tr>",
                            "<tr><td>GUY</td><td>1980</td><td>3</td></tr>",
                            "<tr><td>AZE</td><td>1996</td><td>2</td></tr>",
                            "<tr><td>NED</td><td>2004</td><td>1</td></tr>",
                            "<tr><td>IND</td><td>1952</td><td>1</td></tr>",
                            "<tr><td>SWE</td><td>2002</td><td>2</td></tr>",
                            "<tr><td>GBR</td><td>1904</td><td>1</td></tr>",
                            "<tr><td>GHA</td><td>1972</td><td>3</td></tr>",
                            "<tr><td>VEN</td><td>1984</td><td>3</td></tr>",
                            "<tr><td>URS</td><td>1952</td><td>1</td></tr>",
                            "<tr><td>MEX</td><td>1956</td><td>1</td></tr>",
                            "<tr><td>GHA</td><td>1992</td><td>3</td></tr>",
                            "<tr><td>ESP</td><td>1984</td><td>1</td></tr>",
                            "<tr><td>BAH</td><td>2008</td><td>2</td></tr>",
                            "<tr><td>TPE</td><td>2004</td><td>1</td></tr>",
                            "<tr><td>ARG</td><td>1972</td><td>2</td></tr>",
                            "<tr><td>CMR</td><td>1984</td><td>3</td></tr>",
                            "<tr><td>TUR</td><td>1996</td><td>1</td></tr>",
                            "<tr><td>GBR</td><td>1924</td><td>1</td></tr>",
                            "<tr><td>EGY</td><td>1936</td><td>1</td></tr>",
                            "<tr><td>URS</td><td>1972</td><td>1</td></tr>",
                            "<tr><td>CZE</td><td>1996</td><td>1</td></tr>",
                            "<tr><td>TUR</td><td>2004</td><td>1</td></tr>",
                            "<tr><td>DEN</td><td>1928</td><td>1</td></tr>",
                            "<tr><td>CAN</td><td>1988</td><td>1</td></tr>",
                            "<tr><td>CRO</td><td>1992</td><td>2</td></tr>",
                            "<tr><td>ESP</td><td>1992</td><td>1</td></tr>",
                            "<tr><td>USA</td><td>2010</td><td>2</td></tr>",
                            "<tr><td>ANZ</td><td>1908</td><td>1</td></tr>",
                            "<tr><td>URU</td><td>1956</td><td>3</td></tr>",
                            "<tr><td>USA</td><td>1964</td><td>1</td></tr>",
                            "<tr><td>HUN</td><td>2000</td><td>1</td></tr>",
                            "<tr><td>AUT</td><td>1912</td><td>2</td></tr>",
                            "<tr><td>ITA</td><td>1932</td><td>1</td></tr>",
                            "<tr><td>FRA</td><td>1924</td><td>1</td></tr>",
                            "<tr><td>UKR</td><td>1994</td><td>1</td></tr>",
                            "<tr><td>GEO</td><td>2008</td><td>1</td></tr>",
                            "<tr><td>NED</td><td>1932</td><td>1</td></tr>",
                            "<tr><td>TCH</td><td>1948</td><td>1</td></tr>",
                            "<tr><td>MAR</td><td>1960</td><td>2</td></tr>",
                            "<tr><td>FIN</td><td>1952</td><td>1</td></tr>",
                            "<tr><td>AUS</td><td>1956</td><td>1</td></tr>",
                            "<tr><td>KOR</td><td>2008</td><td>1</td></tr>",
                            "<tr><td>GER</td><td>1904</td><td>1</td></tr>",
                            "<tr><td>JPN</td><td>1920</td><td>2</td></tr>",
                            "<tr><td>SUI</td><td>1952</td><td>1</td></tr>",
                            "<tr><td>YUG</td><td>1996</td><td>1</td></tr>",
                            "<tr><td>SUI</td><td>1960</td><td>1</td></tr>",
                            "<tr><td>NGR</td><td>1992</td><td>2</td></tr>",
                            "<tr><td>NOR</td><td>1994</td><td>1</td></tr>",
                            "<tr><td>TGA</td><td>1996</td><td>2</td></tr>",
                            "<tr><td>CHI</td><td>2000</td><td>3</td></tr>",
                            "<tr><td>GER</td><td>2004</td><td>1</td></tr>",
                            "<tr><td>RSA</td><td>1956</td><td>3</td></tr>",
                            "<tr><td>ISR</td><td>2008</td><td>3</td></tr>",
                            "<tr><td>NOR</td><td>1908</td><td>1</td></tr>",
                            "<tr><td>AUT</td><td>1952</td><td>1</td></tr>",
                            "<tr><td>ESP</td><td>1952</td><td>2</td></tr>",
                            "<tr><td>NZL</td><td>1956</td><td>1</td></tr>",
                            "<tr><td>UZB</td><td>2004</td><td>1</td></tr>",
                            "<tr><td>THA</td><td>1984</td><td>2</td></tr>",
                            "<tr><td>SWE</td><td>1976</td><td>1</td></tr>",
                            "<tr><td>TUR</td><td>1964</td><td>1</td></tr>",
                            "<tr><td>BLR</td><td>1998</td><td>3</td></tr>",
                            "<tr><td>HUN</td><td>1900</td><td>1</td></tr>",
                            "<tr><td>GEO</td><td>2000</td><td>3</td></tr>",
                            "<tr><td>CAN</td><td>1948</td><td>1</td></tr>",
                            "<tr><td>ROU</td><td>1972</td><td>1</td></tr>",
                            "<tr><td>CRO</td><td>2000</td><td>1</td></tr>",
                            "<tr><td>ARG</td><td>1932</td><td>1</td></tr>",
                            "<tr><td>ALG</td><td>2008</td><td>2</td></tr>",
                            "<tr><td>ROU</td><td>1952</td><td>1</td></tr>",
                            "<tr><td>BEL</td><td>1960</td><td>2</td></tr>",
                            "<tr><td>BRA</td><td>1956</td><td>1</td></tr>",
                            "<tr><td>USA</td><td>1904</td><td>1</td></tr>",
                            "<tr><td>CHN</td><td>2000</td><td>1</td></tr>",
                            "<tr><td>BUL</td><td>1996</td><td>1</td></tr>",
                            "<tr><td>SYR</td><td>1996</td><td>1</td></tr>",
                            "<tr><td>KGZ</td><td>2008</td><td>2</td></tr>",
                            "<tr><td>YUG</td><td>1956</td><td>2</td></tr>",
                            "<tr><td>RUS</td><td>1998</td><td>1</td></tr>",
                            "<tr><td>MGL</td><td>1996</td><td>3</td></tr>",
                            "<tr><td>HUN</td><td>1960</td><td>1</td></tr>",
                            "<tr><td>DEN</td><td>1968</td><td>1</td></tr>",
                            "<tr><td>AUT</td><td>1972</td><td>1</td></tr>",
                            "<tr><td>IRL</td><td>1928</td><td>1</td></tr>",
                            "<tr><td>FIN</td><td>1992</td><td>1</td></tr>",
                            "<tr><td>GER</td><td>1932</td><td>1</td></tr>",
                            "<tr><td>USA</td><td>2004</td><td>1</td></tr>",
                            "<tr><td>ITA</td><td>1900</td><td>1</td></tr>",
                            "<tr><td>JPN</td><td>1952</td><td>1</td></tr>",
                            "<tr><td>MEX</td><td>2008</td><td>1</td></tr>",
                            "<tr><td>ESP</td><td>1932</td><td>3</td></tr>",
                            "<tr><td>CUB</td><td>1900</td><td>1</td></tr>",
                            "<tr><td>ARM</td><td>2000</td><td>3</td></tr>",
                            "<tr><td>SUI</td><td>1980</td><td>1</td></tr>",
                            "<tr><td>GRE</td><td>1984</td><td>2</td></tr>",
                            "<tr><td>AUS</td><td>1924</td><td>1</td></tr>",
                            "<tr><td>CAN</td><td>1994</td><td>1</td></tr>",
                            "<tr><td>BEL</td><td>2000</td><td>2</td></tr>",
                            "<tr><td>BEL</td><td>1900</td><td>1</td></tr>",
                            "<tr><td>DJI</td><td>1988</td><td>3</td></tr>",
                            "<tr><td>USA</td><td>1924</td><td>1</td></tr>",
                            "<tr><td>RSA</td><td>1948</td><td>1</td></tr>",
                            "<tr><td>SUI</td><td>1972</td><td>1</td></tr>",
                            "<tr><td>EUN</td><td>1992</td><td>1</td></tr>",
                            "<tr><td>KOR</td><td>2002</td><td>1</td></tr>",
                            "<tr><td>ZIM</td><td>2008</td><td>1</td></tr>",
                            "<tr><td>GBR</td><td>1956</td><td>1</td></tr>",
                            "<tr><td>BUL</td><td>1956</td><td>1</td></tr>",
                            "<tr><td>IND</td><td>2004</td><td>2</td></tr>",
                            "<tr><td>IRL</td><td>2008</td><td>2</td></tr>",
                            "<tr><td>PRK</td><td>2004</td><td>2</td></tr>",
                            "<tr><td>JPN</td><td>2006</td><td>1</td></tr>",
                            "<tr><td>JAM</td><td>1988</td><td>2</td></tr>",
                            "<tr><td>MOZ</td><td>2000</td><td>1</td></tr>",
                            "<tr><td>FRA</td><td>2004</td><td>1</td></tr>",
                            "<tr><td>POL</td><td>1968</td><td>1</td></tr>",
                            "<tr><td>AUT</td><td>1900</td><td>2</td></tr>",
                            "<tr><td>NOR</td><td>1948</td><td>1</td></tr>",
                            "<tr><td>NZL</td><td>1996</td><td>1</td></tr>",
                            "<tr><td>LTU</td><td>1996</td><td>3</td></tr>",
                            "<tr><td>SVK</td><td>1996</td><td>1</td></tr>",
                            "<tr><td>SWE</td><td>1936</td><td>1</td></tr>",
                            "<tr><td>CAN</td><td>1908</td><td>1</td></tr>",
                            "<tr><td>ITA</td><td>1972</td><td>1</td></tr>",
                            "<tr><td>UKR</td><td>2000</td><td>1</td></tr>",
                            "<tr><td>IRI</td><td>2000</td><td>1</td></tr>",
                            "<tr><td>BWI</td><td>1960</td><td>3</td></tr>",
                            "<tr><td>VEN</td><td>2004</td><td>3</td></tr>",
                            "<tr><td>QAT</td><td>2000</td><td>3</td></tr>",
                            "<tr><td>CAN</td><td>2002</td><td>1</td></tr>",
                            "<tr><td>CRO</td><td>2006</td><td>1</td></tr>",
                            "<tr><td>BLR</td><td>2004</td><td>1</td></tr>",
                            "<tr><td>HUN</td><td>1992</td><td>1</td></tr>",
                            "<tr><td>SVK</td><td>2004</td><td>1</td></tr>",
                            "<tr><td>MDA</td><td>1996</td><td>2</td></tr>",
                            "<tr><td>SRB</td><td>2008</td><td>2</td></tr>",
                            "<tr><td>SUI</td><td>1900</td><td>1</td></tr>",
                            "<tr><td>CHN</td><td>1994</td><td>2</td></tr>",
                            "<tr><td>FIN</td><td>2006</td><td>2</td></tr>",
                            "<tr><td>AUS</td><td>1996</td><td>1</td></tr>",
                            "<tr><td>TCH</td><td>1928</td><td>1</td></tr>",
                            "<tr><td>POL</td><td>1928</td><td>1</td></tr>",
                            "<tr><td>NED</td><td>1984</td><td>1</td></tr>",
                            "<tr><td>PRK</td><td>1972</td><td>1</td></tr>",
                            "<tr><td>ZZX</td><td>1904</td><td>1</td></tr>",
                            "<tr><td>FIN</td><td>1912</td><td>1</td></tr>",
                            "<tr><td>EST</td><td>1936</td><td>1</td></tr>",
                            "<tr><td>JAM</td><td>1948</td><td>1</td></tr>",
                            "<tr><td>GDR</td><td>1980</td><td>1</td></tr>",
                            "<tr><td>LIE</td><td>1976</td><td>3</td></tr>",
                            "<tr><td>IND</td><td>1932</td><td>1</td></tr>",
                            "<tr><td>KOR</td><td>1948</td><td>3</td></tr>",
                            "<tr><td>POR</td><td>1960</td><td>2</td></tr>",
                            "<tr><td>RUS</td><td>2004</td><td>1</td></tr>",
                            "<tr><td>GHA</td><td>1960</td><td>2</td></tr>",
                            "<tr><td>FRA</td><td>1964</td><td>1</td></tr>",
                            "<tr><td>NOR</td><td>1980</td><td>1</td></tr>",
                            "<tr><td>MAR</td><td>2000</td><td>2</td></tr>",
                            "<tr><td>JPN</td><td>1960</td><td>1</td></tr>",
                            "<tr><td>CUB</td><td>1980</td><td>1</td></tr>",
                            "<tr><td>NOR</td><td>1988</td><td>1</td></tr>",
                            "<tr><td>FIN</td><td>1998</td><td>1</td></tr>",
                            "<tr><td>KOR</td><td>1956</td><td>2</td></tr>",
                            "<tr><td>NED</td><td>1992</td><td>1</td></tr>",
                            "<tr><td>AUT</td><td>1924</td><td>1</td></tr>",
                            "<tr><td>PRK</td><td>1964</td><td>2</td></tr>",
                            "<tr><td>FIN</td><td>1994</td><td>2</td></tr>",
                            "<tr><td>USA</td><td>2006</td><td>1</td></tr>",
                            "<tr><td>USA</td><td>1960</td><td>1</td></tr>",
                            "<tr><td>ESP</td><td>1980</td><td>1</td></tr>",
                            "<tr><td>HUN</td><td>1912</td><td>1</td></tr>",
                            "<tr><td>AUS</td><td>1968</td><td>1</td></tr>",
                            "<tr><td>CZE</td><td>2008</td><td>1</td></tr>",
                            "<tr><td>GBR</td><td>1928</td><td>1</td></tr>",
                            "<tr><td>ITA</td><td>1998</td><td>1</td></tr>",
                            "<tr><td>NOR</td><td>1920</td><td>1</td></tr>",
                            "<tr><td>SYR</td><td>1984</td><td>2</td></tr>",
                            "<tr><td>HUN</td><td>2004</td><td>1</td></tr>",
                            "<tr><td>HUN</td><td>1904</td><td>1</td></tr>",
                            "<tr><td>TUR</td><td>2008</td><td>1</td></tr>",
                            "<tr><td>URS</td><td>1976</td><td>1</td></tr>",
                            "<tr><td>YUG</td><td>1984</td><td>1</td></tr>",
                            "<tr><td>LTU</td><td>2008</td><td>2</td></tr>",
                            "<tr><td>SVK</td><td>2008</td><td>1</td></tr>",
                            "<tr><td>TCH</td><td>1952</td><td>1</td></tr>",
                            "<tr><td>FRA</td><td>1920</td><td>1</td></tr>",
                            "<tr><td>NED</td><td>1960</td><td>2</td></tr>",
                            "<tr><td>EUA</td><td>1964</td><td>1</td></tr>",
                            "<tr><td>SLO</td><td>1992</td><td>3</td></tr>",
                            "<tr><td>ROU</td><td>1924</td><td>3</td></tr>",
                            "<tr><td>USA</td><td>1952</td><td>1</td></tr>",
                            "<tr><td>IND</td><td>1980</td><td>1</td></tr>",
                            "<tr><td>BRA</td><td>2004</td><td>1</td></tr>",
                            "<tr><td>KEN</td><td>2008</td><td>1</td></tr>",
                            "<tr><td>GRE</td><td>1920</td><td>2</td></tr>",
                            "<tr><td>FRG</td><td>1988</td><td>1</td></tr>",
                            "<tr><td>DEN</td><td>2000</td><td>1</td></tr>",
                            "<tr><td>DEN</td><td>1900</td><td>1</td></tr>",
                            "<tr><td>VIE</td><td>2000</td><td>2</td></tr>",
                            "<tr><td>TJK</td><td>2008</td><td>2</td></tr>",
                            "<tr><td>BOH</td><td>1900</td><td>2</td></tr>",
                            "<tr><td>GRE</td><td>1912</td><td>1</td></tr>",
                            "<tr><td>URU</td><td>1928</td><td>1</td></tr>",
                            "<tr><td>DEN</td><td>1992</td><td>1</td></tr>",
                            "<tr><td>FRA</td><td>2006</td><td>1</td></tr>",
                            "<tr><td>ROU</td><td>1984</td><td>1</td></tr>",
                            "<tr><td>SWE</td><td>1988</td><td>1</td></tr>",
                            "<tr><td>SUI</td><td>1964</td><td>1</td></tr>",
                            "<tr><td>MEX</td><td>1984</td><td>1</td></tr>",
                            "<tr><td>PER</td><td>1988</td><td>2</td></tr>",
                            "<tr><td>GBR</td><td>1988</td><td>1</td></tr>",
                            "<tr><td>UKR</td><td>1998</td><td>2</td></tr>",
                            "<tr><td>TUR</td><td>1968</td><td>1</td></tr>",
                            "<tr><td>THA</td><td>1996</td><td>1</td></tr>",
                            "<tr><td>PHI</td><td>1996</td><td>2</td></tr>",
                            "<tr><td>NZL</td><td>1952</td><td>1</td></tr>",
                            "<tr><td>NED</td><td>1920</td><td>1</td></tr>",
                            "<tr><td>AUS</td><td>1928</td><td>1</td></tr>",
                            "<tr><td>SWE</td><td>1980</td><td>1</td></tr>",
                            "<tr><td>THA</td><td>1988</td><td>3</td></tr>",
                            "<tr><td>PAR</td><td>2004</td><td>2</td></tr>",
                            "<tr><td>NOR</td><td>1912</td><td>1</td></tr>",
                            "<tr><td>USA</td><td>1900</td><td>1</td></tr>",
                            "<tr><td>AUT</td><td>1984</td><td>1</td></tr>",
                            "<tr><td>FIN</td><td>1980</td><td>1</td></tr>",
                            "<tr><td>TUN</td><td>1996</td><td>3</td></tr>",
                            "<tr><td>NOR</td><td>2006</td><td>1</td></tr>",
                            "<tr><td>NED</td><td>2006</td><td>1</td></tr>",
                            "<tr><td>ETH</td><td>2000</td><td>1</td></tr>",
                            "<tr><td>CHN</td><td>1988</td><td>1</td></tr>",
                            "<tr><td>FIN</td><td>2000</td><td>1</td></tr>",
                            "<tr><td>BUL</td><td>2008</td><td>1</td></tr>",
                            "<tr><td>CAN</td><td>1976</td><td>1</td></tr>",
                            "<tr><td>MGL</td><td>1992</td><td>3</td></tr>",
                            "<tr><td>HKG</td><td>1996</td><td>1</td></tr>",
                            "<tr><td>BEL</td><td>1972</td><td>2</td></tr>",
                            "<tr><td>CHN</td><td>1996</td><td>1</td></tr>",
                            "<tr><td>CAN</td><td>1936</td><td>1</td></tr>",
                            "<tr><td>CZE</td><td>2002</td><td>1</td></tr>",
                            "<tr><td>SUI</td><td>1984</td><td>1</td></tr>",
                            "<tr><td>MEX</td><td>2004</td><td>2</td></tr>",
                            "<tr><td>AUS</td><td>2008</td><td>1</td></tr>",
                            "<tr><td>NED</td><td>1900</td><td>2</td></tr>",
                            "<tr><td>GBR</td><td>1968</td><td>1</td></tr>",
                            "<tr><td>KEN</td><td>1968</td><td>1</td></tr>",
                            "<tr><td>BUL</td><td>1968</td><td>1</td></tr>",
                            "<tr><td>URU</td><td>2000</td><td>2</td></tr>",
                            "<tr><td>ARG</td><td>2016</td><td>1</td></tr>",
                            "<tr><td>TUR</td><td>1948</td><td>1</td></tr>",
                            "<tr><td>GRE</td><td>1972</td><td>2</td></tr>",
                            "<tr><td>HUN</td><td>1964</td><td>1</td></tr>",
                            "<tr><td>CUB</td><td>1992</td><td>1</td></tr>",
                            "<tr><td>KUW</td><td>2000</td><td>3</td></tr>",
                            "<tr><td>GER</td><td>1936</td><td>1</td></tr>",
                            "<tr><td>KAZ</td><td>2000</td><td>1</td></tr>",
                            "<tr><td>PHI</td><td>1936</td><td>3</td></tr>",
                            "<tr><td>USA</td><td>1920</td><td>1</td></tr>",
                            "<tr><td>DEN</td><td>1972</td><td>1</td></tr>",
                            "<tr><td>NOR</td><td>1960</td><td>1</td></tr>",
                            "<tr><td>HUN</td><td>1972</td><td>1</td></tr>",
                            "<tr><td>DEN</td><td>1980</td><td>1</td></tr>",
                            "<tr><td>NZL</td><td>1984</td><td>1</td></tr>",
                            "<tr><td>SWE</td><td>1948</td><td>1</td></tr>",
                            "<tr><td>CHI</td><td>1988</td><td>2</td></tr>",
                            "<tr><td>GER</td><td>2016</td><td>3</td></tr>",
                            "<tr><td>ECU</td><td>1996</td><td>1</td></tr>",
                            "<tr><td>JAM</td><td>2000</td><td>2</td></tr>",
                            "<tr><td>UGA</td><td>1968</td><td>2</td></tr>",
                            "<tr><td>FRA</td><td>1992</td><td>1</td></tr>",
                            "<tr><td>TCH</td><td>1972</td><td>1</td></tr>",
                            "<tr><td>POL</td><td>1980</td><td>1</td></tr>",
                            "<tr><td>BEL</td><td>1912</td><td>1</td></tr>",
                            "<tr><td>TAN</td><td>1980</td><td>2</td></tr>",
                            "<tr><td>BRA</td><td>1984</td><td>1</td></tr>",
                            "<tr><td>POL</td><td>1972</td><td>1</td></tr>",
                            "<tr><td>IND</td><td>2000</td><td>3</td></tr>",
                            "<tr><td>IRI</td><td>1988</td><td>2</td></tr>",
                            "<tr><td>KOR</td><td>2006</td><td>1</td></tr>",
                            "<tr><td>ESP</td><td>1920</td><td>2</td></tr>",
                            "<tr><td>JPN</td><td>1924</td><td>3</td></tr>",
                            "<tr><td>NOR</td><td>1952</td><td>1</td></tr>",
                            "<tr><td>SRI</td><td>2000</td><td>2</td></tr>",
                            "<tr><td>AUT</td><td>1904</td><td>3</td></tr>",
                            "<tr><td>IOP</td><td>1992</td><td>2</td></tr>",
                            "<tr><td>VEN</td><td>2008</td><td>3</td></tr>",
                            "<tr><td>GDR</td><td>1968</td><td>1</td></tr>",
                            "<tr><td>PRK</td><td>1976</td><td>1</td></tr>",
                            "<tr><td>POL</td><td>1932</td><td>1</td></tr>",
                            "<tr><td>HAI</td><td>1924</td><td>3</td></tr>",
                            "<tr><td>FIN</td><td>1908</td><td>1</td></tr>",
                            "<tr><td>IND</td><td>1960</td><td>2</td></tr>",
                            "<tr><td>SWE</td><td>1994</td><td>1</td></tr>",
                            "<tr><td>VEN</td><td>1976</td><td>2</td></tr>",
                            "<tr><td>RU1</td><td>1912</td><td>2</td></tr>",
                            "<tr><td>NED</td><td>1980</td><td>1</td></tr>",
                            "<tr><td>IRL</td><td>1956</td><td>1</td></tr>",
                            "<tr><td>SWE</td><td>1908</td><td>1</td></tr>",
                            "<tr><td>USA</td><td>2000</td><td>1</td></tr>",
                            "<tr><td>FRA</td><td>1952</td><td>1</td></tr>",
                            "<tr><td>NOR</td><td>1992</td><td>1</td></tr>",
                            "<tr><td>USA</td><td>1992</td><td>1</td></tr>",
                            "<tr><td>SUI</td><td>1998</td><td>1</td></tr>",
                            "<tr><td>EGY</td><td>2004</td><td>1</td></tr>",
                            "<tr><td>SUI</td><td>1904</td><td>1</td></tr>",
                            "<tr><td>FRA</td><td>1960</td><td>1</td></tr>",
                            "<tr><td>JPN</td><td>1964</td><td>1</td></tr>",
                            "<tr><td>ITA</td><td>1984</td><td>1</td></tr>",
                            "<tr><td>PAK</td><td>1984</td><td>1</td></tr>",
                            "<tr><td>SWE</td><td>2008</td><td>2</td></tr>",
                            "<tr><td>BEL</td><td>1952</td><td>1</td></tr>",
                            "<tr><td>URU</td><td>1948</td><td>2</td></tr>",
                            "<tr><td>CHN</td><td>2008</td><td>1</td></tr>",
                            "<tr><td>URS</td><td>1964</td><td>1</td></tr>",
                            "<tr><td>PAK</td><td>1972</td><td>2</td></tr>",
                            "<tr><td>PAK</td><td>1964</td><td>2</td></tr>",
                            "<tr><td>MEX</td><td>1964</td><td>3</td></tr>",
                            "<tr><td>FRA</td><td>1932</td><td>1</td></tr>",
                            "<tr><td>TCH</td><td>1932</td><td>1</td></tr>",
                            "<tr><td>SLO</td><td>2004</td><td>2</td></tr>",
                            "<tr><td>DEN</td><td>1920</td><td>1</td></tr>",
                            "<tr><td>MGL</td><td>1972</td><td>2</td></tr>",
                            "<tr><td>BEL</td><td>1998</td><td>3</td></tr>",
                            "<tr><td>ESP</td><td>1900</td><td>1</td></tr>",
                            "<tr><td>CAN</td><td>1996</td><td>1</td></tr>",
                            "<tr><td>KOR</td><td>2000</td><td>1</td></tr>",
                            "<tr><td>POL</td><td>1952</td><td>1</td></tr>",
                            "<tr><td>CAN</td><td>1904</td><td>1</td></tr>",
                            "<tr><td>MDA</td><td>2008</td><td>3</td></tr>",
                            "<tr><td>FIN</td><td>1960</td><td>1</td></tr>",
                            "<tr><td>TUN</td><td>1968</td><td>1</td></tr>",
                            "<tr><td>JPN</td><td>2004</td><td>1</td></tr>",
                            "<tr><td>ARG</td><td>1964</td><td>2</td></tr>",
                            "<tr><td>NOR</td><td>1932</td><td>1</td></tr>",
                            "<tr><td>ROU</td><td>2004</td><td>1</td></tr>",
                            "<tr><td>POL</td><td>1960</td><td>1</td></tr>",
                            "<tr><td>THA</td><td>2008</td><td>1</td></tr>",
                            "<tr><td>CHI</td><td>2008</td><td>2</td></tr>",
                            "<tr><td>AUS</td><td>1948</td><td>1</td></tr>",
                            "<tr><td>EGY</td><td>1952</td><td>3</td></tr>",
                            "<tr><td>CMR</td><td>1968</td><td>2</td></tr>",
                            "<tr><td>GER</td><td>1996</td><td>1</td></tr>",
                            "<tr><td>IRL</td><td>1996</td><td>1</td></tr>",
                            "<tr><td>CIV</td><td>1984</td><td>2</td></tr>",
                            "<tr><td>ESP</td><td>1960</td><td>3</td></tr>",
                            "<tr><td>ISL</td><td>2008</td><td>2</td></tr>",
                            "<tr><td>TUN</td><td>2008</td><td>1</td></tr>",
                            "<tr><td>BLR</td><td>2006</td><td>2</td></tr>",
                            "<tr><td>FRG</td><td>1968</td><td>1</td></tr>",
                            "<tr><td>BUL</td><td>1988</td><td>1</td></tr>",
                            "<tr><td>MAS</td><td>1992</td><td>3</td></tr>",
                            "<tr><td>RSA</td><td>2004</td><td>1</td></tr>",
                            "<tr><td>CRO</td><td>2008</td><td>2</td></tr>",
                            "<tr><td>CMR</td><td>2008</td><td>1</td></tr>",
                            "<tr><td>DOM</td><td>2008</td><td>1</td></tr>",
                            "<tr><td>ITA</td><td>1924</td><td>1</td></tr>",
                            "<tr><td>USA</td><td>1932</td><td>1</td></tr>",
                            "<tr><td>RUS</td><td>2006</td><td>1</td></tr>",
                            "<tr><td>NOR</td><td>1900</td><td>2</td></tr>",
                            "<tr><td>SRI</td><td>1948</td><td>2</td></tr>",
                            "<tr><td>CAN</td><td>1956</td><td>1</td></tr>",
                            "<tr><td>ESP</td><td>2000</td><td>1</td></tr>",
                            "<tr><td>NGR</td><td>2000</td><td>2</td></tr>",
                            "<tr><td>AUT</td><td>2004</td><td>1</td></tr>",
                            "<tr><td>ETH</td><td>1980</td><td>1</td></tr>",
                            "<tr><td>SIN</td><td>1960</td><td>2</td></tr>",
                            "<tr><td>RSA</td><td>1996</td><td>1</td></tr>",
                            "<tr><td>DEN</td><td>1960</td><td>1</td></tr>",
                            "<tr><td>THA</td><td>1976</td><td>3</td></tr>",
                            "<tr><td>LUX</td><td>1920</td><td>2</td></tr>",
                            "<tr><td>IRI</td><td>1948</td><td>3</td></tr>",
                            "<tr><td>HUN</td><td>1932</td><td>1</td></tr>",
                            "<tr><td>NZL</td><td>1932</td><td>2</td></tr>",
                            "<tr><td>DEN</td><td>1952</td><td>1</td></tr>",
                            "<tr><td>MGL</td><td>2004</td><td>3</td></tr>",
                            "<tr><td>TRI</td><td>1948</td><td>2</td></tr>",
                            "<tr><td>YUG</td><td>1964</td><td>1</td></tr>",
                            "<tr><td>AUS</td><td>1994</td><td>3</td></tr>",
                            "<tr><td>LAT</td><td>2004</td><td>2</td></tr>",
                            "<tr><td>ROU</td><td>1964</td><td>1</td></tr>",
                            "<tr><td>LAT</td><td>1996</td><td>2</td></tr>",
                            "<tr><td>SUI</td><td>2004</td><td>1</td></tr>",
                            "<tr><td>SWE</td><td>2000</td><td>1</td></tr>",
                            "<tr><td>GBR</td><td>2008</td><td>1</td></tr>",
                            "<tr><td>CHI</td><td>1956</td><td>2</td></tr>",
                            "<tr><td>TUR</td><td>1988</td><td>1</td></tr>",
                            "<tr><td>AUS</td><td>2002</td><td>1</td></tr>",
                            "<tr><td>SYR</td><td>2004</td><td>3</td></tr>",
                            "<tr><td>HUN</td><td>1924</td><td>1</td></tr>",
                            "<tr><td>NZL</td><td>1924</td><td>3</td></tr>",
                            "<tr><td>TPE</td><td>1996</td><td>2</td></tr>",
                            "<tr><td>ETH</td><td>1968</td><td>1</td></tr>",
                            "<tr><td>NOR</td><td>1972</td><td>1</td></tr>",
                            "<tr><td>JPN</td><td>1998</td><td>1</td></tr>",
                            "<tr><td>YUG</td><td>1924</td><td>1</td></tr>",
                            "<tr><td>BDI</td><td>1996</td><td>1</td></tr>",
                            "<tr><td>EST</td><td>1992</td><td>1</td></tr>",
                            "<tr><td>TCH</td><td>1992</td><td>1</td></tr>",
                            "<tr><td>CHN</td><td>2002</td><td>1</td></tr>",
                            "<tr><td>KOR</td><td>1994</td><td>1</td></tr>",
                            "<tr><td>ARG</td><td>1924</td><td>1</td></tr>",
                            "<tr><td>BAH</td><td>1956</td><td>3</td></tr>",
                            "<tr><td>EGY</td><td>1984</td><td>2</td></tr>",
                            "<tr><td>AUT</td><td>1964</td><td>1</td></tr>",
                            "<tr><td>BEL</td><td>1992</td><td>2</td></tr>",
                            "<tr><td>NGR</td><td>2008</td><td>2</td></tr>",
                            "<tr><td>HUN</td><td>1952</td><td>1</td></tr>",
                            "<tr><td>ETH</td><td>1960</td><td>1</td></tr>",
                            "<tr><td>BRA</td><td>1964</td><td>3</td></tr>",
                            "<tr><td>FRA</td><td>1980</td><td>1</td></tr>",
                            "<tr><td>ALG</td><td>2000</td><td>1</td></tr>",
                            "<tr><td>POL</td><td>1992</td><td>1</td></tr>",
                            "<tr><td>RSA</td><td>1924</td><td>1</td></tr>",
                            "<tr><td>CAN</td><td>1924</td><td>1</td></tr>",
                            "<tr><td>FRA</td><td>1900</td><td>1</td></tr>",
                            "<tr><td>IRI</td><td>1968</td><td>1</td></tr>",
                            "<tr><td>NZL</td><td>1964</td><td>1</td></tr>",
                            "<tr><td>PRK</td><td>1996</td><td>1</td></tr>",
                            "<tr><td>SWE</td><td>1968</td><td>1</td></tr>",
                            "<tr><td>LAT</td><td>1936</td><td>2</td></tr>",
                            "<tr><td>TRI</td><td>2008</td><td>2</td></tr>",
                            "<tr><td>JAM</td><td>1980</td><td>3</td></tr>",
                            "<tr><td>ISV</td><td>1988</td><td>2</td></tr>",
                            "<tr><td>GER</td><td>2002</td><td>1</td></tr>",
                            "<tr><td>ISR</td><td>2000</td><td>3</td></tr>",
                            "<tr><td>TUR</td><td>1936</td><td>1</td></tr>",
                            "<tr><td>GBR</td><td>1994</td><td>3</td></tr>",
                            "<tr><td>IRQ</td><td>1960</td><td>3</td></tr>",
                            "<tr><td>INA</td><td>1992</td><td>1</td></tr>",
                            "<tr><td>IND</td><td>1900</td><td>2</td></tr>",
                            "<tr><td>QAT</td><td>1992</td><td>3</td></tr>",
                            "<tr><td>TCH</td><td>1920</td><td>3</td></tr>",
                            "<tr><td>USA</td><td>1980</td><td>1</td></tr>",
                            "<tr><td>ARG</td><td>1996</td><td>2</td></tr>",
                            "<tr><td>CAN</td><td>2010</td><td>1</td></tr>",
                            "<tr><td>FIN</td><td>2014</td><td>3</td></tr>",
                            "<tr><td>GBR</td><td>1948</td><td>1</td></tr>",
                            "<tr><td>AUS</td><td>1988</td><td>1</td></tr>",
                            "<tr><td>FIN</td><td>1928</td><td>1</td></tr>",
                            "<tr><td>KEN</td><td>1996</td><td>1</td></tr>",
                            "<tr><td>IRI</td><td>2008</td><td>1</td></tr>",
                            "<tr><td>ITA</td><td>1964</td><td>1</td></tr>",
                            "<tr><td>GRE</td><td>1992</td><td>1</td></tr>",
                            "<tr><td>NZL</td><td>2004</td><td>1</td></tr>",
                            "<tr><td>SWE</td><td>1928</td><td>1</td></tr>",
                            "<tr><td>PER</td><td>1948</td><td>1</td></tr>",
                            "<tr><td>KEN</td><td>1988</td><td>1</td></tr>",
                            "<tr><td>FIN</td><td>1920</td><td>1</td></tr>",
                            "<tr><td>JPN</td><td>1984</td><td>1</td></tr>",
                            "<tr><td>CUB</td><td>2004</td><td>1</td></tr>",
                            "<tr><td>SUI</td><td>1924</td><td>1</td></tr>",
                            "<tr><td>BAH</td><td>1996</td><td>2</td></tr>",
                            "<tr><td>BUL</td><td>2002</td><td>2</td></tr>",
                            "<tr><td>ITA</td><td>2004</td><td>1</td></tr>",
                            "<tr><td>URS</td><td>1956</td><td>1</td></tr>",
                            "<tr><td>USA</td><td>1972</td><td>1</td></tr>",
                            "<tr><td>ARG</td><td>2004</td><td>1</td></tr>",
                            "<tr><td>PUR</td><td>1992</td><td>3</td></tr>",
                            "<tr><td>GBR</td><td>2002</td><td>1</td></tr>",
                            "<tr><td>POL</td><td>2006</td><td>2</td></tr>",
                            "<tr><td>FRA</td><td>1972</td><td>1</td></tr>",
                            "<tr><td>POR</td><td>1952</td><td>3</td></tr>",
                            "<tr><td>NAM</td><td>1992</td><td>2</td></tr>",
                            "<tr><td>SWE</td><td>2014</td><td>2</td></tr>",
                            "<tr><td>MAR</td><td>1992</td><td>1</td></tr>",
                            "<tr><td>NED</td><td>2000</td><td>1</td></tr>",
                            "<tr><td>AZE</td><td>2000</td><td>1</td></tr>",
                            "<tr><td>CUB</td><td>1972</td><td>1</td></tr>",
                            "<tr><td>GBR</td><td>1908</td><td>1</td></tr>",
                            "<tr><td>GRE</td><td>1960</td><td>1</td></tr>",
                            "<tr><td>GDR</td><td>1988</td><td>1</td></tr>",
                            "<tr><td>LIE</td><td>1984</td><td>3</td></tr>",
                            "<tr><td>AZE</td><td>2008</td><td>1</td></tr>",
                            "<tr><td>URU</td><td>1952</td><td>3</td></tr>",
                            "<tr><td>CAN</td><td>1984</td><td>1</td></tr>",
                            "<tr><td>PUR</td><td>1984</td><td>2</td></tr>",
                            "<tr><td>BRA</td><td>1920</td><td>1</td></tr>",
                            "<tr><td>ROU</td><td>2008</td><td>1</td></tr>",
                            "<tr><td>SWE</td><td>1912</td><td>1</td></tr>",
                            "<tr><td>URS</td><td>1968</td><td>1</td></tr>",
                            "<tr><td>ARG</td><td>1968</td><td>3</td></tr>",
                            "<tr><td>VIE</td><td>2008</td><td>2</td></tr>",
                            "<tr><td>GBR</td><td>1920</td><td>1</td></tr>",
                            "<tr><td>POR</td><td>1924</td><td>3</td></tr>",
                            "<tr><td>AUS</td><td>1960</td><td>1</td></tr>",
                            "<tr><td>TUR</td><td>2000</td><td>1</td></tr>",
                            "<tr><td>CHN</td><td>2004</td><td>1</td></tr>",
                            "<tr><td>BAH</td><td>2004</td><td>1</td></tr>",
                            "<tr><td>TPE</td><td>2008</td><td>3</td></tr>",
                            "<tr><td>ANZ</td><td>1912</td><td>1</td></tr>",
                            "<tr><td>UGA</td><td>1996</td><td>3</td></tr>",
                            "<tr><td>SWE</td><td>1920</td><td>1</td></tr>",
                            "<tr><td>LUX</td><td>1992</td><td>2</td></tr>",
                            "<tr><td>FRA</td><td>1928</td><td>1</td></tr>",
                            "<tr><td>BEL</td><td>1956</td><td>2</td></tr>",
                            "<tr><td>ESP</td><td>1988</td><td>1</td></tr>",
                            "<tr><td>PUR</td><td>1976</td><td>3</td></tr>",
                            "<tr><td>DEN</td><td>1924</td><td>1</td></tr>",
                            "<tr><td>PHI</td><td>1988</td><td>3</td></tr>",
                            "<tr><td>BLR</td><td>1994</td><td>2</td></tr>",
                            "<tr><td>UZB</td><td>1994</td><td>1</td></tr>",
                            "<tr><td>USA</td><td>1968</td><td>1</td></tr>",
                            "<tr><td>ETH</td><td>2008</td><td>1</td></tr>",
                            "<tr><td>CAN</td><td>1992</td><td>1</td></tr>",
                            "<tr><td>CRO</td><td>1996</td><td>1</td></tr>",
                            "<tr><td>CZE</td><td>2000</td><td>1</td></tr>",
                            "<tr><td>HUN</td><td>1996</td><td>1</td></tr>",
                            "<tr><td>EST</td><td>2006</td><td>1</td></tr>",
                            "<tr><td>AUT</td><td>2008</td><td>2</td></tr>",
                            "<tr><td>GEO</td><td>2004</td><td>1</td></tr>",
                            "<tr><td>BOH</td><td>1908</td><td>3</td></tr>",
                            "<tr><td>FIN</td><td>1956</td><td>1</td></tr>",
                            "<tr><td>IRL</td><td>1984</td><td>2</td></tr>",
                            "<tr><td>LIB</td><td>1952</td><td>2</td></tr>",
                            "<tr><td>IRL</td><td>1992</td><td>1</td></tr>",
                            "<tr><td>SUI</td><td>1956</td><td>1</td></tr>",
                            "<tr><td>POL</td><td>1964</td><td>1</td></tr>",
                            "<tr><td>ITA</td><td>1936</td><td>1</td></tr>",
                            "<tr><td>FIN</td><td>1948</td><td>1</td></tr>",
                            "<tr><td>CHI</td><td>2004</td><td>1</td></tr>",
                            "<tr><td>MOZ</td><td>1996</td><td>3</td></tr>",
                            "<tr><td>GER</td><td>2008</td><td>1</td></tr>",
                            "<tr><td>HUN</td><td>1936</td><td>1</td></tr>",
                            "<tr><td>NOR</td><td>1998</td><td>1</td></tr>",
                            "<tr><td>ISR</td><td>2004</td><td>1</td></tr>",
                            "<tr><td>NED</td><td>1928</td><td>1</td></tr>",
                            "<tr><td>ZIM</td><td>2004</td><td>1</td></tr>",
                            "<tr><td>NGR</td><td>1996</td><td>1</td></tr>",
                            "<tr><td>BAR</td><td>2000</td><td>3</td></tr>",
                            "<tr><td>UZB</td><td>2000</td><td>1</td></tr>",
                            "<tr><td>ARG</td><td>1936</td><td>1</td></tr>",
                            "<tr><td>LUX</td><td>1952</td><td>1</td></tr>",
                            "<tr><td>AUT</td><td>1956</td><td>1</td></tr>",
                            "<tr><td>ESP</td><td>1948</td><td>2</td></tr>",
                            "<tr><td>BEL</td><td>1964</td><td>1</td></tr>",
                            "<tr><td>BRA</td><td>1952</td><td>1</td></tr>",
                            "<tr><td>ROU</td><td>1976</td><td>1</td></tr>",
                            "<tr><td>CAN</td><td>1952</td><td>1</td></tr>",
                            "<tr><td>DEN</td><td>1932</td><td>2</td></tr>",
                            "<tr><td>FIN</td><td>2008</td><td>1</td></tr>",
                            "<tr><td>FIN</td><td>1988</td><td>1</td></tr>",
                            "<tr><td>NZL</td><td>1920</td><td>3</td></tr>",
                            "<tr><td>MEX</td><td>1952</td><td>2</td></tr>",
                            "<tr><td>AUT</td><td>1976</td><td>1</td></tr>",
                            "<tr><td>LAT</td><td>1992</td><td>2</td></tr>",
                            "<tr><td>ROU</td><td>1956</td><td>1</td></tr>",
                            "<tr><td>ROU</td><td>1968</td><td>1</td></tr>",
                            "<tr><td>AUS</td><td>2006</td><td>1</td></tr>",
                            "<tr><td>AUS</td><td>1900</td><td>1</td></tr>",
                            "<tr><td>YUG</td><td>1952</td><td>1</td></tr>",
                            "<tr><td>TRI</td><td>1952</td><td>3</td></tr>",
                            "<tr><td>RUS</td><td>1994</td><td>1</td></tr>",
                            "<tr><td>BUL</td><td>2000</td><td>1</td></tr>",
                            "<tr><td>TPE</td><td>2000</td><td>2</td></tr>",
                            "<tr><td>RSA</td><td>1992</td><td>2</td></tr>",
                            "<tr><td>USA</td><td>2008</td><td>1</td></tr>",
                            "<tr><td>LAT</td><td>1932</td><td>2</td></tr>",
                            "<tr><td>JPN</td><td>2002</td><td>2</td></tr>",
                            "<tr><td>PHI</td><td>1928</td><td>3</td></tr>",
                            "<tr><td>IRL</td><td>1932</td><td>1</td></tr>",
                            "<tr><td>ARG</td><td>1928</td><td>1</td></tr>",
                            "<tr><td>IND</td><td>1928</td><td>1</td></tr>",
                            "<tr><td>GER</td><td>1928</td><td>1</td></tr>",
                            "<tr><td>HUN</td><td>1956</td><td>1</td></tr>",
                            "<tr><td>DEN</td><td>1964</td><td>1</td></tr>",
                            "<tr><td>GRE</td><td>1980</td><td>1</td></tr>",
                            "<tr><td>PAN</td><td>2008</td><td>1</td></tr>",
                            "<tr><td>AUS</td><td>1920</td><td>2</td></tr>",
                            "<tr><td>BRA</td><td>1960</td><td>3</td></tr>",
                            "<tr><td>BEL</td><td>2004</td><td>1</td></tr>",
                            "<tr><td>BEL</td><td>1996</td><td>1</td></tr>",
                            "<tr><td>SUI</td><td>1976</td><td>1</td></tr>",
                            "<tr><td>CUB</td><td>1904</td><td>1</td></tr>",
                            "<tr><td>ARM</td><td>1996</td><td>1</td></tr>",
                            "<tr><td>GRE</td><td>1988</td><td>3</td></tr>",
                            "<tr><td>CAN</td><td>1998</td><td>1</td></tr>",
                            "<tr><td>SWE</td><td>1972</td><td>1</td></tr>",
                            "<tr><td>SVK</td><td>2006</td><td>2</td></tr>",
                            "<tr><td>UKR</td><td>1996</td><td>1</td></tr>",
                            "<tr><td>ESP</td><td>1928</td><td>1</td></tr>",
                            "<tr><td>IND</td><td>2008</td><td>1</td></tr>",
                            "<tr><td>BUL</td><td>1960</td><td>1</td></tr>",
                            "<tr><td>USA</td><td>1928</td><td>1</td></tr>",
                            "<tr><td>RSA</td><td>1952</td><td>1</td></tr>",
                            "<tr><td>NZL</td><td>1960</td><td>1</td></tr>",
                            "<tr><td>IRI</td><td>1996</td><td>1</td></tr>",
                            "<tr><td>DEN</td><td>1998</td><td>2</td></tr>",
                            "<tr><td>JAM</td><td>1992</td><td>2</td></tr>",
                            "<tr><td>KOR</td><td>1998</td><td>1</td></tr>",
                            "<tr><td>FRA</td><td>2000</td><td>1</td></tr>",
                            "<tr><td>PRK</td><td>2008</td><td>1</td></tr>",
                            "<tr><td>GBR</td><td>1960</td><td>1</td></tr>",
                            "<tr><td>RSA</td><td>1912</td><td>1</td></tr>",
                            "<tr><td>UKR</td><td>2004</td><td>1</td></tr>",
                            "<tr><td>BLR</td><td>2008</td><td>1</td></tr>",
                            "<tr><td>CAN</td><td>1912</td><td>1</td></tr>",
                            "<tr><td>GDR</td><td>1976</td><td>1</td></tr>",
                            "<tr><td>RUS</td><td>2008</td><td>1</td></tr>",
                            "<tr><td>TCH</td><td>1924</td><td>1</td></tr>",
                            "<tr><td>SWE</td><td>1932</td><td>1</td></tr>",
                            "<tr><td>NZL</td><td>1992</td><td>1</td></tr>",
                            "<tr><td>VEN</td><td>1968</td><td>1</td></tr>",
                            "<tr><td>LTU</td><td>2000</td><td>1</td></tr>",
                            "<tr><td>MDA</td><td>2000</td><td>2</td></tr>",
                            "<tr><td>VEN</td><td>1960</td><td>3</td></tr>",
                            "<tr><td>BLR</td><td>2000</td><td>1</td></tr>",
                            "<tr><td>NZL</td><td>2000</td><td>1</td></tr>",
                            "<tr><td>KEN</td><td>1984</td><td>1</td></tr>",
                            "<tr><td>ZAM</td><td>1996</td><td>2</td></tr>",
                            "<tr><td>SVK</td><td>2000</td><td>1</td></tr>",
                            "<tr><td>NOR</td><td>1984</td><td>1</td></tr>",
                            "<tr><td>PUR</td><td>1996</td><td>3</td></tr>",
                            "<tr><td>GBR</td><td>2006</td><td>2</td></tr>",
                            "<tr><td>SWE</td><td>1900</td><td>3</td></tr>",
                            "<tr><td>IRL</td><td>1964</td><td>3</td></tr>",
                            "<tr><td>JAM</td><td>1952</td><td>1</td></tr>",
                            "<tr><td>LIE</td><td>1980</td><td>1</td></tr>",
                            "<tr><td>CRO</td><td>2002</td><td>1</td></tr>",
                            "<tr><td>FRA</td><td>1968</td><td>1</td></tr>",
                            "<tr><td>BUL</td><td>2006</td><td>2</td></tr>",
                            "<tr><td>NED</td><td>1988</td><td>1</td></tr>",
                            "<tr><td>MAR</td><td>2004</td><td>1</td></tr>",
                            "<tr><td>POL</td><td>1924</td><td>2</td></tr>",
                            "<tr><td>PAK</td><td>1976</td><td>3</td></tr>",
                            "<tr><td>JPN</td><td>1956</td><td>1</td></tr>",
                            "<tr><td>ITA</td><td>1976</td><td>1</td></tr>",
                            "<tr><td>FIN</td><td>2002</td><td>1</td></tr>",
                            "<tr><td>CUB</td><td>1976</td><td>1</td></tr>",
                            "<tr><td>RUS</td><td>2000</td><td>1</td></tr>",
                            "<tr><td>ARG</td><td>2008</td><td>1</td></tr>",
                            "<tr><td>KOR</td><td>1952</td><td>3</td></tr>",
                            "<tr><td>MAR</td><td>1996</td><td>3</td></tr>",
                            "<tr><td>AUS</td><td>2000</td><td>1</td></tr>",
                            "<tr><td>SUI</td><td>1936</td><td>1</td></tr>",
                            "<tr><td>YUG</td><td>1972</td><td>1</td></tr>",
                            "<tr><td>NED</td><td>1994</td><td>2</td></tr>",
                            "<tr><td>NED</td><td>1948</td><td>1</td></tr>",
                            "<tr><td>KAZ</td><td>1998</td><td>3</td></tr>",
                            "<tr><td>MGL</td><td>1980</td><td>2</td></tr>",
                            "<tr><td>DOM</td><td>1984</td><td>3</td></tr>",
                            "<tr><td>JPN</td><td>1996</td><td>1</td></tr>",
                            "<tr><td>NOR</td><td>1924</td><td>1</td></tr>",
                            "<tr><td>KOR</td><td>1992</td><td>1</td></tr>",
                            "<tr><td>SLO</td><td>1996</td><td>2</td></tr>",
                            "<tr><td>IND</td><td>1968</td><td>3</td></tr>",
                            "<tr><td>AUT</td><td>1936</td><td>1</td></tr>",
                            "<tr><td>USA</td><td>1948</td><td>1</td></tr>",
                            "<tr><td>ITA</td><td>1956</td><td>1</td></tr>",
                            "<tr><td>DEN</td><td>2004</td><td>1</td></tr>",
                            "<tr><td>BER</td><td>1976</td><td>3</td></tr>",
                            "<tr><td>ROU</td><td>1996</td><td>1</td></tr>",
                            "<tr><td>POR</td><td>2004</td><td>2</td></tr>",
                            "<tr><td>ARG</td><td>1956</td><td>2</td></tr>",
                            "<tr><td>EUA</td><td>1960</td><td>1</td></tr>",
                            "<tr><td>CRC</td><td>2000</td><td>3</td></tr>",
                            "<tr><td>KEN</td><td>2004</td><td>1</td></tr>",
                            "<tr><td>DEN</td><td>1912</td><td>1</td></tr>",
                            "<tr><td>SUR</td><td>1992</td><td>3</td></tr>",
                            "<tr><td>BRA</td><td>2000</td><td>2</td></tr>",
                            "<tr><td>FIN</td><td>1936</td><td>1</td></tr>",
                            "<tr><td>THA</td><td>2000</td><td>1</td></tr>",
                            "<tr><td>FRA</td><td>1994</td><td>2</td></tr>",
                            "<tr><td>COL</td><td>2004</td><td>3</td></tr>",
                            "<tr><td>FRG</td><td>1976</td><td>1</td></tr>",
                            "<tr><td>PAN</td><td>1948</td><td>3</td></tr>",
                            "<tr><td>GRE</td><td>2008</td><td>2</td></tr>",
                            "<tr><td>GRE</td><td>1908</td><td>2</td></tr>",
                            "<tr><td>BRA</td><td>1992</td><td>1</td></tr>",
                            "<tr><td>FRA</td><td>2008</td><td>1</td></tr>",
                            "<tr><td>URU</td><td>1932</td><td>3</td></tr>",
                            "<tr><td>BEL</td><td>1976</td><td>2</td></tr>",
                            "<tr><td>AUT</td><td>1996</td><td>2</td></tr>",
                            "<tr><td>ESP</td><td>2008</td><td>1</td></tr>",
                            "<tr><td>IRI</td><td>1956</td><td>1</td></tr>",
                            "<tr><td>CHN</td><td>1984</td><td>1</td></tr>",
                            "<tr><td>SCG</td><td>2004</td><td>2</td></tr>",
                            "<tr><td>SUD</td><td>2008</td><td>2</td></tr>",
                            "<tr><td>TCH</td><td>1964</td><td>1</td></tr>",
                            "<tr><td>ETH</td><td>1996</td><td>1</td></tr>",
                            "<tr><td>MEX</td><td>1932</td><td>2</td></tr>",
                            "<tr><td>ARG</td><td>1948</td><td>1</td></tr>",
                            "<tr><td>CAN</td><td>2004</td><td>1</td></tr>",
                            "<tr><td>FIN</td><td>1976</td><td>1</td></tr>",
                            "<tr><td>ROU</td><td>1988</td><td>1</td></tr>",
                            "<tr><td>FIN</td><td>1968</td><td>1</td></tr>",
                            "<tr><td>MEX</td><td>1972</td><td>2</td></tr>",
                            "<tr><td>ROU</td><td>1936</td><td>2</td></tr>",
                            "<tr><td>CAN</td><td>1972</td><td>2</td></tr>",
                            "<tr><td>SUI</td><td>1996</td><td>1</td></tr>",
                            "<tr><td>USA</td><td>1994</td><td>1</td></tr>",
                            "<tr><td>ITA</td><td>2002</td><td>1</td></tr>",
                            "<tr><td>BUL</td><td>1980</td><td>1</td></tr>",
                            "<tr><td>CMR</td><td>2000</td><td>1</td></tr>",
                            "<tr><td>BEL</td><td>1984</td><td>1</td></tr>",
                            "<tr><td>NED</td><td>2002</td><td>1</td></tr>",
                            "<tr><td>NED</td><td>1908</td><td>3</td></tr>",
                            "<tr><td>SWE</td><td>1992</td><td>1</td></tr>",
                            "<tr><td>POL</td><td>2004</td><td>1</td></tr>",
                            "<tr><td>GBR</td><td>2000</td><td>1</td></tr>",
                            "<tr><td>CAN</td><td>1964</td><td>1</td></tr>",
                            "<tr><td>FIN</td><td>1996</td><td>1</td></tr>",
                            "<tr><td>SWE</td><td>1960</td><td>1</td></tr>",
                            "<tr><td>IRI</td><td>1976</td><td>2</td></tr>",
                            "<tr><td>CAN</td><td>1932</td><td>1</td></tr>",
                            "<tr><td>TPE</td><td>1960</td><td>2</td></tr>",
                            "<tr><td>ITA</td><td>1996</td><td>1</td></tr>",
                            "<tr><td>ALG</td><td>1992</td><td>1</td></tr>",
                            "<tr><td>USA</td><td>1908</td><td>1</td></tr>",
                            "<tr><td>BRA</td><td>1972</td><td>3</td></tr>",
                            "<tr><td>FRA</td><td>1988</td><td>1</td></tr>",
                            "<tr><td>CUB</td><td>1996</td><td>1</td></tr>",
                            "<tr><td>CZE</td><td>2006</td><td>1</td></tr>",
                            "<tr><td>TUR</td><td>1960</td><td>1</td></tr>",
                            "<tr><td>NOR</td><td>1964</td><td>1</td></tr>",
                            "<tr><td>BAH</td><td>1964</td><td>1</td></tr>",
                            "<tr><td>TCH</td><td>1984</td><td>2</td></tr>",
                            "<tr><td>MEX</td><td>1992</td><td>2</td></tr>",
                            "<tr><td>TPE</td><td>1968</td><td>3</td></tr>",
                            "<tr><td>GER</td><td>1994</td><td>1</td></tr>",
                            "<tr><td>GBR</td><td>1980</td><td>1</td></tr>",
                            "<tr><td>KAZ</td><td>2004</td><td>1</td></tr>",
                            "<tr><td>DEN</td><td>1984</td><td>2</td></tr>",
                            "<tr><td>JAM</td><td>1972</td><td>3</td></tr>",
                            "<tr><td>BRA</td><td>1980</td><td>1</td></tr>",
                            "<tr><td>ISL</td><td>2000</td><td>3</td></tr>",
                            "<tr><td>EGY</td><td>1960</td><td>2</td></tr>",
                            "<tr><td>EST</td><td>2000</td><td>1</td></tr>",
                            "<tr><td>RSA</td><td>1932</td><td>1</td></tr>",
                            "<tr><td>INA</td><td>2000</td><td>1</td></tr>",
                            "<tr><td>BEL</td><td>2016</td><td>2</td></tr>",
                            "<tr><td>SWE</td><td>1952</td><td>1</td></tr>",
                            "<tr><td>HUN</td><td>1976</td><td>1</td></tr>",
                            "<tr><td>TRI</td><td>2000</td><td>2</td></tr>",
                            "<tr><td>FRA</td><td>1908</td><td>1</td></tr>",
                            "<tr><td>BEL</td><td>1924</td><td>1</td></tr>",
                            "<tr><td>NZL</td><td>1972</td><td>1</td></tr>",
                            "<tr><td>ISR</td><td>1992</td><td>2</td></tr>",
                            "<tr><td>GRE</td><td>2000</td><td>1</td></tr>",
                            "<tr><td>IND</td><td>1948</td><td>1</td></tr>",
                            "<tr><td>IRL</td><td>1952</td><td>2</td></tr>",
                            "<tr><td>CUB</td><td>1964</td><td>2</td></tr>",
                            "<tr><td>GER</td><td>1908</td><td>1</td></tr>",
                            "<tr><td>LIB</td><td>1972</td><td>2</td></tr>",
                            "<tr><td>JPN</td><td>1976</td><td>1</td></tr>",
                            "<tr><td>GBR</td><td>1900</td><td>1</td></tr>",
                            "<tr><td>URS</td><td>1988</td><td>1</td></tr>",
                            "<tr><td>KOR</td><td>1972</td><td>2</td></tr>",
                            "<tr><td>AUS</td><td>1980</td><td>1</td></tr>",
                            "<tr><td>ARG</td><td>1988</td><td>2</td></tr>",
                            "<tr><td>AUT</td><td>2002</td><td>1</td></tr>",
                            "<tr><td>POR</td><td>1984</td><td>1</td></tr>",
                            "<tr><td>NOR</td><td>2004</td><td>1</td></tr>",
                            "<tr><td>EST</td><td>1920</td><td>1</td></tr>",
                            "<tr><td>JPN</td><td>1936</td><td>1</td></tr>",
                            "<tr><td>ECU</td><td>2008</td><td>2</td></tr>",
                            "<tr><td>PAK</td><td>1956</td><td>2</td></tr>",
                            "<tr><td>NED</td><td>1968</td><td>1</td></tr>",
                            "<tr><td>COL</td><td>1984</td><td>2</td></tr>",
                            "<tr><td>FRA</td><td>1948</td><td>1</td></tr>",
                            "<tr><td>NED</td><td>2008</td><td>1</td></tr>",
                            "<tr><td>MAR</td><td>1984</td><td>1</td></tr>",
                            "<tr><td>SUI</td><td>2002</td><td>1</td></tr>",
                            "<tr><td>GRE</td><td>1968</td><td>3</td></tr>",
                            "<tr><td>VEN</td><td>1980</td><td>2</td></tr>",
                            "<tr><td>KEN</td><td>1964</td><td>3</td></tr>",
                            "<tr><td>SWE</td><td>2006</td><td>1</td></tr>",
                            "<tr><td>USA</td><td>1988</td><td>1</td></tr>",
                            "<tr><td>FRA</td><td>1936</td><td>1</td></tr>",
                            "<tr><td>MEX</td><td>1960</td><td>3</td></tr>",
                            "<tr><td>PAK</td><td>1968</td><td>1</td></tr>",
                            "<tr><td>YUG</td><td>1968</td><td>1</td></tr>",
                            "<tr><td>NGR</td><td>1964</td><td>3</td></tr>",
                            "<tr><td>TCH</td><td>1936</td><td>1</td></tr>",
                            "<tr><td>SLO</td><td>2008</td><td>1</td></tr>",
                            "<tr><td>MGL</td><td>1968</td><td>2</td></tr>",
                            "<tr><td>BEL</td><td>1948</td><td>1</td></tr>",
                            "<tr><td>GER</td><td>1900</td><td>1</td></tr>",
                            "<tr><td>SUI</td><td>1948</td><td>1</td></tr>",
                            "<tr><td>POL</td><td>1956</td><td>1</td></tr>",
                            "<tr><td>ESP</td><td>1996</td><td>1</td></tr>",
                            "<tr><td>CAN</td><td>1900</td><td>1</td></tr>",
                            "<tr><td>NED</td><td>1936</td><td>1</td></tr>",
                            "<tr><td>ROU</td><td>2000</td><td>1</td></tr>",
                            "<tr><td>TUN</td><td>1972</td><td>2</td></tr>",
                            "<tr><td>COL</td><td>2000</td><td>1</td></tr>",
                            "<tr><td>EGY</td><td>1948</td><td>1</td></tr>",
                            "<tr><td>ZIM</td><td>1980</td><td>1</td></tr>",
                            "<tr><td>KOR</td><td>1996</td><td>1</td></tr>",
                            "<tr><td>GER</td><td>2000</td><td>1</td></tr>",
                            "<tr><td>ITA</td><td>1928</td><td>1</td></tr>",
                            "<tr><td>POR</td><td>2008</td><td>1</td></tr>",
                            "<tr><td>GER</td><td>1992</td><td>1</td></tr>",
                            "<tr><td>JPN</td><td>2008</td><td>1</td></tr>",
                            "<tr><td>AUS</td><td>1952</td><td>1</td></tr>",
                            "<tr><td>NOR</td><td>1936</td><td>1</td></tr>",
                            "<tr><td>ARG</td><td>1960</td><td>2</td></tr>",
                            "<tr><td>KOR</td><td>2004</td><td>1</td></tr>",
                            "<tr><td>USA</td><td>1936</td><td>1</td></tr>",
                            "<tr><td>AUT</td><td>1948</td><td>1</td></tr>",
                            "<tr><td>CHI</td><td>1952</td><td>2</td></tr>",
                            "<tr><td>RSA</td><td>1960</td><td>2</td></tr>",
                            "<tr><td>CAN</td><td>1960</td><td>1</td></tr>",
                            "<tr><td>MAS</td><td>1996</td><td>2</td></tr>",
                            "<tr><td>LAT</td><td>2000</td><td>1</td></tr>",
                            "<tr><td>SUI</td><td>2008</td><td>1</td></tr>",
                            "<tr><td>UZB</td><td>2008</td><td>1</td></tr>",
                            "<tr><td>CRC</td><td>1988</td><td>2</td></tr>",
                            "<tr><td>BUL</td><td>1992</td><td>1</td></tr>",
                            "<tr><td>IRL</td><td>2000</td><td>2</td></tr>",
                            "<tr><td>IRI</td><td>1952</td><td>2</td></tr>",
                            "<tr><td>FIN</td><td>1964</td><td>1</td></tr>",
                            "<tr><td>CRC</td><td>1996</td><td>1</td></tr>",
                            "<tr><td>BLR</td><td>2002</td><td>3</td></tr>",
                            "<tr><td>CAN</td><td>2000</td><td>1</td></tr>",
                            "<tr><td>AUT</td><td>2000</td><td>1</td></tr>",
                            "<tr><td>CRO</td><td>2004</td><td>1</td></tr>",
                            "<tr><td>DOM</td><td>2004</td><td>1</td></tr>",
                            "<tr><td>GEO</td><td>1996</td><td>3</td></tr>",
                            "<tr><td>MEX</td><td>1968</td><td>1</td></tr>",
                            "<tr><td>AUS</td><td>1998</td><td>3</td></tr>",
                            "<tr><td>YUG</td><td>1960</td><td>1</td></tr>",
                            "<tr><td>BEL</td><td>1988</td><td>3</td></tr>",
                            "<tr><td>TPE</td><td>1992</td><td>2</td></tr>",
                            "<tr><td>NGR</td><td>2004</td><td>3</td></tr>",
                            "<tr><td>GBR</td><td>2004</td><td>1</td></tr>",
                            "<tr><td>RSA</td><td>2000</td><td>2</td></tr>",
                            "<tr><td>DEN</td><td>1956</td><td>1</td></tr>",
                            "<tr><td>MGL</td><td>2008</td><td>1</td></tr>",
                            "<tr><td>TUR</td><td>1992</td><td>1</td></tr>",
                            "<tr><td>RUS</td><td>2002</td><td>1</td></tr>",
                            "<tr><td>HUN</td><td>1928</td><td>1</td></tr>",
                            "<tr><td>NZL</td><td>1928</td><td>1</td></tr>",
                            "<tr><td>SUI</td><td>2000</td><td>1</td></tr>",
                            "<tr><td>SWE</td><td>2004</td><td>1</td></tr>",
                            "<tr><td>CHN</td><td>2006</td><td>1</td></tr>",
                            "<tr><td>ALG</td><td>1996</td><td>1</td></tr>",
                            "<tr><td>SWE</td><td>1964</td><td>1</td></tr>",
                            "<tr><td>NOR</td><td>1976</td><td>1</td></tr>",
                            "<tr><td>SEN</td><td>1988</td><td>2</td></tr>",
                            "<tr><td>AUT</td><td>1968</td><td>1</td></tr>",
                            "<tr><td>MKD</td><td>2000</td><td>3</td></tr>",
                            "<tr><td>IRI</td><td>1972</td><td>2</td></tr>",
                            "<tr><td>JPN</td><td>1994</td><td>1</td></tr>",
                            "<tr><td>FRA</td><td>1976</td><td>1</td></tr>",
                            "<tr><td>POL</td><td>1996</td><td>1</td></tr>",
                            "<tr><td>ITA</td><td>2000</td><td>1</td></tr>",
                            "<tr><td>YUG</td><td>1928</td><td>1</td></tr>",
                            "<tr><td>ETH</td><td>1964</td><td>1</td></tr>",
                            "<tr><td>BRA</td><td>1968</td><td>2</td></tr>",
                            "<tr><td>SLO</td><td>2002</td><td>3</td></tr>",
                            "<tr><td>PRK</td><td>2000</td><td>2</td></tr>",
                            "<tr><td>PUR</td><td>1948</td><td>3</td></tr>",
                            "<tr><td>UZB</td><td>1996</td><td>2</td></tr>",
                            "<tr><td>JAM</td><td>1976</td><td>1</td></tr>",
                            "<tr><td>GBR</td><td>1952</td><td>1</td></tr>",
                            "<tr><td>NZL</td><td>1968</td><td>1</td></tr>",
                            "<tr><td>MEX</td><td>1988</td><td>3</td></tr>",
                            "<tr><td>ISR</td><td>1996</td><td>3</td></tr>",
                            "<tr><td>BUL</td><td>1952</td><td>3</td></tr>",
                            "<tr><td>CAN</td><td>1920</td><td>1</td></tr>",
                            "<tr><td>JAM</td><td>1984</td><td>2</td></tr>",
                            "<tr><td>TRI</td><td>2004</td><td>3</td></tr>",
                            "<tr><td>ITA</td><td>1968</td><td>1</td></tr>",
                            "<tr><td>CUB</td><td>1968</td><td>2</td></tr>",
                            "<tr><td>GER</td><td>2006</td><td>1</td></tr>",
                            "<tr><td>KEN</td><td>1992</td><td>1</td></tr>",
                            "<tr><td>NAM</td><td>1996</td><td>2</td></tr>",
                            "<tr><td>IRI</td><td>2004</td><td>1</td></tr>",
                            "<tr><td>GRE</td><td>1996</td><td>1</td></tr>",
                            "<tr><td>AUS</td><td>1984</td><td>1</td></tr>",
                            "<tr><td>HUN</td><td>1988</td><td>1</td></tr>",
                            "<tr><td>CAN</td><td>2006</td><td>1</td></tr>",
                            "<tr><td>LTU</td><td>1992</td><td>1</td></tr>",
                            "<tr><td>SUR</td><td>1988</td><td>1</td></tr>",
                            "<tr><td>GBR</td><td>1998</td><td>3</td></tr>",
                            "<tr><td>RSA</td><td>1920</td><td>1</td></tr>",
                            "<tr><td>POR</td><td>1996</td><td>1</td></tr>",
                            "<tr><td>CUB</td><td>2008</td><td>1</td></tr>",
                            "<tr><td>ITA</td><td>1960</td><td>1</td></tr>",
                            "<tr><td>FIN</td><td>1924</td><td>1</td></tr>",
                            "<tr><td>ITA</td><td>2008</td><td>1</td></tr>",
                            "<tr><td>POR</td><td>1988</td><td>1</td></tr>",
                            "<tr><td>NZL</td><td>2008</td><td>1</td></tr>",
                            "<tr><td>NIG</td><td>1972</td><td>3</td></tr>",
                            "<tr><td>SWE</td><td>1924</td><td>1</td></tr>",
                            "<tr><td>IND</td><td>1936</td><td>1</td></tr>",
                            "<tr><td>GDR</td><td>1984</td><td>1</td></tr>",
                            "<tr><td>MAR</td><td>1988</td><td>1</td></tr>",
                            "<tr><td>ZZX</td><td>1900</td><td>1</td></tr>",
                            "<tr><td>USA</td><td>1976</td><td>1</td></tr>",
                            "<tr><td>FIN</td><td>2010</td><td>3</td></tr>",
                            "<tr><td>COL</td><td>1972</td><td>2</td></tr>",
                            "<tr><td>POL</td><td>2002</td><td>2</td></tr>",
                            "<tr><td>AUS</td><td>1992</td><td>1</td></tr>",
                            "<tr><td>URS</td><td>1960</td><td>1</td></tr>",
                            "<tr><td>ARG</td><td>2000</td><td>2</td></tr>",
                            "<tr><td>GER</td><td>1952</td><td>1</td></tr>",
                            "<tr><td>GRE</td><td>1956</td><td>3</td></tr>",
                            "<tr><td>BAH</td><td>2000</td><td>1</td></tr>",
                            "<tr><td>CHN</td><td>1998</td><td>2</td></tr>",
                            "<tr><td>NED</td><td>1996</td><td>1</td></tr>",
                            "<tr><td>GHA</td><td>1964</td><td>3</td></tr>",
                            "<tr><td>LIE</td><td>1988</td><td>3</td></tr>",
                            "<tr><td>GBR</td><td>1912</td><td>1</td></tr>",
                            "<tr><td>BAH</td><td>1992</td><td>3</td></tr>",
                            "<tr><td>BUL</td><td>1998</td><td>1</td></tr>",
                            "<tr><td>HUN</td><td>2008</td><td>1</td></tr>",
                            "<tr><td>AZE</td><td>2004</td><td>1</td></tr>",
                            "<tr><td>CZE</td><td>2004</td><td>1</td></tr>",
                            "<tr><td>TRI</td><td>1964</td><td>2</td></tr>",
                            "<tr><td>ITA</td><td>1948</td><td>1</td></tr>",
                            "<tr><td>USA</td><td>1956</td><td>1</td></tr>",
                            "<tr><td>AUS</td><td>1964</td><td>1</td></tr>",
                            "<tr><td>ITA</td><td>1994</td><td>1</td></tr>",
                            "<tr><td>CAN</td><td>1980</td><td>2</td></tr>",
                            "<tr><td>USA</td><td>2002</td><td>1</td></tr>",
                            "<tr><td>IRL</td><td>1980</td><td>2</td></tr>",
                            "<tr><td>KOR</td><td>1984</td><td>1</td></tr>",
                            "<tr><td>BRA</td><td>2008</td><td>1</td></tr>",
                            "<tr><td>HUN</td><td>1908</td><td>1</td></tr>",
                            "<tr><td>POL</td><td>1936</td><td>2</td></tr>",
                            "<tr><td>CUB</td><td>1948</td><td>2</td></tr>",
                            "<tr><td>GBR</td><td>1932</td><td>1</td></tr>",
                            "<tr><td>EGY</td><td>1928</td><td>1</td></tr>",
                            "<tr><td>SUI</td><td>1928</td><td>1</td></tr>",
                            "<tr><td>AUS</td><td>1972</td><td>1</td></tr>",
                            "<tr><td>YUG</td><td>1980</td><td>1</td></tr>",
                            "<tr><td>JPN</td><td>1988</td><td>1</td></tr>",
                            "<tr><td>VEN</td><td>1952</td><td>3</td></tr>",
                            "<tr><td>FRG</td><td>1984</td><td>1</td></tr>",
                            "<tr><td>MAS</td><td>2008</td><td>2</td></tr>",
                            "<tr><td>URS</td><td>1980</td><td>1</td></tr>",
                            "<tr><td>PER</td><td>1984</td><td>2</td></tr>",
                            "<tr><td>BEL</td><td>1936</td><td>3</td></tr>",
                            "<tr><td>NGR</td><td>1984</td><td>2</td></tr>",
                            "<tr><td>FRA</td><td>2002</td><td>1</td></tr>",
                            "<tr><td>INA</td><td>1988</td><td>2</td></tr>",
                            "<tr><td>EST</td><td>2002</td><td>1</td></tr>",
                            "<tr><td>TCH</td><td>1956</td><td>1</td></tr>",
                            "<tr><td>UKR</td><td>2008</td><td>1</td></tr>",
                            "<tr><td>AUT</td><td>1928</td><td>1</td></tr>",
                            "<tr><td>DEN</td><td>1996</td><td>1</td></tr>",
                            "<tr><td>BEL</td><td>1928</td><td>2</td></tr>",
                            "<tr><td>MEX</td><td>1980</td><td>2</td></tr>",
                            "<tr><td>KGZ</td><td>2000</td><td>3</td></tr>",
                            "<tr><td>YUG</td><td>1948</td><td>2</td></tr>",
                            "<tr><td>THA</td><td>1992</td><td>3</td></tr>",
                            "<tr><td>NED</td><td>1924</td><td>1</td></tr>",
                            "<tr><td>SWE</td><td>1984</td><td>1</td></tr>",
                            "<tr><td>GBR</td><td>1992</td><td>1</td></tr>",
                            "<tr><td>PER</td><td>1992</td><td>2</td></tr>",
                            "<tr><td>TUR</td><td>1972</td><td>2</td></tr>",
                            "<tr><td>NOR</td><td>2002</td><td>1</td></tr>",
                            "<tr><td>JAM</td><td>2004</td><td>1</td></tr>",
                            "<tr><td>GER</td><td>2012</td><td>1</td></tr>",
                            "<tr><td>AUS</td><td>1932</td><td>1</td></tr>",
                            "<tr><td>SUI</td><td>1968</td><td>2</td></tr>",
                            "<tr><td>ROU</td><td>1980</td><td>1</td></tr>",
                            "<tr><td>YUG</td><td>1988</td><td>1</td></tr>",
                            "<tr><td>IRI</td><td>1964</td><td>3</td></tr>",
                            "<tr><td>GBR</td><td>1984</td><td>1</td></tr>",
                            "<tr><td>HUN</td><td>1948</td><td>1</td></tr>",
                            "<tr><td>AUT</td><td>1960</td><td>1</td></tr>",
                            "<tr><td>MGL</td><td>1988</td><td>3</td></tr>",
                            "<tr><td>ETH</td><td>2004</td><td>1</td></tr>",
                            "<tr><td>PHI</td><td>1992</td><td>3</td></tr>",
                            "<tr><td>FIN</td><td>2004</td><td>2</td></tr>",
                            "<tr><td>BUL</td><td>2004</td><td>1</td></tr>",
                            "<tr><td>DEN</td><td>1936</td><td>2</td></tr>",
                            "<tr><td>FIN</td><td>1984</td><td>1</td></tr>",
                            "<tr><td>BEL</td><td>1968</td><td>2</td></tr>",
                            "<tr><td>ESP</td><td>1976</td><td>2</td></tr>",
                            "<tr><td>AUT</td><td>1988</td><td>1</td></tr>",
                            "<tr><td>BRA</td><td>1948</td><td>3</td></tr>",
                            "<tr><td>MEX</td><td>1948</td><td>1</td></tr>",
                            "<tr><td>ROU</td><td>1960</td><td>1</td></tr>",
                            "<tr><td>AUT</td><td>1980</td><td>1</td></tr>",
                            "<tr><td>CHN</td><td>1992</td><td>1</td></tr>",
                            "<tr><td>PHI</td><td>1932</td><td>3</td></tr>",
                            "<tr><td>ISL</td><td>1984</td><td>3</td></tr>",
                            "<tr><td>ARM</td><td>2008</td><td>3</td></tr>",
                            "<tr><td>TUR</td><td>1952</td><td>1</td></tr>",
                            "<tr><td>KAZ</td><td>1996</td><td>1</td></tr>",
                            "<tr><td>BEL</td><td>1908</td><td>1</td></tr>",
                            "<tr><td>BUL</td><td>1964</td><td>1</td></tr>",
                            "<tr><td>GBR</td><td>1972</td><td>1</td></tr>",
                            "<tr><td>KEN</td><td>1972</td><td>1</td></tr>",
                            "<tr><td>SUI</td><td>1988</td><td>1</td></tr>",
                            "<tr><td>AUS</td><td>2012</td><td>3</td></tr>",
                            "<tr><td>DEN</td><td>1976</td><td>1</td></tr>",
                            "<tr><td>BUL</td><td>1972</td><td>1</td></tr>",
                            "<tr><td>CZE</td><td>1998</td><td>1</td></tr>",
                            "<tr><td>ITA</td><td>1908</td><td>1</td></tr>",
                            "<tr><td>BLR</td><td>1996</td><td>1</td></tr>",
                            "<tr><td>TCH</td><td>1976</td><td>1</td></tr>",
                            "<tr><td>ALG</td><td>1984</td><td>3</td></tr>",
                            "<tr><td>IRI</td><td>1992</td><td>2</td></tr>",
                            "<tr><td>POL</td><td>1976</td><td>1</td></tr>",
                            "<tr><td>BEL</td><td>2008</td><td>1</td></tr>",
                            "<tr><td>INA</td><td>2008</td><td>1</td></tr>",
                            "<tr><td>NZL</td><td>1988</td><td>1</td></tr>",
                            "<tr><td>JAM</td><td>1996</td><td>1</td></tr>",
                            "<tr><td>FRA</td><td>1996</td><td>1</td></tr>",
                            "<tr><td>EST</td><td>2008</td><td>1</td></tr>",
                            "<tr><td>UGA</td><td>1972</td><td>1</td></tr>",
                            "<tr><td>GBR</td><td>1964</td><td>1</td></tr>",
                            "<tr><td>URU</td><td>1924</td><td>1</td></tr>",
                            "<tr><td>HUN</td><td>1968</td><td>1</td></tr>",
                            "<tr><td>MEX</td><td>2000</td><td>1</td></tr>",
                            "<tr><td>YUG</td><td>2000</td><td>1</td></tr>",
                            "<tr><td>BRA</td><td>1988</td><td>1</td></tr>",
                            "<tr><td>IND</td><td>1996</td><td>3</td></tr>",
                            "<tr><td>NOR</td><td>1996</td><td>1</td></tr>",
                            "<tr><td>JPN</td><td>1928</td><td>1</td></tr>",
                            "<tr><td>GDR</td><td>1972</td><td>1</td></tr>",
                            "<tr><td>KOR</td><td>1964</td><td>2</td></tr>",
                            "<tr><td>AUT</td><td>1994</td><td>1</td></tr>",
                            "<tr><td>COL</td><td>1992</td><td>3</td></tr>",
                            "<tr><td>RU1</td><td>1908</td><td>1</td></tr>",
                            "<tr><td>NED</td><td>1976</td><td>1</td></tr>",
                            "<tr><td>RSA</td><td>1908</td><td>1</td></tr>",
                            "<tr><td>NOR</td><td>1956</td><td>1</td></tr>",
                            "<tr><td>EST</td><td>1928</td><td>1</td></tr>",
                            "<tr><td>PRK</td><td>1980</td><td>2</td></tr>",
                            "<tr><td>POR</td><td>1936</td><td>3</td></tr>",
                            "<tr><td>AUT</td><td>1908</td><td>3</td></tr>",
                            "<tr><td>LTU</td><td>2004</td><td>1</td></tr>",
                            "<tr><td>URU</td><td>1964</td><td>3</td></tr>",
                            "<tr><td>ITA</td><td>1980</td><td>1</td></tr>",
                            "<tr><td>LIB</td><td>1980</td><td>3</td></tr>",
                            "<tr><td>SUI</td><td>1994</td><td>1</td></tr>",
                            "<tr><td>SWE</td><td>1998</td><td>2</td></tr>",
                            "<tr><td>AHO</td><td>1988</td><td>2</td></tr>",
                            "<tr><td>USA</td><td>1996</td><td>1</td></tr>",
                            "<tr><td>ZAM</td><td>1984</td><td>3</td></tr>",
                            "<tr><td>MAR</td><td>2008</td><td>2</td></tr>",
                            "<tr><td>IND</td><td>1956</td><td>1</td></tr>",
                            "<tr><td>POR</td><td>1976</td><td>2</td></tr>",
                            "<tr><td>HAI</td><td>1928</td><td>2</td></tr>",
                            "<tr><td>AUS</td><td>2004</td><td>1</td></tr>",
                            "<tr><td>UAE</td><td>2004</td><td>1</td></tr>",
                            "<tr><td>LAT</td><td>2006</td><td>3</td></tr>",
                            "<tr><td>EGY</td><td>2008</td><td>3</td></tr>",
                            "<tr><td>PAK</td><td>1988</td><td>3</td></tr>",
                            "<tr><td>JPN</td><td>1968</td><td>1</td></tr>",
                            "<tr><td>ITA</td><td>1988</td><td>1</td></tr>",
                            "<tr><td>FRA</td><td>1956</td><td>1</td></tr>",
                            "<tr><td>RUS</td><td>1996</td><td>1</td></tr>",
                            "</table>"
                        ]
                    }
                }
            ],
            "execution_count": 97
        },
        {
            "cell_type": "markdown",
            "source": [
                "Create a stored procedure"
            ],
            "metadata": {
                "azdata_cell_guid": "6de72101-d7a1-4f03-a41e-ef9cf5ac11b9"
            }
        },
        {
            "cell_type": "code",
            "source": [
                "  create PROCEDURE find_max_medal_value \r\n",
                "  AS\r\n",
                "  BEGIN\r\n",
                "  \r\n",
                "  select \r\n",
                "  NOC,\r\n",
                "  Edition,\r\n",
                "  min(MedalValue) as max_medal_value\r\n",
                "  from mydb.dbo.OlympicsData_medalists \r\n",
                "  GROUP BY \r\n",
                "  NOC,\r\n",
                "  Edition\r\n",
                "\r\n",
                "  END;"
            ],
            "metadata": {
                "azdata_cell_guid": "548c7c25-2615-4a90-ab4e-1578fff040ab",
                "tags": []
            },
            "outputs": [
                {
                    "output_type": "error",
                    "evalue": "Msg 2714, Level 16, State 3, Procedure find_max_medal_value, Line 1\r\nThere is already an object named 'find_max_medal_value' in the database.",
                    "ename": "",
                    "traceback": []
                },
                {
                    "output_type": "display_data",
                    "data": {
                        "text/html": "Total execution time: 00:00:00.037"
                    },
                    "metadata": {}
                }
            ],
            "execution_count": 108
        },
        {
            "cell_type": "markdown",
            "source": [
                "Execute stored procedure"
            ],
            "metadata": {
                "azdata_cell_guid": "dd6c334b-811b-4c7d-b144-cc34408428ce"
            }
        },
        {
            "cell_type": "code",
            "source": [
                "EXECUTE find_max_medal_value;"
            ],
            "metadata": {
                "azdata_cell_guid": "5c2d5a30-e069-4d55-8ffe-6aae148c9ff7"
            },
            "outputs": [
                {
                    "output_type": "display_data",
                    "data": {
                        "text/html": "(1187 rows affected)"
                    },
                    "metadata": {}
                },
                {
                    "output_type": "display_data",
                    "data": {
                        "text/html": "Total execution time: 00:00:00.168"
                    },
                    "metadata": {}
                },
                {
                    "output_type": "execute_result",
                    "metadata": {},
                    "execution_count": 109,
                    "data": {
                        "application/vnd.dataresource+json": {
                            "schema": {
                                "fields": [
                                    {
                                        "name": "NOC"
                                    },
                                    {
                                        "name": "Edition"
                                    },
                                    {
                                        "name": "max_medal_value"
                                    }
                                ]
                            },
                            "data": [
                                {
                                    "0": "CHI",
                                    "1": "1928",
                                    "2": "2"
                                },
                                {
                                    "0": "MGL",
                                    "1": "1976",
                                    "2": "2"
                                },
                                {
                                    "0": "SLO",
                                    "1": "2000",
                                    "2": "1"
                                },
                                {
                                    "0": "KAZ",
                                    "1": "1994",
                                    "2": "1"
                                },
                                {
                                    "0": "KOR",
                                    "1": "1988",
                                    "2": "1"
                                },
                                {
                                    "0": "AFG",
                                    "1": "2008",
                                    "2": "3"
                                },
                                {
                                    "0": "NOR",
                                    "1": "1928",
                                    "2": "1"
                                },
                                {
                                    "0": "JPN",
                                    "1": "2000",
                                    "2": "1"
                                },
                                {
                                    "0": "IND",
                                    "1": "1964",
                                    "2": "1"
                                },
                                {
                                    "0": "JPN",
                                    "1": "1992",
                                    "2": "1"
                                },
                                {
                                    "0": "SUI",
                                    "1": "1932",
                                    "2": "2"
                                },
                                {
                                    "0": "POL",
                                    "1": "1948",
                                    "2": "3"
                                },
                                {
                                    "0": "ITA",
                                    "1": "1952",
                                    "2": "1"
                                },
                                {
                                    "0": "YUG",
                                    "1": "1976",
                                    "2": "1"
                                },
                                {
                                    "0": "IND",
                                    "1": "1972",
                                    "2": "3"
                                },
                                {
                                    "0": "TRI",
                                    "1": "1976",
                                    "2": "1"
                                },
                                {
                                    "0": "PAK",
                                    "1": "1960",
                                    "2": "1"
                                },
                                {
                                    "0": "THA",
                                    "1": "2004",
                                    "2": "1"
                                },
                                {
                                    "0": "SIN",
                                    "1": "2008",
                                    "2": "2"
                                },
                                {
                                    "0": "POR",
                                    "1": "2000",
                                    "2": "3"
                                },
                                {
                                    "0": "KEN",
                                    "1": "2000",
                                    "2": "1"
                                },
                                {
                                    "0": "FIN",
                                    "1": "1932",
                                    "2": "1"
                                },
                                {
                                    "0": "FRA",
                                    "1": "1998",
                                    "2": "1"
                                },
                                {
                                    "0": "DEN",
                                    "1": "2008",
                                    "2": "1"
                                },
                                {
                                    "0": "DEN",
                                    "1": "1908",
                                    "2": "2"
                                },
                                {
                                    "0": "BRA",
                                    "1": "1996",
                                    "2": "1"
                                },
                                {
                                    "0": "NED",
                                    "1": "1952",
                                    "2": "2"
                                },
                                {
                                    "0": "ARG",
                                    "1": "1952",
                                    "2": "1"
                                },
                                {
                                    "0": "CAN",
                                    "1": "2014",
                                    "2": "1"
                                },
                                {
                                    "0": "NGR",
                                    "1": "1972",
                                    "2": "3"
                                },
                                {
                                    "0": "GRE",
                                    "1": "2004",
                                    "2": "1"
                                },
                                {
                                    "0": "PHI",
                                    "1": "1964",
                                    "2": "2"
                                },
                                {
                                    "0": "FRG",
                                    "1": "1980",
                                    "2": "2"
                                },
                                {
                                    "0": "UGA",
                                    "1": "1980",
                                    "2": "2"
                                },
                                {
                                    "0": "TCH",
                                    "1": "1960",
                                    "2": "1"
                                },
                                {
                                    "0": "COL",
                                    "1": "2008",
                                    "2": "2"
                                },
                                {
                                    "0": "AUT",
                                    "1": "1932",
                                    "2": "1"
                                },
                                {
                                    "0": "TUN",
                                    "1": "1964",
                                    "2": "2"
                                },
                                {
                                    "0": "GRE",
                                    "1": "1904",
                                    "2": "1"
                                },
                                {
                                    "0": "ITA",
                                    "1": "1920",
                                    "2": "1"
                                },
                                {
                                    "0": "ETH",
                                    "1": "1992",
                                    "2": "1"
                                },
                                {
                                    "0": "FRG",
                                    "1": "1972",
                                    "2": "1"
                                },
                                {
                                    "0": "CAN",
                                    "1": "2008",
                                    "2": "1"
                                },
                                {
                                    "0": "UKR",
                                    "1": "2006",
                                    "2": "3"
                                },
                                {
                                    "0": "RSA",
                                    "1": "2008",
                                    "2": "2"
                                },
                                {
                                    "0": "AUT",
                                    "1": "1992",
                                    "2": "1"
                                },
                                {
                                    "0": "ESP",
                                    "1": "2004",
                                    "2": "1"
                                },
                                {
                                    "0": "AUS",
                                    "1": "1936",
                                    "2": "3"
                                },
                                {
                                    "0": "MEX",
                                    "1": "1936",
                                    "2": "3"
                                },
                                {
                                    "0": "TCH",
                                    "1": "1968",
                                    "2": "1"
                                },
                                {
                                    "0": "GBR",
                                    "1": "1996",
                                    "2": "1"
                                },
                                {
                                    "0": "TPE",
                                    "1": "1984",
                                    "2": "3"
                                },
                                {
                                    "0": "IRI",
                                    "1": "1960",
                                    "2": "2"
                                },
                                {
                                    "0": "CMR",
                                    "1": "2004",
                                    "2": "1"
                                },
                                {
                                    "0": "ROU",
                                    "1": "1992",
                                    "2": "1"
                                },
                                {
                                    "0": "MEX",
                                    "1": "1976",
                                    "2": "1"
                                },
                                {
                                    "0": "ITA",
                                    "1": "2006",
                                    "2": "1"
                                },
                                {
                                    "0": "ITA",
                                    "1": "1912",
                                    "2": "1"
                                },
                                {
                                    "0": "EUA",
                                    "1": "1956",
                                    "2": "1"
                                },
                                {
                                    "0": "FIN",
                                    "1": "1972",
                                    "2": "1"
                                },
                                {
                                    "0": "JAM",
                                    "1": "2008",
                                    "2": "1"
                                },
                                {
                                    "0": "SWE",
                                    "1": "1996",
                                    "2": "1"
                                },
                                {
                                    "0": "YUG",
                                    "1": "1936",
                                    "2": "2"
                                },
                                {
                                    "0": "ESP",
                                    "1": "1972",
                                    "2": "1"
                                },
                                {
                                    "0": "NED",
                                    "1": "1912",
                                    "2": "3"
                                },
                                {
                                    "0": "SUI",
                                    "1": "1992",
                                    "2": "1"
                                },
                                {
                                    "0": "USA",
                                    "1": "1998",
                                    "2": "1"
                                },
                                {
                                    "0": "LAT",
                                    "1": "2008",
                                    "2": "1"
                                },
                                {
                                    "0": "POL",
                                    "1": "2000",
                                    "2": "1"
                                },
                                {
                                    "0": "NZL",
                                    "1": "1936",
                                    "2": "1"
                                },
                                {
                                    "0": "POL",
                                    "1": "2008",
                                    "2": "1"
                                },
                                {
                                    "0": "TOG",
                                    "1": "2008",
                                    "2": "3"
                                },
                                {
                                    "0": "BEL",
                                    "1": "1980",
                                    "2": "1"
                                },
                                {
                                    "0": "NED",
                                    "1": "1998",
                                    "2": "1"
                                },
                                {
                                    "0": "DEN",
                                    "1": "1948",
                                    "2": "1"
                                },
                                {
                                    "0": "TUR",
                                    "1": "1984",
                                    "2": "3"
                                },
                                {
                                    "0": "HKG",
                                    "1": "2004",
                                    "2": "2"
                                },
                                {
                                    "0": "CAN",
                                    "1": "1968",
                                    "2": "1"
                                },
                                {
                                    "0": "USA",
                                    "1": "1912",
                                    "2": "1"
                                },
                                {
                                    "0": "RSA",
                                    "1": "1936",
                                    "2": "2"
                                },
                                {
                                    "0": "TCH",
                                    "1": "1988",
                                    "2": "1"
                                },
                                {
                                    "0": "ITA",
                                    "1": "1992",
                                    "2": "1"
                                },
                                {
                                    "0": "ETH",
                                    "1": "1972",
                                    "2": "3"
                                },
                                {
                                    "0": "GBR",
                                    "1": "1976",
                                    "2": "1"
                                },
                                {
                                    "0": "SLO",
                                    "1": "1994",
                                    "2": "3"
                                },
                                {
                                    "0": "FRG",
                                    "1": "1952",
                                    "2": "1"
                                },
                                {
                                    "0": "TUR",
                                    "1": "1956",
                                    "2": "1"
                                },
                                {
                                    "0": "NOR",
                                    "1": "1968",
                                    "2": "1"
                                },
                                {
                                    "0": "BUL",
                                    "1": "1976",
                                    "2": "1"
                                },
                                {
                                    "0": "TCH",
                                    "1": "1980",
                                    "2": "1"
                                },
                                {
                                    "0": "POL",
                                    "1": "1988",
                                    "2": "1"
                                },
                                {
                                    "0": "CUB",
                                    "1": "2000",
                                    "2": "1"
                                },
                                {
                                    "0": "FRA",
                                    "1": "1984",
                                    "2": "1"
                                },
                                {
                                    "0": "INA",
                                    "1": "2004",
                                    "2": "1"
                                },
                                {
                                    "0": "EST",
                                    "1": "2004",
                                    "2": "2"
                                },
                                {
                                    "0": "ERI",
                                    "1": "2004",
                                    "2": "3"
                                },
                                {
                                    "0": "KAZ",
                                    "1": "2008",
                                    "2": "1"
                                },
                                {
                                    "0": "CAN",
                                    "1": "1928",
                                    "2": "1"
                                },
                                {
                                    "0": "BRA",
                                    "1": "1976",
                                    "2": "3"
                                },
                                {
                                    "0": "RSA",
                                    "1": "1928",
                                    "2": "1"
                                },
                                {
                                    "0": "TRI",
                                    "1": "1996",
                                    "2": "3"
                                },
                                {
                                    "0": "BEL",
                                    "1": "1920",
                                    "2": "1"
                                },
                                {
                                    "0": "HUN",
                                    "1": "1980",
                                    "2": "1"
                                },
                                {
                                    "0": "DEN",
                                    "1": "1988",
                                    "2": "1"
                                },
                                {
                                    "0": "INA",
                                    "1": "1996",
                                    "2": "1"
                                },
                                {
                                    "0": "NZL",
                                    "1": "1976",
                                    "2": "1"
                                },
                                {
                                    "0": "SWE",
                                    "1": "1956",
                                    "2": "1"
                                },
                                {
                                    "0": "MEX",
                                    "1": "1996",
                                    "2": "3"
                                },
                                {
                                    "0": "GER",
                                    "1": "1998",
                                    "2": "1"
                                },
                                {
                                    "0": "MRI",
                                    "1": "2008",
                                    "2": "3"
                                },
                                {
                                    "0": "FRA",
                                    "1": "1912",
                                    "2": "1"
                                },
                                {
                                    "0": "USA",
                                    "1": "1984",
                                    "2": "1"
                                },
                                {
                                    "0": "ARG",
                                    "1": "1992",
                                    "2": "3"
                                },
                                {
                                    "0": "SUI",
                                    "1": "2006",
                                    "2": "1"
                                },
                                {
                                    "0": "PAK",
                                    "1": "1992",
                                    "2": "3"
                                },
                                {
                                    "0": "AUT",
                                    "1": "1998",
                                    "2": "1"
                                },
                                {
                                    "0": "JPN",
                                    "1": "1972",
                                    "2": "1"
                                },
                                {
                                    "0": "NOR",
                                    "1": "2000",
                                    "2": "1"
                                },
                                {
                                    "0": "GER",
                                    "1": "1912",
                                    "2": "1"
                                },
                                {
                                    "0": "KOR",
                                    "1": "1968",
                                    "2": "2"
                                },
                                {
                                    "0": "JPN",
                                    "1": "1980",
                                    "2": "2"
                                },
                                {
                                    "0": "URS",
                                    "1": "1984",
                                    "2": "1"
                                },
                                {
                                    "0": "NED",
                                    "1": "1964",
                                    "2": "1"
                                },
                                {
                                    "0": "JAM",
                                    "1": "1968",
                                    "2": "2"
                                },
                                {
                                    "0": "KSA",
                                    "1": "2000",
                                    "2": "2"
                                },
                                {
                                    "0": "POR",
                                    "1": "1948",
                                    "2": "2"
                                },
                                {
                                    "0": "PRK",
                                    "1": "1992",
                                    "2": "1"
                                },
                                {
                                    "0": "NED",
                                    "1": "2012",
                                    "2": "2"
                                },
                                {
                                    "0": "SUI",
                                    "1": "1920",
                                    "2": "1"
                                },
                                {
                                    "0": "JPN",
                                    "1": "1932",
                                    "2": "1"
                                },
                                {
                                    "0": "ISL",
                                    "1": "1956",
                                    "2": "2"
                                },
                                {
                                    "0": "NED",
                                    "1": "1972",
                                    "2": "1"
                                },
                                {
                                    "0": "COL",
                                    "1": "1988",
                                    "2": "3"
                                },
                                {
                                    "0": "EST",
                                    "1": "1924",
                                    "2": "1"
                                },
                                {
                                    "0": "GBR",
                                    "1": "1936",
                                    "2": "1"
                                },
                                {
                                    "0": "AUS",
                                    "1": "1976",
                                    "2": "2"
                                },
                                {
                                    "0": "AUT",
                                    "1": "2006",
                                    "2": "1"
                                },
                                {
                                    "0": "NOR",
                                    "1": "2008",
                                    "2": "1"
                                },
                                {
                                    "0": "KOR",
                                    "1": "1976",
                                    "2": "1"
                                },
                                {
                                    "0": "GUY",
                                    "1": "1980",
                                    "2": "3"
                                },
                                {
                                    "0": "AZE",
                                    "1": "1996",
                                    "2": "2"
                                },
                                {
                                    "0": "NED",
                                    "1": "2004",
                                    "2": "1"
                                },
                                {
                                    "0": "IND",
                                    "1": "1952",
                                    "2": "1"
                                },
                                {
                                    "0": "SWE",
                                    "1": "2002",
                                    "2": "2"
                                },
                                {
                                    "0": "GBR",
                                    "1": "1904",
                                    "2": "1"
                                },
                                {
                                    "0": "GHA",
                                    "1": "1972",
                                    "2": "3"
                                },
                                {
                                    "0": "VEN",
                                    "1": "1984",
                                    "2": "3"
                                },
                                {
                                    "0": "URS",
                                    "1": "1952",
                                    "2": "1"
                                },
                                {
                                    "0": "MEX",
                                    "1": "1956",
                                    "2": "1"
                                },
                                {
                                    "0": "GHA",
                                    "1": "1992",
                                    "2": "3"
                                },
                                {
                                    "0": "ESP",
                                    "1": "1984",
                                    "2": "1"
                                },
                                {
                                    "0": "BAH",
                                    "1": "2008",
                                    "2": "2"
                                },
                                {
                                    "0": "TPE",
                                    "1": "2004",
                                    "2": "1"
                                },
                                {
                                    "0": "ARG",
                                    "1": "1972",
                                    "2": "2"
                                },
                                {
                                    "0": "CMR",
                                    "1": "1984",
                                    "2": "3"
                                },
                                {
                                    "0": "TUR",
                                    "1": "1996",
                                    "2": "1"
                                },
                                {
                                    "0": "GBR",
                                    "1": "1924",
                                    "2": "1"
                                },
                                {
                                    "0": "EGY",
                                    "1": "1936",
                                    "2": "1"
                                },
                                {
                                    "0": "URS",
                                    "1": "1972",
                                    "2": "1"
                                },
                                {
                                    "0": "CZE",
                                    "1": "1996",
                                    "2": "1"
                                },
                                {
                                    "0": "TUR",
                                    "1": "2004",
                                    "2": "1"
                                },
                                {
                                    "0": "DEN",
                                    "1": "1928",
                                    "2": "1"
                                },
                                {
                                    "0": "CAN",
                                    "1": "1988",
                                    "2": "1"
                                },
                                {
                                    "0": "CRO",
                                    "1": "1992",
                                    "2": "2"
                                },
                                {
                                    "0": "ESP",
                                    "1": "1992",
                                    "2": "1"
                                },
                                {
                                    "0": "USA",
                                    "1": "2010",
                                    "2": "2"
                                },
                                {
                                    "0": "ANZ",
                                    "1": "1908",
                                    "2": "1"
                                },
                                {
                                    "0": "URU",
                                    "1": "1956",
                                    "2": "3"
                                },
                                {
                                    "0": "USA",
                                    "1": "1964",
                                    "2": "1"
                                },
                                {
                                    "0": "HUN",
                                    "1": "2000",
                                    "2": "1"
                                },
                                {
                                    "0": "AUT",
                                    "1": "1912",
                                    "2": "2"
                                },
                                {
                                    "0": "ITA",
                                    "1": "1932",
                                    "2": "1"
                                },
                                {
                                    "0": "FRA",
                                    "1": "1924",
                                    "2": "1"
                                },
                                {
                                    "0": "UKR",
                                    "1": "1994",
                                    "2": "1"
                                },
                                {
                                    "0": "GEO",
                                    "1": "2008",
                                    "2": "1"
                                },
                                {
                                    "0": "NED",
                                    "1": "1932",
                                    "2": "1"
                                },
                                {
                                    "0": "TCH",
                                    "1": "1948",
                                    "2": "1"
                                },
                                {
                                    "0": "MAR",
                                    "1": "1960",
                                    "2": "2"
                                },
                                {
                                    "0": "FIN",
                                    "1": "1952",
                                    "2": "1"
                                },
                                {
                                    "0": "AUS",
                                    "1": "1956",
                                    "2": "1"
                                },
                                {
                                    "0": "KOR",
                                    "1": "2008",
                                    "2": "1"
                                },
                                {
                                    "0": "GER",
                                    "1": "1904",
                                    "2": "1"
                                },
                                {
                                    "0": "JPN",
                                    "1": "1920",
                                    "2": "2"
                                },
                                {
                                    "0": "SUI",
                                    "1": "1952",
                                    "2": "1"
                                },
                                {
                                    "0": "YUG",
                                    "1": "1996",
                                    "2": "1"
                                },
                                {
                                    "0": "SUI",
                                    "1": "1960",
                                    "2": "1"
                                },
                                {
                                    "0": "NGR",
                                    "1": "1992",
                                    "2": "2"
                                },
                                {
                                    "0": "NOR",
                                    "1": "1994",
                                    "2": "1"
                                },
                                {
                                    "0": "TGA",
                                    "1": "1996",
                                    "2": "2"
                                },
                                {
                                    "0": "CHI",
                                    "1": "2000",
                                    "2": "3"
                                },
                                {
                                    "0": "GER",
                                    "1": "2004",
                                    "2": "1"
                                },
                                {
                                    "0": "RSA",
                                    "1": "1956",
                                    "2": "3"
                                },
                                {
                                    "0": "ISR",
                                    "1": "2008",
                                    "2": "3"
                                },
                                {
                                    "0": "NOR",
                                    "1": "1908",
                                    "2": "1"
                                },
                                {
                                    "0": "AUT",
                                    "1": "1952",
                                    "2": "1"
                                },
                                {
                                    "0": "ESP",
                                    "1": "1952",
                                    "2": "2"
                                },
                                {
                                    "0": "NZL",
                                    "1": "1956",
                                    "2": "1"
                                },
                                {
                                    "0": "UZB",
                                    "1": "2004",
                                    "2": "1"
                                },
                                {
                                    "0": "THA",
                                    "1": "1984",
                                    "2": "2"
                                },
                                {
                                    "0": "SWE",
                                    "1": "1976",
                                    "2": "1"
                                },
                                {
                                    "0": "TUR",
                                    "1": "1964",
                                    "2": "1"
                                },
                                {
                                    "0": "BLR",
                                    "1": "1998",
                                    "2": "3"
                                },
                                {
                                    "0": "HUN",
                                    "1": "1900",
                                    "2": "1"
                                },
                                {
                                    "0": "GEO",
                                    "1": "2000",
                                    "2": "3"
                                },
                                {
                                    "0": "CAN",
                                    "1": "1948",
                                    "2": "1"
                                },
                                {
                                    "0": "ROU",
                                    "1": "1972",
                                    "2": "1"
                                },
                                {
                                    "0": "CRO",
                                    "1": "2000",
                                    "2": "1"
                                },
                                {
                                    "0": "ARG",
                                    "1": "1932",
                                    "2": "1"
                                },
                                {
                                    "0": "ALG",
                                    "1": "2008",
                                    "2": "2"
                                },
                                {
                                    "0": "ROU",
                                    "1": "1952",
                                    "2": "1"
                                },
                                {
                                    "0": "BEL",
                                    "1": "1960",
                                    "2": "2"
                                },
                                {
                                    "0": "BRA",
                                    "1": "1956",
                                    "2": "1"
                                },
                                {
                                    "0": "USA",
                                    "1": "1904",
                                    "2": "1"
                                },
                                {
                                    "0": "CHN",
                                    "1": "2000",
                                    "2": "1"
                                },
                                {
                                    "0": "BUL",
                                    "1": "1996",
                                    "2": "1"
                                },
                                {
                                    "0": "SYR",
                                    "1": "1996",
                                    "2": "1"
                                },
                                {
                                    "0": "KGZ",
                                    "1": "2008",
                                    "2": "2"
                                },
                                {
                                    "0": "YUG",
                                    "1": "1956",
                                    "2": "2"
                                },
                                {
                                    "0": "RUS",
                                    "1": "1998",
                                    "2": "1"
                                },
                                {
                                    "0": "MGL",
                                    "1": "1996",
                                    "2": "3"
                                },
                                {
                                    "0": "HUN",
                                    "1": "1960",
                                    "2": "1"
                                },
                                {
                                    "0": "DEN",
                                    "1": "1968",
                                    "2": "1"
                                },
                                {
                                    "0": "AUT",
                                    "1": "1972",
                                    "2": "1"
                                },
                                {
                                    "0": "IRL",
                                    "1": "1928",
                                    "2": "1"
                                },
                                {
                                    "0": "FIN",
                                    "1": "1992",
                                    "2": "1"
                                },
                                {
                                    "0": "GER",
                                    "1": "1932",
                                    "2": "1"
                                },
                                {
                                    "0": "USA",
                                    "1": "2004",
                                    "2": "1"
                                },
                                {
                                    "0": "ITA",
                                    "1": "1900",
                                    "2": "1"
                                },
                                {
                                    "0": "JPN",
                                    "1": "1952",
                                    "2": "1"
                                },
                                {
                                    "0": "MEX",
                                    "1": "2008",
                                    "2": "1"
                                },
                                {
                                    "0": "ESP",
                                    "1": "1932",
                                    "2": "3"
                                },
                                {
                                    "0": "CUB",
                                    "1": "1900",
                                    "2": "1"
                                },
                                {
                                    "0": "ARM",
                                    "1": "2000",
                                    "2": "3"
                                },
                                {
                                    "0": "SUI",
                                    "1": "1980",
                                    "2": "1"
                                },
                                {
                                    "0": "GRE",
                                    "1": "1984",
                                    "2": "2"
                                },
                                {
                                    "0": "AUS",
                                    "1": "1924",
                                    "2": "1"
                                },
                                {
                                    "0": "CAN",
                                    "1": "1994",
                                    "2": "1"
                                },
                                {
                                    "0": "BEL",
                                    "1": "2000",
                                    "2": "2"
                                },
                                {
                                    "0": "BEL",
                                    "1": "1900",
                                    "2": "1"
                                },
                                {
                                    "0": "DJI",
                                    "1": "1988",
                                    "2": "3"
                                },
                                {
                                    "0": "USA",
                                    "1": "1924",
                                    "2": "1"
                                },
                                {
                                    "0": "RSA",
                                    "1": "1948",
                                    "2": "1"
                                },
                                {
                                    "0": "SUI",
                                    "1": "1972",
                                    "2": "1"
                                },
                                {
                                    "0": "EUN",
                                    "1": "1992",
                                    "2": "1"
                                },
                                {
                                    "0": "KOR",
                                    "1": "2002",
                                    "2": "1"
                                },
                                {
                                    "0": "ZIM",
                                    "1": "2008",
                                    "2": "1"
                                },
                                {
                                    "0": "GBR",
                                    "1": "1956",
                                    "2": "1"
                                },
                                {
                                    "0": "BUL",
                                    "1": "1956",
                                    "2": "1"
                                },
                                {
                                    "0": "IND",
                                    "1": "2004",
                                    "2": "2"
                                },
                                {
                                    "0": "IRL",
                                    "1": "2008",
                                    "2": "2"
                                },
                                {
                                    "0": "PRK",
                                    "1": "2004",
                                    "2": "2"
                                },
                                {
                                    "0": "JPN",
                                    "1": "2006",
                                    "2": "1"
                                },
                                {
                                    "0": "JAM",
                                    "1": "1988",
                                    "2": "2"
                                },
                                {
                                    "0": "MOZ",
                                    "1": "2000",
                                    "2": "1"
                                },
                                {
                                    "0": "FRA",
                                    "1": "2004",
                                    "2": "1"
                                },
                                {
                                    "0": "POL",
                                    "1": "1968",
                                    "2": "1"
                                },
                                {
                                    "0": "AUT",
                                    "1": "1900",
                                    "2": "2"
                                },
                                {
                                    "0": "NOR",
                                    "1": "1948",
                                    "2": "1"
                                },
                                {
                                    "0": "NZL",
                                    "1": "1996",
                                    "2": "1"
                                },
                                {
                                    "0": "LTU",
                                    "1": "1996",
                                    "2": "3"
                                },
                                {
                                    "0": "SVK",
                                    "1": "1996",
                                    "2": "1"
                                },
                                {
                                    "0": "SWE",
                                    "1": "1936",
                                    "2": "1"
                                },
                                {
                                    "0": "CAN",
                                    "1": "1908",
                                    "2": "1"
                                },
                                {
                                    "0": "ITA",
                                    "1": "1972",
                                    "2": "1"
                                },
                                {
                                    "0": "UKR",
                                    "1": "2000",
                                    "2": "1"
                                },
                                {
                                    "0": "IRI",
                                    "1": "2000",
                                    "2": "1"
                                },
                                {
                                    "0": "BWI",
                                    "1": "1960",
                                    "2": "3"
                                },
                                {
                                    "0": "VEN",
                                    "1": "2004",
                                    "2": "3"
                                },
                                {
                                    "0": "QAT",
                                    "1": "2000",
                                    "2": "3"
                                },
                                {
                                    "0": "CAN",
                                    "1": "2002",
                                    "2": "1"
                                },
                                {
                                    "0": "CRO",
                                    "1": "2006",
                                    "2": "1"
                                },
                                {
                                    "0": "BLR",
                                    "1": "2004",
                                    "2": "1"
                                },
                                {
                                    "0": "HUN",
                                    "1": "1992",
                                    "2": "1"
                                },
                                {
                                    "0": "SVK",
                                    "1": "2004",
                                    "2": "1"
                                },
                                {
                                    "0": "MDA",
                                    "1": "1996",
                                    "2": "2"
                                },
                                {
                                    "0": "SRB",
                                    "1": "2008",
                                    "2": "2"
                                },
                                {
                                    "0": "SUI",
                                    "1": "1900",
                                    "2": "1"
                                },
                                {
                                    "0": "CHN",
                                    "1": "1994",
                                    "2": "2"
                                },
                                {
                                    "0": "FIN",
                                    "1": "2006",
                                    "2": "2"
                                },
                                {
                                    "0": "AUS",
                                    "1": "1996",
                                    "2": "1"
                                },
                                {
                                    "0": "TCH",
                                    "1": "1928",
                                    "2": "1"
                                },
                                {
                                    "0": "POL",
                                    "1": "1928",
                                    "2": "1"
                                },
                                {
                                    "0": "NED",
                                    "1": "1984",
                                    "2": "1"
                                },
                                {
                                    "0": "PRK",
                                    "1": "1972",
                                    "2": "1"
                                },
                                {
                                    "0": "ZZX",
                                    "1": "1904",
                                    "2": "1"
                                },
                                {
                                    "0": "FIN",
                                    "1": "1912",
                                    "2": "1"
                                },
                                {
                                    "0": "EST",
                                    "1": "1936",
                                    "2": "1"
                                },
                                {
                                    "0": "JAM",
                                    "1": "1948",
                                    "2": "1"
                                },
                                {
                                    "0": "GDR",
                                    "1": "1980",
                                    "2": "1"
                                },
                                {
                                    "0": "LIE",
                                    "1": "1976",
                                    "2": "3"
                                },
                                {
                                    "0": "IND",
                                    "1": "1932",
                                    "2": "1"
                                },
                                {
                                    "0": "KOR",
                                    "1": "1948",
                                    "2": "3"
                                },
                                {
                                    "0": "POR",
                                    "1": "1960",
                                    "2": "2"
                                },
                                {
                                    "0": "RUS",
                                    "1": "2004",
                                    "2": "1"
                                },
                                {
                                    "0": "GHA",
                                    "1": "1960",
                                    "2": "2"
                                },
                                {
                                    "0": "FRA",
                                    "1": "1964",
                                    "2": "1"
                                },
                                {
                                    "0": "NOR",
                                    "1": "1980",
                                    "2": "1"
                                },
                                {
                                    "0": "MAR",
                                    "1": "2000",
                                    "2": "2"
                                },
                                {
                                    "0": "JPN",
                                    "1": "1960",
                                    "2": "1"
                                },
                                {
                                    "0": "CUB",
                                    "1": "1980",
                                    "2": "1"
                                },
                                {
                                    "0": "NOR",
                                    "1": "1988",
                                    "2": "1"
                                },
                                {
                                    "0": "FIN",
                                    "1": "1998",
                                    "2": "1"
                                },
                                {
                                    "0": "KOR",
                                    "1": "1956",
                                    "2": "2"
                                },
                                {
                                    "0": "NED",
                                    "1": "1992",
                                    "2": "1"
                                },
                                {
                                    "0": "AUT",
                                    "1": "1924",
                                    "2": "1"
                                },
                                {
                                    "0": "PRK",
                                    "1": "1964",
                                    "2": "2"
                                },
                                {
                                    "0": "FIN",
                                    "1": "1994",
                                    "2": "2"
                                },
                                {
                                    "0": "USA",
                                    "1": "2006",
                                    "2": "1"
                                },
                                {
                                    "0": "USA",
                                    "1": "1960",
                                    "2": "1"
                                },
                                {
                                    "0": "ESP",
                                    "1": "1980",
                                    "2": "1"
                                },
                                {
                                    "0": "HUN",
                                    "1": "1912",
                                    "2": "1"
                                },
                                {
                                    "0": "AUS",
                                    "1": "1968",
                                    "2": "1"
                                },
                                {
                                    "0": "CZE",
                                    "1": "2008",
                                    "2": "1"
                                },
                                {
                                    "0": "GBR",
                                    "1": "1928",
                                    "2": "1"
                                },
                                {
                                    "0": "ITA",
                                    "1": "1998",
                                    "2": "1"
                                },
                                {
                                    "0": "NOR",
                                    "1": "1920",
                                    "2": "1"
                                },
                                {
                                    "0": "SYR",
                                    "1": "1984",
                                    "2": "2"
                                },
                                {
                                    "0": "HUN",
                                    "1": "2004",
                                    "2": "1"
                                },
                                {
                                    "0": "HUN",
                                    "1": "1904",
                                    "2": "1"
                                },
                                {
                                    "0": "TUR",
                                    "1": "2008",
                                    "2": "1"
                                },
                                {
                                    "0": "URS",
                                    "1": "1976",
                                    "2": "1"
                                },
                                {
                                    "0": "YUG",
                                    "1": "1984",
                                    "2": "1"
                                },
                                {
                                    "0": "LTU",
                                    "1": "2008",
                                    "2": "2"
                                },
                                {
                                    "0": "SVK",
                                    "1": "2008",
                                    "2": "1"
                                },
                                {
                                    "0": "TCH",
                                    "1": "1952",
                                    "2": "1"
                                },
                                {
                                    "0": "FRA",
                                    "1": "1920",
                                    "2": "1"
                                },
                                {
                                    "0": "NED",
                                    "1": "1960",
                                    "2": "2"
                                },
                                {
                                    "0": "EUA",
                                    "1": "1964",
                                    "2": "1"
                                },
                                {
                                    "0": "SLO",
                                    "1": "1992",
                                    "2": "3"
                                },
                                {
                                    "0": "ROU",
                                    "1": "1924",
                                    "2": "3"
                                },
                                {
                                    "0": "USA",
                                    "1": "1952",
                                    "2": "1"
                                },
                                {
                                    "0": "IND",
                                    "1": "1980",
                                    "2": "1"
                                },
                                {
                                    "0": "BRA",
                                    "1": "2004",
                                    "2": "1"
                                },
                                {
                                    "0": "KEN",
                                    "1": "2008",
                                    "2": "1"
                                },
                                {
                                    "0": "GRE",
                                    "1": "1920",
                                    "2": "2"
                                },
                                {
                                    "0": "FRG",
                                    "1": "1988",
                                    "2": "1"
                                },
                                {
                                    "0": "DEN",
                                    "1": "2000",
                                    "2": "1"
                                },
                                {
                                    "0": "DEN",
                                    "1": "1900",
                                    "2": "1"
                                },
                                {
                                    "0": "VIE",
                                    "1": "2000",
                                    "2": "2"
                                },
                                {
                                    "0": "TJK",
                                    "1": "2008",
                                    "2": "2"
                                },
                                {
                                    "0": "BOH",
                                    "1": "1900",
                                    "2": "2"
                                },
                                {
                                    "0": "GRE",
                                    "1": "1912",
                                    "2": "1"
                                },
                                {
                                    "0": "URU",
                                    "1": "1928",
                                    "2": "1"
                                },
                                {
                                    "0": "DEN",
                                    "1": "1992",
                                    "2": "1"
                                },
                                {
                                    "0": "FRA",
                                    "1": "2006",
                                    "2": "1"
                                },
                                {
                                    "0": "ROU",
                                    "1": "1984",
                                    "2": "1"
                                },
                                {
                                    "0": "SWE",
                                    "1": "1988",
                                    "2": "1"
                                },
                                {
                                    "0": "SUI",
                                    "1": "1964",
                                    "2": "1"
                                },
                                {
                                    "0": "MEX",
                                    "1": "1984",
                                    "2": "1"
                                },
                                {
                                    "0": "PER",
                                    "1": "1988",
                                    "2": "2"
                                },
                                {
                                    "0": "GBR",
                                    "1": "1988",
                                    "2": "1"
                                },
                                {
                                    "0": "UKR",
                                    "1": "1998",
                                    "2": "2"
                                },
                                {
                                    "0": "TUR",
                                    "1": "1968",
                                    "2": "1"
                                },
                                {
                                    "0": "THA",
                                    "1": "1996",
                                    "2": "1"
                                },
                                {
                                    "0": "PHI",
                                    "1": "1996",
                                    "2": "2"
                                },
                                {
                                    "0": "NZL",
                                    "1": "1952",
                                    "2": "1"
                                },
                                {
                                    "0": "NED",
                                    "1": "1920",
                                    "2": "1"
                                },
                                {
                                    "0": "AUS",
                                    "1": "1928",
                                    "2": "1"
                                },
                                {
                                    "0": "SWE",
                                    "1": "1980",
                                    "2": "1"
                                },
                                {
                                    "0": "THA",
                                    "1": "1988",
                                    "2": "3"
                                },
                                {
                                    "0": "PAR",
                                    "1": "2004",
                                    "2": "2"
                                },
                                {
                                    "0": "NOR",
                                    "1": "1912",
                                    "2": "1"
                                },
                                {
                                    "0": "USA",
                                    "1": "1900",
                                    "2": "1"
                                },
                                {
                                    "0": "AUT",
                                    "1": "1984",
                                    "2": "1"
                                },
                                {
                                    "0": "FIN",
                                    "1": "1980",
                                    "2": "1"
                                },
                                {
                                    "0": "TUN",
                                    "1": "1996",
                                    "2": "3"
                                },
                                {
                                    "0": "NOR",
                                    "1": "2006",
                                    "2": "1"
                                },
                                {
                                    "0": "NED",
                                    "1": "2006",
                                    "2": "1"
                                },
                                {
                                    "0": "ETH",
                                    "1": "2000",
                                    "2": "1"
                                },
                                {
                                    "0": "CHN",
                                    "1": "1988",
                                    "2": "1"
                                },
                                {
                                    "0": "FIN",
                                    "1": "2000",
                                    "2": "1"
                                },
                                {
                                    "0": "BUL",
                                    "1": "2008",
                                    "2": "1"
                                },
                                {
                                    "0": "CAN",
                                    "1": "1976",
                                    "2": "1"
                                },
                                {
                                    "0": "MGL",
                                    "1": "1992",
                                    "2": "3"
                                },
                                {
                                    "0": "HKG",
                                    "1": "1996",
                                    "2": "1"
                                },
                                {
                                    "0": "BEL",
                                    "1": "1972",
                                    "2": "2"
                                },
                                {
                                    "0": "CHN",
                                    "1": "1996",
                                    "2": "1"
                                },
                                {
                                    "0": "CAN",
                                    "1": "1936",
                                    "2": "1"
                                },
                                {
                                    "0": "CZE",
                                    "1": "2002",
                                    "2": "1"
                                },
                                {
                                    "0": "SUI",
                                    "1": "1984",
                                    "2": "1"
                                },
                                {
                                    "0": "MEX",
                                    "1": "2004",
                                    "2": "2"
                                },
                                {
                                    "0": "AUS",
                                    "1": "2008",
                                    "2": "1"
                                },
                                {
                                    "0": "NED",
                                    "1": "1900",
                                    "2": "2"
                                },
                                {
                                    "0": "GBR",
                                    "1": "1968",
                                    "2": "1"
                                },
                                {
                                    "0": "KEN",
                                    "1": "1968",
                                    "2": "1"
                                },
                                {
                                    "0": "BUL",
                                    "1": "1968",
                                    "2": "1"
                                },
                                {
                                    "0": "URU",
                                    "1": "2000",
                                    "2": "2"
                                },
                                {
                                    "0": "ARG",
                                    "1": "2016",
                                    "2": "1"
                                },
                                {
                                    "0": "TUR",
                                    "1": "1948",
                                    "2": "1"
                                },
                                {
                                    "0": "GRE",
                                    "1": "1972",
                                    "2": "2"
                                },
                                {
                                    "0": "HUN",
                                    "1": "1964",
                                    "2": "1"
                                },
                                {
                                    "0": "CUB",
                                    "1": "1992",
                                    "2": "1"
                                },
                                {
                                    "0": "KUW",
                                    "1": "2000",
                                    "2": "3"
                                },
                                {
                                    "0": "GER",
                                    "1": "1936",
                                    "2": "1"
                                },
                                {
                                    "0": "KAZ",
                                    "1": "2000",
                                    "2": "1"
                                },
                                {
                                    "0": "PHI",
                                    "1": "1936",
                                    "2": "3"
                                },
                                {
                                    "0": "USA",
                                    "1": "1920",
                                    "2": "1"
                                },
                                {
                                    "0": "DEN",
                                    "1": "1972",
                                    "2": "1"
                                },
                                {
                                    "0": "NOR",
                                    "1": "1960",
                                    "2": "1"
                                },
                                {
                                    "0": "HUN",
                                    "1": "1972",
                                    "2": "1"
                                },
                                {
                                    "0": "DEN",
                                    "1": "1980",
                                    "2": "1"
                                },
                                {
                                    "0": "NZL",
                                    "1": "1984",
                                    "2": "1"
                                },
                                {
                                    "0": "SWE",
                                    "1": "1948",
                                    "2": "1"
                                },
                                {
                                    "0": "CHI",
                                    "1": "1988",
                                    "2": "2"
                                },
                                {
                                    "0": "GER",
                                    "1": "2016",
                                    "2": "3"
                                },
                                {
                                    "0": "ECU",
                                    "1": "1996",
                                    "2": "1"
                                },
                                {
                                    "0": "JAM",
                                    "1": "2000",
                                    "2": "2"
                                },
                                {
                                    "0": "UGA",
                                    "1": "1968",
                                    "2": "2"
                                },
                                {
                                    "0": "FRA",
                                    "1": "1992",
                                    "2": "1"
                                },
                                {
                                    "0": "TCH",
                                    "1": "1972",
                                    "2": "1"
                                },
                                {
                                    "0": "POL",
                                    "1": "1980",
                                    "2": "1"
                                },
                                {
                                    "0": "BEL",
                                    "1": "1912",
                                    "2": "1"
                                },
                                {
                                    "0": "TAN",
                                    "1": "1980",
                                    "2": "2"
                                },
                                {
                                    "0": "BRA",
                                    "1": "1984",
                                    "2": "1"
                                },
                                {
                                    "0": "POL",
                                    "1": "1972",
                                    "2": "1"
                                },
                                {
                                    "0": "IND",
                                    "1": "2000",
                                    "2": "3"
                                },
                                {
                                    "0": "IRI",
                                    "1": "1988",
                                    "2": "2"
                                },
                                {
                                    "0": "KOR",
                                    "1": "2006",
                                    "2": "1"
                                },
                                {
                                    "0": "ESP",
                                    "1": "1920",
                                    "2": "2"
                                },
                                {
                                    "0": "JPN",
                                    "1": "1924",
                                    "2": "3"
                                },
                                {
                                    "0": "NOR",
                                    "1": "1952",
                                    "2": "1"
                                },
                                {
                                    "0": "SRI",
                                    "1": "2000",
                                    "2": "2"
                                },
                                {
                                    "0": "AUT",
                                    "1": "1904",
                                    "2": "3"
                                },
                                {
                                    "0": "IOP",
                                    "1": "1992",
                                    "2": "2"
                                },
                                {
                                    "0": "VEN",
                                    "1": "2008",
                                    "2": "3"
                                },
                                {
                                    "0": "GDR",
                                    "1": "1968",
                                    "2": "1"
                                },
                                {
                                    "0": "PRK",
                                    "1": "1976",
                                    "2": "1"
                                },
                                {
                                    "0": "POL",
                                    "1": "1932",
                                    "2": "1"
                                },
                                {
                                    "0": "HAI",
                                    "1": "1924",
                                    "2": "3"
                                },
                                {
                                    "0": "FIN",
                                    "1": "1908",
                                    "2": "1"
                                },
                                {
                                    "0": "IND",
                                    "1": "1960",
                                    "2": "2"
                                },
                                {
                                    "0": "SWE",
                                    "1": "1994",
                                    "2": "1"
                                },
                                {
                                    "0": "VEN",
                                    "1": "1976",
                                    "2": "2"
                                },
                                {
                                    "0": "RU1",
                                    "1": "1912",
                                    "2": "2"
                                },
                                {
                                    "0": "NED",
                                    "1": "1980",
                                    "2": "1"
                                },
                                {
                                    "0": "IRL",
                                    "1": "1956",
                                    "2": "1"
                                },
                                {
                                    "0": "SWE",
                                    "1": "1908",
                                    "2": "1"
                                },
                                {
                                    "0": "USA",
                                    "1": "2000",
                                    "2": "1"
                                },
                                {
                                    "0": "FRA",
                                    "1": "1952",
                                    "2": "1"
                                },
                                {
                                    "0": "NOR",
                                    "1": "1992",
                                    "2": "1"
                                },
                                {
                                    "0": "USA",
                                    "1": "1992",
                                    "2": "1"
                                },
                                {
                                    "0": "SUI",
                                    "1": "1998",
                                    "2": "1"
                                },
                                {
                                    "0": "EGY",
                                    "1": "2004",
                                    "2": "1"
                                },
                                {
                                    "0": "SUI",
                                    "1": "1904",
                                    "2": "1"
                                },
                                {
                                    "0": "FRA",
                                    "1": "1960",
                                    "2": "1"
                                },
                                {
                                    "0": "JPN",
                                    "1": "1964",
                                    "2": "1"
                                },
                                {
                                    "0": "ITA",
                                    "1": "1984",
                                    "2": "1"
                                },
                                {
                                    "0": "PAK",
                                    "1": "1984",
                                    "2": "1"
                                },
                                {
                                    "0": "SWE",
                                    "1": "2008",
                                    "2": "2"
                                },
                                {
                                    "0": "BEL",
                                    "1": "1952",
                                    "2": "1"
                                },
                                {
                                    "0": "URU",
                                    "1": "1948",
                                    "2": "2"
                                },
                                {
                                    "0": "CHN",
                                    "1": "2008",
                                    "2": "1"
                                },
                                {
                                    "0": "URS",
                                    "1": "1964",
                                    "2": "1"
                                },
                                {
                                    "0": "PAK",
                                    "1": "1972",
                                    "2": "2"
                                },
                                {
                                    "0": "PAK",
                                    "1": "1964",
                                    "2": "2"
                                },
                                {
                                    "0": "MEX",
                                    "1": "1964",
                                    "2": "3"
                                },
                                {
                                    "0": "FRA",
                                    "1": "1932",
                                    "2": "1"
                                },
                                {
                                    "0": "TCH",
                                    "1": "1932",
                                    "2": "1"
                                },
                                {
                                    "0": "SLO",
                                    "1": "2004",
                                    "2": "2"
                                },
                                {
                                    "0": "DEN",
                                    "1": "1920",
                                    "2": "1"
                                },
                                {
                                    "0": "MGL",
                                    "1": "1972",
                                    "2": "2"
                                },
                                {
                                    "0": "BEL",
                                    "1": "1998",
                                    "2": "3"
                                },
                                {
                                    "0": "ESP",
                                    "1": "1900",
                                    "2": "1"
                                },
                                {
                                    "0": "CAN",
                                    "1": "1996",
                                    "2": "1"
                                },
                                {
                                    "0": "KOR",
                                    "1": "2000",
                                    "2": "1"
                                },
                                {
                                    "0": "POL",
                                    "1": "1952",
                                    "2": "1"
                                },
                                {
                                    "0": "CAN",
                                    "1": "1904",
                                    "2": "1"
                                },
                                {
                                    "0": "MDA",
                                    "1": "2008",
                                    "2": "3"
                                },
                                {
                                    "0": "FIN",
                                    "1": "1960",
                                    "2": "1"
                                },
                                {
                                    "0": "TUN",
                                    "1": "1968",
                                    "2": "1"
                                },
                                {
                                    "0": "JPN",
                                    "1": "2004",
                                    "2": "1"
                                },
                                {
                                    "0": "ARG",
                                    "1": "1964",
                                    "2": "2"
                                },
                                {
                                    "0": "NOR",
                                    "1": "1932",
                                    "2": "1"
                                },
                                {
                                    "0": "ROU",
                                    "1": "2004",
                                    "2": "1"
                                },
                                {
                                    "0": "POL",
                                    "1": "1960",
                                    "2": "1"
                                },
                                {
                                    "0": "THA",
                                    "1": "2008",
                                    "2": "1"
                                },
                                {
                                    "0": "CHI",
                                    "1": "2008",
                                    "2": "2"
                                },
                                {
                                    "0": "AUS",
                                    "1": "1948",
                                    "2": "1"
                                },
                                {
                                    "0": "EGY",
                                    "1": "1952",
                                    "2": "3"
                                },
                                {
                                    "0": "CMR",
                                    "1": "1968",
                                    "2": "2"
                                },
                                {
                                    "0": "GER",
                                    "1": "1996",
                                    "2": "1"
                                },
                                {
                                    "0": "IRL",
                                    "1": "1996",
                                    "2": "1"
                                },
                                {
                                    "0": "CIV",
                                    "1": "1984",
                                    "2": "2"
                                },
                                {
                                    "0": "ESP",
                                    "1": "1960",
                                    "2": "3"
                                },
                                {
                                    "0": "ISL",
                                    "1": "2008",
                                    "2": "2"
                                },
                                {
                                    "0": "TUN",
                                    "1": "2008",
                                    "2": "1"
                                },
                                {
                                    "0": "BLR",
                                    "1": "2006",
                                    "2": "2"
                                },
                                {
                                    "0": "FRG",
                                    "1": "1968",
                                    "2": "1"
                                },
                                {
                                    "0": "BUL",
                                    "1": "1988",
                                    "2": "1"
                                },
                                {
                                    "0": "MAS",
                                    "1": "1992",
                                    "2": "3"
                                },
                                {
                                    "0": "RSA",
                                    "1": "2004",
                                    "2": "1"
                                },
                                {
                                    "0": "CRO",
                                    "1": "2008",
                                    "2": "2"
                                },
                                {
                                    "0": "CMR",
                                    "1": "2008",
                                    "2": "1"
                                },
                                {
                                    "0": "DOM",
                                    "1": "2008",
                                    "2": "1"
                                },
                                {
                                    "0": "ITA",
                                    "1": "1924",
                                    "2": "1"
                                },
                                {
                                    "0": "USA",
                                    "1": "1932",
                                    "2": "1"
                                },
                                {
                                    "0": "RUS",
                                    "1": "2006",
                                    "2": "1"
                                },
                                {
                                    "0": "NOR",
                                    "1": "1900",
                                    "2": "2"
                                },
                                {
                                    "0": "SRI",
                                    "1": "1948",
                                    "2": "2"
                                },
                                {
                                    "0": "CAN",
                                    "1": "1956",
                                    "2": "1"
                                },
                                {
                                    "0": "ESP",
                                    "1": "2000",
                                    "2": "1"
                                },
                                {
                                    "0": "NGR",
                                    "1": "2000",
                                    "2": "2"
                                },
                                {
                                    "0": "AUT",
                                    "1": "2004",
                                    "2": "1"
                                },
                                {
                                    "0": "ETH",
                                    "1": "1980",
                                    "2": "1"
                                },
                                {
                                    "0": "SIN",
                                    "1": "1960",
                                    "2": "2"
                                },
                                {
                                    "0": "RSA",
                                    "1": "1996",
                                    "2": "1"
                                },
                                {
                                    "0": "DEN",
                                    "1": "1960",
                                    "2": "1"
                                },
                                {
                                    "0": "THA",
                                    "1": "1976",
                                    "2": "3"
                                },
                                {
                                    "0": "LUX",
                                    "1": "1920",
                                    "2": "2"
                                },
                                {
                                    "0": "IRI",
                                    "1": "1948",
                                    "2": "3"
                                },
                                {
                                    "0": "HUN",
                                    "1": "1932",
                                    "2": "1"
                                },
                                {
                                    "0": "NZL",
                                    "1": "1932",
                                    "2": "2"
                                },
                                {
                                    "0": "DEN",
                                    "1": "1952",
                                    "2": "1"
                                },
                                {
                                    "0": "MGL",
                                    "1": "2004",
                                    "2": "3"
                                },
                                {
                                    "0": "TRI",
                                    "1": "1948",
                                    "2": "2"
                                },
                                {
                                    "0": "YUG",
                                    "1": "1964",
                                    "2": "1"
                                },
                                {
                                    "0": "AUS",
                                    "1": "1994",
                                    "2": "3"
                                },
                                {
                                    "0": "LAT",
                                    "1": "2004",
                                    "2": "2"
                                },
                                {
                                    "0": "ROU",
                                    "1": "1964",
                                    "2": "1"
                                },
                                {
                                    "0": "LAT",
                                    "1": "1996",
                                    "2": "2"
                                },
                                {
                                    "0": "SUI",
                                    "1": "2004",
                                    "2": "1"
                                },
                                {
                                    "0": "SWE",
                                    "1": "2000",
                                    "2": "1"
                                },
                                {
                                    "0": "GBR",
                                    "1": "2008",
                                    "2": "1"
                                },
                                {
                                    "0": "CHI",
                                    "1": "1956",
                                    "2": "2"
                                },
                                {
                                    "0": "TUR",
                                    "1": "1988",
                                    "2": "1"
                                },
                                {
                                    "0": "AUS",
                                    "1": "2002",
                                    "2": "1"
                                },
                                {
                                    "0": "SYR",
                                    "1": "2004",
                                    "2": "3"
                                },
                                {
                                    "0": "HUN",
                                    "1": "1924",
                                    "2": "1"
                                },
                                {
                                    "0": "NZL",
                                    "1": "1924",
                                    "2": "3"
                                },
                                {
                                    "0": "TPE",
                                    "1": "1996",
                                    "2": "2"
                                },
                                {
                                    "0": "ETH",
                                    "1": "1968",
                                    "2": "1"
                                },
                                {
                                    "0": "NOR",
                                    "1": "1972",
                                    "2": "1"
                                },
                                {
                                    "0": "JPN",
                                    "1": "1998",
                                    "2": "1"
                                },
                                {
                                    "0": "YUG",
                                    "1": "1924",
                                    "2": "1"
                                },
                                {
                                    "0": "BDI",
                                    "1": "1996",
                                    "2": "1"
                                },
                                {
                                    "0": "EST",
                                    "1": "1992",
                                    "2": "1"
                                },
                                {
                                    "0": "TCH",
                                    "1": "1992",
                                    "2": "1"
                                },
                                {
                                    "0": "CHN",
                                    "1": "2002",
                                    "2": "1"
                                },
                                {
                                    "0": "KOR",
                                    "1": "1994",
                                    "2": "1"
                                },
                                {
                                    "0": "ARG",
                                    "1": "1924",
                                    "2": "1"
                                },
                                {
                                    "0": "BAH",
                                    "1": "1956",
                                    "2": "3"
                                },
                                {
                                    "0": "EGY",
                                    "1": "1984",
                                    "2": "2"
                                },
                                {
                                    "0": "AUT",
                                    "1": "1964",
                                    "2": "1"
                                },
                                {
                                    "0": "BEL",
                                    "1": "1992",
                                    "2": "2"
                                },
                                {
                                    "0": "NGR",
                                    "1": "2008",
                                    "2": "2"
                                },
                                {
                                    "0": "HUN",
                                    "1": "1952",
                                    "2": "1"
                                },
                                {
                                    "0": "ETH",
                                    "1": "1960",
                                    "2": "1"
                                },
                                {
                                    "0": "BRA",
                                    "1": "1964",
                                    "2": "3"
                                },
                                {
                                    "0": "FRA",
                                    "1": "1980",
                                    "2": "1"
                                },
                                {
                                    "0": "ALG",
                                    "1": "2000",
                                    "2": "1"
                                },
                                {
                                    "0": "POL",
                                    "1": "1992",
                                    "2": "1"
                                },
                                {
                                    "0": "RSA",
                                    "1": "1924",
                                    "2": "1"
                                },
                                {
                                    "0": "CAN",
                                    "1": "1924",
                                    "2": "1"
                                },
                                {
                                    "0": "FRA",
                                    "1": "1900",
                                    "2": "1"
                                },
                                {
                                    "0": "IRI",
                                    "1": "1968",
                                    "2": "1"
                                },
                                {
                                    "0": "NZL",
                                    "1": "1964",
                                    "2": "1"
                                },
                                {
                                    "0": "PRK",
                                    "1": "1996",
                                    "2": "1"
                                },
                                {
                                    "0": "SWE",
                                    "1": "1968",
                                    "2": "1"
                                },
                                {
                                    "0": "LAT",
                                    "1": "1936",
                                    "2": "2"
                                },
                                {
                                    "0": "TRI",
                                    "1": "2008",
                                    "2": "2"
                                },
                                {
                                    "0": "JAM",
                                    "1": "1980",
                                    "2": "3"
                                },
                                {
                                    "0": "ISV",
                                    "1": "1988",
                                    "2": "2"
                                },
                                {
                                    "0": "GER",
                                    "1": "2002",
                                    "2": "1"
                                },
                                {
                                    "0": "ISR",
                                    "1": "2000",
                                    "2": "3"
                                },
                                {
                                    "0": "TUR",
                                    "1": "1936",
                                    "2": "1"
                                },
                                {
                                    "0": "GBR",
                                    "1": "1994",
                                    "2": "3"
                                },
                                {
                                    "0": "IRQ",
                                    "1": "1960",
                                    "2": "3"
                                },
                                {
                                    "0": "INA",
                                    "1": "1992",
                                    "2": "1"
                                },
                                {
                                    "0": "IND",
                                    "1": "1900",
                                    "2": "2"
                                },
                                {
                                    "0": "QAT",
                                    "1": "1992",
                                    "2": "3"
                                },
                                {
                                    "0": "TCH",
                                    "1": "1920",
                                    "2": "3"
                                },
                                {
                                    "0": "USA",
                                    "1": "1980",
                                    "2": "1"
                                },
                                {
                                    "0": "ARG",
                                    "1": "1996",
                                    "2": "2"
                                },
                                {
                                    "0": "CAN",
                                    "1": "2010",
                                    "2": "1"
                                },
                                {
                                    "0": "FIN",
                                    "1": "2014",
                                    "2": "3"
                                },
                                {
                                    "0": "GBR",
                                    "1": "1948",
                                    "2": "1"
                                },
                                {
                                    "0": "AUS",
                                    "1": "1988",
                                    "2": "1"
                                },
                                {
                                    "0": "FIN",
                                    "1": "1928",
                                    "2": "1"
                                },
                                {
                                    "0": "KEN",
                                    "1": "1996",
                                    "2": "1"
                                },
                                {
                                    "0": "IRI",
                                    "1": "2008",
                                    "2": "1"
                                },
                                {
                                    "0": "ITA",
                                    "1": "1964",
                                    "2": "1"
                                },
                                {
                                    "0": "GRE",
                                    "1": "1992",
                                    "2": "1"
                                },
                                {
                                    "0": "NZL",
                                    "1": "2004",
                                    "2": "1"
                                },
                                {
                                    "0": "SWE",
                                    "1": "1928",
                                    "2": "1"
                                },
                                {
                                    "0": "PER",
                                    "1": "1948",
                                    "2": "1"
                                },
                                {
                                    "0": "KEN",
                                    "1": "1988",
                                    "2": "1"
                                },
                                {
                                    "0": "FIN",
                                    "1": "1920",
                                    "2": "1"
                                },
                                {
                                    "0": "JPN",
                                    "1": "1984",
                                    "2": "1"
                                },
                                {
                                    "0": "CUB",
                                    "1": "2004",
                                    "2": "1"
                                },
                                {
                                    "0": "SUI",
                                    "1": "1924",
                                    "2": "1"
                                },
                                {
                                    "0": "BAH",
                                    "1": "1996",
                                    "2": "2"
                                },
                                {
                                    "0": "BUL",
                                    "1": "2002",
                                    "2": "2"
                                },
                                {
                                    "0": "ITA",
                                    "1": "2004",
                                    "2": "1"
                                },
                                {
                                    "0": "URS",
                                    "1": "1956",
                                    "2": "1"
                                },
                                {
                                    "0": "USA",
                                    "1": "1972",
                                    "2": "1"
                                },
                                {
                                    "0": "ARG",
                                    "1": "2004",
                                    "2": "1"
                                },
                                {
                                    "0": "PUR",
                                    "1": "1992",
                                    "2": "3"
                                },
                                {
                                    "0": "GBR",
                                    "1": "2002",
                                    "2": "1"
                                },
                                {
                                    "0": "POL",
                                    "1": "2006",
                                    "2": "2"
                                },
                                {
                                    "0": "FRA",
                                    "1": "1972",
                                    "2": "1"
                                },
                                {
                                    "0": "POR",
                                    "1": "1952",
                                    "2": "3"
                                },
                                {
                                    "0": "NAM",
                                    "1": "1992",
                                    "2": "2"
                                },
                                {
                                    "0": "SWE",
                                    "1": "2014",
                                    "2": "2"
                                },
                                {
                                    "0": "MAR",
                                    "1": "1992",
                                    "2": "1"
                                },
                                {
                                    "0": "NED",
                                    "1": "2000",
                                    "2": "1"
                                },
                                {
                                    "0": "AZE",
                                    "1": "2000",
                                    "2": "1"
                                },
                                {
                                    "0": "CUB",
                                    "1": "1972",
                                    "2": "1"
                                },
                                {
                                    "0": "GBR",
                                    "1": "1908",
                                    "2": "1"
                                },
                                {
                                    "0": "GRE",
                                    "1": "1960",
                                    "2": "1"
                                },
                                {
                                    "0": "GDR",
                                    "1": "1988",
                                    "2": "1"
                                },
                                {
                                    "0": "LIE",
                                    "1": "1984",
                                    "2": "3"
                                },
                                {
                                    "0": "AZE",
                                    "1": "2008",
                                    "2": "1"
                                },
                                {
                                    "0": "URU",
                                    "1": "1952",
                                    "2": "3"
                                },
                                {
                                    "0": "CAN",
                                    "1": "1984",
                                    "2": "1"
                                },
                                {
                                    "0": "PUR",
                                    "1": "1984",
                                    "2": "2"
                                },
                                {
                                    "0": "BRA",
                                    "1": "1920",
                                    "2": "1"
                                },
                                {
                                    "0": "ROU",
                                    "1": "2008",
                                    "2": "1"
                                },
                                {
                                    "0": "SWE",
                                    "1": "1912",
                                    "2": "1"
                                },
                                {
                                    "0": "URS",
                                    "1": "1968",
                                    "2": "1"
                                },
                                {
                                    "0": "ARG",
                                    "1": "1968",
                                    "2": "3"
                                },
                                {
                                    "0": "VIE",
                                    "1": "2008",
                                    "2": "2"
                                },
                                {
                                    "0": "GBR",
                                    "1": "1920",
                                    "2": "1"
                                },
                                {
                                    "0": "POR",
                                    "1": "1924",
                                    "2": "3"
                                },
                                {
                                    "0": "AUS",
                                    "1": "1960",
                                    "2": "1"
                                },
                                {
                                    "0": "TUR",
                                    "1": "2000",
                                    "2": "1"
                                },
                                {
                                    "0": "CHN",
                                    "1": "2004",
                                    "2": "1"
                                },
                                {
                                    "0": "BAH",
                                    "1": "2004",
                                    "2": "1"
                                },
                                {
                                    "0": "TPE",
                                    "1": "2008",
                                    "2": "3"
                                },
                                {
                                    "0": "ANZ",
                                    "1": "1912",
                                    "2": "1"
                                },
                                {
                                    "0": "UGA",
                                    "1": "1996",
                                    "2": "3"
                                },
                                {
                                    "0": "SWE",
                                    "1": "1920",
                                    "2": "1"
                                },
                                {
                                    "0": "LUX",
                                    "1": "1992",
                                    "2": "2"
                                },
                                {
                                    "0": "FRA",
                                    "1": "1928",
                                    "2": "1"
                                },
                                {
                                    "0": "BEL",
                                    "1": "1956",
                                    "2": "2"
                                },
                                {
                                    "0": "ESP",
                                    "1": "1988",
                                    "2": "1"
                                },
                                {
                                    "0": "PUR",
                                    "1": "1976",
                                    "2": "3"
                                },
                                {
                                    "0": "DEN",
                                    "1": "1924",
                                    "2": "1"
                                },
                                {
                                    "0": "PHI",
                                    "1": "1988",
                                    "2": "3"
                                },
                                {
                                    "0": "BLR",
                                    "1": "1994",
                                    "2": "2"
                                },
                                {
                                    "0": "UZB",
                                    "1": "1994",
                                    "2": "1"
                                },
                                {
                                    "0": "USA",
                                    "1": "1968",
                                    "2": "1"
                                },
                                {
                                    "0": "ETH",
                                    "1": "2008",
                                    "2": "1"
                                },
                                {
                                    "0": "CAN",
                                    "1": "1992",
                                    "2": "1"
                                },
                                {
                                    "0": "CRO",
                                    "1": "1996",
                                    "2": "1"
                                },
                                {
                                    "0": "CZE",
                                    "1": "2000",
                                    "2": "1"
                                },
                                {
                                    "0": "HUN",
                                    "1": "1996",
                                    "2": "1"
                                },
                                {
                                    "0": "EST",
                                    "1": "2006",
                                    "2": "1"
                                },
                                {
                                    "0": "AUT",
                                    "1": "2008",
                                    "2": "2"
                                },
                                {
                                    "0": "GEO",
                                    "1": "2004",
                                    "2": "1"
                                },
                                {
                                    "0": "BOH",
                                    "1": "1908",
                                    "2": "3"
                                },
                                {
                                    "0": "FIN",
                                    "1": "1956",
                                    "2": "1"
                                },
                                {
                                    "0": "IRL",
                                    "1": "1984",
                                    "2": "2"
                                },
                                {
                                    "0": "LIB",
                                    "1": "1952",
                                    "2": "2"
                                },
                                {
                                    "0": "IRL",
                                    "1": "1992",
                                    "2": "1"
                                },
                                {
                                    "0": "SUI",
                                    "1": "1956",
                                    "2": "1"
                                },
                                {
                                    "0": "POL",
                                    "1": "1964",
                                    "2": "1"
                                },
                                {
                                    "0": "ITA",
                                    "1": "1936",
                                    "2": "1"
                                },
                                {
                                    "0": "FIN",
                                    "1": "1948",
                                    "2": "1"
                                },
                                {
                                    "0": "CHI",
                                    "1": "2004",
                                    "2": "1"
                                },
                                {
                                    "0": "MOZ",
                                    "1": "1996",
                                    "2": "3"
                                },
                                {
                                    "0": "GER",
                                    "1": "2008",
                                    "2": "1"
                                },
                                {
                                    "0": "HUN",
                                    "1": "1936",
                                    "2": "1"
                                },
                                {
                                    "0": "NOR",
                                    "1": "1998",
                                    "2": "1"
                                },
                                {
                                    "0": "ISR",
                                    "1": "2004",
                                    "2": "1"
                                },
                                {
                                    "0": "NED",
                                    "1": "1928",
                                    "2": "1"
                                },
                                {
                                    "0": "ZIM",
                                    "1": "2004",
                                    "2": "1"
                                },
                                {
                                    "0": "NGR",
                                    "1": "1996",
                                    "2": "1"
                                },
                                {
                                    "0": "BAR",
                                    "1": "2000",
                                    "2": "3"
                                },
                                {
                                    "0": "UZB",
                                    "1": "2000",
                                    "2": "1"
                                },
                                {
                                    "0": "ARG",
                                    "1": "1936",
                                    "2": "1"
                                },
                                {
                                    "0": "LUX",
                                    "1": "1952",
                                    "2": "1"
                                },
                                {
                                    "0": "AUT",
                                    "1": "1956",
                                    "2": "1"
                                },
                                {
                                    "0": "ESP",
                                    "1": "1948",
                                    "2": "2"
                                },
                                {
                                    "0": "BEL",
                                    "1": "1964",
                                    "2": "1"
                                },
                                {
                                    "0": "BRA",
                                    "1": "1952",
                                    "2": "1"
                                },
                                {
                                    "0": "ROU",
                                    "1": "1976",
                                    "2": "1"
                                },
                                {
                                    "0": "CAN",
                                    "1": "1952",
                                    "2": "1"
                                },
                                {
                                    "0": "DEN",
                                    "1": "1932",
                                    "2": "2"
                                },
                                {
                                    "0": "FIN",
                                    "1": "2008",
                                    "2": "1"
                                },
                                {
                                    "0": "FIN",
                                    "1": "1988",
                                    "2": "1"
                                },
                                {
                                    "0": "NZL",
                                    "1": "1920",
                                    "2": "3"
                                },
                                {
                                    "0": "MEX",
                                    "1": "1952",
                                    "2": "2"
                                },
                                {
                                    "0": "AUT",
                                    "1": "1976",
                                    "2": "1"
                                },
                                {
                                    "0": "LAT",
                                    "1": "1992",
                                    "2": "2"
                                },
                                {
                                    "0": "ROU",
                                    "1": "1956",
                                    "2": "1"
                                },
                                {
                                    "0": "ROU",
                                    "1": "1968",
                                    "2": "1"
                                },
                                {
                                    "0": "AUS",
                                    "1": "2006",
                                    "2": "1"
                                },
                                {
                                    "0": "AUS",
                                    "1": "1900",
                                    "2": "1"
                                },
                                {
                                    "0": "YUG",
                                    "1": "1952",
                                    "2": "1"
                                },
                                {
                                    "0": "TRI",
                                    "1": "1952",
                                    "2": "3"
                                },
                                {
                                    "0": "RUS",
                                    "1": "1994",
                                    "2": "1"
                                },
                                {
                                    "0": "BUL",
                                    "1": "2000",
                                    "2": "1"
                                },
                                {
                                    "0": "TPE",
                                    "1": "2000",
                                    "2": "2"
                                },
                                {
                                    "0": "RSA",
                                    "1": "1992",
                                    "2": "2"
                                },
                                {
                                    "0": "USA",
                                    "1": "2008",
                                    "2": "1"
                                },
                                {
                                    "0": "LAT",
                                    "1": "1932",
                                    "2": "2"
                                },
                                {
                                    "0": "JPN",
                                    "1": "2002",
                                    "2": "2"
                                },
                                {
                                    "0": "PHI",
                                    "1": "1928",
                                    "2": "3"
                                },
                                {
                                    "0": "IRL",
                                    "1": "1932",
                                    "2": "1"
                                },
                                {
                                    "0": "ARG",
                                    "1": "1928",
                                    "2": "1"
                                },
                                {
                                    "0": "IND",
                                    "1": "1928",
                                    "2": "1"
                                },
                                {
                                    "0": "GER",
                                    "1": "1928",
                                    "2": "1"
                                },
                                {
                                    "0": "HUN",
                                    "1": "1956",
                                    "2": "1"
                                },
                                {
                                    "0": "DEN",
                                    "1": "1964",
                                    "2": "1"
                                },
                                {
                                    "0": "GRE",
                                    "1": "1980",
                                    "2": "1"
                                },
                                {
                                    "0": "PAN",
                                    "1": "2008",
                                    "2": "1"
                                },
                                {
                                    "0": "AUS",
                                    "1": "1920",
                                    "2": "2"
                                },
                                {
                                    "0": "BRA",
                                    "1": "1960",
                                    "2": "3"
                                },
                                {
                                    "0": "BEL",
                                    "1": "2004",
                                    "2": "1"
                                },
                                {
                                    "0": "BEL",
                                    "1": "1996",
                                    "2": "1"
                                },
                                {
                                    "0": "SUI",
                                    "1": "1976",
                                    "2": "1"
                                },
                                {
                                    "0": "CUB",
                                    "1": "1904",
                                    "2": "1"
                                },
                                {
                                    "0": "ARM",
                                    "1": "1996",
                                    "2": "1"
                                },
                                {
                                    "0": "GRE",
                                    "1": "1988",
                                    "2": "3"
                                },
                                {
                                    "0": "CAN",
                                    "1": "1998",
                                    "2": "1"
                                },
                                {
                                    "0": "SWE",
                                    "1": "1972",
                                    "2": "1"
                                },
                                {
                                    "0": "SVK",
                                    "1": "2006",
                                    "2": "2"
                                },
                                {
                                    "0": "UKR",
                                    "1": "1996",
                                    "2": "1"
                                },
                                {
                                    "0": "ESP",
                                    "1": "1928",
                                    "2": "1"
                                },
                                {
                                    "0": "IND",
                                    "1": "2008",
                                    "2": "1"
                                },
                                {
                                    "0": "BUL",
                                    "1": "1960",
                                    "2": "1"
                                },
                                {
                                    "0": "USA",
                                    "1": "1928",
                                    "2": "1"
                                },
                                {
                                    "0": "RSA",
                                    "1": "1952",
                                    "2": "1"
                                },
                                {
                                    "0": "NZL",
                                    "1": "1960",
                                    "2": "1"
                                },
                                {
                                    "0": "IRI",
                                    "1": "1996",
                                    "2": "1"
                                },
                                {
                                    "0": "DEN",
                                    "1": "1998",
                                    "2": "2"
                                },
                                {
                                    "0": "JAM",
                                    "1": "1992",
                                    "2": "2"
                                },
                                {
                                    "0": "KOR",
                                    "1": "1998",
                                    "2": "1"
                                },
                                {
                                    "0": "FRA",
                                    "1": "2000",
                                    "2": "1"
                                },
                                {
                                    "0": "PRK",
                                    "1": "2008",
                                    "2": "1"
                                },
                                {
                                    "0": "GBR",
                                    "1": "1960",
                                    "2": "1"
                                },
                                {
                                    "0": "RSA",
                                    "1": "1912",
                                    "2": "1"
                                },
                                {
                                    "0": "UKR",
                                    "1": "2004",
                                    "2": "1"
                                },
                                {
                                    "0": "BLR",
                                    "1": "2008",
                                    "2": "1"
                                },
                                {
                                    "0": "CAN",
                                    "1": "1912",
                                    "2": "1"
                                },
                                {
                                    "0": "GDR",
                                    "1": "1976",
                                    "2": "1"
                                },
                                {
                                    "0": "RUS",
                                    "1": "2008",
                                    "2": "1"
                                },
                                {
                                    "0": "TCH",
                                    "1": "1924",
                                    "2": "1"
                                },
                                {
                                    "0": "SWE",
                                    "1": "1932",
                                    "2": "1"
                                },
                                {
                                    "0": "NZL",
                                    "1": "1992",
                                    "2": "1"
                                },
                                {
                                    "0": "VEN",
                                    "1": "1968",
                                    "2": "1"
                                },
                                {
                                    "0": "LTU",
                                    "1": "2000",
                                    "2": "1"
                                },
                                {
                                    "0": "MDA",
                                    "1": "2000",
                                    "2": "2"
                                },
                                {
                                    "0": "VEN",
                                    "1": "1960",
                                    "2": "3"
                                },
                                {
                                    "0": "BLR",
                                    "1": "2000",
                                    "2": "1"
                                },
                                {
                                    "0": "NZL",
                                    "1": "2000",
                                    "2": "1"
                                },
                                {
                                    "0": "KEN",
                                    "1": "1984",
                                    "2": "1"
                                },
                                {
                                    "0": "ZAM",
                                    "1": "1996",
                                    "2": "2"
                                },
                                {
                                    "0": "SVK",
                                    "1": "2000",
                                    "2": "1"
                                },
                                {
                                    "0": "NOR",
                                    "1": "1984",
                                    "2": "1"
                                },
                                {
                                    "0": "PUR",
                                    "1": "1996",
                                    "2": "3"
                                },
                                {
                                    "0": "GBR",
                                    "1": "2006",
                                    "2": "2"
                                },
                                {
                                    "0": "SWE",
                                    "1": "1900",
                                    "2": "3"
                                },
                                {
                                    "0": "IRL",
                                    "1": "1964",
                                    "2": "3"
                                },
                                {
                                    "0": "JAM",
                                    "1": "1952",
                                    "2": "1"
                                },
                                {
                                    "0": "LIE",
                                    "1": "1980",
                                    "2": "1"
                                },
                                {
                                    "0": "CRO",
                                    "1": "2002",
                                    "2": "1"
                                },
                                {
                                    "0": "FRA",
                                    "1": "1968",
                                    "2": "1"
                                },
                                {
                                    "0": "BUL",
                                    "1": "2006",
                                    "2": "2"
                                },
                                {
                                    "0": "NED",
                                    "1": "1988",
                                    "2": "1"
                                },
                                {
                                    "0": "MAR",
                                    "1": "2004",
                                    "2": "1"
                                },
                                {
                                    "0": "POL",
                                    "1": "1924",
                                    "2": "2"
                                },
                                {
                                    "0": "PAK",
                                    "1": "1976",
                                    "2": "3"
                                },
                                {
                                    "0": "JPN",
                                    "1": "1956",
                                    "2": "1"
                                },
                                {
                                    "0": "ITA",
                                    "1": "1976",
                                    "2": "1"
                                },
                                {
                                    "0": "FIN",
                                    "1": "2002",
                                    "2": "1"
                                },
                                {
                                    "0": "CUB",
                                    "1": "1976",
                                    "2": "1"
                                },
                                {
                                    "0": "RUS",
                                    "1": "2000",
                                    "2": "1"
                                },
                                {
                                    "0": "ARG",
                                    "1": "2008",
                                    "2": "1"
                                },
                                {
                                    "0": "KOR",
                                    "1": "1952",
                                    "2": "3"
                                },
                                {
                                    "0": "MAR",
                                    "1": "1996",
                                    "2": "3"
                                },
                                {
                                    "0": "AUS",
                                    "1": "2000",
                                    "2": "1"
                                },
                                {
                                    "0": "SUI",
                                    "1": "1936",
                                    "2": "1"
                                },
                                {
                                    "0": "YUG",
                                    "1": "1972",
                                    "2": "1"
                                },
                                {
                                    "0": "NED",
                                    "1": "1994",
                                    "2": "2"
                                },
                                {
                                    "0": "NED",
                                    "1": "1948",
                                    "2": "1"
                                },
                                {
                                    "0": "KAZ",
                                    "1": "1998",
                                    "2": "3"
                                },
                                {
                                    "0": "MGL",
                                    "1": "1980",
                                    "2": "2"
                                },
                                {
                                    "0": "DOM",
                                    "1": "1984",
                                    "2": "3"
                                },
                                {
                                    "0": "JPN",
                                    "1": "1996",
                                    "2": "1"
                                },
                                {
                                    "0": "NOR",
                                    "1": "1924",
                                    "2": "1"
                                },
                                {
                                    "0": "KOR",
                                    "1": "1992",
                                    "2": "1"
                                },
                                {
                                    "0": "SLO",
                                    "1": "1996",
                                    "2": "2"
                                },
                                {
                                    "0": "IND",
                                    "1": "1968",
                                    "2": "3"
                                },
                                {
                                    "0": "AUT",
                                    "1": "1936",
                                    "2": "1"
                                },
                                {
                                    "0": "USA",
                                    "1": "1948",
                                    "2": "1"
                                },
                                {
                                    "0": "ITA",
                                    "1": "1956",
                                    "2": "1"
                                },
                                {
                                    "0": "DEN",
                                    "1": "2004",
                                    "2": "1"
                                },
                                {
                                    "0": "BER",
                                    "1": "1976",
                                    "2": "3"
                                },
                                {
                                    "0": "ROU",
                                    "1": "1996",
                                    "2": "1"
                                },
                                {
                                    "0": "POR",
                                    "1": "2004",
                                    "2": "2"
                                },
                                {
                                    "0": "ARG",
                                    "1": "1956",
                                    "2": "2"
                                },
                                {
                                    "0": "EUA",
                                    "1": "1960",
                                    "2": "1"
                                },
                                {
                                    "0": "CRC",
                                    "1": "2000",
                                    "2": "3"
                                },
                                {
                                    "0": "KEN",
                                    "1": "2004",
                                    "2": "1"
                                },
                                {
                                    "0": "DEN",
                                    "1": "1912",
                                    "2": "1"
                                },
                                {
                                    "0": "SUR",
                                    "1": "1992",
                                    "2": "3"
                                },
                                {
                                    "0": "BRA",
                                    "1": "2000",
                                    "2": "2"
                                },
                                {
                                    "0": "FIN",
                                    "1": "1936",
                                    "2": "1"
                                },
                                {
                                    "0": "THA",
                                    "1": "2000",
                                    "2": "1"
                                },
                                {
                                    "0": "FRA",
                                    "1": "1994",
                                    "2": "2"
                                },
                                {
                                    "0": "COL",
                                    "1": "2004",
                                    "2": "3"
                                },
                                {
                                    "0": "FRG",
                                    "1": "1976",
                                    "2": "1"
                                },
                                {
                                    "0": "PAN",
                                    "1": "1948",
                                    "2": "3"
                                },
                                {
                                    "0": "GRE",
                                    "1": "2008",
                                    "2": "2"
                                },
                                {
                                    "0": "GRE",
                                    "1": "1908",
                                    "2": "2"
                                },
                                {
                                    "0": "BRA",
                                    "1": "1992",
                                    "2": "1"
                                },
                                {
                                    "0": "FRA",
                                    "1": "2008",
                                    "2": "1"
                                },
                                {
                                    "0": "URU",
                                    "1": "1932",
                                    "2": "3"
                                },
                                {
                                    "0": "BEL",
                                    "1": "1976",
                                    "2": "2"
                                },
                                {
                                    "0": "AUT",
                                    "1": "1996",
                                    "2": "2"
                                },
                                {
                                    "0": "ESP",
                                    "1": "2008",
                                    "2": "1"
                                },
                                {
                                    "0": "IRI",
                                    "1": "1956",
                                    "2": "1"
                                },
                                {
                                    "0": "CHN",
                                    "1": "1984",
                                    "2": "1"
                                },
                                {
                                    "0": "SCG",
                                    "1": "2004",
                                    "2": "2"
                                },
                                {
                                    "0": "SUD",
                                    "1": "2008",
                                    "2": "2"
                                },
                                {
                                    "0": "TCH",
                                    "1": "1964",
                                    "2": "1"
                                },
                                {
                                    "0": "ETH",
                                    "1": "1996",
                                    "2": "1"
                                },
                                {
                                    "0": "MEX",
                                    "1": "1932",
                                    "2": "2"
                                },
                                {
                                    "0": "ARG",
                                    "1": "1948",
                                    "2": "1"
                                },
                                {
                                    "0": "CAN",
                                    "1": "2004",
                                    "2": "1"
                                },
                                {
                                    "0": "FIN",
                                    "1": "1976",
                                    "2": "1"
                                },
                                {
                                    "0": "ROU",
                                    "1": "1988",
                                    "2": "1"
                                },
                                {
                                    "0": "FIN",
                                    "1": "1968",
                                    "2": "1"
                                },
                                {
                                    "0": "MEX",
                                    "1": "1972",
                                    "2": "2"
                                },
                                {
                                    "0": "ROU",
                                    "1": "1936",
                                    "2": "2"
                                },
                                {
                                    "0": "CAN",
                                    "1": "1972",
                                    "2": "2"
                                },
                                {
                                    "0": "SUI",
                                    "1": "1996",
                                    "2": "1"
                                },
                                {
                                    "0": "USA",
                                    "1": "1994",
                                    "2": "1"
                                },
                                {
                                    "0": "ITA",
                                    "1": "2002",
                                    "2": "1"
                                },
                                {
                                    "0": "BUL",
                                    "1": "1980",
                                    "2": "1"
                                },
                                {
                                    "0": "CMR",
                                    "1": "2000",
                                    "2": "1"
                                },
                                {
                                    "0": "BEL",
                                    "1": "1984",
                                    "2": "1"
                                },
                                {
                                    "0": "NED",
                                    "1": "2002",
                                    "2": "1"
                                },
                                {
                                    "0": "NED",
                                    "1": "1908",
                                    "2": "3"
                                },
                                {
                                    "0": "SWE",
                                    "1": "1992",
                                    "2": "1"
                                },
                                {
                                    "0": "POL",
                                    "1": "2004",
                                    "2": "1"
                                },
                                {
                                    "0": "GBR",
                                    "1": "2000",
                                    "2": "1"
                                },
                                {
                                    "0": "CAN",
                                    "1": "1964",
                                    "2": "1"
                                },
                                {
                                    "0": "FIN",
                                    "1": "1996",
                                    "2": "1"
                                },
                                {
                                    "0": "SWE",
                                    "1": "1960",
                                    "2": "1"
                                },
                                {
                                    "0": "IRI",
                                    "1": "1976",
                                    "2": "2"
                                },
                                {
                                    "0": "CAN",
                                    "1": "1932",
                                    "2": "1"
                                },
                                {
                                    "0": "TPE",
                                    "1": "1960",
                                    "2": "2"
                                },
                                {
                                    "0": "ITA",
                                    "1": "1996",
                                    "2": "1"
                                },
                                {
                                    "0": "ALG",
                                    "1": "1992",
                                    "2": "1"
                                },
                                {
                                    "0": "USA",
                                    "1": "1908",
                                    "2": "1"
                                },
                                {
                                    "0": "BRA",
                                    "1": "1972",
                                    "2": "3"
                                },
                                {
                                    "0": "FRA",
                                    "1": "1988",
                                    "2": "1"
                                },
                                {
                                    "0": "CUB",
                                    "1": "1996",
                                    "2": "1"
                                },
                                {
                                    "0": "CZE",
                                    "1": "2006",
                                    "2": "1"
                                },
                                {
                                    "0": "TUR",
                                    "1": "1960",
                                    "2": "1"
                                },
                                {
                                    "0": "NOR",
                                    "1": "1964",
                                    "2": "1"
                                },
                                {
                                    "0": "BAH",
                                    "1": "1964",
                                    "2": "1"
                                },
                                {
                                    "0": "TCH",
                                    "1": "1984",
                                    "2": "2"
                                },
                                {
                                    "0": "MEX",
                                    "1": "1992",
                                    "2": "2"
                                },
                                {
                                    "0": "TPE",
                                    "1": "1968",
                                    "2": "3"
                                },
                                {
                                    "0": "GER",
                                    "1": "1994",
                                    "2": "1"
                                },
                                {
                                    "0": "GBR",
                                    "1": "1980",
                                    "2": "1"
                                },
                                {
                                    "0": "KAZ",
                                    "1": "2004",
                                    "2": "1"
                                },
                                {
                                    "0": "DEN",
                                    "1": "1984",
                                    "2": "2"
                                },
                                {
                                    "0": "JAM",
                                    "1": "1972",
                                    "2": "3"
                                },
                                {
                                    "0": "BRA",
                                    "1": "1980",
                                    "2": "1"
                                },
                                {
                                    "0": "ISL",
                                    "1": "2000",
                                    "2": "3"
                                },
                                {
                                    "0": "EGY",
                                    "1": "1960",
                                    "2": "2"
                                },
                                {
                                    "0": "EST",
                                    "1": "2000",
                                    "2": "1"
                                },
                                {
                                    "0": "RSA",
                                    "1": "1932",
                                    "2": "1"
                                },
                                {
                                    "0": "INA",
                                    "1": "2000",
                                    "2": "1"
                                },
                                {
                                    "0": "BEL",
                                    "1": "2016",
                                    "2": "2"
                                },
                                {
                                    "0": "SWE",
                                    "1": "1952",
                                    "2": "1"
                                },
                                {
                                    "0": "HUN",
                                    "1": "1976",
                                    "2": "1"
                                },
                                {
                                    "0": "TRI",
                                    "1": "2000",
                                    "2": "2"
                                },
                                {
                                    "0": "FRA",
                                    "1": "1908",
                                    "2": "1"
                                },
                                {
                                    "0": "BEL",
                                    "1": "1924",
                                    "2": "1"
                                },
                                {
                                    "0": "NZL",
                                    "1": "1972",
                                    "2": "1"
                                },
                                {
                                    "0": "ISR",
                                    "1": "1992",
                                    "2": "2"
                                },
                                {
                                    "0": "GRE",
                                    "1": "2000",
                                    "2": "1"
                                },
                                {
                                    "0": "IND",
                                    "1": "1948",
                                    "2": "1"
                                },
                                {
                                    "0": "IRL",
                                    "1": "1952",
                                    "2": "2"
                                },
                                {
                                    "0": "CUB",
                                    "1": "1964",
                                    "2": "2"
                                },
                                {
                                    "0": "GER",
                                    "1": "1908",
                                    "2": "1"
                                },
                                {
                                    "0": "LIB",
                                    "1": "1972",
                                    "2": "2"
                                },
                                {
                                    "0": "JPN",
                                    "1": "1976",
                                    "2": "1"
                                },
                                {
                                    "0": "GBR",
                                    "1": "1900",
                                    "2": "1"
                                },
                                {
                                    "0": "URS",
                                    "1": "1988",
                                    "2": "1"
                                },
                                {
                                    "0": "KOR",
                                    "1": "1972",
                                    "2": "2"
                                },
                                {
                                    "0": "AUS",
                                    "1": "1980",
                                    "2": "1"
                                },
                                {
                                    "0": "ARG",
                                    "1": "1988",
                                    "2": "2"
                                },
                                {
                                    "0": "AUT",
                                    "1": "2002",
                                    "2": "1"
                                },
                                {
                                    "0": "POR",
                                    "1": "1984",
                                    "2": "1"
                                },
                                {
                                    "0": "NOR",
                                    "1": "2004",
                                    "2": "1"
                                },
                                {
                                    "0": "EST",
                                    "1": "1920",
                                    "2": "1"
                                },
                                {
                                    "0": "JPN",
                                    "1": "1936",
                                    "2": "1"
                                },
                                {
                                    "0": "ECU",
                                    "1": "2008",
                                    "2": "2"
                                },
                                {
                                    "0": "PAK",
                                    "1": "1956",
                                    "2": "2"
                                },
                                {
                                    "0": "NED",
                                    "1": "1968",
                                    "2": "1"
                                },
                                {
                                    "0": "COL",
                                    "1": "1984",
                                    "2": "2"
                                },
                                {
                                    "0": "FRA",
                                    "1": "1948",
                                    "2": "1"
                                },
                                {
                                    "0": "NED",
                                    "1": "2008",
                                    "2": "1"
                                },
                                {
                                    "0": "MAR",
                                    "1": "1984",
                                    "2": "1"
                                },
                                {
                                    "0": "SUI",
                                    "1": "2002",
                                    "2": "1"
                                },
                                {
                                    "0": "GRE",
                                    "1": "1968",
                                    "2": "3"
                                },
                                {
                                    "0": "VEN",
                                    "1": "1980",
                                    "2": "2"
                                },
                                {
                                    "0": "KEN",
                                    "1": "1964",
                                    "2": "3"
                                },
                                {
                                    "0": "SWE",
                                    "1": "2006",
                                    "2": "1"
                                },
                                {
                                    "0": "USA",
                                    "1": "1988",
                                    "2": "1"
                                },
                                {
                                    "0": "FRA",
                                    "1": "1936",
                                    "2": "1"
                                },
                                {
                                    "0": "MEX",
                                    "1": "1960",
                                    "2": "3"
                                },
                                {
                                    "0": "PAK",
                                    "1": "1968",
                                    "2": "1"
                                },
                                {
                                    "0": "YUG",
                                    "1": "1968",
                                    "2": "1"
                                },
                                {
                                    "0": "NGR",
                                    "1": "1964",
                                    "2": "3"
                                },
                                {
                                    "0": "TCH",
                                    "1": "1936",
                                    "2": "1"
                                },
                                {
                                    "0": "SLO",
                                    "1": "2008",
                                    "2": "1"
                                },
                                {
                                    "0": "MGL",
                                    "1": "1968",
                                    "2": "2"
                                },
                                {
                                    "0": "BEL",
                                    "1": "1948",
                                    "2": "1"
                                },
                                {
                                    "0": "GER",
                                    "1": "1900",
                                    "2": "1"
                                },
                                {
                                    "0": "SUI",
                                    "1": "1948",
                                    "2": "1"
                                },
                                {
                                    "0": "POL",
                                    "1": "1956",
                                    "2": "1"
                                },
                                {
                                    "0": "ESP",
                                    "1": "1996",
                                    "2": "1"
                                },
                                {
                                    "0": "CAN",
                                    "1": "1900",
                                    "2": "1"
                                },
                                {
                                    "0": "NED",
                                    "1": "1936",
                                    "2": "1"
                                },
                                {
                                    "0": "ROU",
                                    "1": "2000",
                                    "2": "1"
                                },
                                {
                                    "0": "TUN",
                                    "1": "1972",
                                    "2": "2"
                                },
                                {
                                    "0": "COL",
                                    "1": "2000",
                                    "2": "1"
                                },
                                {
                                    "0": "EGY",
                                    "1": "1948",
                                    "2": "1"
                                },
                                {
                                    "0": "ZIM",
                                    "1": "1980",
                                    "2": "1"
                                },
                                {
                                    "0": "KOR",
                                    "1": "1996",
                                    "2": "1"
                                },
                                {
                                    "0": "GER",
                                    "1": "2000",
                                    "2": "1"
                                },
                                {
                                    "0": "ITA",
                                    "1": "1928",
                                    "2": "1"
                                },
                                {
                                    "0": "POR",
                                    "1": "2008",
                                    "2": "1"
                                },
                                {
                                    "0": "GER",
                                    "1": "1992",
                                    "2": "1"
                                },
                                {
                                    "0": "JPN",
                                    "1": "2008",
                                    "2": "1"
                                },
                                {
                                    "0": "AUS",
                                    "1": "1952",
                                    "2": "1"
                                },
                                {
                                    "0": "NOR",
                                    "1": "1936",
                                    "2": "1"
                                },
                                {
                                    "0": "ARG",
                                    "1": "1960",
                                    "2": "2"
                                },
                                {
                                    "0": "KOR",
                                    "1": "2004",
                                    "2": "1"
                                },
                                {
                                    "0": "USA",
                                    "1": "1936",
                                    "2": "1"
                                },
                                {
                                    "0": "AUT",
                                    "1": "1948",
                                    "2": "1"
                                },
                                {
                                    "0": "CHI",
                                    "1": "1952",
                                    "2": "2"
                                },
                                {
                                    "0": "RSA",
                                    "1": "1960",
                                    "2": "2"
                                },
                                {
                                    "0": "CAN",
                                    "1": "1960",
                                    "2": "1"
                                },
                                {
                                    "0": "MAS",
                                    "1": "1996",
                                    "2": "2"
                                },
                                {
                                    "0": "LAT",
                                    "1": "2000",
                                    "2": "1"
                                },
                                {
                                    "0": "SUI",
                                    "1": "2008",
                                    "2": "1"
                                },
                                {
                                    "0": "UZB",
                                    "1": "2008",
                                    "2": "1"
                                },
                                {
                                    "0": "CRC",
                                    "1": "1988",
                                    "2": "2"
                                },
                                {
                                    "0": "BUL",
                                    "1": "1992",
                                    "2": "1"
                                },
                                {
                                    "0": "IRL",
                                    "1": "2000",
                                    "2": "2"
                                },
                                {
                                    "0": "IRI",
                                    "1": "1952",
                                    "2": "2"
                                },
                                {
                                    "0": "FIN",
                                    "1": "1964",
                                    "2": "1"
                                },
                                {
                                    "0": "CRC",
                                    "1": "1996",
                                    "2": "1"
                                },
                                {
                                    "0": "BLR",
                                    "1": "2002",
                                    "2": "3"
                                },
                                {
                                    "0": "CAN",
                                    "1": "2000",
                                    "2": "1"
                                },
                                {
                                    "0": "AUT",
                                    "1": "2000",
                                    "2": "1"
                                },
                                {
                                    "0": "CRO",
                                    "1": "2004",
                                    "2": "1"
                                },
                                {
                                    "0": "DOM",
                                    "1": "2004",
                                    "2": "1"
                                },
                                {
                                    "0": "GEO",
                                    "1": "1996",
                                    "2": "3"
                                },
                                {
                                    "0": "MEX",
                                    "1": "1968",
                                    "2": "1"
                                },
                                {
                                    "0": "AUS",
                                    "1": "1998",
                                    "2": "3"
                                },
                                {
                                    "0": "YUG",
                                    "1": "1960",
                                    "2": "1"
                                },
                                {
                                    "0": "BEL",
                                    "1": "1988",
                                    "2": "3"
                                },
                                {
                                    "0": "TPE",
                                    "1": "1992",
                                    "2": "2"
                                },
                                {
                                    "0": "NGR",
                                    "1": "2004",
                                    "2": "3"
                                },
                                {
                                    "0": "GBR",
                                    "1": "2004",
                                    "2": "1"
                                },
                                {
                                    "0": "RSA",
                                    "1": "2000",
                                    "2": "2"
                                },
                                {
                                    "0": "DEN",
                                    "1": "1956",
                                    "2": "1"
                                },
                                {
                                    "0": "MGL",
                                    "1": "2008",
                                    "2": "1"
                                },
                                {
                                    "0": "TUR",
                                    "1": "1992",
                                    "2": "1"
                                },
                                {
                                    "0": "RUS",
                                    "1": "2002",
                                    "2": "1"
                                },
                                {
                                    "0": "HUN",
                                    "1": "1928",
                                    "2": "1"
                                },
                                {
                                    "0": "NZL",
                                    "1": "1928",
                                    "2": "1"
                                },
                                {
                                    "0": "SUI",
                                    "1": "2000",
                                    "2": "1"
                                },
                                {
                                    "0": "SWE",
                                    "1": "2004",
                                    "2": "1"
                                },
                                {
                                    "0": "CHN",
                                    "1": "2006",
                                    "2": "1"
                                },
                                {
                                    "0": "ALG",
                                    "1": "1996",
                                    "2": "1"
                                },
                                {
                                    "0": "SWE",
                                    "1": "1964",
                                    "2": "1"
                                },
                                {
                                    "0": "NOR",
                                    "1": "1976",
                                    "2": "1"
                                },
                                {
                                    "0": "SEN",
                                    "1": "1988",
                                    "2": "2"
                                },
                                {
                                    "0": "AUT",
                                    "1": "1968",
                                    "2": "1"
                                },
                                {
                                    "0": "MKD",
                                    "1": "2000",
                                    "2": "3"
                                },
                                {
                                    "0": "IRI",
                                    "1": "1972",
                                    "2": "2"
                                },
                                {
                                    "0": "JPN",
                                    "1": "1994",
                                    "2": "1"
                                },
                                {
                                    "0": "FRA",
                                    "1": "1976",
                                    "2": "1"
                                },
                                {
                                    "0": "POL",
                                    "1": "1996",
                                    "2": "1"
                                },
                                {
                                    "0": "ITA",
                                    "1": "2000",
                                    "2": "1"
                                },
                                {
                                    "0": "YUG",
                                    "1": "1928",
                                    "2": "1"
                                },
                                {
                                    "0": "ETH",
                                    "1": "1964",
                                    "2": "1"
                                },
                                {
                                    "0": "BRA",
                                    "1": "1968",
                                    "2": "2"
                                },
                                {
                                    "0": "SLO",
                                    "1": "2002",
                                    "2": "3"
                                },
                                {
                                    "0": "PRK",
                                    "1": "2000",
                                    "2": "2"
                                },
                                {
                                    "0": "PUR",
                                    "1": "1948",
                                    "2": "3"
                                },
                                {
                                    "0": "UZB",
                                    "1": "1996",
                                    "2": "2"
                                },
                                {
                                    "0": "JAM",
                                    "1": "1976",
                                    "2": "1"
                                },
                                {
                                    "0": "GBR",
                                    "1": "1952",
                                    "2": "1"
                                },
                                {
                                    "0": "NZL",
                                    "1": "1968",
                                    "2": "1"
                                },
                                {
                                    "0": "MEX",
                                    "1": "1988",
                                    "2": "3"
                                },
                                {
                                    "0": "ISR",
                                    "1": "1996",
                                    "2": "3"
                                },
                                {
                                    "0": "BUL",
                                    "1": "1952",
                                    "2": "3"
                                },
                                {
                                    "0": "CAN",
                                    "1": "1920",
                                    "2": "1"
                                },
                                {
                                    "0": "JAM",
                                    "1": "1984",
                                    "2": "2"
                                },
                                {
                                    "0": "TRI",
                                    "1": "2004",
                                    "2": "3"
                                },
                                {
                                    "0": "ITA",
                                    "1": "1968",
                                    "2": "1"
                                },
                                {
                                    "0": "CUB",
                                    "1": "1968",
                                    "2": "2"
                                },
                                {
                                    "0": "GER",
                                    "1": "2006",
                                    "2": "1"
                                },
                                {
                                    "0": "KEN",
                                    "1": "1992",
                                    "2": "1"
                                },
                                {
                                    "0": "NAM",
                                    "1": "1996",
                                    "2": "2"
                                },
                                {
                                    "0": "IRI",
                                    "1": "2004",
                                    "2": "1"
                                },
                                {
                                    "0": "GRE",
                                    "1": "1996",
                                    "2": "1"
                                },
                                {
                                    "0": "AUS",
                                    "1": "1984",
                                    "2": "1"
                                },
                                {
                                    "0": "HUN",
                                    "1": "1988",
                                    "2": "1"
                                },
                                {
                                    "0": "CAN",
                                    "1": "2006",
                                    "2": "1"
                                },
                                {
                                    "0": "LTU",
                                    "1": "1992",
                                    "2": "1"
                                },
                                {
                                    "0": "SUR",
                                    "1": "1988",
                                    "2": "1"
                                },
                                {
                                    "0": "GBR",
                                    "1": "1998",
                                    "2": "3"
                                },
                                {
                                    "0": "RSA",
                                    "1": "1920",
                                    "2": "1"
                                },
                                {
                                    "0": "POR",
                                    "1": "1996",
                                    "2": "1"
                                },
                                {
                                    "0": "CUB",
                                    "1": "2008",
                                    "2": "1"
                                },
                                {
                                    "0": "ITA",
                                    "1": "1960",
                                    "2": "1"
                                },
                                {
                                    "0": "FIN",
                                    "1": "1924",
                                    "2": "1"
                                },
                                {
                                    "0": "ITA",
                                    "1": "2008",
                                    "2": "1"
                                },
                                {
                                    "0": "POR",
                                    "1": "1988",
                                    "2": "1"
                                },
                                {
                                    "0": "NZL",
                                    "1": "2008",
                                    "2": "1"
                                },
                                {
                                    "0": "NIG",
                                    "1": "1972",
                                    "2": "3"
                                },
                                {
                                    "0": "SWE",
                                    "1": "1924",
                                    "2": "1"
                                },
                                {
                                    "0": "IND",
                                    "1": "1936",
                                    "2": "1"
                                },
                                {
                                    "0": "GDR",
                                    "1": "1984",
                                    "2": "1"
                                },
                                {
                                    "0": "MAR",
                                    "1": "1988",
                                    "2": "1"
                                },
                                {
                                    "0": "ZZX",
                                    "1": "1900",
                                    "2": "1"
                                },
                                {
                                    "0": "USA",
                                    "1": "1976",
                                    "2": "1"
                                },
                                {
                                    "0": "FIN",
                                    "1": "2010",
                                    "2": "3"
                                },
                                {
                                    "0": "COL",
                                    "1": "1972",
                                    "2": "2"
                                },
                                {
                                    "0": "POL",
                                    "1": "2002",
                                    "2": "2"
                                },
                                {
                                    "0": "AUS",
                                    "1": "1992",
                                    "2": "1"
                                },
                                {
                                    "0": "URS",
                                    "1": "1960",
                                    "2": "1"
                                },
                                {
                                    "0": "ARG",
                                    "1": "2000",
                                    "2": "2"
                                },
                                {
                                    "0": "GER",
                                    "1": "1952",
                                    "2": "1"
                                },
                                {
                                    "0": "GRE",
                                    "1": "1956",
                                    "2": "3"
                                },
                                {
                                    "0": "BAH",
                                    "1": "2000",
                                    "2": "1"
                                },
                                {
                                    "0": "CHN",
                                    "1": "1998",
                                    "2": "2"
                                },
                                {
                                    "0": "NED",
                                    "1": "1996",
                                    "2": "1"
                                },
                                {
                                    "0": "GHA",
                                    "1": "1964",
                                    "2": "3"
                                },
                                {
                                    "0": "LIE",
                                    "1": "1988",
                                    "2": "3"
                                },
                                {
                                    "0": "GBR",
                                    "1": "1912",
                                    "2": "1"
                                },
                                {
                                    "0": "BAH",
                                    "1": "1992",
                                    "2": "3"
                                },
                                {
                                    "0": "BUL",
                                    "1": "1998",
                                    "2": "1"
                                },
                                {
                                    "0": "HUN",
                                    "1": "2008",
                                    "2": "1"
                                },
                                {
                                    "0": "AZE",
                                    "1": "2004",
                                    "2": "1"
                                },
                                {
                                    "0": "CZE",
                                    "1": "2004",
                                    "2": "1"
                                },
                                {
                                    "0": "TRI",
                                    "1": "1964",
                                    "2": "2"
                                },
                                {
                                    "0": "ITA",
                                    "1": "1948",
                                    "2": "1"
                                },
                                {
                                    "0": "USA",
                                    "1": "1956",
                                    "2": "1"
                                },
                                {
                                    "0": "AUS",
                                    "1": "1964",
                                    "2": "1"
                                },
                                {
                                    "0": "ITA",
                                    "1": "1994",
                                    "2": "1"
                                },
                                {
                                    "0": "CAN",
                                    "1": "1980",
                                    "2": "2"
                                },
                                {
                                    "0": "USA",
                                    "1": "2002",
                                    "2": "1"
                                },
                                {
                                    "0": "IRL",
                                    "1": "1980",
                                    "2": "2"
                                },
                                {
                                    "0": "KOR",
                                    "1": "1984",
                                    "2": "1"
                                },
                                {
                                    "0": "BRA",
                                    "1": "2008",
                                    "2": "1"
                                },
                                {
                                    "0": "HUN",
                                    "1": "1908",
                                    "2": "1"
                                },
                                {
                                    "0": "POL",
                                    "1": "1936",
                                    "2": "2"
                                },
                                {
                                    "0": "CUB",
                                    "1": "1948",
                                    "2": "2"
                                },
                                {
                                    "0": "GBR",
                                    "1": "1932",
                                    "2": "1"
                                },
                                {
                                    "0": "EGY",
                                    "1": "1928",
                                    "2": "1"
                                },
                                {
                                    "0": "SUI",
                                    "1": "1928",
                                    "2": "1"
                                },
                                {
                                    "0": "AUS",
                                    "1": "1972",
                                    "2": "1"
                                },
                                {
                                    "0": "YUG",
                                    "1": "1980",
                                    "2": "1"
                                },
                                {
                                    "0": "JPN",
                                    "1": "1988",
                                    "2": "1"
                                },
                                {
                                    "0": "VEN",
                                    "1": "1952",
                                    "2": "3"
                                },
                                {
                                    "0": "FRG",
                                    "1": "1984",
                                    "2": "1"
                                },
                                {
                                    "0": "MAS",
                                    "1": "2008",
                                    "2": "2"
                                },
                                {
                                    "0": "URS",
                                    "1": "1980",
                                    "2": "1"
                                },
                                {
                                    "0": "PER",
                                    "1": "1984",
                                    "2": "2"
                                },
                                {
                                    "0": "BEL",
                                    "1": "1936",
                                    "2": "3"
                                },
                                {
                                    "0": "NGR",
                                    "1": "1984",
                                    "2": "2"
                                },
                                {
                                    "0": "FRA",
                                    "1": "2002",
                                    "2": "1"
                                },
                                {
                                    "0": "INA",
                                    "1": "1988",
                                    "2": "2"
                                },
                                {
                                    "0": "EST",
                                    "1": "2002",
                                    "2": "1"
                                },
                                {
                                    "0": "TCH",
                                    "1": "1956",
                                    "2": "1"
                                },
                                {
                                    "0": "UKR",
                                    "1": "2008",
                                    "2": "1"
                                },
                                {
                                    "0": "AUT",
                                    "1": "1928",
                                    "2": "1"
                                },
                                {
                                    "0": "DEN",
                                    "1": "1996",
                                    "2": "1"
                                },
                                {
                                    "0": "BEL",
                                    "1": "1928",
                                    "2": "2"
                                },
                                {
                                    "0": "MEX",
                                    "1": "1980",
                                    "2": "2"
                                },
                                {
                                    "0": "KGZ",
                                    "1": "2000",
                                    "2": "3"
                                },
                                {
                                    "0": "YUG",
                                    "1": "1948",
                                    "2": "2"
                                },
                                {
                                    "0": "THA",
                                    "1": "1992",
                                    "2": "3"
                                },
                                {
                                    "0": "NED",
                                    "1": "1924",
                                    "2": "1"
                                },
                                {
                                    "0": "SWE",
                                    "1": "1984",
                                    "2": "1"
                                },
                                {
                                    "0": "GBR",
                                    "1": "1992",
                                    "2": "1"
                                },
                                {
                                    "0": "PER",
                                    "1": "1992",
                                    "2": "2"
                                },
                                {
                                    "0": "TUR",
                                    "1": "1972",
                                    "2": "2"
                                },
                                {
                                    "0": "NOR",
                                    "1": "2002",
                                    "2": "1"
                                },
                                {
                                    "0": "JAM",
                                    "1": "2004",
                                    "2": "1"
                                },
                                {
                                    "0": "GER",
                                    "1": "2012",
                                    "2": "1"
                                },
                                {
                                    "0": "AUS",
                                    "1": "1932",
                                    "2": "1"
                                },
                                {
                                    "0": "SUI",
                                    "1": "1968",
                                    "2": "2"
                                },
                                {
                                    "0": "ROU",
                                    "1": "1980",
                                    "2": "1"
                                },
                                {
                                    "0": "YUG",
                                    "1": "1988",
                                    "2": "1"
                                },
                                {
                                    "0": "IRI",
                                    "1": "1964",
                                    "2": "3"
                                },
                                {
                                    "0": "GBR",
                                    "1": "1984",
                                    "2": "1"
                                },
                                {
                                    "0": "HUN",
                                    "1": "1948",
                                    "2": "1"
                                },
                                {
                                    "0": "AUT",
                                    "1": "1960",
                                    "2": "1"
                                },
                                {
                                    "0": "MGL",
                                    "1": "1988",
                                    "2": "3"
                                },
                                {
                                    "0": "ETH",
                                    "1": "2004",
                                    "2": "1"
                                },
                                {
                                    "0": "PHI",
                                    "1": "1992",
                                    "2": "3"
                                },
                                {
                                    "0": "FIN",
                                    "1": "2004",
                                    "2": "2"
                                },
                                {
                                    "0": "BUL",
                                    "1": "2004",
                                    "2": "1"
                                },
                                {
                                    "0": "DEN",
                                    "1": "1936",
                                    "2": "2"
                                },
                                {
                                    "0": "FIN",
                                    "1": "1984",
                                    "2": "1"
                                },
                                {
                                    "0": "BEL",
                                    "1": "1968",
                                    "2": "2"
                                },
                                {
                                    "0": "ESP",
                                    "1": "1976",
                                    "2": "2"
                                },
                                {
                                    "0": "AUT",
                                    "1": "1988",
                                    "2": "1"
                                },
                                {
                                    "0": "BRA",
                                    "1": "1948",
                                    "2": "3"
                                },
                                {
                                    "0": "MEX",
                                    "1": "1948",
                                    "2": "1"
                                },
                                {
                                    "0": "ROU",
                                    "1": "1960",
                                    "2": "1"
                                },
                                {
                                    "0": "AUT",
                                    "1": "1980",
                                    "2": "1"
                                },
                                {
                                    "0": "CHN",
                                    "1": "1992",
                                    "2": "1"
                                },
                                {
                                    "0": "PHI",
                                    "1": "1932",
                                    "2": "3"
                                },
                                {
                                    "0": "ISL",
                                    "1": "1984",
                                    "2": "3"
                                },
                                {
                                    "0": "ARM",
                                    "1": "2008",
                                    "2": "3"
                                },
                                {
                                    "0": "TUR",
                                    "1": "1952",
                                    "2": "1"
                                },
                                {
                                    "0": "KAZ",
                                    "1": "1996",
                                    "2": "1"
                                },
                                {
                                    "0": "BEL",
                                    "1": "1908",
                                    "2": "1"
                                },
                                {
                                    "0": "BUL",
                                    "1": "1964",
                                    "2": "1"
                                },
                                {
                                    "0": "GBR",
                                    "1": "1972",
                                    "2": "1"
                                },
                                {
                                    "0": "KEN",
                                    "1": "1972",
                                    "2": "1"
                                },
                                {
                                    "0": "SUI",
                                    "1": "1988",
                                    "2": "1"
                                },
                                {
                                    "0": "AUS",
                                    "1": "2012",
                                    "2": "3"
                                },
                                {
                                    "0": "DEN",
                                    "1": "1976",
                                    "2": "1"
                                },
                                {
                                    "0": "BUL",
                                    "1": "1972",
                                    "2": "1"
                                },
                                {
                                    "0": "CZE",
                                    "1": "1998",
                                    "2": "1"
                                },
                                {
                                    "0": "ITA",
                                    "1": "1908",
                                    "2": "1"
                                },
                                {
                                    "0": "BLR",
                                    "1": "1996",
                                    "2": "1"
                                },
                                {
                                    "0": "TCH",
                                    "1": "1976",
                                    "2": "1"
                                },
                                {
                                    "0": "ALG",
                                    "1": "1984",
                                    "2": "3"
                                },
                                {
                                    "0": "IRI",
                                    "1": "1992",
                                    "2": "2"
                                },
                                {
                                    "0": "POL",
                                    "1": "1976",
                                    "2": "1"
                                },
                                {
                                    "0": "BEL",
                                    "1": "2008",
                                    "2": "1"
                                },
                                {
                                    "0": "INA",
                                    "1": "2008",
                                    "2": "1"
                                },
                                {
                                    "0": "NZL",
                                    "1": "1988",
                                    "2": "1"
                                },
                                {
                                    "0": "JAM",
                                    "1": "1996",
                                    "2": "1"
                                },
                                {
                                    "0": "FRA",
                                    "1": "1996",
                                    "2": "1"
                                },
                                {
                                    "0": "EST",
                                    "1": "2008",
                                    "2": "1"
                                },
                                {
                                    "0": "UGA",
                                    "1": "1972",
                                    "2": "1"
                                },
                                {
                                    "0": "GBR",
                                    "1": "1964",
                                    "2": "1"
                                },
                                {
                                    "0": "URU",
                                    "1": "1924",
                                    "2": "1"
                                },
                                {
                                    "0": "HUN",
                                    "1": "1968",
                                    "2": "1"
                                },
                                {
                                    "0": "MEX",
                                    "1": "2000",
                                    "2": "1"
                                },
                                {
                                    "0": "YUG",
                                    "1": "2000",
                                    "2": "1"
                                },
                                {
                                    "0": "BRA",
                                    "1": "1988",
                                    "2": "1"
                                },
                                {
                                    "0": "IND",
                                    "1": "1996",
                                    "2": "3"
                                },
                                {
                                    "0": "NOR",
                                    "1": "1996",
                                    "2": "1"
                                },
                                {
                                    "0": "JPN",
                                    "1": "1928",
                                    "2": "1"
                                },
                                {
                                    "0": "GDR",
                                    "1": "1972",
                                    "2": "1"
                                },
                                {
                                    "0": "KOR",
                                    "1": "1964",
                                    "2": "2"
                                },
                                {
                                    "0": "AUT",
                                    "1": "1994",
                                    "2": "1"
                                },
                                {
                                    "0": "COL",
                                    "1": "1992",
                                    "2": "3"
                                },
                                {
                                    "0": "RU1",
                                    "1": "1908",
                                    "2": "1"
                                },
                                {
                                    "0": "NED",
                                    "1": "1976",
                                    "2": "1"
                                },
                                {
                                    "0": "RSA",
                                    "1": "1908",
                                    "2": "1"
                                },
                                {
                                    "0": "NOR",
                                    "1": "1956",
                                    "2": "1"
                                },
                                {
                                    "0": "EST",
                                    "1": "1928",
                                    "2": "1"
                                },
                                {
                                    "0": "PRK",
                                    "1": "1980",
                                    "2": "2"
                                },
                                {
                                    "0": "POR",
                                    "1": "1936",
                                    "2": "3"
                                },
                                {
                                    "0": "AUT",
                                    "1": "1908",
                                    "2": "3"
                                },
                                {
                                    "0": "LTU",
                                    "1": "2004",
                                    "2": "1"
                                },
                                {
                                    "0": "URU",
                                    "1": "1964",
                                    "2": "3"
                                },
                                {
                                    "0": "ITA",
                                    "1": "1980",
                                    "2": "1"
                                },
                                {
                                    "0": "LIB",
                                    "1": "1980",
                                    "2": "3"
                                },
                                {
                                    "0": "SUI",
                                    "1": "1994",
                                    "2": "1"
                                },
                                {
                                    "0": "SWE",
                                    "1": "1998",
                                    "2": "2"
                                },
                                {
                                    "0": "AHO",
                                    "1": "1988",
                                    "2": "2"
                                },
                                {
                                    "0": "USA",
                                    "1": "1996",
                                    "2": "1"
                                },
                                {
                                    "0": "ZAM",
                                    "1": "1984",
                                    "2": "3"
                                },
                                {
                                    "0": "MAR",
                                    "1": "2008",
                                    "2": "2"
                                },
                                {
                                    "0": "IND",
                                    "1": "1956",
                                    "2": "1"
                                },
                                {
                                    "0": "POR",
                                    "1": "1976",
                                    "2": "2"
                                },
                                {
                                    "0": "HAI",
                                    "1": "1928",
                                    "2": "2"
                                },
                                {
                                    "0": "AUS",
                                    "1": "2004",
                                    "2": "1"
                                },
                                {
                                    "0": "UAE",
                                    "1": "2004",
                                    "2": "1"
                                },
                                {
                                    "0": "LAT",
                                    "1": "2006",
                                    "2": "3"
                                },
                                {
                                    "0": "EGY",
                                    "1": "2008",
                                    "2": "3"
                                },
                                {
                                    "0": "PAK",
                                    "1": "1988",
                                    "2": "3"
                                },
                                {
                                    "0": "JPN",
                                    "1": "1968",
                                    "2": "1"
                                },
                                {
                                    "0": "ITA",
                                    "1": "1988",
                                    "2": "1"
                                },
                                {
                                    "0": "FRA",
                                    "1": "1956",
                                    "2": "1"
                                },
                                {
                                    "0": "RUS",
                                    "1": "1996",
                                    "2": "1"
                                }
                            ]
                        },
                        "text/html": [
                            "<table>",
                            "<tr><th>NOC</th><th>Edition</th><th>max_medal_value</th></tr>",
                            "<tr><td>CHI</td><td>1928</td><td>2</td></tr>",
                            "<tr><td>MGL</td><td>1976</td><td>2</td></tr>",
                            "<tr><td>SLO</td><td>2000</td><td>1</td></tr>",
                            "<tr><td>KAZ</td><td>1994</td><td>1</td></tr>",
                            "<tr><td>KOR</td><td>1988</td><td>1</td></tr>",
                            "<tr><td>AFG</td><td>2008</td><td>3</td></tr>",
                            "<tr><td>NOR</td><td>1928</td><td>1</td></tr>",
                            "<tr><td>JPN</td><td>2000</td><td>1</td></tr>",
                            "<tr><td>IND</td><td>1964</td><td>1</td></tr>",
                            "<tr><td>JPN</td><td>1992</td><td>1</td></tr>",
                            "<tr><td>SUI</td><td>1932</td><td>2</td></tr>",
                            "<tr><td>POL</td><td>1948</td><td>3</td></tr>",
                            "<tr><td>ITA</td><td>1952</td><td>1</td></tr>",
                            "<tr><td>YUG</td><td>1976</td><td>1</td></tr>",
                            "<tr><td>IND</td><td>1972</td><td>3</td></tr>",
                            "<tr><td>TRI</td><td>1976</td><td>1</td></tr>",
                            "<tr><td>PAK</td><td>1960</td><td>1</td></tr>",
                            "<tr><td>THA</td><td>2004</td><td>1</td></tr>",
                            "<tr><td>SIN</td><td>2008</td><td>2</td></tr>",
                            "<tr><td>POR</td><td>2000</td><td>3</td></tr>",
                            "<tr><td>KEN</td><td>2000</td><td>1</td></tr>",
                            "<tr><td>FIN</td><td>1932</td><td>1</td></tr>",
                            "<tr><td>FRA</td><td>1998</td><td>1</td></tr>",
                            "<tr><td>DEN</td><td>2008</td><td>1</td></tr>",
                            "<tr><td>DEN</td><td>1908</td><td>2</td></tr>",
                            "<tr><td>BRA</td><td>1996</td><td>1</td></tr>",
                            "<tr><td>NED</td><td>1952</td><td>2</td></tr>",
                            "<tr><td>ARG</td><td>1952</td><td>1</td></tr>",
                            "<tr><td>CAN</td><td>2014</td><td>1</td></tr>",
                            "<tr><td>NGR</td><td>1972</td><td>3</td></tr>",
                            "<tr><td>GRE</td><td>2004</td><td>1</td></tr>",
                            "<tr><td>PHI</td><td>1964</td><td>2</td></tr>",
                            "<tr><td>FRG</td><td>1980</td><td>2</td></tr>",
                            "<tr><td>UGA</td><td>1980</td><td>2</td></tr>",
                            "<tr><td>TCH</td><td>1960</td><td>1</td></tr>",
                            "<tr><td>COL</td><td>2008</td><td>2</td></tr>",
                            "<tr><td>AUT</td><td>1932</td><td>1</td></tr>",
                            "<tr><td>TUN</td><td>1964</td><td>2</td></tr>",
                            "<tr><td>GRE</td><td>1904</td><td>1</td></tr>",
                            "<tr><td>ITA</td><td>1920</td><td>1</td></tr>",
                            "<tr><td>ETH</td><td>1992</td><td>1</td></tr>",
                            "<tr><td>FRG</td><td>1972</td><td>1</td></tr>",
                            "<tr><td>CAN</td><td>2008</td><td>1</td></tr>",
                            "<tr><td>UKR</td><td>2006</td><td>3</td></tr>",
                            "<tr><td>RSA</td><td>2008</td><td>2</td></tr>",
                            "<tr><td>AUT</td><td>1992</td><td>1</td></tr>",
                            "<tr><td>ESP</td><td>2004</td><td>1</td></tr>",
                            "<tr><td>AUS</td><td>1936</td><td>3</td></tr>",
                            "<tr><td>MEX</td><td>1936</td><td>3</td></tr>",
                            "<tr><td>TCH</td><td>1968</td><td>1</td></tr>",
                            "<tr><td>GBR</td><td>1996</td><td>1</td></tr>",
                            "<tr><td>TPE</td><td>1984</td><td>3</td></tr>",
                            "<tr><td>IRI</td><td>1960</td><td>2</td></tr>",
                            "<tr><td>CMR</td><td>2004</td><td>1</td></tr>",
                            "<tr><td>ROU</td><td>1992</td><td>1</td></tr>",
                            "<tr><td>MEX</td><td>1976</td><td>1</td></tr>",
                            "<tr><td>ITA</td><td>2006</td><td>1</td></tr>",
                            "<tr><td>ITA</td><td>1912</td><td>1</td></tr>",
                            "<tr><td>EUA</td><td>1956</td><td>1</td></tr>",
                            "<tr><td>FIN</td><td>1972</td><td>1</td></tr>",
                            "<tr><td>JAM</td><td>2008</td><td>1</td></tr>",
                            "<tr><td>SWE</td><td>1996</td><td>1</td></tr>",
                            "<tr><td>YUG</td><td>1936</td><td>2</td></tr>",
                            "<tr><td>ESP</td><td>1972</td><td>1</td></tr>",
                            "<tr><td>NED</td><td>1912</td><td>3</td></tr>",
                            "<tr><td>SUI</td><td>1992</td><td>1</td></tr>",
                            "<tr><td>USA</td><td>1998</td><td>1</td></tr>",
                            "<tr><td>LAT</td><td>2008</td><td>1</td></tr>",
                            "<tr><td>POL</td><td>2000</td><td>1</td></tr>",
                            "<tr><td>NZL</td><td>1936</td><td>1</td></tr>",
                            "<tr><td>POL</td><td>2008</td><td>1</td></tr>",
                            "<tr><td>TOG</td><td>2008</td><td>3</td></tr>",
                            "<tr><td>BEL</td><td>1980</td><td>1</td></tr>",
                            "<tr><td>NED</td><td>1998</td><td>1</td></tr>",
                            "<tr><td>DEN</td><td>1948</td><td>1</td></tr>",
                            "<tr><td>TUR</td><td>1984</td><td>3</td></tr>",
                            "<tr><td>HKG</td><td>2004</td><td>2</td></tr>",
                            "<tr><td>CAN</td><td>1968</td><td>1</td></tr>",
                            "<tr><td>USA</td><td>1912</td><td>1</td></tr>",
                            "<tr><td>RSA</td><td>1936</td><td>2</td></tr>",
                            "<tr><td>TCH</td><td>1988</td><td>1</td></tr>",
                            "<tr><td>ITA</td><td>1992</td><td>1</td></tr>",
                            "<tr><td>ETH</td><td>1972</td><td>3</td></tr>",
                            "<tr><td>GBR</td><td>1976</td><td>1</td></tr>",
                            "<tr><td>SLO</td><td>1994</td><td>3</td></tr>",
                            "<tr><td>FRG</td><td>1952</td><td>1</td></tr>",
                            "<tr><td>TUR</td><td>1956</td><td>1</td></tr>",
                            "<tr><td>NOR</td><td>1968</td><td>1</td></tr>",
                            "<tr><td>BUL</td><td>1976</td><td>1</td></tr>",
                            "<tr><td>TCH</td><td>1980</td><td>1</td></tr>",
                            "<tr><td>POL</td><td>1988</td><td>1</td></tr>",
                            "<tr><td>CUB</td><td>2000</td><td>1</td></tr>",
                            "<tr><td>FRA</td><td>1984</td><td>1</td></tr>",
                            "<tr><td>INA</td><td>2004</td><td>1</td></tr>",
                            "<tr><td>EST</td><td>2004</td><td>2</td></tr>",
                            "<tr><td>ERI</td><td>2004</td><td>3</td></tr>",
                            "<tr><td>KAZ</td><td>2008</td><td>1</td></tr>",
                            "<tr><td>CAN</td><td>1928</td><td>1</td></tr>",
                            "<tr><td>BRA</td><td>1976</td><td>3</td></tr>",
                            "<tr><td>RSA</td><td>1928</td><td>1</td></tr>",
                            "<tr><td>TRI</td><td>1996</td><td>3</td></tr>",
                            "<tr><td>BEL</td><td>1920</td><td>1</td></tr>",
                            "<tr><td>HUN</td><td>1980</td><td>1</td></tr>",
                            "<tr><td>DEN</td><td>1988</td><td>1</td></tr>",
                            "<tr><td>INA</td><td>1996</td><td>1</td></tr>",
                            "<tr><td>NZL</td><td>1976</td><td>1</td></tr>",
                            "<tr><td>SWE</td><td>1956</td><td>1</td></tr>",
                            "<tr><td>MEX</td><td>1996</td><td>3</td></tr>",
                            "<tr><td>GER</td><td>1998</td><td>1</td></tr>",
                            "<tr><td>MRI</td><td>2008</td><td>3</td></tr>",
                            "<tr><td>FRA</td><td>1912</td><td>1</td></tr>",
                            "<tr><td>USA</td><td>1984</td><td>1</td></tr>",
                            "<tr><td>ARG</td><td>1992</td><td>3</td></tr>",
                            "<tr><td>SUI</td><td>2006</td><td>1</td></tr>",
                            "<tr><td>PAK</td><td>1992</td><td>3</td></tr>",
                            "<tr><td>AUT</td><td>1998</td><td>1</td></tr>",
                            "<tr><td>JPN</td><td>1972</td><td>1</td></tr>",
                            "<tr><td>NOR</td><td>2000</td><td>1</td></tr>",
                            "<tr><td>GER</td><td>1912</td><td>1</td></tr>",
                            "<tr><td>KOR</td><td>1968</td><td>2</td></tr>",
                            "<tr><td>JPN</td><td>1980</td><td>2</td></tr>",
                            "<tr><td>URS</td><td>1984</td><td>1</td></tr>",
                            "<tr><td>NED</td><td>1964</td><td>1</td></tr>",
                            "<tr><td>JAM</td><td>1968</td><td>2</td></tr>",
                            "<tr><td>KSA</td><td>2000</td><td>2</td></tr>",
                            "<tr><td>POR</td><td>1948</td><td>2</td></tr>",
                            "<tr><td>PRK</td><td>1992</td><td>1</td></tr>",
                            "<tr><td>NED</td><td>2012</td><td>2</td></tr>",
                            "<tr><td>SUI</td><td>1920</td><td>1</td></tr>",
                            "<tr><td>JPN</td><td>1932</td><td>1</td></tr>",
                            "<tr><td>ISL</td><td>1956</td><td>2</td></tr>",
                            "<tr><td>NED</td><td>1972</td><td>1</td></tr>",
                            "<tr><td>COL</td><td>1988</td><td>3</td></tr>",
                            "<tr><td>EST</td><td>1924</td><td>1</td></tr>",
                            "<tr><td>GBR</td><td>1936</td><td>1</td></tr>",
                            "<tr><td>AUS</td><td>1976</td><td>2</td></tr>",
                            "<tr><td>AUT</td><td>2006</td><td>1</td></tr>",
                            "<tr><td>NOR</td><td>2008</td><td>1</td></tr>",
                            "<tr><td>KOR</td><td>1976</td><td>1</td></tr>",
                            "<tr><td>GUY</td><td>1980</td><td>3</td></tr>",
                            "<tr><td>AZE</td><td>1996</td><td>2</td></tr>",
                            "<tr><td>NED</td><td>2004</td><td>1</td></tr>",
                            "<tr><td>IND</td><td>1952</td><td>1</td></tr>",
                            "<tr><td>SWE</td><td>2002</td><td>2</td></tr>",
                            "<tr><td>GBR</td><td>1904</td><td>1</td></tr>",
                            "<tr><td>GHA</td><td>1972</td><td>3</td></tr>",
                            "<tr><td>VEN</td><td>1984</td><td>3</td></tr>",
                            "<tr><td>URS</td><td>1952</td><td>1</td></tr>",
                            "<tr><td>MEX</td><td>1956</td><td>1</td></tr>",
                            "<tr><td>GHA</td><td>1992</td><td>3</td></tr>",
                            "<tr><td>ESP</td><td>1984</td><td>1</td></tr>",
                            "<tr><td>BAH</td><td>2008</td><td>2</td></tr>",
                            "<tr><td>TPE</td><td>2004</td><td>1</td></tr>",
                            "<tr><td>ARG</td><td>1972</td><td>2</td></tr>",
                            "<tr><td>CMR</td><td>1984</td><td>3</td></tr>",
                            "<tr><td>TUR</td><td>1996</td><td>1</td></tr>",
                            "<tr><td>GBR</td><td>1924</td><td>1</td></tr>",
                            "<tr><td>EGY</td><td>1936</td><td>1</td></tr>",
                            "<tr><td>URS</td><td>1972</td><td>1</td></tr>",
                            "<tr><td>CZE</td><td>1996</td><td>1</td></tr>",
                            "<tr><td>TUR</td><td>2004</td><td>1</td></tr>",
                            "<tr><td>DEN</td><td>1928</td><td>1</td></tr>",
                            "<tr><td>CAN</td><td>1988</td><td>1</td></tr>",
                            "<tr><td>CRO</td><td>1992</td><td>2</td></tr>",
                            "<tr><td>ESP</td><td>1992</td><td>1</td></tr>",
                            "<tr><td>USA</td><td>2010</td><td>2</td></tr>",
                            "<tr><td>ANZ</td><td>1908</td><td>1</td></tr>",
                            "<tr><td>URU</td><td>1956</td><td>3</td></tr>",
                            "<tr><td>USA</td><td>1964</td><td>1</td></tr>",
                            "<tr><td>HUN</td><td>2000</td><td>1</td></tr>",
                            "<tr><td>AUT</td><td>1912</td><td>2</td></tr>",
                            "<tr><td>ITA</td><td>1932</td><td>1</td></tr>",
                            "<tr><td>FRA</td><td>1924</td><td>1</td></tr>",
                            "<tr><td>UKR</td><td>1994</td><td>1</td></tr>",
                            "<tr><td>GEO</td><td>2008</td><td>1</td></tr>",
                            "<tr><td>NED</td><td>1932</td><td>1</td></tr>",
                            "<tr><td>TCH</td><td>1948</td><td>1</td></tr>",
                            "<tr><td>MAR</td><td>1960</td><td>2</td></tr>",
                            "<tr><td>FIN</td><td>1952</td><td>1</td></tr>",
                            "<tr><td>AUS</td><td>1956</td><td>1</td></tr>",
                            "<tr><td>KOR</td><td>2008</td><td>1</td></tr>",
                            "<tr><td>GER</td><td>1904</td><td>1</td></tr>",
                            "<tr><td>JPN</td><td>1920</td><td>2</td></tr>",
                            "<tr><td>SUI</td><td>1952</td><td>1</td></tr>",
                            "<tr><td>YUG</td><td>1996</td><td>1</td></tr>",
                            "<tr><td>SUI</td><td>1960</td><td>1</td></tr>",
                            "<tr><td>NGR</td><td>1992</td><td>2</td></tr>",
                            "<tr><td>NOR</td><td>1994</td><td>1</td></tr>",
                            "<tr><td>TGA</td><td>1996</td><td>2</td></tr>",
                            "<tr><td>CHI</td><td>2000</td><td>3</td></tr>",
                            "<tr><td>GER</td><td>2004</td><td>1</td></tr>",
                            "<tr><td>RSA</td><td>1956</td><td>3</td></tr>",
                            "<tr><td>ISR</td><td>2008</td><td>3</td></tr>",
                            "<tr><td>NOR</td><td>1908</td><td>1</td></tr>",
                            "<tr><td>AUT</td><td>1952</td><td>1</td></tr>",
                            "<tr><td>ESP</td><td>1952</td><td>2</td></tr>",
                            "<tr><td>NZL</td><td>1956</td><td>1</td></tr>",
                            "<tr><td>UZB</td><td>2004</td><td>1</td></tr>",
                            "<tr><td>THA</td><td>1984</td><td>2</td></tr>",
                            "<tr><td>SWE</td><td>1976</td><td>1</td></tr>",
                            "<tr><td>TUR</td><td>1964</td><td>1</td></tr>",
                            "<tr><td>BLR</td><td>1998</td><td>3</td></tr>",
                            "<tr><td>HUN</td><td>1900</td><td>1</td></tr>",
                            "<tr><td>GEO</td><td>2000</td><td>3</td></tr>",
                            "<tr><td>CAN</td><td>1948</td><td>1</td></tr>",
                            "<tr><td>ROU</td><td>1972</td><td>1</td></tr>",
                            "<tr><td>CRO</td><td>2000</td><td>1</td></tr>",
                            "<tr><td>ARG</td><td>1932</td><td>1</td></tr>",
                            "<tr><td>ALG</td><td>2008</td><td>2</td></tr>",
                            "<tr><td>ROU</td><td>1952</td><td>1</td></tr>",
                            "<tr><td>BEL</td><td>1960</td><td>2</td></tr>",
                            "<tr><td>BRA</td><td>1956</td><td>1</td></tr>",
                            "<tr><td>USA</td><td>1904</td><td>1</td></tr>",
                            "<tr><td>CHN</td><td>2000</td><td>1</td></tr>",
                            "<tr><td>BUL</td><td>1996</td><td>1</td></tr>",
                            "<tr><td>SYR</td><td>1996</td><td>1</td></tr>",
                            "<tr><td>KGZ</td><td>2008</td><td>2</td></tr>",
                            "<tr><td>YUG</td><td>1956</td><td>2</td></tr>",
                            "<tr><td>RUS</td><td>1998</td><td>1</td></tr>",
                            "<tr><td>MGL</td><td>1996</td><td>3</td></tr>",
                            "<tr><td>HUN</td><td>1960</td><td>1</td></tr>",
                            "<tr><td>DEN</td><td>1968</td><td>1</td></tr>",
                            "<tr><td>AUT</td><td>1972</td><td>1</td></tr>",
                            "<tr><td>IRL</td><td>1928</td><td>1</td></tr>",
                            "<tr><td>FIN</td><td>1992</td><td>1</td></tr>",
                            "<tr><td>GER</td><td>1932</td><td>1</td></tr>",
                            "<tr><td>USA</td><td>2004</td><td>1</td></tr>",
                            "<tr><td>ITA</td><td>1900</td><td>1</td></tr>",
                            "<tr><td>JPN</td><td>1952</td><td>1</td></tr>",
                            "<tr><td>MEX</td><td>2008</td><td>1</td></tr>",
                            "<tr><td>ESP</td><td>1932</td><td>3</td></tr>",
                            "<tr><td>CUB</td><td>1900</td><td>1</td></tr>",
                            "<tr><td>ARM</td><td>2000</td><td>3</td></tr>",
                            "<tr><td>SUI</td><td>1980</td><td>1</td></tr>",
                            "<tr><td>GRE</td><td>1984</td><td>2</td></tr>",
                            "<tr><td>AUS</td><td>1924</td><td>1</td></tr>",
                            "<tr><td>CAN</td><td>1994</td><td>1</td></tr>",
                            "<tr><td>BEL</td><td>2000</td><td>2</td></tr>",
                            "<tr><td>BEL</td><td>1900</td><td>1</td></tr>",
                            "<tr><td>DJI</td><td>1988</td><td>3</td></tr>",
                            "<tr><td>USA</td><td>1924</td><td>1</td></tr>",
                            "<tr><td>RSA</td><td>1948</td><td>1</td></tr>",
                            "<tr><td>SUI</td><td>1972</td><td>1</td></tr>",
                            "<tr><td>EUN</td><td>1992</td><td>1</td></tr>",
                            "<tr><td>KOR</td><td>2002</td><td>1</td></tr>",
                            "<tr><td>ZIM</td><td>2008</td><td>1</td></tr>",
                            "<tr><td>GBR</td><td>1956</td><td>1</td></tr>",
                            "<tr><td>BUL</td><td>1956</td><td>1</td></tr>",
                            "<tr><td>IND</td><td>2004</td><td>2</td></tr>",
                            "<tr><td>IRL</td><td>2008</td><td>2</td></tr>",
                            "<tr><td>PRK</td><td>2004</td><td>2</td></tr>",
                            "<tr><td>JPN</td><td>2006</td><td>1</td></tr>",
                            "<tr><td>JAM</td><td>1988</td><td>2</td></tr>",
                            "<tr><td>MOZ</td><td>2000</td><td>1</td></tr>",
                            "<tr><td>FRA</td><td>2004</td><td>1</td></tr>",
                            "<tr><td>POL</td><td>1968</td><td>1</td></tr>",
                            "<tr><td>AUT</td><td>1900</td><td>2</td></tr>",
                            "<tr><td>NOR</td><td>1948</td><td>1</td></tr>",
                            "<tr><td>NZL</td><td>1996</td><td>1</td></tr>",
                            "<tr><td>LTU</td><td>1996</td><td>3</td></tr>",
                            "<tr><td>SVK</td><td>1996</td><td>1</td></tr>",
                            "<tr><td>SWE</td><td>1936</td><td>1</td></tr>",
                            "<tr><td>CAN</td><td>1908</td><td>1</td></tr>",
                            "<tr><td>ITA</td><td>1972</td><td>1</td></tr>",
                            "<tr><td>UKR</td><td>2000</td><td>1</td></tr>",
                            "<tr><td>IRI</td><td>2000</td><td>1</td></tr>",
                            "<tr><td>BWI</td><td>1960</td><td>3</td></tr>",
                            "<tr><td>VEN</td><td>2004</td><td>3</td></tr>",
                            "<tr><td>QAT</td><td>2000</td><td>3</td></tr>",
                            "<tr><td>CAN</td><td>2002</td><td>1</td></tr>",
                            "<tr><td>CRO</td><td>2006</td><td>1</td></tr>",
                            "<tr><td>BLR</td><td>2004</td><td>1</td></tr>",
                            "<tr><td>HUN</td><td>1992</td><td>1</td></tr>",
                            "<tr><td>SVK</td><td>2004</td><td>1</td></tr>",
                            "<tr><td>MDA</td><td>1996</td><td>2</td></tr>",
                            "<tr><td>SRB</td><td>2008</td><td>2</td></tr>",
                            "<tr><td>SUI</td><td>1900</td><td>1</td></tr>",
                            "<tr><td>CHN</td><td>1994</td><td>2</td></tr>",
                            "<tr><td>FIN</td><td>2006</td><td>2</td></tr>",
                            "<tr><td>AUS</td><td>1996</td><td>1</td></tr>",
                            "<tr><td>TCH</td><td>1928</td><td>1</td></tr>",
                            "<tr><td>POL</td><td>1928</td><td>1</td></tr>",
                            "<tr><td>NED</td><td>1984</td><td>1</td></tr>",
                            "<tr><td>PRK</td><td>1972</td><td>1</td></tr>",
                            "<tr><td>ZZX</td><td>1904</td><td>1</td></tr>",
                            "<tr><td>FIN</td><td>1912</td><td>1</td></tr>",
                            "<tr><td>EST</td><td>1936</td><td>1</td></tr>",
                            "<tr><td>JAM</td><td>1948</td><td>1</td></tr>",
                            "<tr><td>GDR</td><td>1980</td><td>1</td></tr>",
                            "<tr><td>LIE</td><td>1976</td><td>3</td></tr>",
                            "<tr><td>IND</td><td>1932</td><td>1</td></tr>",
                            "<tr><td>KOR</td><td>1948</td><td>3</td></tr>",
                            "<tr><td>POR</td><td>1960</td><td>2</td></tr>",
                            "<tr><td>RUS</td><td>2004</td><td>1</td></tr>",
                            "<tr><td>GHA</td><td>1960</td><td>2</td></tr>",
                            "<tr><td>FRA</td><td>1964</td><td>1</td></tr>",
                            "<tr><td>NOR</td><td>1980</td><td>1</td></tr>",
                            "<tr><td>MAR</td><td>2000</td><td>2</td></tr>",
                            "<tr><td>JPN</td><td>1960</td><td>1</td></tr>",
                            "<tr><td>CUB</td><td>1980</td><td>1</td></tr>",
                            "<tr><td>NOR</td><td>1988</td><td>1</td></tr>",
                            "<tr><td>FIN</td><td>1998</td><td>1</td></tr>",
                            "<tr><td>KOR</td><td>1956</td><td>2</td></tr>",
                            "<tr><td>NED</td><td>1992</td><td>1</td></tr>",
                            "<tr><td>AUT</td><td>1924</td><td>1</td></tr>",
                            "<tr><td>PRK</td><td>1964</td><td>2</td></tr>",
                            "<tr><td>FIN</td><td>1994</td><td>2</td></tr>",
                            "<tr><td>USA</td><td>2006</td><td>1</td></tr>",
                            "<tr><td>USA</td><td>1960</td><td>1</td></tr>",
                            "<tr><td>ESP</td><td>1980</td><td>1</td></tr>",
                            "<tr><td>HUN</td><td>1912</td><td>1</td></tr>",
                            "<tr><td>AUS</td><td>1968</td><td>1</td></tr>",
                            "<tr><td>CZE</td><td>2008</td><td>1</td></tr>",
                            "<tr><td>GBR</td><td>1928</td><td>1</td></tr>",
                            "<tr><td>ITA</td><td>1998</td><td>1</td></tr>",
                            "<tr><td>NOR</td><td>1920</td><td>1</td></tr>",
                            "<tr><td>SYR</td><td>1984</td><td>2</td></tr>",
                            "<tr><td>HUN</td><td>2004</td><td>1</td></tr>",
                            "<tr><td>HUN</td><td>1904</td><td>1</td></tr>",
                            "<tr><td>TUR</td><td>2008</td><td>1</td></tr>",
                            "<tr><td>URS</td><td>1976</td><td>1</td></tr>",
                            "<tr><td>YUG</td><td>1984</td><td>1</td></tr>",
                            "<tr><td>LTU</td><td>2008</td><td>2</td></tr>",
                            "<tr><td>SVK</td><td>2008</td><td>1</td></tr>",
                            "<tr><td>TCH</td><td>1952</td><td>1</td></tr>",
                            "<tr><td>FRA</td><td>1920</td><td>1</td></tr>",
                            "<tr><td>NED</td><td>1960</td><td>2</td></tr>",
                            "<tr><td>EUA</td><td>1964</td><td>1</td></tr>",
                            "<tr><td>SLO</td><td>1992</td><td>3</td></tr>",
                            "<tr><td>ROU</td><td>1924</td><td>3</td></tr>",
                            "<tr><td>USA</td><td>1952</td><td>1</td></tr>",
                            "<tr><td>IND</td><td>1980</td><td>1</td></tr>",
                            "<tr><td>BRA</td><td>2004</td><td>1</td></tr>",
                            "<tr><td>KEN</td><td>2008</td><td>1</td></tr>",
                            "<tr><td>GRE</td><td>1920</td><td>2</td></tr>",
                            "<tr><td>FRG</td><td>1988</td><td>1</td></tr>",
                            "<tr><td>DEN</td><td>2000</td><td>1</td></tr>",
                            "<tr><td>DEN</td><td>1900</td><td>1</td></tr>",
                            "<tr><td>VIE</td><td>2000</td><td>2</td></tr>",
                            "<tr><td>TJK</td><td>2008</td><td>2</td></tr>",
                            "<tr><td>BOH</td><td>1900</td><td>2</td></tr>",
                            "<tr><td>GRE</td><td>1912</td><td>1</td></tr>",
                            "<tr><td>URU</td><td>1928</td><td>1</td></tr>",
                            "<tr><td>DEN</td><td>1992</td><td>1</td></tr>",
                            "<tr><td>FRA</td><td>2006</td><td>1</td></tr>",
                            "<tr><td>ROU</td><td>1984</td><td>1</td></tr>",
                            "<tr><td>SWE</td><td>1988</td><td>1</td></tr>",
                            "<tr><td>SUI</td><td>1964</td><td>1</td></tr>",
                            "<tr><td>MEX</td><td>1984</td><td>1</td></tr>",
                            "<tr><td>PER</td><td>1988</td><td>2</td></tr>",
                            "<tr><td>GBR</td><td>1988</td><td>1</td></tr>",
                            "<tr><td>UKR</td><td>1998</td><td>2</td></tr>",
                            "<tr><td>TUR</td><td>1968</td><td>1</td></tr>",
                            "<tr><td>THA</td><td>1996</td><td>1</td></tr>",
                            "<tr><td>PHI</td><td>1996</td><td>2</td></tr>",
                            "<tr><td>NZL</td><td>1952</td><td>1</td></tr>",
                            "<tr><td>NED</td><td>1920</td><td>1</td></tr>",
                            "<tr><td>AUS</td><td>1928</td><td>1</td></tr>",
                            "<tr><td>SWE</td><td>1980</td><td>1</td></tr>",
                            "<tr><td>THA</td><td>1988</td><td>3</td></tr>",
                            "<tr><td>PAR</td><td>2004</td><td>2</td></tr>",
                            "<tr><td>NOR</td><td>1912</td><td>1</td></tr>",
                            "<tr><td>USA</td><td>1900</td><td>1</td></tr>",
                            "<tr><td>AUT</td><td>1984</td><td>1</td></tr>",
                            "<tr><td>FIN</td><td>1980</td><td>1</td></tr>",
                            "<tr><td>TUN</td><td>1996</td><td>3</td></tr>",
                            "<tr><td>NOR</td><td>2006</td><td>1</td></tr>",
                            "<tr><td>NED</td><td>2006</td><td>1</td></tr>",
                            "<tr><td>ETH</td><td>2000</td><td>1</td></tr>",
                            "<tr><td>CHN</td><td>1988</td><td>1</td></tr>",
                            "<tr><td>FIN</td><td>2000</td><td>1</td></tr>",
                            "<tr><td>BUL</td><td>2008</td><td>1</td></tr>",
                            "<tr><td>CAN</td><td>1976</td><td>1</td></tr>",
                            "<tr><td>MGL</td><td>1992</td><td>3</td></tr>",
                            "<tr><td>HKG</td><td>1996</td><td>1</td></tr>",
                            "<tr><td>BEL</td><td>1972</td><td>2</td></tr>",
                            "<tr><td>CHN</td><td>1996</td><td>1</td></tr>",
                            "<tr><td>CAN</td><td>1936</td><td>1</td></tr>",
                            "<tr><td>CZE</td><td>2002</td><td>1</td></tr>",
                            "<tr><td>SUI</td><td>1984</td><td>1</td></tr>",
                            "<tr><td>MEX</td><td>2004</td><td>2</td></tr>",
                            "<tr><td>AUS</td><td>2008</td><td>1</td></tr>",
                            "<tr><td>NED</td><td>1900</td><td>2</td></tr>",
                            "<tr><td>GBR</td><td>1968</td><td>1</td></tr>",
                            "<tr><td>KEN</td><td>1968</td><td>1</td></tr>",
                            "<tr><td>BUL</td><td>1968</td><td>1</td></tr>",
                            "<tr><td>URU</td><td>2000</td><td>2</td></tr>",
                            "<tr><td>ARG</td><td>2016</td><td>1</td></tr>",
                            "<tr><td>TUR</td><td>1948</td><td>1</td></tr>",
                            "<tr><td>GRE</td><td>1972</td><td>2</td></tr>",
                            "<tr><td>HUN</td><td>1964</td><td>1</td></tr>",
                            "<tr><td>CUB</td><td>1992</td><td>1</td></tr>",
                            "<tr><td>KUW</td><td>2000</td><td>3</td></tr>",
                            "<tr><td>GER</td><td>1936</td><td>1</td></tr>",
                            "<tr><td>KAZ</td><td>2000</td><td>1</td></tr>",
                            "<tr><td>PHI</td><td>1936</td><td>3</td></tr>",
                            "<tr><td>USA</td><td>1920</td><td>1</td></tr>",
                            "<tr><td>DEN</td><td>1972</td><td>1</td></tr>",
                            "<tr><td>NOR</td><td>1960</td><td>1</td></tr>",
                            "<tr><td>HUN</td><td>1972</td><td>1</td></tr>",
                            "<tr><td>DEN</td><td>1980</td><td>1</td></tr>",
                            "<tr><td>NZL</td><td>1984</td><td>1</td></tr>",
                            "<tr><td>SWE</td><td>1948</td><td>1</td></tr>",
                            "<tr><td>CHI</td><td>1988</td><td>2</td></tr>",
                            "<tr><td>GER</td><td>2016</td><td>3</td></tr>",
                            "<tr><td>ECU</td><td>1996</td><td>1</td></tr>",
                            "<tr><td>JAM</td><td>2000</td><td>2</td></tr>",
                            "<tr><td>UGA</td><td>1968</td><td>2</td></tr>",
                            "<tr><td>FRA</td><td>1992</td><td>1</td></tr>",
                            "<tr><td>TCH</td><td>1972</td><td>1</td></tr>",
                            "<tr><td>POL</td><td>1980</td><td>1</td></tr>",
                            "<tr><td>BEL</td><td>1912</td><td>1</td></tr>",
                            "<tr><td>TAN</td><td>1980</td><td>2</td></tr>",
                            "<tr><td>BRA</td><td>1984</td><td>1</td></tr>",
                            "<tr><td>POL</td><td>1972</td><td>1</td></tr>",
                            "<tr><td>IND</td><td>2000</td><td>3</td></tr>",
                            "<tr><td>IRI</td><td>1988</td><td>2</td></tr>",
                            "<tr><td>KOR</td><td>2006</td><td>1</td></tr>",
                            "<tr><td>ESP</td><td>1920</td><td>2</td></tr>",
                            "<tr><td>JPN</td><td>1924</td><td>3</td></tr>",
                            "<tr><td>NOR</td><td>1952</td><td>1</td></tr>",
                            "<tr><td>SRI</td><td>2000</td><td>2</td></tr>",
                            "<tr><td>AUT</td><td>1904</td><td>3</td></tr>",
                            "<tr><td>IOP</td><td>1992</td><td>2</td></tr>",
                            "<tr><td>VEN</td><td>2008</td><td>3</td></tr>",
                            "<tr><td>GDR</td><td>1968</td><td>1</td></tr>",
                            "<tr><td>PRK</td><td>1976</td><td>1</td></tr>",
                            "<tr><td>POL</td><td>1932</td><td>1</td></tr>",
                            "<tr><td>HAI</td><td>1924</td><td>3</td></tr>",
                            "<tr><td>FIN</td><td>1908</td><td>1</td></tr>",
                            "<tr><td>IND</td><td>1960</td><td>2</td></tr>",
                            "<tr><td>SWE</td><td>1994</td><td>1</td></tr>",
                            "<tr><td>VEN</td><td>1976</td><td>2</td></tr>",
                            "<tr><td>RU1</td><td>1912</td><td>2</td></tr>",
                            "<tr><td>NED</td><td>1980</td><td>1</td></tr>",
                            "<tr><td>IRL</td><td>1956</td><td>1</td></tr>",
                            "<tr><td>SWE</td><td>1908</td><td>1</td></tr>",
                            "<tr><td>USA</td><td>2000</td><td>1</td></tr>",
                            "<tr><td>FRA</td><td>1952</td><td>1</td></tr>",
                            "<tr><td>NOR</td><td>1992</td><td>1</td></tr>",
                            "<tr><td>USA</td><td>1992</td><td>1</td></tr>",
                            "<tr><td>SUI</td><td>1998</td><td>1</td></tr>",
                            "<tr><td>EGY</td><td>2004</td><td>1</td></tr>",
                            "<tr><td>SUI</td><td>1904</td><td>1</td></tr>",
                            "<tr><td>FRA</td><td>1960</td><td>1</td></tr>",
                            "<tr><td>JPN</td><td>1964</td><td>1</td></tr>",
                            "<tr><td>ITA</td><td>1984</td><td>1</td></tr>",
                            "<tr><td>PAK</td><td>1984</td><td>1</td></tr>",
                            "<tr><td>SWE</td><td>2008</td><td>2</td></tr>",
                            "<tr><td>BEL</td><td>1952</td><td>1</td></tr>",
                            "<tr><td>URU</td><td>1948</td><td>2</td></tr>",
                            "<tr><td>CHN</td><td>2008</td><td>1</td></tr>",
                            "<tr><td>URS</td><td>1964</td><td>1</td></tr>",
                            "<tr><td>PAK</td><td>1972</td><td>2</td></tr>",
                            "<tr><td>PAK</td><td>1964</td><td>2</td></tr>",
                            "<tr><td>MEX</td><td>1964</td><td>3</td></tr>",
                            "<tr><td>FRA</td><td>1932</td><td>1</td></tr>",
                            "<tr><td>TCH</td><td>1932</td><td>1</td></tr>",
                            "<tr><td>SLO</td><td>2004</td><td>2</td></tr>",
                            "<tr><td>DEN</td><td>1920</td><td>1</td></tr>",
                            "<tr><td>MGL</td><td>1972</td><td>2</td></tr>",
                            "<tr><td>BEL</td><td>1998</td><td>3</td></tr>",
                            "<tr><td>ESP</td><td>1900</td><td>1</td></tr>",
                            "<tr><td>CAN</td><td>1996</td><td>1</td></tr>",
                            "<tr><td>KOR</td><td>2000</td><td>1</td></tr>",
                            "<tr><td>POL</td><td>1952</td><td>1</td></tr>",
                            "<tr><td>CAN</td><td>1904</td><td>1</td></tr>",
                            "<tr><td>MDA</td><td>2008</td><td>3</td></tr>",
                            "<tr><td>FIN</td><td>1960</td><td>1</td></tr>",
                            "<tr><td>TUN</td><td>1968</td><td>1</td></tr>",
                            "<tr><td>JPN</td><td>2004</td><td>1</td></tr>",
                            "<tr><td>ARG</td><td>1964</td><td>2</td></tr>",
                            "<tr><td>NOR</td><td>1932</td><td>1</td></tr>",
                            "<tr><td>ROU</td><td>2004</td><td>1</td></tr>",
                            "<tr><td>POL</td><td>1960</td><td>1</td></tr>",
                            "<tr><td>THA</td><td>2008</td><td>1</td></tr>",
                            "<tr><td>CHI</td><td>2008</td><td>2</td></tr>",
                            "<tr><td>AUS</td><td>1948</td><td>1</td></tr>",
                            "<tr><td>EGY</td><td>1952</td><td>3</td></tr>",
                            "<tr><td>CMR</td><td>1968</td><td>2</td></tr>",
                            "<tr><td>GER</td><td>1996</td><td>1</td></tr>",
                            "<tr><td>IRL</td><td>1996</td><td>1</td></tr>",
                            "<tr><td>CIV</td><td>1984</td><td>2</td></tr>",
                            "<tr><td>ESP</td><td>1960</td><td>3</td></tr>",
                            "<tr><td>ISL</td><td>2008</td><td>2</td></tr>",
                            "<tr><td>TUN</td><td>2008</td><td>1</td></tr>",
                            "<tr><td>BLR</td><td>2006</td><td>2</td></tr>",
                            "<tr><td>FRG</td><td>1968</td><td>1</td></tr>",
                            "<tr><td>BUL</td><td>1988</td><td>1</td></tr>",
                            "<tr><td>MAS</td><td>1992</td><td>3</td></tr>",
                            "<tr><td>RSA</td><td>2004</td><td>1</td></tr>",
                            "<tr><td>CRO</td><td>2008</td><td>2</td></tr>",
                            "<tr><td>CMR</td><td>2008</td><td>1</td></tr>",
                            "<tr><td>DOM</td><td>2008</td><td>1</td></tr>",
                            "<tr><td>ITA</td><td>1924</td><td>1</td></tr>",
                            "<tr><td>USA</td><td>1932</td><td>1</td></tr>",
                            "<tr><td>RUS</td><td>2006</td><td>1</td></tr>",
                            "<tr><td>NOR</td><td>1900</td><td>2</td></tr>",
                            "<tr><td>SRI</td><td>1948</td><td>2</td></tr>",
                            "<tr><td>CAN</td><td>1956</td><td>1</td></tr>",
                            "<tr><td>ESP</td><td>2000</td><td>1</td></tr>",
                            "<tr><td>NGR</td><td>2000</td><td>2</td></tr>",
                            "<tr><td>AUT</td><td>2004</td><td>1</td></tr>",
                            "<tr><td>ETH</td><td>1980</td><td>1</td></tr>",
                            "<tr><td>SIN</td><td>1960</td><td>2</td></tr>",
                            "<tr><td>RSA</td><td>1996</td><td>1</td></tr>",
                            "<tr><td>DEN</td><td>1960</td><td>1</td></tr>",
                            "<tr><td>THA</td><td>1976</td><td>3</td></tr>",
                            "<tr><td>LUX</td><td>1920</td><td>2</td></tr>",
                            "<tr><td>IRI</td><td>1948</td><td>3</td></tr>",
                            "<tr><td>HUN</td><td>1932</td><td>1</td></tr>",
                            "<tr><td>NZL</td><td>1932</td><td>2</td></tr>",
                            "<tr><td>DEN</td><td>1952</td><td>1</td></tr>",
                            "<tr><td>MGL</td><td>2004</td><td>3</td></tr>",
                            "<tr><td>TRI</td><td>1948</td><td>2</td></tr>",
                            "<tr><td>YUG</td><td>1964</td><td>1</td></tr>",
                            "<tr><td>AUS</td><td>1994</td><td>3</td></tr>",
                            "<tr><td>LAT</td><td>2004</td><td>2</td></tr>",
                            "<tr><td>ROU</td><td>1964</td><td>1</td></tr>",
                            "<tr><td>LAT</td><td>1996</td><td>2</td></tr>",
                            "<tr><td>SUI</td><td>2004</td><td>1</td></tr>",
                            "<tr><td>SWE</td><td>2000</td><td>1</td></tr>",
                            "<tr><td>GBR</td><td>2008</td><td>1</td></tr>",
                            "<tr><td>CHI</td><td>1956</td><td>2</td></tr>",
                            "<tr><td>TUR</td><td>1988</td><td>1</td></tr>",
                            "<tr><td>AUS</td><td>2002</td><td>1</td></tr>",
                            "<tr><td>SYR</td><td>2004</td><td>3</td></tr>",
                            "<tr><td>HUN</td><td>1924</td><td>1</td></tr>",
                            "<tr><td>NZL</td><td>1924</td><td>3</td></tr>",
                            "<tr><td>TPE</td><td>1996</td><td>2</td></tr>",
                            "<tr><td>ETH</td><td>1968</td><td>1</td></tr>",
                            "<tr><td>NOR</td><td>1972</td><td>1</td></tr>",
                            "<tr><td>JPN</td><td>1998</td><td>1</td></tr>",
                            "<tr><td>YUG</td><td>1924</td><td>1</td></tr>",
                            "<tr><td>BDI</td><td>1996</td><td>1</td></tr>",
                            "<tr><td>EST</td><td>1992</td><td>1</td></tr>",
                            "<tr><td>TCH</td><td>1992</td><td>1</td></tr>",
                            "<tr><td>CHN</td><td>2002</td><td>1</td></tr>",
                            "<tr><td>KOR</td><td>1994</td><td>1</td></tr>",
                            "<tr><td>ARG</td><td>1924</td><td>1</td></tr>",
                            "<tr><td>BAH</td><td>1956</td><td>3</td></tr>",
                            "<tr><td>EGY</td><td>1984</td><td>2</td></tr>",
                            "<tr><td>AUT</td><td>1964</td><td>1</td></tr>",
                            "<tr><td>BEL</td><td>1992</td><td>2</td></tr>",
                            "<tr><td>NGR</td><td>2008</td><td>2</td></tr>",
                            "<tr><td>HUN</td><td>1952</td><td>1</td></tr>",
                            "<tr><td>ETH</td><td>1960</td><td>1</td></tr>",
                            "<tr><td>BRA</td><td>1964</td><td>3</td></tr>",
                            "<tr><td>FRA</td><td>1980</td><td>1</td></tr>",
                            "<tr><td>ALG</td><td>2000</td><td>1</td></tr>",
                            "<tr><td>POL</td><td>1992</td><td>1</td></tr>",
                            "<tr><td>RSA</td><td>1924</td><td>1</td></tr>",
                            "<tr><td>CAN</td><td>1924</td><td>1</td></tr>",
                            "<tr><td>FRA</td><td>1900</td><td>1</td></tr>",
                            "<tr><td>IRI</td><td>1968</td><td>1</td></tr>",
                            "<tr><td>NZL</td><td>1964</td><td>1</td></tr>",
                            "<tr><td>PRK</td><td>1996</td><td>1</td></tr>",
                            "<tr><td>SWE</td><td>1968</td><td>1</td></tr>",
                            "<tr><td>LAT</td><td>1936</td><td>2</td></tr>",
                            "<tr><td>TRI</td><td>2008</td><td>2</td></tr>",
                            "<tr><td>JAM</td><td>1980</td><td>3</td></tr>",
                            "<tr><td>ISV</td><td>1988</td><td>2</td></tr>",
                            "<tr><td>GER</td><td>2002</td><td>1</td></tr>",
                            "<tr><td>ISR</td><td>2000</td><td>3</td></tr>",
                            "<tr><td>TUR</td><td>1936</td><td>1</td></tr>",
                            "<tr><td>GBR</td><td>1994</td><td>3</td></tr>",
                            "<tr><td>IRQ</td><td>1960</td><td>3</td></tr>",
                            "<tr><td>INA</td><td>1992</td><td>1</td></tr>",
                            "<tr><td>IND</td><td>1900</td><td>2</td></tr>",
                            "<tr><td>QAT</td><td>1992</td><td>3</td></tr>",
                            "<tr><td>TCH</td><td>1920</td><td>3</td></tr>",
                            "<tr><td>USA</td><td>1980</td><td>1</td></tr>",
                            "<tr><td>ARG</td><td>1996</td><td>2</td></tr>",
                            "<tr><td>CAN</td><td>2010</td><td>1</td></tr>",
                            "<tr><td>FIN</td><td>2014</td><td>3</td></tr>",
                            "<tr><td>GBR</td><td>1948</td><td>1</td></tr>",
                            "<tr><td>AUS</td><td>1988</td><td>1</td></tr>",
                            "<tr><td>FIN</td><td>1928</td><td>1</td></tr>",
                            "<tr><td>KEN</td><td>1996</td><td>1</td></tr>",
                            "<tr><td>IRI</td><td>2008</td><td>1</td></tr>",
                            "<tr><td>ITA</td><td>1964</td><td>1</td></tr>",
                            "<tr><td>GRE</td><td>1992</td><td>1</td></tr>",
                            "<tr><td>NZL</td><td>2004</td><td>1</td></tr>",
                            "<tr><td>SWE</td><td>1928</td><td>1</td></tr>",
                            "<tr><td>PER</td><td>1948</td><td>1</td></tr>",
                            "<tr><td>KEN</td><td>1988</td><td>1</td></tr>",
                            "<tr><td>FIN</td><td>1920</td><td>1</td></tr>",
                            "<tr><td>JPN</td><td>1984</td><td>1</td></tr>",
                            "<tr><td>CUB</td><td>2004</td><td>1</td></tr>",
                            "<tr><td>SUI</td><td>1924</td><td>1</td></tr>",
                            "<tr><td>BAH</td><td>1996</td><td>2</td></tr>",
                            "<tr><td>BUL</td><td>2002</td><td>2</td></tr>",
                            "<tr><td>ITA</td><td>2004</td><td>1</td></tr>",
                            "<tr><td>URS</td><td>1956</td><td>1</td></tr>",
                            "<tr><td>USA</td><td>1972</td><td>1</td></tr>",
                            "<tr><td>ARG</td><td>2004</td><td>1</td></tr>",
                            "<tr><td>PUR</td><td>1992</td><td>3</td></tr>",
                            "<tr><td>GBR</td><td>2002</td><td>1</td></tr>",
                            "<tr><td>POL</td><td>2006</td><td>2</td></tr>",
                            "<tr><td>FRA</td><td>1972</td><td>1</td></tr>",
                            "<tr><td>POR</td><td>1952</td><td>3</td></tr>",
                            "<tr><td>NAM</td><td>1992</td><td>2</td></tr>",
                            "<tr><td>SWE</td><td>2014</td><td>2</td></tr>",
                            "<tr><td>MAR</td><td>1992</td><td>1</td></tr>",
                            "<tr><td>NED</td><td>2000</td><td>1</td></tr>",
                            "<tr><td>AZE</td><td>2000</td><td>1</td></tr>",
                            "<tr><td>CUB</td><td>1972</td><td>1</td></tr>",
                            "<tr><td>GBR</td><td>1908</td><td>1</td></tr>",
                            "<tr><td>GRE</td><td>1960</td><td>1</td></tr>",
                            "<tr><td>GDR</td><td>1988</td><td>1</td></tr>",
                            "<tr><td>LIE</td><td>1984</td><td>3</td></tr>",
                            "<tr><td>AZE</td><td>2008</td><td>1</td></tr>",
                            "<tr><td>URU</td><td>1952</td><td>3</td></tr>",
                            "<tr><td>CAN</td><td>1984</td><td>1</td></tr>",
                            "<tr><td>PUR</td><td>1984</td><td>2</td></tr>",
                            "<tr><td>BRA</td><td>1920</td><td>1</td></tr>",
                            "<tr><td>ROU</td><td>2008</td><td>1</td></tr>",
                            "<tr><td>SWE</td><td>1912</td><td>1</td></tr>",
                            "<tr><td>URS</td><td>1968</td><td>1</td></tr>",
                            "<tr><td>ARG</td><td>1968</td><td>3</td></tr>",
                            "<tr><td>VIE</td><td>2008</td><td>2</td></tr>",
                            "<tr><td>GBR</td><td>1920</td><td>1</td></tr>",
                            "<tr><td>POR</td><td>1924</td><td>3</td></tr>",
                            "<tr><td>AUS</td><td>1960</td><td>1</td></tr>",
                            "<tr><td>TUR</td><td>2000</td><td>1</td></tr>",
                            "<tr><td>CHN</td><td>2004</td><td>1</td></tr>",
                            "<tr><td>BAH</td><td>2004</td><td>1</td></tr>",
                            "<tr><td>TPE</td><td>2008</td><td>3</td></tr>",
                            "<tr><td>ANZ</td><td>1912</td><td>1</td></tr>",
                            "<tr><td>UGA</td><td>1996</td><td>3</td></tr>",
                            "<tr><td>SWE</td><td>1920</td><td>1</td></tr>",
                            "<tr><td>LUX</td><td>1992</td><td>2</td></tr>",
                            "<tr><td>FRA</td><td>1928</td><td>1</td></tr>",
                            "<tr><td>BEL</td><td>1956</td><td>2</td></tr>",
                            "<tr><td>ESP</td><td>1988</td><td>1</td></tr>",
                            "<tr><td>PUR</td><td>1976</td><td>3</td></tr>",
                            "<tr><td>DEN</td><td>1924</td><td>1</td></tr>",
                            "<tr><td>PHI</td><td>1988</td><td>3</td></tr>",
                            "<tr><td>BLR</td><td>1994</td><td>2</td></tr>",
                            "<tr><td>UZB</td><td>1994</td><td>1</td></tr>",
                            "<tr><td>USA</td><td>1968</td><td>1</td></tr>",
                            "<tr><td>ETH</td><td>2008</td><td>1</td></tr>",
                            "<tr><td>CAN</td><td>1992</td><td>1</td></tr>",
                            "<tr><td>CRO</td><td>1996</td><td>1</td></tr>",
                            "<tr><td>CZE</td><td>2000</td><td>1</td></tr>",
                            "<tr><td>HUN</td><td>1996</td><td>1</td></tr>",
                            "<tr><td>EST</td><td>2006</td><td>1</td></tr>",
                            "<tr><td>AUT</td><td>2008</td><td>2</td></tr>",
                            "<tr><td>GEO</td><td>2004</td><td>1</td></tr>",
                            "<tr><td>BOH</td><td>1908</td><td>3</td></tr>",
                            "<tr><td>FIN</td><td>1956</td><td>1</td></tr>",
                            "<tr><td>IRL</td><td>1984</td><td>2</td></tr>",
                            "<tr><td>LIB</td><td>1952</td><td>2</td></tr>",
                            "<tr><td>IRL</td><td>1992</td><td>1</td></tr>",
                            "<tr><td>SUI</td><td>1956</td><td>1</td></tr>",
                            "<tr><td>POL</td><td>1964</td><td>1</td></tr>",
                            "<tr><td>ITA</td><td>1936</td><td>1</td></tr>",
                            "<tr><td>FIN</td><td>1948</td><td>1</td></tr>",
                            "<tr><td>CHI</td><td>2004</td><td>1</td></tr>",
                            "<tr><td>MOZ</td><td>1996</td><td>3</td></tr>",
                            "<tr><td>GER</td><td>2008</td><td>1</td></tr>",
                            "<tr><td>HUN</td><td>1936</td><td>1</td></tr>",
                            "<tr><td>NOR</td><td>1998</td><td>1</td></tr>",
                            "<tr><td>ISR</td><td>2004</td><td>1</td></tr>",
                            "<tr><td>NED</td><td>1928</td><td>1</td></tr>",
                            "<tr><td>ZIM</td><td>2004</td><td>1</td></tr>",
                            "<tr><td>NGR</td><td>1996</td><td>1</td></tr>",
                            "<tr><td>BAR</td><td>2000</td><td>3</td></tr>",
                            "<tr><td>UZB</td><td>2000</td><td>1</td></tr>",
                            "<tr><td>ARG</td><td>1936</td><td>1</td></tr>",
                            "<tr><td>LUX</td><td>1952</td><td>1</td></tr>",
                            "<tr><td>AUT</td><td>1956</td><td>1</td></tr>",
                            "<tr><td>ESP</td><td>1948</td><td>2</td></tr>",
                            "<tr><td>BEL</td><td>1964</td><td>1</td></tr>",
                            "<tr><td>BRA</td><td>1952</td><td>1</td></tr>",
                            "<tr><td>ROU</td><td>1976</td><td>1</td></tr>",
                            "<tr><td>CAN</td><td>1952</td><td>1</td></tr>",
                            "<tr><td>DEN</td><td>1932</td><td>2</td></tr>",
                            "<tr><td>FIN</td><td>2008</td><td>1</td></tr>",
                            "<tr><td>FIN</td><td>1988</td><td>1</td></tr>",
                            "<tr><td>NZL</td><td>1920</td><td>3</td></tr>",
                            "<tr><td>MEX</td><td>1952</td><td>2</td></tr>",
                            "<tr><td>AUT</td><td>1976</td><td>1</td></tr>",
                            "<tr><td>LAT</td><td>1992</td><td>2</td></tr>",
                            "<tr><td>ROU</td><td>1956</td><td>1</td></tr>",
                            "<tr><td>ROU</td><td>1968</td><td>1</td></tr>",
                            "<tr><td>AUS</td><td>2006</td><td>1</td></tr>",
                            "<tr><td>AUS</td><td>1900</td><td>1</td></tr>",
                            "<tr><td>YUG</td><td>1952</td><td>1</td></tr>",
                            "<tr><td>TRI</td><td>1952</td><td>3</td></tr>",
                            "<tr><td>RUS</td><td>1994</td><td>1</td></tr>",
                            "<tr><td>BUL</td><td>2000</td><td>1</td></tr>",
                            "<tr><td>TPE</td><td>2000</td><td>2</td></tr>",
                            "<tr><td>RSA</td><td>1992</td><td>2</td></tr>",
                            "<tr><td>USA</td><td>2008</td><td>1</td></tr>",
                            "<tr><td>LAT</td><td>1932</td><td>2</td></tr>",
                            "<tr><td>JPN</td><td>2002</td><td>2</td></tr>",
                            "<tr><td>PHI</td><td>1928</td><td>3</td></tr>",
                            "<tr><td>IRL</td><td>1932</td><td>1</td></tr>",
                            "<tr><td>ARG</td><td>1928</td><td>1</td></tr>",
                            "<tr><td>IND</td><td>1928</td><td>1</td></tr>",
                            "<tr><td>GER</td><td>1928</td><td>1</td></tr>",
                            "<tr><td>HUN</td><td>1956</td><td>1</td></tr>",
                            "<tr><td>DEN</td><td>1964</td><td>1</td></tr>",
                            "<tr><td>GRE</td><td>1980</td><td>1</td></tr>",
                            "<tr><td>PAN</td><td>2008</td><td>1</td></tr>",
                            "<tr><td>AUS</td><td>1920</td><td>2</td></tr>",
                            "<tr><td>BRA</td><td>1960</td><td>3</td></tr>",
                            "<tr><td>BEL</td><td>2004</td><td>1</td></tr>",
                            "<tr><td>BEL</td><td>1996</td><td>1</td></tr>",
                            "<tr><td>SUI</td><td>1976</td><td>1</td></tr>",
                            "<tr><td>CUB</td><td>1904</td><td>1</td></tr>",
                            "<tr><td>ARM</td><td>1996</td><td>1</td></tr>",
                            "<tr><td>GRE</td><td>1988</td><td>3</td></tr>",
                            "<tr><td>CAN</td><td>1998</td><td>1</td></tr>",
                            "<tr><td>SWE</td><td>1972</td><td>1</td></tr>",
                            "<tr><td>SVK</td><td>2006</td><td>2</td></tr>",
                            "<tr><td>UKR</td><td>1996</td><td>1</td></tr>",
                            "<tr><td>ESP</td><td>1928</td><td>1</td></tr>",
                            "<tr><td>IND</td><td>2008</td><td>1</td></tr>",
                            "<tr><td>BUL</td><td>1960</td><td>1</td></tr>",
                            "<tr><td>USA</td><td>1928</td><td>1</td></tr>",
                            "<tr><td>RSA</td><td>1952</td><td>1</td></tr>",
                            "<tr><td>NZL</td><td>1960</td><td>1</td></tr>",
                            "<tr><td>IRI</td><td>1996</td><td>1</td></tr>",
                            "<tr><td>DEN</td><td>1998</td><td>2</td></tr>",
                            "<tr><td>JAM</td><td>1992</td><td>2</td></tr>",
                            "<tr><td>KOR</td><td>1998</td><td>1</td></tr>",
                            "<tr><td>FRA</td><td>2000</td><td>1</td></tr>",
                            "<tr><td>PRK</td><td>2008</td><td>1</td></tr>",
                            "<tr><td>GBR</td><td>1960</td><td>1</td></tr>",
                            "<tr><td>RSA</td><td>1912</td><td>1</td></tr>",
                            "<tr><td>UKR</td><td>2004</td><td>1</td></tr>",
                            "<tr><td>BLR</td><td>2008</td><td>1</td></tr>",
                            "<tr><td>CAN</td><td>1912</td><td>1</td></tr>",
                            "<tr><td>GDR</td><td>1976</td><td>1</td></tr>",
                            "<tr><td>RUS</td><td>2008</td><td>1</td></tr>",
                            "<tr><td>TCH</td><td>1924</td><td>1</td></tr>",
                            "<tr><td>SWE</td><td>1932</td><td>1</td></tr>",
                            "<tr><td>NZL</td><td>1992</td><td>1</td></tr>",
                            "<tr><td>VEN</td><td>1968</td><td>1</td></tr>",
                            "<tr><td>LTU</td><td>2000</td><td>1</td></tr>",
                            "<tr><td>MDA</td><td>2000</td><td>2</td></tr>",
                            "<tr><td>VEN</td><td>1960</td><td>3</td></tr>",
                            "<tr><td>BLR</td><td>2000</td><td>1</td></tr>",
                            "<tr><td>NZL</td><td>2000</td><td>1</td></tr>",
                            "<tr><td>KEN</td><td>1984</td><td>1</td></tr>",
                            "<tr><td>ZAM</td><td>1996</td><td>2</td></tr>",
                            "<tr><td>SVK</td><td>2000</td><td>1</td></tr>",
                            "<tr><td>NOR</td><td>1984</td><td>1</td></tr>",
                            "<tr><td>PUR</td><td>1996</td><td>3</td></tr>",
                            "<tr><td>GBR</td><td>2006</td><td>2</td></tr>",
                            "<tr><td>SWE</td><td>1900</td><td>3</td></tr>",
                            "<tr><td>IRL</td><td>1964</td><td>3</td></tr>",
                            "<tr><td>JAM</td><td>1952</td><td>1</td></tr>",
                            "<tr><td>LIE</td><td>1980</td><td>1</td></tr>",
                            "<tr><td>CRO</td><td>2002</td><td>1</td></tr>",
                            "<tr><td>FRA</td><td>1968</td><td>1</td></tr>",
                            "<tr><td>BUL</td><td>2006</td><td>2</td></tr>",
                            "<tr><td>NED</td><td>1988</td><td>1</td></tr>",
                            "<tr><td>MAR</td><td>2004</td><td>1</td></tr>",
                            "<tr><td>POL</td><td>1924</td><td>2</td></tr>",
                            "<tr><td>PAK</td><td>1976</td><td>3</td></tr>",
                            "<tr><td>JPN</td><td>1956</td><td>1</td></tr>",
                            "<tr><td>ITA</td><td>1976</td><td>1</td></tr>",
                            "<tr><td>FIN</td><td>2002</td><td>1</td></tr>",
                            "<tr><td>CUB</td><td>1976</td><td>1</td></tr>",
                            "<tr><td>RUS</td><td>2000</td><td>1</td></tr>",
                            "<tr><td>ARG</td><td>2008</td><td>1</td></tr>",
                            "<tr><td>KOR</td><td>1952</td><td>3</td></tr>",
                            "<tr><td>MAR</td><td>1996</td><td>3</td></tr>",
                            "<tr><td>AUS</td><td>2000</td><td>1</td></tr>",
                            "<tr><td>SUI</td><td>1936</td><td>1</td></tr>",
                            "<tr><td>YUG</td><td>1972</td><td>1</td></tr>",
                            "<tr><td>NED</td><td>1994</td><td>2</td></tr>",
                            "<tr><td>NED</td><td>1948</td><td>1</td></tr>",
                            "<tr><td>KAZ</td><td>1998</td><td>3</td></tr>",
                            "<tr><td>MGL</td><td>1980</td><td>2</td></tr>",
                            "<tr><td>DOM</td><td>1984</td><td>3</td></tr>",
                            "<tr><td>JPN</td><td>1996</td><td>1</td></tr>",
                            "<tr><td>NOR</td><td>1924</td><td>1</td></tr>",
                            "<tr><td>KOR</td><td>1992</td><td>1</td></tr>",
                            "<tr><td>SLO</td><td>1996</td><td>2</td></tr>",
                            "<tr><td>IND</td><td>1968</td><td>3</td></tr>",
                            "<tr><td>AUT</td><td>1936</td><td>1</td></tr>",
                            "<tr><td>USA</td><td>1948</td><td>1</td></tr>",
                            "<tr><td>ITA</td><td>1956</td><td>1</td></tr>",
                            "<tr><td>DEN</td><td>2004</td><td>1</td></tr>",
                            "<tr><td>BER</td><td>1976</td><td>3</td></tr>",
                            "<tr><td>ROU</td><td>1996</td><td>1</td></tr>",
                            "<tr><td>POR</td><td>2004</td><td>2</td></tr>",
                            "<tr><td>ARG</td><td>1956</td><td>2</td></tr>",
                            "<tr><td>EUA</td><td>1960</td><td>1</td></tr>",
                            "<tr><td>CRC</td><td>2000</td><td>3</td></tr>",
                            "<tr><td>KEN</td><td>2004</td><td>1</td></tr>",
                            "<tr><td>DEN</td><td>1912</td><td>1</td></tr>",
                            "<tr><td>SUR</td><td>1992</td><td>3</td></tr>",
                            "<tr><td>BRA</td><td>2000</td><td>2</td></tr>",
                            "<tr><td>FIN</td><td>1936</td><td>1</td></tr>",
                            "<tr><td>THA</td><td>2000</td><td>1</td></tr>",
                            "<tr><td>FRA</td><td>1994</td><td>2</td></tr>",
                            "<tr><td>COL</td><td>2004</td><td>3</td></tr>",
                            "<tr><td>FRG</td><td>1976</td><td>1</td></tr>",
                            "<tr><td>PAN</td><td>1948</td><td>3</td></tr>",
                            "<tr><td>GRE</td><td>2008</td><td>2</td></tr>",
                            "<tr><td>GRE</td><td>1908</td><td>2</td></tr>",
                            "<tr><td>BRA</td><td>1992</td><td>1</td></tr>",
                            "<tr><td>FRA</td><td>2008</td><td>1</td></tr>",
                            "<tr><td>URU</td><td>1932</td><td>3</td></tr>",
                            "<tr><td>BEL</td><td>1976</td><td>2</td></tr>",
                            "<tr><td>AUT</td><td>1996</td><td>2</td></tr>",
                            "<tr><td>ESP</td><td>2008</td><td>1</td></tr>",
                            "<tr><td>IRI</td><td>1956</td><td>1</td></tr>",
                            "<tr><td>CHN</td><td>1984</td><td>1</td></tr>",
                            "<tr><td>SCG</td><td>2004</td><td>2</td></tr>",
                            "<tr><td>SUD</td><td>2008</td><td>2</td></tr>",
                            "<tr><td>TCH</td><td>1964</td><td>1</td></tr>",
                            "<tr><td>ETH</td><td>1996</td><td>1</td></tr>",
                            "<tr><td>MEX</td><td>1932</td><td>2</td></tr>",
                            "<tr><td>ARG</td><td>1948</td><td>1</td></tr>",
                            "<tr><td>CAN</td><td>2004</td><td>1</td></tr>",
                            "<tr><td>FIN</td><td>1976</td><td>1</td></tr>",
                            "<tr><td>ROU</td><td>1988</td><td>1</td></tr>",
                            "<tr><td>FIN</td><td>1968</td><td>1</td></tr>",
                            "<tr><td>MEX</td><td>1972</td><td>2</td></tr>",
                            "<tr><td>ROU</td><td>1936</td><td>2</td></tr>",
                            "<tr><td>CAN</td><td>1972</td><td>2</td></tr>",
                            "<tr><td>SUI</td><td>1996</td><td>1</td></tr>",
                            "<tr><td>USA</td><td>1994</td><td>1</td></tr>",
                            "<tr><td>ITA</td><td>2002</td><td>1</td></tr>",
                            "<tr><td>BUL</td><td>1980</td><td>1</td></tr>",
                            "<tr><td>CMR</td><td>2000</td><td>1</td></tr>",
                            "<tr><td>BEL</td><td>1984</td><td>1</td></tr>",
                            "<tr><td>NED</td><td>2002</td><td>1</td></tr>",
                            "<tr><td>NED</td><td>1908</td><td>3</td></tr>",
                            "<tr><td>SWE</td><td>1992</td><td>1</td></tr>",
                            "<tr><td>POL</td><td>2004</td><td>1</td></tr>",
                            "<tr><td>GBR</td><td>2000</td><td>1</td></tr>",
                            "<tr><td>CAN</td><td>1964</td><td>1</td></tr>",
                            "<tr><td>FIN</td><td>1996</td><td>1</td></tr>",
                            "<tr><td>SWE</td><td>1960</td><td>1</td></tr>",
                            "<tr><td>IRI</td><td>1976</td><td>2</td></tr>",
                            "<tr><td>CAN</td><td>1932</td><td>1</td></tr>",
                            "<tr><td>TPE</td><td>1960</td><td>2</td></tr>",
                            "<tr><td>ITA</td><td>1996</td><td>1</td></tr>",
                            "<tr><td>ALG</td><td>1992</td><td>1</td></tr>",
                            "<tr><td>USA</td><td>1908</td><td>1</td></tr>",
                            "<tr><td>BRA</td><td>1972</td><td>3</td></tr>",
                            "<tr><td>FRA</td><td>1988</td><td>1</td></tr>",
                            "<tr><td>CUB</td><td>1996</td><td>1</td></tr>",
                            "<tr><td>CZE</td><td>2006</td><td>1</td></tr>",
                            "<tr><td>TUR</td><td>1960</td><td>1</td></tr>",
                            "<tr><td>NOR</td><td>1964</td><td>1</td></tr>",
                            "<tr><td>BAH</td><td>1964</td><td>1</td></tr>",
                            "<tr><td>TCH</td><td>1984</td><td>2</td></tr>",
                            "<tr><td>MEX</td><td>1992</td><td>2</td></tr>",
                            "<tr><td>TPE</td><td>1968</td><td>3</td></tr>",
                            "<tr><td>GER</td><td>1994</td><td>1</td></tr>",
                            "<tr><td>GBR</td><td>1980</td><td>1</td></tr>",
                            "<tr><td>KAZ</td><td>2004</td><td>1</td></tr>",
                            "<tr><td>DEN</td><td>1984</td><td>2</td></tr>",
                            "<tr><td>JAM</td><td>1972</td><td>3</td></tr>",
                            "<tr><td>BRA</td><td>1980</td><td>1</td></tr>",
                            "<tr><td>ISL</td><td>2000</td><td>3</td></tr>",
                            "<tr><td>EGY</td><td>1960</td><td>2</td></tr>",
                            "<tr><td>EST</td><td>2000</td><td>1</td></tr>",
                            "<tr><td>RSA</td><td>1932</td><td>1</td></tr>",
                            "<tr><td>INA</td><td>2000</td><td>1</td></tr>",
                            "<tr><td>BEL</td><td>2016</td><td>2</td></tr>",
                            "<tr><td>SWE</td><td>1952</td><td>1</td></tr>",
                            "<tr><td>HUN</td><td>1976</td><td>1</td></tr>",
                            "<tr><td>TRI</td><td>2000</td><td>2</td></tr>",
                            "<tr><td>FRA</td><td>1908</td><td>1</td></tr>",
                            "<tr><td>BEL</td><td>1924</td><td>1</td></tr>",
                            "<tr><td>NZL</td><td>1972</td><td>1</td></tr>",
                            "<tr><td>ISR</td><td>1992</td><td>2</td></tr>",
                            "<tr><td>GRE</td><td>2000</td><td>1</td></tr>",
                            "<tr><td>IND</td><td>1948</td><td>1</td></tr>",
                            "<tr><td>IRL</td><td>1952</td><td>2</td></tr>",
                            "<tr><td>CUB</td><td>1964</td><td>2</td></tr>",
                            "<tr><td>GER</td><td>1908</td><td>1</td></tr>",
                            "<tr><td>LIB</td><td>1972</td><td>2</td></tr>",
                            "<tr><td>JPN</td><td>1976</td><td>1</td></tr>",
                            "<tr><td>GBR</td><td>1900</td><td>1</td></tr>",
                            "<tr><td>URS</td><td>1988</td><td>1</td></tr>",
                            "<tr><td>KOR</td><td>1972</td><td>2</td></tr>",
                            "<tr><td>AUS</td><td>1980</td><td>1</td></tr>",
                            "<tr><td>ARG</td><td>1988</td><td>2</td></tr>",
                            "<tr><td>AUT</td><td>2002</td><td>1</td></tr>",
                            "<tr><td>POR</td><td>1984</td><td>1</td></tr>",
                            "<tr><td>NOR</td><td>2004</td><td>1</td></tr>",
                            "<tr><td>EST</td><td>1920</td><td>1</td></tr>",
                            "<tr><td>JPN</td><td>1936</td><td>1</td></tr>",
                            "<tr><td>ECU</td><td>2008</td><td>2</td></tr>",
                            "<tr><td>PAK</td><td>1956</td><td>2</td></tr>",
                            "<tr><td>NED</td><td>1968</td><td>1</td></tr>",
                            "<tr><td>COL</td><td>1984</td><td>2</td></tr>",
                            "<tr><td>FRA</td><td>1948</td><td>1</td></tr>",
                            "<tr><td>NED</td><td>2008</td><td>1</td></tr>",
                            "<tr><td>MAR</td><td>1984</td><td>1</td></tr>",
                            "<tr><td>SUI</td><td>2002</td><td>1</td></tr>",
                            "<tr><td>GRE</td><td>1968</td><td>3</td></tr>",
                            "<tr><td>VEN</td><td>1980</td><td>2</td></tr>",
                            "<tr><td>KEN</td><td>1964</td><td>3</td></tr>",
                            "<tr><td>SWE</td><td>2006</td><td>1</td></tr>",
                            "<tr><td>USA</td><td>1988</td><td>1</td></tr>",
                            "<tr><td>FRA</td><td>1936</td><td>1</td></tr>",
                            "<tr><td>MEX</td><td>1960</td><td>3</td></tr>",
                            "<tr><td>PAK</td><td>1968</td><td>1</td></tr>",
                            "<tr><td>YUG</td><td>1968</td><td>1</td></tr>",
                            "<tr><td>NGR</td><td>1964</td><td>3</td></tr>",
                            "<tr><td>TCH</td><td>1936</td><td>1</td></tr>",
                            "<tr><td>SLO</td><td>2008</td><td>1</td></tr>",
                            "<tr><td>MGL</td><td>1968</td><td>2</td></tr>",
                            "<tr><td>BEL</td><td>1948</td><td>1</td></tr>",
                            "<tr><td>GER</td><td>1900</td><td>1</td></tr>",
                            "<tr><td>SUI</td><td>1948</td><td>1</td></tr>",
                            "<tr><td>POL</td><td>1956</td><td>1</td></tr>",
                            "<tr><td>ESP</td><td>1996</td><td>1</td></tr>",
                            "<tr><td>CAN</td><td>1900</td><td>1</td></tr>",
                            "<tr><td>NED</td><td>1936</td><td>1</td></tr>",
                            "<tr><td>ROU</td><td>2000</td><td>1</td></tr>",
                            "<tr><td>TUN</td><td>1972</td><td>2</td></tr>",
                            "<tr><td>COL</td><td>2000</td><td>1</td></tr>",
                            "<tr><td>EGY</td><td>1948</td><td>1</td></tr>",
                            "<tr><td>ZIM</td><td>1980</td><td>1</td></tr>",
                            "<tr><td>KOR</td><td>1996</td><td>1</td></tr>",
                            "<tr><td>GER</td><td>2000</td><td>1</td></tr>",
                            "<tr><td>ITA</td><td>1928</td><td>1</td></tr>",
                            "<tr><td>POR</td><td>2008</td><td>1</td></tr>",
                            "<tr><td>GER</td><td>1992</td><td>1</td></tr>",
                            "<tr><td>JPN</td><td>2008</td><td>1</td></tr>",
                            "<tr><td>AUS</td><td>1952</td><td>1</td></tr>",
                            "<tr><td>NOR</td><td>1936</td><td>1</td></tr>",
                            "<tr><td>ARG</td><td>1960</td><td>2</td></tr>",
                            "<tr><td>KOR</td><td>2004</td><td>1</td></tr>",
                            "<tr><td>USA</td><td>1936</td><td>1</td></tr>",
                            "<tr><td>AUT</td><td>1948</td><td>1</td></tr>",
                            "<tr><td>CHI</td><td>1952</td><td>2</td></tr>",
                            "<tr><td>RSA</td><td>1960</td><td>2</td></tr>",
                            "<tr><td>CAN</td><td>1960</td><td>1</td></tr>",
                            "<tr><td>MAS</td><td>1996</td><td>2</td></tr>",
                            "<tr><td>LAT</td><td>2000</td><td>1</td></tr>",
                            "<tr><td>SUI</td><td>2008</td><td>1</td></tr>",
                            "<tr><td>UZB</td><td>2008</td><td>1</td></tr>",
                            "<tr><td>CRC</td><td>1988</td><td>2</td></tr>",
                            "<tr><td>BUL</td><td>1992</td><td>1</td></tr>",
                            "<tr><td>IRL</td><td>2000</td><td>2</td></tr>",
                            "<tr><td>IRI</td><td>1952</td><td>2</td></tr>",
                            "<tr><td>FIN</td><td>1964</td><td>1</td></tr>",
                            "<tr><td>CRC</td><td>1996</td><td>1</td></tr>",
                            "<tr><td>BLR</td><td>2002</td><td>3</td></tr>",
                            "<tr><td>CAN</td><td>2000</td><td>1</td></tr>",
                            "<tr><td>AUT</td><td>2000</td><td>1</td></tr>",
                            "<tr><td>CRO</td><td>2004</td><td>1</td></tr>",
                            "<tr><td>DOM</td><td>2004</td><td>1</td></tr>",
                            "<tr><td>GEO</td><td>1996</td><td>3</td></tr>",
                            "<tr><td>MEX</td><td>1968</td><td>1</td></tr>",
                            "<tr><td>AUS</td><td>1998</td><td>3</td></tr>",
                            "<tr><td>YUG</td><td>1960</td><td>1</td></tr>",
                            "<tr><td>BEL</td><td>1988</td><td>3</td></tr>",
                            "<tr><td>TPE</td><td>1992</td><td>2</td></tr>",
                            "<tr><td>NGR</td><td>2004</td><td>3</td></tr>",
                            "<tr><td>GBR</td><td>2004</td><td>1</td></tr>",
                            "<tr><td>RSA</td><td>2000</td><td>2</td></tr>",
                            "<tr><td>DEN</td><td>1956</td><td>1</td></tr>",
                            "<tr><td>MGL</td><td>2008</td><td>1</td></tr>",
                            "<tr><td>TUR</td><td>1992</td><td>1</td></tr>",
                            "<tr><td>RUS</td><td>2002</td><td>1</td></tr>",
                            "<tr><td>HUN</td><td>1928</td><td>1</td></tr>",
                            "<tr><td>NZL</td><td>1928</td><td>1</td></tr>",
                            "<tr><td>SUI</td><td>2000</td><td>1</td></tr>",
                            "<tr><td>SWE</td><td>2004</td><td>1</td></tr>",
                            "<tr><td>CHN</td><td>2006</td><td>1</td></tr>",
                            "<tr><td>ALG</td><td>1996</td><td>1</td></tr>",
                            "<tr><td>SWE</td><td>1964</td><td>1</td></tr>",
                            "<tr><td>NOR</td><td>1976</td><td>1</td></tr>",
                            "<tr><td>SEN</td><td>1988</td><td>2</td></tr>",
                            "<tr><td>AUT</td><td>1968</td><td>1</td></tr>",
                            "<tr><td>MKD</td><td>2000</td><td>3</td></tr>",
                            "<tr><td>IRI</td><td>1972</td><td>2</td></tr>",
                            "<tr><td>JPN</td><td>1994</td><td>1</td></tr>",
                            "<tr><td>FRA</td><td>1976</td><td>1</td></tr>",
                            "<tr><td>POL</td><td>1996</td><td>1</td></tr>",
                            "<tr><td>ITA</td><td>2000</td><td>1</td></tr>",
                            "<tr><td>YUG</td><td>1928</td><td>1</td></tr>",
                            "<tr><td>ETH</td><td>1964</td><td>1</td></tr>",
                            "<tr><td>BRA</td><td>1968</td><td>2</td></tr>",
                            "<tr><td>SLO</td><td>2002</td><td>3</td></tr>",
                            "<tr><td>PRK</td><td>2000</td><td>2</td></tr>",
                            "<tr><td>PUR</td><td>1948</td><td>3</td></tr>",
                            "<tr><td>UZB</td><td>1996</td><td>2</td></tr>",
                            "<tr><td>JAM</td><td>1976</td><td>1</td></tr>",
                            "<tr><td>GBR</td><td>1952</td><td>1</td></tr>",
                            "<tr><td>NZL</td><td>1968</td><td>1</td></tr>",
                            "<tr><td>MEX</td><td>1988</td><td>3</td></tr>",
                            "<tr><td>ISR</td><td>1996</td><td>3</td></tr>",
                            "<tr><td>BUL</td><td>1952</td><td>3</td></tr>",
                            "<tr><td>CAN</td><td>1920</td><td>1</td></tr>",
                            "<tr><td>JAM</td><td>1984</td><td>2</td></tr>",
                            "<tr><td>TRI</td><td>2004</td><td>3</td></tr>",
                            "<tr><td>ITA</td><td>1968</td><td>1</td></tr>",
                            "<tr><td>CUB</td><td>1968</td><td>2</td></tr>",
                            "<tr><td>GER</td><td>2006</td><td>1</td></tr>",
                            "<tr><td>KEN</td><td>1992</td><td>1</td></tr>",
                            "<tr><td>NAM</td><td>1996</td><td>2</td></tr>",
                            "<tr><td>IRI</td><td>2004</td><td>1</td></tr>",
                            "<tr><td>GRE</td><td>1996</td><td>1</td></tr>",
                            "<tr><td>AUS</td><td>1984</td><td>1</td></tr>",
                            "<tr><td>HUN</td><td>1988</td><td>1</td></tr>",
                            "<tr><td>CAN</td><td>2006</td><td>1</td></tr>",
                            "<tr><td>LTU</td><td>1992</td><td>1</td></tr>",
                            "<tr><td>SUR</td><td>1988</td><td>1</td></tr>",
                            "<tr><td>GBR</td><td>1998</td><td>3</td></tr>",
                            "<tr><td>RSA</td><td>1920</td><td>1</td></tr>",
                            "<tr><td>POR</td><td>1996</td><td>1</td></tr>",
                            "<tr><td>CUB</td><td>2008</td><td>1</td></tr>",
                            "<tr><td>ITA</td><td>1960</td><td>1</td></tr>",
                            "<tr><td>FIN</td><td>1924</td><td>1</td></tr>",
                            "<tr><td>ITA</td><td>2008</td><td>1</td></tr>",
                            "<tr><td>POR</td><td>1988</td><td>1</td></tr>",
                            "<tr><td>NZL</td><td>2008</td><td>1</td></tr>",
                            "<tr><td>NIG</td><td>1972</td><td>3</td></tr>",
                            "<tr><td>SWE</td><td>1924</td><td>1</td></tr>",
                            "<tr><td>IND</td><td>1936</td><td>1</td></tr>",
                            "<tr><td>GDR</td><td>1984</td><td>1</td></tr>",
                            "<tr><td>MAR</td><td>1988</td><td>1</td></tr>",
                            "<tr><td>ZZX</td><td>1900</td><td>1</td></tr>",
                            "<tr><td>USA</td><td>1976</td><td>1</td></tr>",
                            "<tr><td>FIN</td><td>2010</td><td>3</td></tr>",
                            "<tr><td>COL</td><td>1972</td><td>2</td></tr>",
                            "<tr><td>POL</td><td>2002</td><td>2</td></tr>",
                            "<tr><td>AUS</td><td>1992</td><td>1</td></tr>",
                            "<tr><td>URS</td><td>1960</td><td>1</td></tr>",
                            "<tr><td>ARG</td><td>2000</td><td>2</td></tr>",
                            "<tr><td>GER</td><td>1952</td><td>1</td></tr>",
                            "<tr><td>GRE</td><td>1956</td><td>3</td></tr>",
                            "<tr><td>BAH</td><td>2000</td><td>1</td></tr>",
                            "<tr><td>CHN</td><td>1998</td><td>2</td></tr>",
                            "<tr><td>NED</td><td>1996</td><td>1</td></tr>",
                            "<tr><td>GHA</td><td>1964</td><td>3</td></tr>",
                            "<tr><td>LIE</td><td>1988</td><td>3</td></tr>",
                            "<tr><td>GBR</td><td>1912</td><td>1</td></tr>",
                            "<tr><td>BAH</td><td>1992</td><td>3</td></tr>",
                            "<tr><td>BUL</td><td>1998</td><td>1</td></tr>",
                            "<tr><td>HUN</td><td>2008</td><td>1</td></tr>",
                            "<tr><td>AZE</td><td>2004</td><td>1</td></tr>",
                            "<tr><td>CZE</td><td>2004</td><td>1</td></tr>",
                            "<tr><td>TRI</td><td>1964</td><td>2</td></tr>",
                            "<tr><td>ITA</td><td>1948</td><td>1</td></tr>",
                            "<tr><td>USA</td><td>1956</td><td>1</td></tr>",
                            "<tr><td>AUS</td><td>1964</td><td>1</td></tr>",
                            "<tr><td>ITA</td><td>1994</td><td>1</td></tr>",
                            "<tr><td>CAN</td><td>1980</td><td>2</td></tr>",
                            "<tr><td>USA</td><td>2002</td><td>1</td></tr>",
                            "<tr><td>IRL</td><td>1980</td><td>2</td></tr>",
                            "<tr><td>KOR</td><td>1984</td><td>1</td></tr>",
                            "<tr><td>BRA</td><td>2008</td><td>1</td></tr>",
                            "<tr><td>HUN</td><td>1908</td><td>1</td></tr>",
                            "<tr><td>POL</td><td>1936</td><td>2</td></tr>",
                            "<tr><td>CUB</td><td>1948</td><td>2</td></tr>",
                            "<tr><td>GBR</td><td>1932</td><td>1</td></tr>",
                            "<tr><td>EGY</td><td>1928</td><td>1</td></tr>",
                            "<tr><td>SUI</td><td>1928</td><td>1</td></tr>",
                            "<tr><td>AUS</td><td>1972</td><td>1</td></tr>",
                            "<tr><td>YUG</td><td>1980</td><td>1</td></tr>",
                            "<tr><td>JPN</td><td>1988</td><td>1</td></tr>",
                            "<tr><td>VEN</td><td>1952</td><td>3</td></tr>",
                            "<tr><td>FRG</td><td>1984</td><td>1</td></tr>",
                            "<tr><td>MAS</td><td>2008</td><td>2</td></tr>",
                            "<tr><td>URS</td><td>1980</td><td>1</td></tr>",
                            "<tr><td>PER</td><td>1984</td><td>2</td></tr>",
                            "<tr><td>BEL</td><td>1936</td><td>3</td></tr>",
                            "<tr><td>NGR</td><td>1984</td><td>2</td></tr>",
                            "<tr><td>FRA</td><td>2002</td><td>1</td></tr>",
                            "<tr><td>INA</td><td>1988</td><td>2</td></tr>",
                            "<tr><td>EST</td><td>2002</td><td>1</td></tr>",
                            "<tr><td>TCH</td><td>1956</td><td>1</td></tr>",
                            "<tr><td>UKR</td><td>2008</td><td>1</td></tr>",
                            "<tr><td>AUT</td><td>1928</td><td>1</td></tr>",
                            "<tr><td>DEN</td><td>1996</td><td>1</td></tr>",
                            "<tr><td>BEL</td><td>1928</td><td>2</td></tr>",
                            "<tr><td>MEX</td><td>1980</td><td>2</td></tr>",
                            "<tr><td>KGZ</td><td>2000</td><td>3</td></tr>",
                            "<tr><td>YUG</td><td>1948</td><td>2</td></tr>",
                            "<tr><td>THA</td><td>1992</td><td>3</td></tr>",
                            "<tr><td>NED</td><td>1924</td><td>1</td></tr>",
                            "<tr><td>SWE</td><td>1984</td><td>1</td></tr>",
                            "<tr><td>GBR</td><td>1992</td><td>1</td></tr>",
                            "<tr><td>PER</td><td>1992</td><td>2</td></tr>",
                            "<tr><td>TUR</td><td>1972</td><td>2</td></tr>",
                            "<tr><td>NOR</td><td>2002</td><td>1</td></tr>",
                            "<tr><td>JAM</td><td>2004</td><td>1</td></tr>",
                            "<tr><td>GER</td><td>2012</td><td>1</td></tr>",
                            "<tr><td>AUS</td><td>1932</td><td>1</td></tr>",
                            "<tr><td>SUI</td><td>1968</td><td>2</td></tr>",
                            "<tr><td>ROU</td><td>1980</td><td>1</td></tr>",
                            "<tr><td>YUG</td><td>1988</td><td>1</td></tr>",
                            "<tr><td>IRI</td><td>1964</td><td>3</td></tr>",
                            "<tr><td>GBR</td><td>1984</td><td>1</td></tr>",
                            "<tr><td>HUN</td><td>1948</td><td>1</td></tr>",
                            "<tr><td>AUT</td><td>1960</td><td>1</td></tr>",
                            "<tr><td>MGL</td><td>1988</td><td>3</td></tr>",
                            "<tr><td>ETH</td><td>2004</td><td>1</td></tr>",
                            "<tr><td>PHI</td><td>1992</td><td>3</td></tr>",
                            "<tr><td>FIN</td><td>2004</td><td>2</td></tr>",
                            "<tr><td>BUL</td><td>2004</td><td>1</td></tr>",
                            "<tr><td>DEN</td><td>1936</td><td>2</td></tr>",
                            "<tr><td>FIN</td><td>1984</td><td>1</td></tr>",
                            "<tr><td>BEL</td><td>1968</td><td>2</td></tr>",
                            "<tr><td>ESP</td><td>1976</td><td>2</td></tr>",
                            "<tr><td>AUT</td><td>1988</td><td>1</td></tr>",
                            "<tr><td>BRA</td><td>1948</td><td>3</td></tr>",
                            "<tr><td>MEX</td><td>1948</td><td>1</td></tr>",
                            "<tr><td>ROU</td><td>1960</td><td>1</td></tr>",
                            "<tr><td>AUT</td><td>1980</td><td>1</td></tr>",
                            "<tr><td>CHN</td><td>1992</td><td>1</td></tr>",
                            "<tr><td>PHI</td><td>1932</td><td>3</td></tr>",
                            "<tr><td>ISL</td><td>1984</td><td>3</td></tr>",
                            "<tr><td>ARM</td><td>2008</td><td>3</td></tr>",
                            "<tr><td>TUR</td><td>1952</td><td>1</td></tr>",
                            "<tr><td>KAZ</td><td>1996</td><td>1</td></tr>",
                            "<tr><td>BEL</td><td>1908</td><td>1</td></tr>",
                            "<tr><td>BUL</td><td>1964</td><td>1</td></tr>",
                            "<tr><td>GBR</td><td>1972</td><td>1</td></tr>",
                            "<tr><td>KEN</td><td>1972</td><td>1</td></tr>",
                            "<tr><td>SUI</td><td>1988</td><td>1</td></tr>",
                            "<tr><td>AUS</td><td>2012</td><td>3</td></tr>",
                            "<tr><td>DEN</td><td>1976</td><td>1</td></tr>",
                            "<tr><td>BUL</td><td>1972</td><td>1</td></tr>",
                            "<tr><td>CZE</td><td>1998</td><td>1</td></tr>",
                            "<tr><td>ITA</td><td>1908</td><td>1</td></tr>",
                            "<tr><td>BLR</td><td>1996</td><td>1</td></tr>",
                            "<tr><td>TCH</td><td>1976</td><td>1</td></tr>",
                            "<tr><td>ALG</td><td>1984</td><td>3</td></tr>",
                            "<tr><td>IRI</td><td>1992</td><td>2</td></tr>",
                            "<tr><td>POL</td><td>1976</td><td>1</td></tr>",
                            "<tr><td>BEL</td><td>2008</td><td>1</td></tr>",
                            "<tr><td>INA</td><td>2008</td><td>1</td></tr>",
                            "<tr><td>NZL</td><td>1988</td><td>1</td></tr>",
                            "<tr><td>JAM</td><td>1996</td><td>1</td></tr>",
                            "<tr><td>FRA</td><td>1996</td><td>1</td></tr>",
                            "<tr><td>EST</td><td>2008</td><td>1</td></tr>",
                            "<tr><td>UGA</td><td>1972</td><td>1</td></tr>",
                            "<tr><td>GBR</td><td>1964</td><td>1</td></tr>",
                            "<tr><td>URU</td><td>1924</td><td>1</td></tr>",
                            "<tr><td>HUN</td><td>1968</td><td>1</td></tr>",
                            "<tr><td>MEX</td><td>2000</td><td>1</td></tr>",
                            "<tr><td>YUG</td><td>2000</td><td>1</td></tr>",
                            "<tr><td>BRA</td><td>1988</td><td>1</td></tr>",
                            "<tr><td>IND</td><td>1996</td><td>3</td></tr>",
                            "<tr><td>NOR</td><td>1996</td><td>1</td></tr>",
                            "<tr><td>JPN</td><td>1928</td><td>1</td></tr>",
                            "<tr><td>GDR</td><td>1972</td><td>1</td></tr>",
                            "<tr><td>KOR</td><td>1964</td><td>2</td></tr>",
                            "<tr><td>AUT</td><td>1994</td><td>1</td></tr>",
                            "<tr><td>COL</td><td>1992</td><td>3</td></tr>",
                            "<tr><td>RU1</td><td>1908</td><td>1</td></tr>",
                            "<tr><td>NED</td><td>1976</td><td>1</td></tr>",
                            "<tr><td>RSA</td><td>1908</td><td>1</td></tr>",
                            "<tr><td>NOR</td><td>1956</td><td>1</td></tr>",
                            "<tr><td>EST</td><td>1928</td><td>1</td></tr>",
                            "<tr><td>PRK</td><td>1980</td><td>2</td></tr>",
                            "<tr><td>POR</td><td>1936</td><td>3</td></tr>",
                            "<tr><td>AUT</td><td>1908</td><td>3</td></tr>",
                            "<tr><td>LTU</td><td>2004</td><td>1</td></tr>",
                            "<tr><td>URU</td><td>1964</td><td>3</td></tr>",
                            "<tr><td>ITA</td><td>1980</td><td>1</td></tr>",
                            "<tr><td>LIB</td><td>1980</td><td>3</td></tr>",
                            "<tr><td>SUI</td><td>1994</td><td>1</td></tr>",
                            "<tr><td>SWE</td><td>1998</td><td>2</td></tr>",
                            "<tr><td>AHO</td><td>1988</td><td>2</td></tr>",
                            "<tr><td>USA</td><td>1996</td><td>1</td></tr>",
                            "<tr><td>ZAM</td><td>1984</td><td>3</td></tr>",
                            "<tr><td>MAR</td><td>2008</td><td>2</td></tr>",
                            "<tr><td>IND</td><td>1956</td><td>1</td></tr>",
                            "<tr><td>POR</td><td>1976</td><td>2</td></tr>",
                            "<tr><td>HAI</td><td>1928</td><td>2</td></tr>",
                            "<tr><td>AUS</td><td>2004</td><td>1</td></tr>",
                            "<tr><td>UAE</td><td>2004</td><td>1</td></tr>",
                            "<tr><td>LAT</td><td>2006</td><td>3</td></tr>",
                            "<tr><td>EGY</td><td>2008</td><td>3</td></tr>",
                            "<tr><td>PAK</td><td>1988</td><td>3</td></tr>",
                            "<tr><td>JPN</td><td>1968</td><td>1</td></tr>",
                            "<tr><td>ITA</td><td>1988</td><td>1</td></tr>",
                            "<tr><td>FRA</td><td>1956</td><td>1</td></tr>",
                            "<tr><td>RUS</td><td>1996</td><td>1</td></tr>",
                            "</table>"
                        ]
                    }
                }
            ],
            "execution_count": 109
        },
        {
            "cell_type": "markdown",
            "source": [
                "Changing the stored procedure and adding a parameter"
            ],
            "metadata": {
                "azdata_cell_guid": "5a6c32b3-bbb9-478f-86b7-6771202ceb54"
            }
        },
        {
            "cell_type": "code",
            "source": [
                "ALTER PROCEDURE find_max_medal_value(@country AS nvarchar(50))\r\n",
                "\r\n",
                "  AS\r\n",
                "  BEGIN\r\n",
                "  \r\n",
                "  select \r\n",
                "  NOC,\r\n",
                "  Edition,\r\n",
                "  min(MedalValue) as max_medal_value\r\n",
                "\r\n",
                "  from mydb.dbo.OlympicsData_medalists \r\n",
                "  where NOC = @country\r\n",
                "  GROUP BY \r\n",
                "  NOC,\r\n",
                "  Edition\r\n",
                "\r\n",
                "  END;"
            ],
            "metadata": {
                "azdata_cell_guid": "8d53c48e-ebf7-4b7c-becf-dd872ae7cc99"
            },
            "outputs": [
                {
                    "output_type": "display_data",
                    "data": {
                        "text/html": "Commands completed successfully."
                    },
                    "metadata": {}
                },
                {
                    "output_type": "display_data",
                    "data": {
                        "text/html": "Total execution time: 00:00:00.032"
                    },
                    "metadata": {}
                }
            ],
            "execution_count": 110
        },
        {
            "cell_type": "code",
            "source": [
                "exec find_max_medal_value 'EST';"
            ],
            "metadata": {
                "azdata_cell_guid": "a8ae4861-bca4-48f5-9827-46c5754e046b"
            },
            "outputs": [
                {
                    "output_type": "display_data",
                    "data": {
                        "text/html": "(10 rows affected)"
                    },
                    "metadata": {}
                },
                {
                    "output_type": "display_data",
                    "data": {
                        "text/html": "Total execution time: 00:00:00.044"
                    },
                    "metadata": {}
                },
                {
                    "output_type": "execute_result",
                    "metadata": {},
                    "execution_count": 111,
                    "data": {
                        "application/vnd.dataresource+json": {
                            "schema": {
                                "fields": [
                                    {
                                        "name": "NOC"
                                    },
                                    {
                                        "name": "Edition"
                                    },
                                    {
                                        "name": "max_medal_value"
                                    }
                                ]
                            },
                            "data": [
                                {
                                    "0": "EST",
                                    "1": "1920",
                                    "2": "1"
                                },
                                {
                                    "0": "EST",
                                    "1": "1924",
                                    "2": "1"
                                },
                                {
                                    "0": "EST",
                                    "1": "1928",
                                    "2": "1"
                                },
                                {
                                    "0": "EST",
                                    "1": "1936",
                                    "2": "1"
                                },
                                {
                                    "0": "EST",
                                    "1": "1992",
                                    "2": "1"
                                },
                                {
                                    "0": "EST",
                                    "1": "2000",
                                    "2": "1"
                                },
                                {
                                    "0": "EST",
                                    "1": "2002",
                                    "2": "1"
                                },
                                {
                                    "0": "EST",
                                    "1": "2004",
                                    "2": "2"
                                },
                                {
                                    "0": "EST",
                                    "1": "2006",
                                    "2": "1"
                                },
                                {
                                    "0": "EST",
                                    "1": "2008",
                                    "2": "1"
                                }
                            ]
                        },
                        "text/html": [
                            "<table>",
                            "<tr><th>NOC</th><th>Edition</th><th>max_medal_value</th></tr>",
                            "<tr><td>EST</td><td>1920</td><td>1</td></tr>",
                            "<tr><td>EST</td><td>1924</td><td>1</td></tr>",
                            "<tr><td>EST</td><td>1928</td><td>1</td></tr>",
                            "<tr><td>EST</td><td>1936</td><td>1</td></tr>",
                            "<tr><td>EST</td><td>1992</td><td>1</td></tr>",
                            "<tr><td>EST</td><td>2000</td><td>1</td></tr>",
                            "<tr><td>EST</td><td>2002</td><td>1</td></tr>",
                            "<tr><td>EST</td><td>2004</td><td>2</td></tr>",
                            "<tr><td>EST</td><td>2006</td><td>1</td></tr>",
                            "<tr><td>EST</td><td>2008</td><td>1</td></tr>",
                            "</table>"
                        ]
                    }
                }
            ],
            "execution_count": 111
        },
        {
            "cell_type": "markdown",
            "source": [
                "Adding second argument"
            ],
            "metadata": {
                "azdata_cell_guid": "9d8b30bd-b271-4777-b58e-599872ab3335"
            }
        },
        {
            "cell_type": "code",
            "source": [
                "ALTER PROCEDURE find_max_medal_value(\r\n",
                "    @country AS nvarchar(50),\r\n",
                "    @year as int\r\n",
                "    )\r\n",
                "\r\n",
                "  AS\r\n",
                "  BEGIN\r\n",
                "  \r\n",
                "  select \r\n",
                "  NOC,\r\n",
                "  Edition,\r\n",
                "  min(MedalValue) as max_medal_value\r\n",
                "\r\n",
                "  from mydb.dbo.OlympicsData_medalists \r\n",
                "  where \r\n",
                "  NOC = @country\r\n",
                "  and Edition = @year\r\n",
                "  GROUP BY \r\n",
                "  NOC,\r\n",
                "  Edition\r\n",
                "\r\n",
                "  END;"
            ],
            "metadata": {
                "azdata_cell_guid": "fb89864d-ec30-4baa-8f84-bc35ba41d24e"
            },
            "outputs": [
                {
                    "output_type": "display_data",
                    "data": {
                        "text/html": "Commands completed successfully."
                    },
                    "metadata": {}
                },
                {
                    "output_type": "display_data",
                    "data": {
                        "text/html": "Total execution time: 00:00:00.041"
                    },
                    "metadata": {}
                }
            ],
            "execution_count": 112
        },
        {
            "cell_type": "code",
            "source": [
                "EXEC find_max_medal_value \"EST\", 2000;"
            ],
            "metadata": {
                "azdata_cell_guid": "0915dbaf-3b46-4923-9b93-d5cc7297c65f"
            },
            "outputs": [
                {
                    "output_type": "display_data",
                    "data": {
                        "text/html": "(1 row affected)"
                    },
                    "metadata": {}
                },
                {
                    "output_type": "display_data",
                    "data": {
                        "text/html": "Total execution time: 00:00:00.058"
                    },
                    "metadata": {}
                },
                {
                    "output_type": "execute_result",
                    "metadata": {},
                    "execution_count": 113,
                    "data": {
                        "application/vnd.dataresource+json": {
                            "schema": {
                                "fields": [
                                    {
                                        "name": "NOC"
                                    },
                                    {
                                        "name": "Edition"
                                    },
                                    {
                                        "name": "max_medal_value"
                                    }
                                ]
                            },
                            "data": [
                                {
                                    "0": "EST",
                                    "1": "2000",
                                    "2": "1"
                                }
                            ]
                        },
                        "text/html": [
                            "<table>",
                            "<tr><th>NOC</th><th>Edition</th><th>max_medal_value</th></tr>",
                            "<tr><td>EST</td><td>2000</td><td>1</td></tr>",
                            "</table>"
                        ]
                    }
                }
            ],
            "execution_count": 113
        }
    ]
}