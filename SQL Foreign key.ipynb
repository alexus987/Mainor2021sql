{
    "metadata": {
        "kernelspec": {
            "name": "SQL",
            "display_name": "SQL",
            "language": "sql"
        },
        "language_info": {
            "name": "sql",
            "version": ""
        }
    },
    "nbformat_minor": 2,
    "nbformat": 4,
    "cells": [
        {
            "cell_type": "markdown",
            "source": [
                "based on:\n",
                "\n",
                "https://www.sqlshack.com/sql-foreign-key/"
            ],
            "metadata": {
                "azdata_cell_guid": "e8cd12f5-2e74-4bb5-9374-919fef7565f4"
            }
        },
        {
            "cell_type": "code",
            "source": [
                "CREATE TABLE test_db2.dbo.Dept (\r\n",
                "  DeptID INT CONSTRAINT PK_Dept PRIMARY KEY\r\n",
                "  ,DeptName VARCHAR(10)\r\n",
                "  )"
            ],
            "metadata": {
                "azdata_cell_guid": "fe1cf255-47a6-40d7-9098-1663f6b81a33",
                "tags": [
                    "hide_input"
                ]
            },
            "outputs": [
                {
                    "output_type": "error",
                    "ename": "",
                    "evalue": "Msg 2714, Level 16, State 6, Line 1\r\nThere is already an object named 'Dept' in the database.",
                    "traceback": []
                },
                {
                    "output_type": "display_data",
                    "data": {
                        "text/html": "Total execution time: 00:00:00.001"
                    },
                    "metadata": {}
                }
            ],
            "execution_count": 3
        },
        {
            "cell_type": "code",
            "source": [
                "CREATE TABLE test_db2.dbo.Emp (\r\n",
                "  EmpID INT\r\n",
                "  ,EmpFname VARCHAR(50)\r\n",
                "  ,EmpLname VARCHAR(50)\r\n",
                "  ,DeptID INT  FOREIGN KEY REFERENCES  Dept(DeptID)\r\n",
                "  ,IsActive BIT\r\n",
                "  )"
            ],
            "metadata": {
                "azdata_cell_guid": "2d71f432-ee77-4843-8ff9-3be5ddbf9335",
                "tags": []
            },
            "outputs": [
                {
                    "output_type": "display_data",
                    "data": {
                        "text/html": "Commands completed successfully."
                    },
                    "metadata": {}
                },
                {
                    "output_type": "display_data",
                    "data": {
                        "text/html": "Total execution time: 00:00:00.032"
                    },
                    "metadata": {}
                }
            ],
            "execution_count": 4
        },
        {
            "cell_type": "code",
            "source": [
                "drop table test_db2.dbo.Emp"
            ],
            "metadata": {
                "azdata_cell_guid": "4c629df7-dd1a-4c85-a1a4-f281e8e109c5"
            },
            "outputs": [
                {
                    "output_type": "display_data",
                    "data": {
                        "text/html": "Commands completed successfully."
                    },
                    "metadata": {}
                },
                {
                    "output_type": "display_data",
                    "data": {
                        "text/html": "Total execution time: 00:00:00.029"
                    },
                    "metadata": {}
                }
            ],
            "execution_count": 7
        },
        {
            "cell_type": "code",
            "source": [
                "CREATE TABLE test_db2.dbo.Emp (\r\n",
                "  EmpID INT\r\n",
                "  ,EmpFname VARCHAR(50)\r\n",
                "  ,EmpLname VARCHAR(50)\r\n",
                "  ,DeptID INT CONSTRAINT FK_Emp FOREIGN KEY REFERENCES  Dept(DeptID)\r\n",
                "  ,IsActive BIT\r\n",
                "  )"
            ],
            "metadata": {
                "azdata_cell_guid": "b47bfae4-30d3-4349-bf54-cba4947ca10b"
            },
            "outputs": [
                {
                    "output_type": "display_data",
                    "data": {
                        "text/html": "Commands completed successfully."
                    },
                    "metadata": {}
                },
                {
                    "output_type": "display_data",
                    "data": {
                        "text/html": "Total execution time: 00:00:00.027"
                    },
                    "metadata": {}
                }
            ],
            "execution_count": 6
        },
        {
            "cell_type": "code",
            "source": [
                "CREATE TABLE test_db2.dbo.Emp (\r\n",
                "  EmpID INT\r\n",
                "  ,EmpFname VARCHAR(50)\r\n",
                "  ,EmpLname VARCHAR(50)\r\n",
                "  ,DeptID INT \r\n",
                "  ,IsActive BIT\r\n",
                "  )  \r\n",
                " \r\n",
                "ALTER TABLE test_db2.dbo.[Emp]  WITH CHECK ADD  CONSTRAINT [FK_Emp] FOREIGN KEY([DeptID])\r\n",
                "REFERENCES test_db2.dbo.[Dept] ([DeptID])\r\n",
                "GO\r\n",
                " \r\n",
                "ALTER TABLE test_db2.dbo.[Emp] CHECK CONSTRAINT [FK_Emp]\r\n",
                "GO"
            ],
            "metadata": {
                "azdata_cell_guid": "3610298d-75a5-4f7b-a8ab-eecb61b5b9cf"
            },
            "outputs": [
                {
                    "output_type": "display_data",
                    "data": {
                        "text/html": "Commands completed successfully."
                    },
                    "metadata": {}
                },
                {
                    "output_type": "display_data",
                    "data": {
                        "text/html": "Commands completed successfully."
                    },
                    "metadata": {}
                },
                {
                    "output_type": "display_data",
                    "data": {
                        "text/html": "Total execution time: 00:00:00.029"
                    },
                    "metadata": {}
                }
            ],
            "execution_count": 9
        },
        {
            "cell_type": "code",
            "source": [
                "ALTER TABLE [dbo].[Emp]  WITH CHECK ADD  FOREIGN KEY([DeptID])\r\n",
                "REFERENCES [dbo].[Dept] ([DeptID])\r\n",
                "GO\r\n",
                " \r\n",
                "ALTER TABLE [dbo].[Emp] CHECK CONSTRAINT [FK_Emp]\r\n",
                "GO"
            ],
            "metadata": {
                "azdata_cell_guid": "52f59a8e-248b-4ce4-b8d6-6a06c7d86427"
            },
            "outputs": [
                {
                    "output_type": "display_data",
                    "data": {
                        "text/html": "Commands completed successfully."
                    },
                    "metadata": {}
                },
                {
                    "output_type": "display_data",
                    "data": {
                        "text/html": "Commands completed successfully."
                    },
                    "metadata": {}
                },
                {
                    "output_type": "display_data",
                    "data": {
                        "text/html": "Total execution time: 00:00:00.029"
                    },
                    "metadata": {}
                }
            ],
            "execution_count": 10
        }
    ]
}