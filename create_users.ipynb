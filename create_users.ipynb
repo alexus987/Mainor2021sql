{
    "metadata": {
        "kernelspec": {
            "name": "SQL",
            "display_name": "SQL",
            "language": "sql"
        },
        "language_info": {
            "name": "sql",
            "version": ""
        }
    },
    "nbformat_minor": 2,
    "nbformat": 4,
    "cells": [
        {
            "cell_type": "code",
            "source": [
                "use master"
            ],
            "metadata": {
                "azdata_cell_guid": "c587c177-a66e-4fa0-9c7a-9a30dda319b6"
            },
            "outputs": [
                {
                    "output_type": "display_data",
                    "data": {
                        "text/html": "Commands completed successfully."
                    },
                    "metadata": {}
                },
                {
                    "output_type": "display_data",
                    "data": {
                        "text/html": "Total execution time: 00:00:00.006"
                    },
                    "metadata": {}
                }
            ],
            "execution_count": 1
        },
        {
            "cell_type": "code",
            "source": [
                "create database test4"
            ],
            "metadata": {
                "azdata_cell_guid": "3c4efd9b-2d0a-46c3-ae72-d066700d2821"
            },
            "outputs": [],
            "execution_count": null
        },
        {
            "cell_type": "code",
            "source": [
                "-- create SQL login in master database\r\n",
                "CREATE LOGIN testLogin1\r\n",
                "WITH PASSWORD = '!1QWErty123456';"
            ],
            "metadata": {
                "azdata_cell_guid": "5e1ecba8-9e0d-4340-8306-6a0e0591348d"
            },
            "outputs": [
                {
                    "output_type": "display_data",
                    "data": {
                        "text/html": "Commands completed successfully."
                    },
                    "metadata": {}
                },
                {
                    "output_type": "display_data",
                    "data": {
                        "text/html": "Total execution time: 00:00:00.042"
                    },
                    "metadata": {}
                }
            ],
            "execution_count": 8
        },
        {
            "cell_type": "code",
            "source": [
                "drop LOGIN testLogin1"
            ],
            "metadata": {
                "azdata_cell_guid": "c6f8c1bc-6441-4f26-88c2-bed9c7dac5f0"
            },
            "outputs": [
                {
                    "output_type": "display_data",
                    "data": {
                        "text/html": "Commands completed successfully."
                    },
                    "metadata": {}
                },
                {
                    "output_type": "display_data",
                    "data": {
                        "text/html": "Total execution time: 00:00:00.029"
                    },
                    "metadata": {}
                }
            ],
            "execution_count": 4
        },
        {
            "cell_type": "code",
            "source": [
                "create database test4"
            ],
            "metadata": {
                "azdata_cell_guid": "16beaed2-1cad-4530-b514-94f435170f85"
            },
            "outputs": [
                {
                    "output_type": "display_data",
                    "data": {
                        "text/html": "Commands completed successfully."
                    },
                    "metadata": {}
                },
                {
                    "output_type": "display_data",
                    "data": {
                        "text/html": "Total execution time: 00:00:00.326"
                    },
                    "metadata": {}
                }
            ],
            "execution_count": 5
        },
        {
            "cell_type": "code",
            "source": [
                "create table test4.dbo.Product (Name [varchar](100) , ProductNumber [varchar](10) , StandardCost int, ListPrice int, SellStartDate datetime) "
            ],
            "metadata": {
                "azdata_cell_guid": "fbb92a5a-0e73-48a6-bcbf-b50f1dc3fe84"
            },
            "outputs": [
                {
                    "output_type": "display_data",
                    "data": {
                        "text/html": "Commands completed successfully."
                    },
                    "metadata": {}
                },
                {
                    "output_type": "display_data",
                    "data": {
                        "text/html": "Total execution time: 00:00:00.027"
                    },
                    "metadata": {}
                }
            ],
            "execution_count": 13
        },
        {
            "cell_type": "code",
            "source": [
                "drop table test4.dbo.Product"
            ],
            "metadata": {
                "azdata_cell_guid": "2dd50930-e994-4566-88a3-088e7ed9eaea"
            },
            "outputs": [
                {
                    "output_type": "display_data",
                    "data": {
                        "text/html": "Commands completed successfully."
                    },
                    "metadata": {}
                },
                {
                    "output_type": "display_data",
                    "data": {
                        "text/html": "Total execution time: 00:00:00.030"
                    },
                    "metadata": {}
                }
            ],
            "execution_count": 12
        },
        {
            "cell_type": "code",
            "source": [
                "select * from test4.dbo.Product"
            ],
            "metadata": {
                "azdata_cell_guid": "90bfcdff-8065-4362-8b52-d4e5075e6022"
            },
            "outputs": [
                {
                    "output_type": "display_data",
                    "data": {
                        "text/html": "(1 row affected)"
                    },
                    "metadata": {}
                },
                {
                    "output_type": "display_data",
                    "data": {
                        "text/html": "Total execution time: 00:00:00.018"
                    },
                    "metadata": {}
                },
                {
                    "output_type": "execute_result",
                    "execution_count": 14,
                    "data": {
                        "application/vnd.dataresource+json": {
                            "schema": {
                                "fields": [
                                    {
                                        "name": "Name"
                                    },
                                    {
                                        "name": "ProductNumber"
                                    },
                                    {
                                        "name": "StandardCost"
                                    },
                                    {
                                        "name": "ListPrice"
                                    },
                                    {
                                        "name": "SellStartDate"
                                    }
                                ]
                            },
                            "data": [
                                {
                                    "0": "SQL Server Exp",
                                    "1": "SQLEXPRESS",
                                    "2": "0",
                                    "3": "0",
                                    "4": "1900-01-01 00:00:00.000"
                                }
                            ]
                        },
                        "text/html": "<table><tr><th>Name</th><th>ProductNumber</th><th>StandardCost</th><th>ListPrice</th><th>SellStartDate</th></tr><tr><td>SQL Server Exp</td><td>SQLEXPRESS</td><td>0</td><td>0</td><td>1900-01-01 00:00:00.000</td></tr></table>"
                    },
                    "metadata": {}
                }
            ],
            "execution_count": 14
        },
        {
            "cell_type": "code",
            "source": [
                "use test4"
            ],
            "metadata": {
                "azdata_cell_guid": "76d296c8-9431-4acc-b074-4e021a818481"
            },
            "outputs": [
                {
                    "output_type": "display_data",
                    "data": {
                        "text/html": "Commands completed successfully."
                    },
                    "metadata": {}
                },
                {
                    "output_type": "display_data",
                    "data": {
                        "text/html": "Total execution time: 00:00:00.001"
                    },
                    "metadata": {}
                }
            ],
            "execution_count": 6
        },
        {
            "cell_type": "code",
            "source": [
                "-- add database user for login testLogin1\r\n",
                "CREATE USER [testLogin1]\r\n",
                "FROM LOGIN [testLogin1]\r\n",
                "WITH DEFAULT_SCHEMA=dbo;"
            ],
            "metadata": {
                "azdata_cell_guid": "48f4300a-37ad-4ce8-89c1-f9b4a77cfa80",
                "tags": []
            },
            "outputs": [
                {
                    "output_type": "display_data",
                    "data": {
                        "text/html": "Commands completed successfully."
                    },
                    "metadata": {}
                },
                {
                    "output_type": "display_data",
                    "data": {
                        "text/html": "Total execution time: 00:00:00.027"
                    },
                    "metadata": {}
                }
            ],
            "execution_count": 9
        },
        {
            "cell_type": "code",
            "source": [
                "-- add user to database role(s) (i.e. db_owner)\r\n",
                "ALTER ROLE db_owner ADD MEMBER [testLogin1];"
            ],
            "metadata": {
                "azdata_cell_guid": "ba974afa-56cf-4f82-8654-b163e3c3f263"
            },
            "outputs": [
                {
                    "output_type": "display_data",
                    "data": {
                        "text/html": "Commands completed successfully."
                    },
                    "metadata": {}
                },
                {
                    "output_type": "display_data",
                    "data": {
                        "text/html": "Total execution time: 00:00:00.027"
                    },
                    "metadata": {}
                }
            ],
            "execution_count": 10
        }
    ]
}