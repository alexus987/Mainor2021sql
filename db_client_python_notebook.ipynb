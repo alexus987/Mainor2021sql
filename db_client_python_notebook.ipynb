{
    "metadata": {
        "kernelspec": {
            "name": "python3",
            "display_name": "Python 3 (ipykernel)",
            "language": "python"
        },
        "language_info": {
            "name": "python",
            "version": "3.8.10",
            "mimetype": "text/x-python",
            "codemirror_mode": {
                "name": "ipython",
                "version": 3
            },
            "pygments_lexer": "ipython3",
            "nbconvert_exporter": "python",
            "file_extension": ".py"
        }
    },
    "nbformat_minor": 2,
    "nbformat": 4,
    "cells": [
        {
            "cell_type": "code",
            "source": [
                "pip install pyodbc"
            ],
            "metadata": {
                "azdata_cell_guid": "db4ed7a0-4ff6-435d-af58-eb7c082652af"
            },
            "outputs": [
                {
                    "name": "stdout",
                    "text": "Requirement already satisfied: pyodbc in c:\\temp\\python\\python4azure\\lib\\site-packages (4.0.32)\nNote: you may need to restart the kernel to use updated packages.\n",
                    "output_type": "stream"
                },
                {
                    "name": "stderr",
                    "text": "WARNING: You are using pip version 21.1.1; however, version 21.3.1 is available.\nYou should consider upgrading via the 'c:\\TEMP\\Python\\Python4azure\\python.exe -m pip install --upgrade pip' command.\n",
                    "output_type": "stream"
                }
            ],
            "execution_count": 35
        },
        {
            "cell_type": "code",
            "source": [
                "import pyodbc"
            ],
            "metadata": {
                "azdata_cell_guid": "664ed6c1-d03b-4890-8acb-66f457c1a05b"
            },
            "outputs": [],
            "execution_count": 2
        },
        {
            "cell_type": "code",
            "source": [
                "server = 'localhost' \r\n",
                "database = 'test5' \r\n",
                "username = 'testlogin3' \r\n",
                "password = '!Qwerty123' \r\n",
                "cnxn = pyodbc.connect('DRIVER={ODBC Driver 17 for SQL Server};SERVER='+server+';DATABASE='+database+';UID='+username+';PWD='+ password)\r\n",
                "cursor = cnxn.cursor()"
            ],
            "metadata": {
                "azdata_cell_guid": "9cfa1f69-fb87-4694-a2cf-0d3c22526528"
            },
            "outputs": [],
            "execution_count": 6
        },
        {
            "cell_type": "code",
            "source": [
                "#Sample select query\r\n",
                "cursor.execute(\"SELECT @@version;\") \r\n",
                "row = cursor.fetchone() \r\n",
                "while row: \r\n",
                "    print(row[0])\r\n",
                "    row = cursor.fetchone()\r\n",
                ""
            ],
            "metadata": {
                "azdata_cell_guid": "d1672838-f734-4afd-9b9d-ab5d752c4f7b",
                "tags": []
            },
            "outputs": [
                {
                    "name": "stdout",
                    "text": "Microsoft SQL Server 2019 (RTM) - 15.0.2000.5 (X64) \n\tSep 24 2019 13:48:23 \n\tCopyright (C) 2019 Microsoft Corporation\n\tDeveloper Edition (64-bit) on Windows 10 Enterprise 10.0 <X64> (Build 19042: )\n\n",
                    "output_type": "stream"
                }
            ],
            "execution_count": 13
        },
        {
            "cell_type": "code",
            "source": [
                "#Sample insert query\r\n",
                "count = cursor.execute(\"\"\"\r\n",
                "INSERT INTO test5.dbo.Product (Name, ProductNumber, StandardCost, ListPrice, SellStartDate) \r\n",
                "VALUES (?,?,?,?,?)\"\"\",\r\n",
                "'Another Server', 'SQL New', 0, 0, '01:00').rowcount\r\n",
                "cnxn.commit()\r\n",
                "print('Rows inserted: ' + str(count))"
            ],
            "metadata": {
                "azdata_cell_guid": "d13c4429-c57a-4a80-b92f-80bd63e4e0b9"
            },
            "outputs": [
                {
                    "name": "stdout",
                    "text": "Rows inserted: 1\n",
                    "output_type": "stream"
                }
            ],
            "execution_count": 14
        },
        {
            "cell_type": "code",
            "source": [
                "#Sample select query\r\n",
                "cursor.execute(\"SELECT * FROM test5.dbo.Product ;\") \r\n",
                "row = cursor.fetchone() \r\n",
                "while row: \r\n",
                "    print(row)\r\n",
                "    row = cursor.fetchone()\r\n",
                ""
            ],
            "metadata": {
                "azdata_cell_guid": "e399c657-f7e7-4894-bc7b-ccad1ca76811"
            },
            "outputs": [
                {
                    "name": "stdout",
                    "text": "('SQL Server New 2021', 'SQL2021', 0, 0, datetime.datetime(1900, 1, 1, 0, 0))\n('Another Server', 'SQL New', 0, 0, datetime.datetime(1900, 1, 1, 1, 0))\n",
                    "output_type": "stream"
                }
            ],
            "execution_count": 36
        },
        {
            "cell_type": "code",
            "source": [
                "#Sample select query\r\n",
                "cursor.execute(\"SELECT * FROM test5.dbo.Product ;\") \r\n",
                "row = cursor.fetchone() \r\n",
                "while row: \r\n",
                "    print(row[0])\r\n",
                "    row = cursor.fetchone()\r\n",
                ""
            ],
            "metadata": {
                "azdata_cell_guid": "fa436a4f-70af-4805-817a-362faebd7b24"
            },
            "outputs": [
                {
                    "name": "stdout",
                    "text": "SQL Server New 2021\nAnother Server\n",
                    "output_type": "stream"
                }
            ],
            "execution_count": 30
        },
        {
            "cell_type": "code",
            "source": [
                "#Sample select query\r\n",
                "cursor.execute(\"SELECT * FROM sysusers ;\") \r\n",
                "row = cursor.fetchone() \r\n",
                "while row: \r\n",
                "    print(row[2])\r\n",
                "    row = cursor.fetchone()\r\n",
                ""
            ],
            "metadata": {
                "azdata_cell_guid": "50230d16-166f-4258-88f2-5386b6613ef1"
            },
            "outputs": [
                {
                    "name": "stdout",
                    "text": "public\ndbo\nguest\nINFORMATION_SCHEMA\nsys\ntestlogin2\ntestlogin3\ndb_owner\ndb_accessadmin\ndb_securityadmin\ndb_ddladmin\ndb_backupoperator\ndb_datareader\ndb_datawriter\ndb_denydatareader\ndb_denydatawriter\n",
                    "output_type": "stream"
                }
            ],
            "execution_count": 34
        },
        {
            "cell_type": "code",
            "source": [
                "cursor.execute(\"SELECT * FROM test5.dbo.Product ;\") \r\n",
                "row = cursor.fetchall() \r\n",
                "print(row)"
            ],
            "metadata": {
                "azdata_cell_guid": "f7e8ab60-3dd2-4385-8da1-58bba187bbe9",
                "tags": []
            },
            "outputs": [
                {
                    "name": "stdout",
                    "text": "[('SQL Server New 2021', 'SQL2021', 0, 0, datetime.datetime(1900, 1, 1, 0, 0)), ('Another Server', 'SQL New', 0, 0, datetime.datetime(1900, 1, 1, 1, 0))]\n",
                    "output_type": "stream"
                }
            ],
            "execution_count": 28
        }
    ]
}